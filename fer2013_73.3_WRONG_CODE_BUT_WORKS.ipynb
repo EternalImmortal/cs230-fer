{
  "nbformat": 4,
  "nbformat_minor": 0,
  "metadata": {
    "accelerator": "GPU",
    "colab": {
      "name": "fer2013.ipynb",
      "provenance": [],
      "collapsed_sections": [],
      "machine_shape": "hm",
      "include_colab_link": true
    },
    "kernelspec": {
      "display_name": "Environment (conda_tensorflow_p36)",
      "language": "python",
      "name": "conda_tensorflow_p36"
    },
    "language_info": {
      "codemirror_mode": {
        "name": "ipython",
        "version": 3
      },
      "file_extension": ".py",
      "mimetype": "text/x-python",
      "name": "python",
      "nbconvert_exporter": "python",
      "pygments_lexer": "ipython3",
      "version": "3.6.5"
    }
  },
  "cells": [
    {
      "cell_type": "markdown",
      "metadata": {
        "id": "view-in-github",
        "colab_type": "text"
      },
      "source": [
        "<a href=\"https://colab.research.google.com/github/amilkh/cs230-fer/blob/transfer-learning/fer2013_73.3_WRONG_CODE_BUT_WORKS.ipynb\" target=\"_parent\"><img src=\"https://colab.research.google.com/assets/colab-badge.svg\" alt=\"Open In Colab\"/></a>"
      ]
    },
    {
      "cell_type": "code",
      "metadata": {
        "colab_type": "code",
        "id": "gwdg7Sv3XBaP",
        "outputId": "7c2fb727-bdc2-4302-c16d-d709ee68d792",
        "colab": {
          "base_uri": "https://localhost:8080/",
          "height": 523
        }
      },
      "source": [
        "%tensorflow_version 1.x\n",
        "!pip install keras-vggface\n",
        "!pip install scikit-image\n",
        "!pip install pydot"
      ],
      "execution_count": 1,
      "outputs": [
        {
          "output_type": "stream",
          "text": [
            "Requirement already satisfied: keras-vggface in /usr/local/lib/python3.6/dist-packages (0.6)\n",
            "Requirement already satisfied: keras in /usr/local/lib/python3.6/dist-packages (from keras-vggface) (2.2.5)\n",
            "Requirement already satisfied: pyyaml in /usr/local/lib/python3.6/dist-packages (from keras-vggface) (3.13)\n",
            "Requirement already satisfied: h5py in /usr/local/lib/python3.6/dist-packages (from keras-vggface) (2.8.0)\n",
            "Requirement already satisfied: six>=1.9.0 in /usr/local/lib/python3.6/dist-packages (from keras-vggface) (1.12.0)\n",
            "Requirement already satisfied: scipy>=0.14 in /usr/local/lib/python3.6/dist-packages (from keras-vggface) (1.4.1)\n",
            "Requirement already satisfied: numpy>=1.9.1 in /usr/local/lib/python3.6/dist-packages (from keras-vggface) (1.17.5)\n",
            "Requirement already satisfied: pillow in /usr/local/lib/python3.6/dist-packages (from keras-vggface) (6.2.2)\n",
            "Requirement already satisfied: keras-preprocessing>=1.1.0 in /usr/local/lib/python3.6/dist-packages (from keras->keras-vggface) (1.1.0)\n",
            "Requirement already satisfied: keras-applications>=1.0.8 in /usr/local/lib/python3.6/dist-packages (from keras->keras-vggface) (1.0.8)\n",
            "Requirement already satisfied: scikit-image in /usr/local/lib/python3.6/dist-packages (0.16.2)\n",
            "Requirement already satisfied: pillow>=4.3.0 in /usr/local/lib/python3.6/dist-packages (from scikit-image) (6.2.2)\n",
            "Requirement already satisfied: PyWavelets>=0.4.0 in /usr/local/lib/python3.6/dist-packages (from scikit-image) (1.1.1)\n",
            "Requirement already satisfied: imageio>=2.3.0 in /usr/local/lib/python3.6/dist-packages (from scikit-image) (2.4.1)\n",
            "Requirement already satisfied: networkx>=2.0 in /usr/local/lib/python3.6/dist-packages (from scikit-image) (2.4)\n",
            "Requirement already satisfied: matplotlib!=3.0.0,>=2.0.0 in /usr/local/lib/python3.6/dist-packages (from scikit-image) (3.1.3)\n",
            "Requirement already satisfied: scipy>=0.19.0 in /usr/local/lib/python3.6/dist-packages (from scikit-image) (1.4.1)\n",
            "Requirement already satisfied: numpy>=1.13.3 in /usr/local/lib/python3.6/dist-packages (from PyWavelets>=0.4.0->scikit-image) (1.17.5)\n",
            "Requirement already satisfied: decorator>=4.3.0 in /usr/local/lib/python3.6/dist-packages (from networkx>=2.0->scikit-image) (4.4.1)\n",
            "Requirement already satisfied: pyparsing!=2.0.4,!=2.1.2,!=2.1.6,>=2.0.1 in /usr/local/lib/python3.6/dist-packages (from matplotlib!=3.0.0,>=2.0.0->scikit-image) (2.4.6)\n",
            "Requirement already satisfied: kiwisolver>=1.0.1 in /usr/local/lib/python3.6/dist-packages (from matplotlib!=3.0.0,>=2.0.0->scikit-image) (1.1.0)\n",
            "Requirement already satisfied: python-dateutil>=2.1 in /usr/local/lib/python3.6/dist-packages (from matplotlib!=3.0.0,>=2.0.0->scikit-image) (2.6.1)\n",
            "Requirement already satisfied: cycler>=0.10 in /usr/local/lib/python3.6/dist-packages (from matplotlib!=3.0.0,>=2.0.0->scikit-image) (0.10.0)\n",
            "Requirement already satisfied: setuptools in /usr/local/lib/python3.6/dist-packages (from kiwisolver>=1.0.1->matplotlib!=3.0.0,>=2.0.0->scikit-image) (45.2.0)\n",
            "Requirement already satisfied: six>=1.5 in /usr/local/lib/python3.6/dist-packages (from python-dateutil>=2.1->matplotlib!=3.0.0,>=2.0.0->scikit-image) (1.12.0)\n",
            "Requirement already satisfied: pydot in /usr/local/lib/python3.6/dist-packages (1.3.0)\n",
            "Requirement already satisfied: pyparsing>=2.1.4 in /usr/local/lib/python3.6/dist-packages (from pydot) (2.4.6)\n"
          ],
          "name": "stdout"
        }
      ]
    },
    {
      "cell_type": "code",
      "metadata": {
        "colab_type": "code",
        "id": "2nz38mJZXN_P",
        "outputId": "930b9643-1d42-46df-af20-62024bf8db4d",
        "colab": {
          "base_uri": "https://localhost:8080/",
          "height": 35
        }
      },
      "source": [
        "import matplotlib.pyplot as plt\n",
        "import pandas as pd\n",
        "import numpy as np\n",
        "\n",
        "import tensorflow as tf\n",
        "from tensorflow.keras.layers import *\n",
        "from tensorflow.python.lib.io import file_io\n",
        "\n",
        "%matplotlib inline\n",
        "\n",
        "import keras\n",
        "from keras import backend as K\n",
        "from keras.callbacks import ModelCheckpoint, EarlyStopping\n",
        "from keras.models import load_model\n",
        "from keras.preprocessing.image import ImageDataGenerator\n",
        "from keras_vggface.vggface import VGGFace\n",
        "from keras.utils import plot_model\n",
        "from sklearn.metrics import *\n",
        "from keras.engine import Model\n",
        "from keras.layers import Input, Flatten, Dense, Activation, Conv2D, MaxPool2D, BatchNormalization, Dropout, MaxPooling2D\n",
        "import skimage\n",
        "from skimage.transform import rescale, resize\n",
        "\n",
        "import pydot"
      ],
      "execution_count": 2,
      "outputs": [
        {
          "output_type": "stream",
          "text": [
            "Using TensorFlow backend.\n"
          ],
          "name": "stderr"
        }
      ]
    },
    {
      "cell_type": "code",
      "metadata": {
        "id": "1fZczU8lGkX-",
        "colab_type": "code",
        "outputId": "5efbb1a6-84b9-4393-840c-13c43794e252",
        "colab": {
          "base_uri": "https://localhost:8080/",
          "height": 35
        }
      },
      "source": [
        "from google.colab import drive\n",
        "drive.mount('/content/drive')"
      ],
      "execution_count": 3,
      "outputs": [
        {
          "output_type": "stream",
          "text": [
            "Drive already mounted at /content/drive; to attempt to forcibly remount, call drive.mount(\"/content/drive\", force_remount=True).\n"
          ],
          "name": "stdout"
        }
      ]
    },
    {
      "cell_type": "code",
      "metadata": {
        "colab_type": "code",
        "id": "nUcd6yIGduUW",
        "outputId": "c2524f3c-7379-43b4-aa28-8d8ac9480157",
        "colab": {
          "base_uri": "https://localhost:8080/",
          "height": 53
        }
      },
      "source": [
        "print(tf.__version__)\n",
        "print(keras.__version__)"
      ],
      "execution_count": 4,
      "outputs": [
        {
          "output_type": "stream",
          "text": [
            "1.15.0\n",
            "2.2.5\n"
          ],
          "name": "stdout"
        }
      ]
    },
    {
      "cell_type": "code",
      "metadata": {
        "id": "v60q28mDHnN9",
        "colab_type": "code",
        "colab": {}
      },
      "source": [
        "EPOCHS = 100\n",
        "BS = 128\n",
        "DROPOUT_RATE = 0.5\n",
        "FROZEN_LAYER_NUM = 170\n",
        "\n",
        "ADAM_LEARNING_RATE = 0.001\n",
        "SGD_LEARNING_RATE = 0.01\n",
        "SGD_DECAY = 0.0001\n",
        "\n",
        "Resize_pixelsize = 197"
      ],
      "execution_count": 0,
      "outputs": []
    },
    {
      "cell_type": "code",
      "metadata": {
        "id": "itKZtFV0F7b1",
        "colab_type": "code",
        "outputId": "17eb3f50-2123-41f8-aab1-d9fa4ba43fe5",
        "colab": {
          "base_uri": "https://localhost:8080/",
          "height": 1000
        }
      },
      "source": [
        "vgg_notop = VGGFace(model='resnet50', include_top=False, input_shape=(Resize_pixelsize, Resize_pixelsize, 3), pooling='avg')\n",
        "last_layer = vgg_notop.get_layer('avg_pool').output\n",
        "x = Flatten(name='flatten')(last_layer)\n",
        "x = Dropout(DROPOUT_RATE)(x)\n",
        "x = Dense(4096, activation='relu', name='fc6')(x)\n",
        "x = Dropout(DROPOUT_RATE)(x)\n",
        "x = Dense(1024, activation='relu', name='fc7')(x)\n",
        "x = Dropout(DROPOUT_RATE)(x)\n",
        "# l=0\n",
        "# for layer in vgg_notop.layers:\n",
        "#     print(layer,\"[\"+str(l)+\"]\")\n",
        "#     l=l+1\n",
        "    \n",
        "batch_norm_indices = [2, 6, 9, 13, 14, 18, 21, 24, 28, 31, 34, 38, 41, 45, 46, 53, 56, 60, 63, 66, 70, 73, 76, 80, 83, 87, 88, 92, 95, 98, 102, 105, 108, 112, 115, 118, 122, 125, 128, 132, 135, 138, 142, 145, 149, 150, 154, 157, 160, 164, 167, 170]\n",
        "for i in range(FROZEN_LAYER_NUM):\n",
        "    if i not in batch_norm_indices:\n",
        "        vgg_notop.layers[i].trainable = False\n",
        "# print('vgg layer 2 is trainable: ' + str(vgg_notop.layers[2].trainable))\n",
        "# print('vgg layer 3 is trainable: ' + str(vgg_notop.layers[3].trainable))\n",
        "\n",
        "out = Dense(7, activation='softmax', name='classifier')(x)\n",
        "\n",
        "model = Model(vgg_notop.input, out)\n",
        "\n",
        "\n",
        "optim = keras.optimizers.Adam(lr=ADAM_LEARNING_RATE, beta_1=0.9, beta_2=0.999, epsilon=1e-08, decay=0.0)\n",
        "#optim = keras.optimizers.Adam(lr=0.0005, beta_1=0.9, beta_2=0.999, epsilon=1e-08, decay=0.0)\n",
        "sgd = keras.optimizers.SGD(lr=SGD_LEARNING_RATE, momentum=0.9, decay=SGD_DECAY, nesterov=True)\n",
        "rlrop = keras.callbacks.ReduceLROnPlateau(monitor='val_acc',mode='max',factor=0.5, patience=10, min_lr=0.00001, verbose=1)\n",
        "\n",
        "model.compile(optimizer=sgd, loss='categorical_crossentropy', metrics=['accuracy'])\n",
        "# plot_model(model, to_file='model2.png', show_shapes=True)"
      ],
      "execution_count": 10,
      "outputs": [
        {
          "output_type": "stream",
          "text": [
            "<keras.engine.input_layer.InputLayer object at 0x7efb74dceb38> [0]\n",
            "<keras.layers.convolutional.Conv2D object at 0x7efb74dceef0> [1]\n",
            "<keras.layers.normalization.BatchNormalization object at 0x7efb74dceda0> [2]\n",
            "<keras.layers.core.Activation object at 0x7efb74dced30> [3]\n",
            "<keras.layers.pooling.MaxPooling2D object at 0x7efb74dc9d68> [4]\n",
            "<keras.layers.convolutional.Conv2D object at 0x7efb74d58588> [5]\n",
            "<keras.layers.normalization.BatchNormalization object at 0x7efb74d79b38> [6]\n",
            "<keras.layers.core.Activation object at 0x7efb74d79f28> [7]\n",
            "<keras.layers.convolutional.Conv2D object at 0x7efb74d7f940> [8]\n",
            "<keras.layers.normalization.BatchNormalization object at 0x7efb74d345c0> [9]\n",
            "<keras.layers.core.Activation object at 0x7efb74d34550> [10]\n",
            "<keras.layers.convolutional.Conv2D object at 0x7efb74d40eb8> [11]\n",
            "<keras.layers.convolutional.Conv2D object at 0x7efb74cfffd0> [12]\n",
            "<keras.layers.normalization.BatchNormalization object at 0x7efb74cf8dd8> [13]\n",
            "<keras.layers.normalization.BatchNormalization object at 0x7efb74cc1668> [14]\n",
            "<keras.layers.merge.Add object at 0x7efb74cc1d68> [15]\n",
            "<keras.layers.core.Activation object at 0x7efb74c569e8> [16]\n",
            "<keras.layers.convolutional.Conv2D object at 0x7efb74c56fd0> [17]\n",
            "<keras.layers.normalization.BatchNormalization object at 0x7efb74c88898> [18]\n",
            "<keras.layers.core.Activation object at 0x7efb74c88eb8> [19]\n",
            "<keras.layers.convolutional.Conv2D object at 0x7efb74c11be0> [20]\n",
            "<keras.layers.normalization.BatchNormalization object at 0x7efb74c4a898> [21]\n",
            "<keras.layers.core.Activation object at 0x7efb74c4a828> [22]\n",
            "<keras.layers.convolutional.Conv2D object at 0x7efb74bd2da0> [23]\n",
            "<keras.layers.normalization.BatchNormalization object at 0x7efb74c10198> [24]\n",
            "<keras.layers.merge.Add object at 0x7efb74c10780> [25]\n",
            "<keras.layers.core.Activation object at 0x7efb74ba56d8> [26]\n",
            "<keras.layers.convolutional.Conv2D object at 0x7efb74ba5f98> [27]\n",
            "<keras.layers.normalization.BatchNormalization object at 0x7efb74b52f98> [28]\n",
            "<keras.layers.core.Activation object at 0x7efb74b5af98> [29]\n",
            "<keras.layers.convolutional.Conv2D object at 0x7efb74b5afd0> [30]\n",
            "<keras.layers.normalization.BatchNormalization object at 0x7efb74b19550> [31]\n",
            "<keras.layers.core.Activation object at 0x7efb74b194e0> [32]\n",
            "<keras.layers.convolutional.Conv2D object at 0x7efb74b24f98> [33]\n",
            "<keras.layers.normalization.BatchNormalization object at 0x7efb74ad8d68> [34]\n",
            "<keras.layers.merge.Add object at 0x7efb74ae2f60> [35]\n",
            "<keras.layers.core.Activation object at 0x7efb74af6c88> [36]\n",
            "<keras.layers.convolutional.Conv2D object at 0x7efb74afeda0> [37]\n",
            "<keras.layers.normalization.BatchNormalization object at 0x7efb74aa1da0> [38]\n",
            "<keras.layers.core.Activation object at 0x7efb74aacdd8> [39]\n",
            "<keras.layers.convolutional.Conv2D object at 0x7efb74aace10> [40]\n",
            "<keras.layers.normalization.BatchNormalization object at 0x7efb74a6c208> [41]\n",
            "<keras.layers.core.Activation object at 0x7efb74a6c828> [42]\n",
            "<keras.layers.convolutional.Conv2D object at 0x7efb74a76e10> [43]\n",
            "<keras.layers.convolutional.Conv2D object at 0x7efb74a2cf98> [44]\n",
            "<keras.layers.normalization.BatchNormalization object at 0x7efb74a2ca20> [45]\n",
            "<keras.layers.normalization.BatchNormalization object at 0x7efb749f22b0> [46]\n",
            "<keras.layers.merge.Add object at 0x7efb749f2a90> [47]\n",
            "<keras.layers.core.Activation object at 0x7efb74a0df98> [48]\n",
            "<keras.layers.convolutional.Conv2D object at 0x7efb74993eb8> [49]\n",
            "<keras.layers.normalization.BatchNormalization object at 0x7efb749b1dd8> [50]\n",
            "<keras.layers.core.Activation object at 0x7efb749bfe10> [51]\n",
            "<keras.layers.convolutional.Conv2D object at 0x7efb749bfc18> [52]\n",
            "<keras.layers.normalization.BatchNormalization object at 0x7efb7497b4e0> [53]\n",
            "<keras.layers.core.Activation object at 0x7efb7497b470> [54]\n",
            "<keras.layers.convolutional.Conv2D object at 0x7efb74988f28> [55]\n",
            "<keras.layers.normalization.BatchNormalization object at 0x7efb7493ecf8> [56]\n",
            "<keras.layers.merge.Add object at 0x7efb74946fd0> [57]\n",
            "<keras.layers.core.Activation object at 0x7efb748dcfd0> [58]\n",
            "<keras.layers.convolutional.Conv2D object at 0x7efb748f8780> [59]\n",
            "<keras.layers.normalization.BatchNormalization object at 0x7efb74907cf8> [60]\n",
            "<keras.layers.core.Activation object at 0x7efb74910d68> [61]\n",
            "<keras.layers.convolutional.Conv2D object at 0x7efb74910fd0> [62]\n",
            "<keras.layers.normalization.BatchNormalization object at 0x7efb74851198> [63]\n",
            "<keras.layers.core.Activation object at 0x7efb748517b8> [64]\n",
            "<keras.layers.convolutional.Conv2D object at 0x7efb74858da0> [65]\n",
            "<keras.layers.normalization.BatchNormalization object at 0x7efb74811a58> [66]\n",
            "<keras.layers.merge.Add object at 0x7efb748119e8> [67]\n",
            "<keras.layers.core.Activation object at 0x7efb74827f98> [68]\n",
            "<keras.layers.convolutional.Conv2D object at 0x7efb7484d438> [69]\n",
            "<keras.layers.normalization.BatchNormalization object at 0x7efb747d9e48> [70]\n",
            "<keras.layers.core.Activation object at 0x7efb747e3c88> [71]\n",
            "<keras.layers.convolutional.Conv2D object at 0x7efb747e3e10> [72]\n",
            "<keras.layers.normalization.BatchNormalization object at 0x7efb7479ad68> [73]\n",
            "<keras.layers.core.Activation object at 0x7efb747a0f60> [74]\n",
            "<keras.layers.convolutional.Conv2D object at 0x7efb747a9a58> [75]\n",
            "<keras.layers.normalization.BatchNormalization object at 0x7efb74763710> [76]\n",
            "<keras.layers.merge.Add object at 0x7efb747636a0> [77]\n",
            "<keras.layers.core.Activation object at 0x7efb7477dfd0> [78]\n",
            "<keras.layers.convolutional.Conv2D object at 0x7efb7471a0f0> [79]\n",
            "<keras.layers.normalization.BatchNormalization object at 0x7efb74728b00> [80]\n",
            "<keras.layers.core.Activation object at 0x7efb74728e10> [81]\n",
            "<keras.layers.convolutional.Conv2D object at 0x7efb74733e10> [82]\n",
            "<keras.layers.normalization.BatchNormalization object at 0x7efb746e9a20> [83]\n",
            "<keras.layers.core.Activation object at 0x7efb746e9f98> [84]\n",
            "<keras.layers.convolutional.Conv2D object at 0x7efb746f3f98> [85]\n",
            "<keras.layers.convolutional.Conv2D object at 0x7efb746b49e8> [86]\n",
            "<keras.layers.normalization.BatchNormalization object at 0x7efb746b43c8> [87]\n",
            "<keras.layers.normalization.BatchNormalization object at 0x7efb7467b2b0> [88]\n",
            "<keras.layers.merge.Add object at 0x7efb7467ba90> [89]\n",
            "<keras.layers.core.Activation object at 0x7efb74611f98> [90]\n",
            "<keras.layers.convolutional.Conv2D object at 0x7efb74619eb8> [91]\n",
            "<keras.layers.normalization.BatchNormalization object at 0x7efb74643be0> [92]\n",
            "<keras.layers.core.Activation object at 0x7efb74643f60> [93]\n",
            "<keras.layers.convolutional.Conv2D object at 0x7efb7464bd68> [94]\n",
            "<keras.layers.normalization.BatchNormalization object at 0x7efb74603b00> [95]\n",
            "<keras.layers.core.Activation object at 0x7efb7460bdd8> [96]\n",
            "<keras.layers.convolutional.Conv2D object at 0x7efb7460bbe0> [97]\n",
            "<keras.layers.normalization.BatchNormalization object at 0x7efb745cc4e0> [98]\n",
            "<keras.layers.merge.Add object at 0x7efb745cc470> [99]\n",
            "<keras.layers.core.Activation object at 0x7efb74561a20> [100]\n",
            "<keras.layers.convolutional.Conv2D object at 0x7efb74570d30> [101]\n",
            "<keras.layers.normalization.BatchNormalization object at 0x7efb74590f98> [102]\n",
            "<keras.layers.core.Activation object at 0x7efb7451be10> [103]\n",
            "<keras.layers.convolutional.Conv2D object at 0x7efb7451bf98> [104]\n",
            "<keras.layers.normalization.BatchNormalization object at 0x7efb744d3ef0> [105]\n",
            "<keras.layers.core.Activation object at 0x7efb744db5f8> [106]\n",
            "<keras.layers.convolutional.Conv2D object at 0x7efb744e6be0> [107]\n",
            "<keras.layers.normalization.BatchNormalization object at 0x7efb7449b908> [108]\n",
            "<keras.layers.merge.Add object at 0x7efb7449b898> [109]\n",
            "<keras.layers.core.Activation object at 0x7efb744b3ac8> [110]\n",
            "<keras.layers.convolutional.Conv2D object at 0x7efb744c08d0> [111]\n",
            "<keras.layers.normalization.BatchNormalization object at 0x7efb74464e10> [112]\n",
            "<keras.layers.core.Activation object at 0x7efb7446be10> [113]\n",
            "<keras.layers.convolutional.Conv2D object at 0x7efb7446bc18> [114]\n",
            "<keras.layers.normalization.BatchNormalization object at 0x7efb7442c5c0> [115]\n",
            "<keras.layers.core.Activation object at 0x7efb7442c550> [116]\n",
            "<keras.layers.convolutional.Conv2D object at 0x7efb74434eb8> [117]\n",
            "<keras.layers.normalization.BatchNormalization object at 0x7efb743edeb8> [118]\n",
            "<keras.layers.merge.Add object at 0x7efb743f3fd0> [119]\n",
            "<keras.layers.core.Activation object at 0x7efb74409e10> [120]\n",
            "<keras.layers.convolutional.Conv2D object at 0x7efb74410f98> [121]\n",
            "<keras.layers.normalization.BatchNormalization object at 0x7efb743b9b70> [122]\n",
            "<keras.layers.core.Activation object at 0x7efb743b9e80> [123]\n",
            "<keras.layers.convolutional.Conv2D object at 0x7efb743c3e80> [124]\n",
            "<keras.layers.normalization.BatchNormalization object at 0x7efb7437bb70> [125]\n",
            "<keras.layers.core.Activation object at 0x7efb74380e48> [126]\n",
            "<keras.layers.convolutional.Conv2D object at 0x7efb74380f60> [127]\n",
            "<keras.layers.normalization.BatchNormalization object at 0x7efb743415f8> [128]\n",
            "<keras.layers.merge.Add object at 0x7efb74341588> [129]\n",
            "<keras.layers.core.Activation object at 0x7efb742d7b38> [130]\n",
            "<keras.layers.convolutional.Conv2D object at 0x7efb742d7cf8> [131]\n",
            "<keras.layers.normalization.BatchNormalization object at 0x7efb91791d68> [132]\n",
            "<keras.layers.core.Activation object at 0x7efb7450ce48> [133]\n",
            "<keras.layers.convolutional.Conv2D object at 0x7efb742f3da0> [134]\n",
            "<keras.layers.normalization.BatchNormalization object at 0x7efb742b42b0> [135]\n",
            "<keras.layers.core.Activation object at 0x7efb742b48d0> [136]\n",
            "<keras.layers.convolutional.Conv2D object at 0x7efb742baeb8> [137]\n",
            "<keras.layers.normalization.BatchNormalization object at 0x7efb74271ba8> [138]\n",
            "<keras.layers.merge.Add object at 0x7efb74279f98> [139]\n",
            "<keras.layers.core.Activation object at 0x7efb7428dfd0> [140]\n",
            "<keras.layers.convolutional.Conv2D object at 0x7efb742fcbe0> [141]\n",
            "<keras.layers.normalization.BatchNormalization object at 0x7efb74242860> [142]\n",
            "<keras.layers.core.Activation object at 0x7efb74242fd0> [143]\n",
            "<keras.layers.convolutional.Conv2D object at 0x7efb74248b70> [144]\n",
            "<keras.layers.normalization.BatchNormalization object at 0x7efb74200908> [145]\n",
            "<keras.layers.core.Activation object at 0x7efb74200898> [146]\n",
            "<keras.layers.convolutional.Conv2D object at 0x7efb74209e10> [147]\n",
            "<keras.layers.convolutional.Conv2D object at 0x7efb741c9908> [148]\n",
            "<keras.layers.normalization.BatchNormalization object at 0x7efb741c92e8> [149]\n",
            "<keras.layers.normalization.BatchNormalization object at 0x7efb741902b0> [150]\n",
            "<keras.layers.merge.Add object at 0x7efb74190a90> [151]\n",
            "<keras.layers.core.Activation object at 0x7efb74128630> [152]\n",
            "<keras.layers.convolutional.Conv2D object at 0x7efb74135cc0> [153]\n",
            "<keras.layers.normalization.BatchNormalization object at 0x7efb740d9cc0> [154]\n",
            "<keras.layers.core.Activation object at 0x7efb740e0e48> [155]\n",
            "<keras.layers.convolutional.Conv2D object at 0x7efb740e0fd0> [156]\n",
            "<keras.layers.normalization.BatchNormalization object at 0x7efb74099cf8> [157]\n",
            "<keras.layers.core.Activation object at 0x7efb740a0fd0> [158]\n",
            "<keras.layers.convolutional.Conv2D object at 0x7efb740a79e8> [159]\n",
            "<keras.layers.normalization.BatchNormalization object at 0x7efb7405f780> [160]\n",
            "<keras.layers.merge.Add object at 0x7efb7405f710> [161]\n",
            "<keras.layers.core.Activation object at 0x7efb74076940> [162]\n",
            "<keras.layers.convolutional.Conv2D object at 0x7efb740185c0> [163]\n",
            "<keras.layers.normalization.BatchNormalization object at 0x7efb74027e48> [164]\n",
            "<keras.layers.core.Activation object at 0x7efb74031f28> [165]\n",
            "<keras.layers.convolutional.Conv2D object at 0x7efb74031f60> [166]\n",
            "<keras.layers.normalization.BatchNormalization object at 0x7efb73fef438> [167]\n",
            "<keras.layers.core.Activation object at 0x7efb73fefa58> [168]\n",
            "<keras.layers.convolutional.Conv2D object at 0x7efb73ffbf98> [169]\n",
            "<keras.layers.normalization.BatchNormalization object at 0x7efb73fb1d30> [170]\n",
            "<keras.layers.merge.Add object at 0x7efb73fb8f28> [171]\n",
            "<keras.layers.core.Activation object at 0x7efb73fccc88> [172]\n",
            "<keras.layers.pooling.AveragePooling2D object at 0x7efb73f55da0> [173]\n",
            "<keras.layers.pooling.GlobalAveragePooling2D object at 0x7efb73f78cc0> [174]\n"
          ],
          "name": "stdout"
        }
      ]
    },
    {
      "cell_type": "code",
      "metadata": {
        "colab_type": "code",
        "id": "EjKPXZ3TX3Jb",
        "colab": {}
      },
      "source": [
        "# Function that reads the data from the csv file, increases the size of the images and returns the images and their labels\n",
        "def get_data(datas, bs=32, aug=None, pixelsize=Resize_pixelsize):\n",
        "    # Data preparation\n",
        "    while True:\n",
        "      file_stream = file_io.FileIO(training_dataset_dir, mode='r')\n",
        "      datas = pd.read_csv(file_stream,iterator=True, chunksize=bs )\n",
        "      for data in datas:\n",
        "          data[' pixels'] = data[' pixels'].apply(lambda x: [int(pixel) for pixel in x.split()])\n",
        "          X, Y = data[' pixels'].tolist(), data['emotion'].values\n",
        "          X = np.array(X, dtype='float32').reshape(-1,48,48,1)\n",
        "          X = X/255.0\n",
        "          X_res = np.zeros((X.shape[0], pixelsize,pixelsize,3))\n",
        "          for ind in range(X.shape[0]): \n",
        "              sample = X[ind]\n",
        "              sample = sample.reshape(48, 48)\n",
        "              image_resized = resize(sample, (pixelsize, pixelsize), anti_aliasing=True)\n",
        "              X_res[ind,:,:,:] = image_resized.reshape(pixelsize,pixelsize,1)\n",
        "\n",
        "          Y_res = np.zeros((Y.size, Y.max()+1))\n",
        "          Y_res[np.arange(Y.size),Y] = 1\n",
        "          if aug is not None:\n",
        "              (X_res, Y_res) = next(aug.flow(np.array(X_res),\n",
        "                  Y_res, batch_size=bs))\n",
        "          yield  X_res, Y_res"
      ],
      "execution_count": 0,
      "outputs": []
    },
    {
      "cell_type": "code",
      "metadata": {
        "id": "cQkWIk2kF0aL",
        "colab_type": "code",
        "colab": {}
      },
      "source": [
        "training_dataset_dir = '/content/drive/My Drive/cs230 project/collab/fer2013/train.csv'\n",
        "dev_dataset_dir = '/content/drive/My Drive/cs230 project/collab/fer2013/dev.csv'\n",
        "test_dataset_dir = '/content/drive/My Drive/cs230 project/collab/fer2013/test.csv'\n",
        "\n",
        "aug = ImageDataGenerator(\n",
        "    rotation_range  = 10,\n",
        "    shear_range     = 10, # 10 degrees\n",
        "    zoom_range      = 0.1,\n",
        "    fill_mode       = 'reflect',\n",
        "    horizontal_flip = True\n",
        ")\n",
        "\n",
        "train_generator = get_data(training_dataset_dir,  bs=BS, aug=None)\n",
        "dev_generator   = get_data(dev_dataset_dir, bs=BS, aug=None)\n",
        "test_generator   = get_data(test_dataset_dir, bs=BS, aug=None)\n",
        "    #X_dev_res, Y_dev_res  = get_data(dev_dataset_dir)\n",
        "\n",
        "# Generate batches of tensor image data with real-time data augmentation. The data will be looped over (in batches) indefinitely\n",
        "# rescale:          Rescaling factor (defaults to None). Multiply the data by the value provided (before applying any other transformation)\n",
        "# rotation_range:   Int. Degree range for random rotations\n",
        "# shear_range:      Float. Shear Intensity (Shear angle in counter-clockwise direction as radians)\n",
        "# zoom_range:       Float or [lower, upper]. Range for random zoom. If a float, [lower, upper] = [1-zoom_range, 1+zoom_range]\n",
        "# fill_mode :       Points outside the boundaries of the input are filled according to the given mode: {\"constant\", \"nearest\", \"reflect\" or \"wrap\"}\n",
        "# horizontal_flip:  Boolean. Randomly flip inputs horizontally\n",
        "\n",
        "\n",
        "# Takes numpy data & label arrays, and generates batches of augmented/normalized data. Yields batcfillhes indefinitely, in an infinite loop\n",
        "    # x:            Data. Should have rank 4. In case of grayscale data, the channels axis should have value 1, and in case of RGB data, \n",
        "    #               it should have value 3\n",
        "    # y:            Labels\n",
        "    # batch_size:   Int (default: 32)\n",
        "#train_generator = train_datagen.flow(X_train_res, Y_train_res,  batch_size  = BS)"
      ],
      "execution_count": 0,
      "outputs": []
    },
    {
      "cell_type": "code",
      "metadata": {
        "colab_type": "code",
        "id": "pLISdlaStbUn",
        "outputId": "caaa52db-4773-46b6-872b-4235f7e01580",
        "colab": {
          "base_uri": "https://localhost:8080/",
          "height": 1000
        }
      },
      "source": [
        "history = model.fit_generator(\n",
        "    generator = train_generator,\n",
        "    validation_data=dev_generator, \n",
        "    steps_per_epoch=28709// BS,\n",
        "    validation_steps=3509 // BS,\n",
        "    shuffle=True,\n",
        "    epochs=EPOCHS,\n",
        "    callbacks=[rlrop],\n",
        "    use_multiprocessing=True,\n",
        ") "
      ],
      "execution_count": 13,
      "outputs": [
        {
          "output_type": "stream",
          "text": [
            "WARNING:tensorflow:From /usr/local/lib/python3.6/dist-packages/keras/backend/tensorflow_backend.py:1033: The name tf.assign_add is deprecated. Please use tf.compat.v1.assign_add instead.\n",
            "\n",
            "WARNING:tensorflow:From /usr/local/lib/python3.6/dist-packages/keras/backend/tensorflow_backend.py:1020: The name tf.assign is deprecated. Please use tf.compat.v1.assign instead.\n",
            "\n",
            "Epoch 1/100\n",
            "224/224 [==============================] - 182s 810ms/step - loss: 2.1205 - acc: 0.3496 - val_loss: 1.2821 - val_acc: 0.5231\n",
            "Epoch 2/100\n",
            "224/224 [==============================] - 169s 755ms/step - loss: 1.3459 - acc: 0.4889 - val_loss: 1.0936 - val_acc: 0.5917\n",
            "Epoch 3/100\n",
            "224/224 [==============================] - 172s 770ms/step - loss: 1.2371 - acc: 0.5320 - val_loss: 1.0323 - val_acc: 0.6192\n",
            "Epoch 4/100\n",
            "224/224 [==============================] - 171s 764ms/step - loss: 1.1712 - acc: 0.5610 - val_loss: 0.9934 - val_acc: 0.6328\n",
            "Epoch 5/100\n",
            "224/224 [==============================] - 171s 762ms/step - loss: 1.1235 - acc: 0.5792 - val_loss: 0.9640 - val_acc: 0.6377\n",
            "Epoch 6/100\n",
            "224/224 [==============================] - 170s 760ms/step - loss: 1.0842 - acc: 0.5880 - val_loss: 0.8859 - val_acc: 0.6794\n",
            "Epoch 7/100\n",
            "224/224 [==============================] - 168s 752ms/step - loss: 1.0468 - acc: 0.6060 - val_loss: 0.8510 - val_acc: 0.7017\n",
            "Epoch 8/100\n",
            "224/224 [==============================] - 169s 753ms/step - loss: 1.0188 - acc: 0.6168 - val_loss: 0.8268 - val_acc: 0.7104\n",
            "Epoch 9/100\n",
            "224/224 [==============================] - 165s 738ms/step - loss: 0.9939 - acc: 0.6229 - val_loss: 0.8725 - val_acc: 0.6865\n",
            "Epoch 10/100\n",
            "224/224 [==============================] - 166s 741ms/step - loss: 0.9753 - acc: 0.6307 - val_loss: 0.8438 - val_acc: 0.6939\n",
            "Epoch 11/100\n",
            "224/224 [==============================] - 165s 736ms/step - loss: 0.9522 - acc: 0.6444 - val_loss: 0.7942 - val_acc: 0.7159\n",
            "Epoch 12/100\n",
            "224/224 [==============================] - 165s 737ms/step - loss: 0.9318 - acc: 0.6483 - val_loss: 0.7883 - val_acc: 0.7092\n",
            "Epoch 13/100\n",
            "224/224 [==============================] - 166s 740ms/step - loss: 0.9143 - acc: 0.6511 - val_loss: 0.7864 - val_acc: 0.7150\n",
            "Epoch 14/100\n",
            "224/224 [==============================] - 167s 745ms/step - loss: 0.8959 - acc: 0.6597 - val_loss: 0.7549 - val_acc: 0.7361\n",
            "Epoch 15/100\n",
            "224/224 [==============================] - 167s 744ms/step - loss: 0.8776 - acc: 0.6675 - val_loss: 0.6865 - val_acc: 0.7691\n",
            "Epoch 16/100\n",
            "224/224 [==============================] - 166s 740ms/step - loss: 0.8605 - acc: 0.6729 - val_loss: 0.6884 - val_acc: 0.7778\n",
            "Epoch 17/100\n",
            "224/224 [==============================] - 165s 736ms/step - loss: 0.8436 - acc: 0.6814 - val_loss: 0.7080 - val_acc: 0.7599\n",
            "Epoch 18/100\n",
            "224/224 [==============================] - 166s 739ms/step - loss: 0.8345 - acc: 0.6828 - val_loss: 0.6960 - val_acc: 0.7697\n",
            "Epoch 19/100\n",
            "224/224 [==============================] - 166s 739ms/step - loss: 0.8079 - acc: 0.6933 - val_loss: 0.6710 - val_acc: 0.7821\n",
            "Epoch 20/100\n",
            "224/224 [==============================] - 166s 739ms/step - loss: 0.8004 - acc: 0.6968 - val_loss: 0.6415 - val_acc: 0.7905\n",
            "Epoch 21/100\n",
            "224/224 [==============================] - 165s 737ms/step - loss: 0.7796 - acc: 0.7057 - val_loss: 0.6271 - val_acc: 0.7925\n",
            "Epoch 22/100\n",
            "224/224 [==============================] - 163s 730ms/step - loss: 0.7668 - acc: 0.7087 - val_loss: 0.6025 - val_acc: 0.8102\n",
            "Epoch 23/100\n",
            "224/224 [==============================] - 164s 731ms/step - loss: 0.7512 - acc: 0.7159 - val_loss: 0.5598 - val_acc: 0.8368\n",
            "Epoch 24/100\n",
            "224/224 [==============================] - 166s 739ms/step - loss: 0.7443 - acc: 0.7173 - val_loss: 0.5644 - val_acc: 0.8391\n",
            "Epoch 25/100\n",
            "224/224 [==============================] - 167s 744ms/step - loss: 0.7318 - acc: 0.7228 - val_loss: 0.5474 - val_acc: 0.8478\n",
            "Epoch 26/100\n",
            "224/224 [==============================] - 167s 745ms/step - loss: 0.7148 - acc: 0.7320 - val_loss: 0.5595 - val_acc: 0.8406\n",
            "Epoch 27/100\n",
            "224/224 [==============================] - 166s 741ms/step - loss: 0.6958 - acc: 0.7339 - val_loss: 0.5209 - val_acc: 0.8478\n",
            "Epoch 28/100\n",
            "224/224 [==============================] - 164s 732ms/step - loss: 0.6850 - acc: 0.7388 - val_loss: 0.5034 - val_acc: 0.8649\n",
            "Epoch 29/100\n",
            "224/224 [==============================] - 165s 735ms/step - loss: 0.6795 - acc: 0.7438 - val_loss: 0.5099 - val_acc: 0.8594\n",
            "Epoch 30/100\n",
            "224/224 [==============================] - 165s 738ms/step - loss: 0.6618 - acc: 0.7510 - val_loss: 0.4795 - val_acc: 0.8736\n",
            "Epoch 31/100\n",
            "224/224 [==============================] - 165s 739ms/step - loss: 0.6499 - acc: 0.7561 - val_loss: 0.4355 - val_acc: 0.8863\n",
            "Epoch 32/100\n",
            "224/224 [==============================] - 164s 732ms/step - loss: 0.6392 - acc: 0.7593 - val_loss: 0.4254 - val_acc: 0.8976\n",
            "Epoch 33/100\n",
            "224/224 [==============================] - 164s 733ms/step - loss: 0.6273 - acc: 0.7600 - val_loss: 0.4350 - val_acc: 0.8900\n",
            "Epoch 34/100\n",
            "224/224 [==============================] - 166s 742ms/step - loss: 0.6134 - acc: 0.7706 - val_loss: 0.4324 - val_acc: 0.8954\n",
            "Epoch 35/100\n",
            "224/224 [==============================] - 169s 753ms/step - loss: 0.6044 - acc: 0.7707 - val_loss: 0.4220 - val_acc: 0.8970\n",
            "Epoch 36/100\n",
            "224/224 [==============================] - 169s 754ms/step - loss: 0.5911 - acc: 0.7769 - val_loss: 0.3858 - val_acc: 0.9042\n",
            "Epoch 37/100\n",
            "224/224 [==============================] - 169s 755ms/step - loss: 0.5814 - acc: 0.7791 - val_loss: 0.3821 - val_acc: 0.9112\n",
            "Epoch 38/100\n",
            "224/224 [==============================] - 168s 750ms/step - loss: 0.5696 - acc: 0.7865 - val_loss: 0.3739 - val_acc: 0.9129\n",
            "Epoch 39/100\n",
            "224/224 [==============================] - 168s 749ms/step - loss: 0.5580 - acc: 0.7857 - val_loss: 0.3475 - val_acc: 0.9256\n",
            "Epoch 40/100\n",
            "224/224 [==============================] - 166s 740ms/step - loss: 0.5436 - acc: 0.7956 - val_loss: 0.3201 - val_acc: 0.9395\n",
            "Epoch 41/100\n",
            "224/224 [==============================] - 167s 744ms/step - loss: 0.5378 - acc: 0.7978 - val_loss: 0.3298 - val_acc: 0.9271\n",
            "Epoch 42/100\n",
            "224/224 [==============================] - 167s 745ms/step - loss: 0.5339 - acc: 0.8009 - val_loss: 0.3224 - val_acc: 0.9340\n",
            "Epoch 43/100\n",
            "224/224 [==============================] - 168s 748ms/step - loss: 0.5286 - acc: 0.7994 - val_loss: 0.3228 - val_acc: 0.9355\n",
            "Epoch 44/100\n",
            "224/224 [==============================] - 166s 741ms/step - loss: 0.5054 - acc: 0.8091 - val_loss: 0.2987 - val_acc: 0.9413\n",
            "Epoch 45/100\n",
            "224/224 [==============================] - 172s 769ms/step - loss: 0.5033 - acc: 0.8104 - val_loss: 0.2887 - val_acc: 0.9482\n",
            "Epoch 46/100\n",
            "224/224 [==============================] - 171s 765ms/step - loss: 0.4948 - acc: 0.8122 - val_loss: 0.2792 - val_acc: 0.9476\n",
            "Epoch 47/100\n",
            "224/224 [==============================] - 172s 770ms/step - loss: 0.4820 - acc: 0.8196 - val_loss: 0.2531 - val_acc: 0.9552\n",
            "Epoch 48/100\n",
            "224/224 [==============================] - 174s 778ms/step - loss: 0.4806 - acc: 0.8198 - val_loss: 0.2408 - val_acc: 0.9690\n",
            "Epoch 49/100\n",
            "224/224 [==============================] - 173s 773ms/step - loss: 0.4683 - acc: 0.8273 - val_loss: 0.2585 - val_acc: 0.9525\n",
            "Epoch 50/100\n",
            "224/224 [==============================] - 173s 770ms/step - loss: 0.4543 - acc: 0.8283 - val_loss: 0.2295 - val_acc: 0.9643\n",
            "Epoch 51/100\n",
            "224/224 [==============================] - 170s 757ms/step - loss: 0.4362 - acc: 0.8359 - val_loss: 0.2317 - val_acc: 0.9664\n",
            "Epoch 52/100\n",
            "224/224 [==============================] - 170s 758ms/step - loss: 0.4373 - acc: 0.8344 - val_loss: 0.2177 - val_acc: 0.9618\n",
            "Epoch 53/100\n",
            "224/224 [==============================] - 170s 760ms/step - loss: 0.4395 - acc: 0.8354 - val_loss: 0.2105 - val_acc: 0.9685\n",
            "Epoch 54/100\n",
            "224/224 [==============================] - 166s 742ms/step - loss: 0.4245 - acc: 0.8410 - val_loss: 0.2054 - val_acc: 0.9716\n",
            "Epoch 55/100\n",
            "224/224 [==============================] - 166s 742ms/step - loss: 0.4142 - acc: 0.8469 - val_loss: 0.1948 - val_acc: 0.9760\n",
            "Epoch 56/100\n",
            "224/224 [==============================] - 174s 776ms/step - loss: 0.4099 - acc: 0.8485 - val_loss: 0.1699 - val_acc: 0.9774\n",
            "Epoch 57/100\n",
            "224/224 [==============================] - 171s 765ms/step - loss: 0.4009 - acc: 0.8493 - val_loss: 0.1842 - val_acc: 0.9786\n",
            "Epoch 58/100\n",
            "224/224 [==============================] - 169s 757ms/step - loss: 0.3920 - acc: 0.8526 - val_loss: 0.1744 - val_acc: 0.9751\n",
            "Epoch 59/100\n",
            "224/224 [==============================] - 168s 748ms/step - loss: 0.3850 - acc: 0.8579 - val_loss: 0.1753 - val_acc: 0.9777\n",
            "Epoch 60/100\n",
            "224/224 [==============================] - 167s 744ms/step - loss: 0.3806 - acc: 0.8580 - val_loss: 0.1705 - val_acc: 0.9719\n",
            "Epoch 61/100\n",
            "224/224 [==============================] - 165s 738ms/step - loss: 0.3800 - acc: 0.8586 - val_loss: 0.1631 - val_acc: 0.9789\n",
            "Epoch 62/100\n",
            "224/224 [==============================] - 169s 753ms/step - loss: 0.3749 - acc: 0.8606 - val_loss: 0.1565 - val_acc: 0.9818\n",
            "Epoch 63/100\n",
            "224/224 [==============================] - 172s 769ms/step - loss: 0.3588 - acc: 0.8663 - val_loss: 0.1487 - val_acc: 0.9823\n",
            "Epoch 64/100\n",
            "224/224 [==============================] - 171s 762ms/step - loss: 0.3562 - acc: 0.8705 - val_loss: 0.1329 - val_acc: 0.9878\n",
            "Epoch 65/100\n",
            "224/224 [==============================] - 172s 767ms/step - loss: 0.3477 - acc: 0.8705 - val_loss: 0.1348 - val_acc: 0.9838\n",
            "Epoch 66/100\n",
            "224/224 [==============================] - 172s 767ms/step - loss: 0.3399 - acc: 0.8733 - val_loss: 0.1363 - val_acc: 0.9821\n",
            "Epoch 67/100\n",
            "224/224 [==============================] - 172s 769ms/step - loss: 0.3375 - acc: 0.8752 - val_loss: 0.1331 - val_acc: 0.9813\n",
            "Epoch 68/100\n",
            "224/224 [==============================] - 174s 777ms/step - loss: 0.3274 - acc: 0.8784 - val_loss: 0.1288 - val_acc: 0.9829\n",
            "Epoch 69/100\n",
            "224/224 [==============================] - 174s 779ms/step - loss: 0.3342 - acc: 0.8754 - val_loss: 0.1258 - val_acc: 0.9803\n",
            "Epoch 70/100\n",
            "224/224 [==============================] - 172s 767ms/step - loss: 0.3170 - acc: 0.8831 - val_loss: 0.1156 - val_acc: 0.9861\n",
            "Epoch 71/100\n",
            "224/224 [==============================] - 171s 764ms/step - loss: 0.3170 - acc: 0.8818 - val_loss: 0.1122 - val_acc: 0.9850\n",
            "Epoch 72/100\n",
            "224/224 [==============================] - 171s 764ms/step - loss: 0.3183 - acc: 0.8818 - val_loss: 0.1035 - val_acc: 0.9902\n",
            "Epoch 73/100\n",
            "224/224 [==============================] - 170s 760ms/step - loss: 0.3047 - acc: 0.8880 - val_loss: 0.0999 - val_acc: 0.9905\n",
            "Epoch 74/100\n",
            "224/224 [==============================] - 167s 748ms/step - loss: 0.3060 - acc: 0.8874 - val_loss: 0.1059 - val_acc: 0.9861\n",
            "Epoch 75/100\n",
            "224/224 [==============================] - 168s 751ms/step - loss: 0.2970 - acc: 0.8903 - val_loss: 0.0964 - val_acc: 0.9863\n",
            "Epoch 76/100\n",
            "224/224 [==============================] - 166s 742ms/step - loss: 0.3003 - acc: 0.8907 - val_loss: 0.1008 - val_acc: 0.9884\n",
            "Epoch 77/100\n",
            "224/224 [==============================] - 168s 752ms/step - loss: 0.2904 - acc: 0.8948 - val_loss: 0.0972 - val_acc: 0.9829\n",
            "Epoch 78/100\n",
            "224/224 [==============================] - 170s 758ms/step - loss: 0.2810 - acc: 0.8958 - val_loss: 0.0911 - val_acc: 0.9867\n",
            "Epoch 79/100\n",
            "224/224 [==============================] - 170s 759ms/step - loss: 0.2848 - acc: 0.8934 - val_loss: 0.0842 - val_acc: 0.9919\n",
            "Epoch 80/100\n",
            "224/224 [==============================] - 168s 752ms/step - loss: 0.2714 - acc: 0.9025 - val_loss: 0.0784 - val_acc: 0.9893\n",
            "Epoch 81/100\n",
            "224/224 [==============================] - 168s 748ms/step - loss: 0.2844 - acc: 0.8954 - val_loss: 0.0789 - val_acc: 0.9899\n",
            "Epoch 82/100\n",
            "224/224 [==============================] - 168s 749ms/step - loss: 0.2728 - acc: 0.8995 - val_loss: 0.0779 - val_acc: 0.9916\n",
            "Epoch 83/100\n",
            "224/224 [==============================] - 167s 745ms/step - loss: 0.2672 - acc: 0.9022 - val_loss: 0.0820 - val_acc: 0.9890\n",
            "Epoch 84/100\n",
            "224/224 [==============================] - 168s 750ms/step - loss: 0.2590 - acc: 0.9046 - val_loss: 0.0809 - val_acc: 0.9884\n",
            "Epoch 85/100\n",
            "224/224 [==============================] - 167s 747ms/step - loss: 0.2670 - acc: 0.9022 - val_loss: 0.0769 - val_acc: 0.9870\n",
            "Epoch 86/100\n",
            "224/224 [==============================] - 168s 748ms/step - loss: 0.2530 - acc: 0.9078 - val_loss: 0.0756 - val_acc: 0.9881\n",
            "Epoch 87/100\n",
            "224/224 [==============================] - 167s 745ms/step - loss: 0.2526 - acc: 0.9087 - val_loss: 0.0709 - val_acc: 0.9933\n",
            "Epoch 88/100\n",
            "224/224 [==============================] - 169s 755ms/step - loss: 0.2523 - acc: 0.9079 - val_loss: 0.0704 - val_acc: 0.9884\n",
            "Epoch 89/100\n",
            "224/224 [==============================] - 172s 769ms/step - loss: 0.2523 - acc: 0.9088 - val_loss: 0.0644 - val_acc: 0.9916\n",
            "Epoch 90/100\n",
            "224/224 [==============================] - 172s 770ms/step - loss: 0.2485 - acc: 0.9103 - val_loss: 0.0645 - val_acc: 0.9910\n",
            "Epoch 91/100\n",
            "224/224 [==============================] - 171s 762ms/step - loss: 0.2416 - acc: 0.9124 - val_loss: 0.0655 - val_acc: 0.9890\n",
            "Epoch 92/100\n",
            "224/224 [==============================] - 172s 770ms/step - loss: 0.2394 - acc: 0.9133 - val_loss: 0.0665 - val_acc: 0.9887\n",
            "Epoch 93/100\n",
            "224/224 [==============================] - 169s 755ms/step - loss: 0.2371 - acc: 0.9129 - val_loss: 0.0643 - val_acc: 0.9881\n",
            "Epoch 94/100\n",
            "224/224 [==============================] - 169s 754ms/step - loss: 0.2452 - acc: 0.9079 - val_loss: 0.0657 - val_acc: 0.9878\n",
            "Epoch 95/100\n",
            "224/224 [==============================] - 172s 769ms/step - loss: 0.2326 - acc: 0.9160 - val_loss: 0.0608 - val_acc: 0.9954\n",
            "Epoch 96/100\n",
            "224/224 [==============================] - 169s 753ms/step - loss: 0.2280 - acc: 0.9164 - val_loss: 0.0573 - val_acc: 0.9907\n",
            "Epoch 97/100\n",
            "224/224 [==============================] - 168s 750ms/step - loss: 0.2227 - acc: 0.9178 - val_loss: 0.0541 - val_acc: 0.9925\n",
            "Epoch 98/100\n",
            "224/224 [==============================] - 171s 763ms/step - loss: 0.2236 - acc: 0.9189 - val_loss: 0.0535 - val_acc: 0.9931\n",
            "Epoch 99/100\n",
            "224/224 [==============================] - 172s 770ms/step - loss: 0.2195 - acc: 0.9192 - val_loss: 0.0521 - val_acc: 0.9910\n",
            "Epoch 100/100\n",
            "224/224 [==============================] - 172s 769ms/step - loss: 0.2110 - acc: 0.9243 - val_loss: 0.0510 - val_acc: 0.9905\n"
          ],
          "name": "stdout"
        }
      ]
    },
    {
      "cell_type": "code",
      "metadata": {
        "id": "JSSv08SHF0bC",
        "colab_type": "code",
        "colab": {
          "base_uri": "https://localhost:8080/",
          "height": 71
        },
        "outputId": "48140fff-e78e-4b16-9f49-0c86d312d477"
      },
      "source": [
        "print('\\n# Evaluate on dev data')\n",
        "results_dev = model.evaluate_generator(dev_generator, 3509 // BS)\n",
        "print('dev loss, dev acc:', results_dev)"
      ],
      "execution_count": 14,
      "outputs": [
        {
          "output_type": "stream",
          "text": [
            "\n",
            "# Evaluate on dev data\n",
            "dev loss, dev acc: [0.05221803914065714, 0.9913194444444444]\n"
          ],
          "name": "stdout"
        }
      ]
    },
    {
      "cell_type": "code",
      "metadata": {
        "id": "Ev4sDYDlOsqk",
        "colab_type": "code",
        "colab": {
          "base_uri": "https://localhost:8080/",
          "height": 71
        },
        "outputId": "d96c8fc0-3189-4cc4-c112-04fc82ec7b06"
      },
      "source": [
        "print('\\n# Evaluate on test data')\n",
        "results_test = model.evaluate_generator(test_generator, 3509 // BS)\n",
        "print('test loss, test acc:', results_test)"
      ],
      "execution_count": 15,
      "outputs": [
        {
          "output_type": "stream",
          "text": [
            "\n",
            "# Evaluate on test data\n",
            "test loss, test acc: [0.05221803914065714, 0.9913194444444444]\n"
          ],
          "name": "stdout"
        }
      ]
    },
    {
      "cell_type": "code",
      "metadata": {
        "id": "m9f7smhHUQus",
        "colab_type": "code",
        "colab": {
          "base_uri": "https://localhost:8080/",
          "height": 591
        },
        "outputId": "ce65f60c-7e9a-49ed-dc30-08c2fca6ceeb"
      },
      "source": [
        "# list all data in history\n",
        "print(history.history.keys())\n",
        "# summarize history for accuracy\n",
        "plt.plot(history.history['acc'])\n",
        "plt.plot(history.history['val_acc'])\n",
        "plt.title('model accuracy')\n",
        "plt.ylabel('accuracy')\n",
        "plt.xlabel('epoch')\n",
        "plt.legend(['train', 'dev'], loc='upper left')\n",
        "plt.show()\n",
        "# summarize history for loss\n",
        "plt.plot(history.history['loss'])\n",
        "plt.plot(history.history['val_loss'])\n",
        "plt.title('model loss')\n",
        "plt.ylabel('loss')\n",
        "plt.xlabel('epoch')\n",
        "plt.legend(['train', 'dev'], loc='upper left')\n",
        "plt.show()"
      ],
      "execution_count": 16,
      "outputs": [
        {
          "output_type": "stream",
          "text": [
            "dict_keys(['val_loss', 'val_acc', 'loss', 'acc', 'lr'])\n"
          ],
          "name": "stdout"
        },
        {
          "output_type": "display_data",
          "data": {
            "image/png": "[encoded data removed]",
            "text/plain": [
              "<Figure size 432x288 with 1 Axes>"
            ]
          },
          "metadata": {
            "tags": []
          }
        },
        {
          "output_type": "display_data",
          "data": {
            "image/png": "[encoded data removed]",
            "text/plain": [
              "<Figure size 432x288 with 1 Axes>"
            ]
          },
          "metadata": {
            "tags": []
          }
        }
      ]
    },
    {
      "cell_type": "code",
      "metadata": {
        "id": "F-QKHTmJQhi1",
        "colab_type": "code",
        "colab": {}
      },
      "source": [
        "lr_str = '-SGD_LR_%.5f' % SGD_LEARNING_RATE\n",
        "epoch_str = '-EPOCHS_' + str(EPOCHS)\n",
        "bs_str = '-BS_' + str(BS)\n",
        "dropout_str = '-DROPOUT_' + str(DROPOUT_RATE)\n",
        "test_acc = 'test_acc_%.3f' % results_test[1]\n",
        "model.save('/content/drive/My Drive/cs230 project/models/tl/tl' + lr_str + epoch_str + bs_str + dropout_str + test_acc + '.h5')"
      ],
      "execution_count": 0,
      "outputs": []
    },
    {
      "cell_type": "code",
      "metadata": {
        "id": "VuqHDa5Hwiih",
        "colab_type": "code",
        "colab": {}
      },
      "source": [
        "def get_data_for_test(dataset, pixelsize = Resize_pixelsize):\n",
        "    file_stream = file_io.FileIO(dataset, mode='r')\n",
        "    data = pd.read_csv(file_stream)\n",
        "    data[' pixels'] = data[' pixels'].apply(lambda x: [int(pixel) for pixel in x.split()])\n",
        "\n",
        "    X, Y = data[' pixels'].tolist(), data['emotion'].values\n",
        "    X = np.array(X, dtype='float32').reshape(-1,48,48,1)\n",
        "    X = X/255.0\n",
        "    X_res = np.zeros((X.shape[0], pixelsize,pixelsize,3))\n",
        "    for ind in range(X.shape[0]):  #X_dev.shape[0]\n",
        "        sample = X[ind]\n",
        "        sample = sample.reshape(48, 48)\n",
        "        image_resized = resize(sample, (pixelsize, pixelsize), anti_aliasing=True)\n",
        "        X_res[ind,:,:,:] = image_resized.reshape(pixelsize,pixelsize,1)\n",
        "\n",
        "    Y_res = np.zeros((Y.size, Y.max()+1))\n",
        "    Y_res[np.arange(Y.size),Y] = 1\n",
        "    \n",
        "    return  X_res, Y_res"
      ],
      "execution_count": 0,
      "outputs": []
    },
    {
      "cell_type": "code",
      "metadata": {
        "id": "0MAUWRXFxcm-",
        "colab_type": "code",
        "colab": {}
      },
      "source": [
        "test_dataset_dir = '/content/drive/My Drive/cs230 project/collab/fer2013/test.csv'\n",
        "X_test_res, Y_test_res  = get_data_for_test(test_dataset_dir)"
      ],
      "execution_count": 0,
      "outputs": []
    },
    {
      "cell_type": "code",
      "metadata": {
        "id": "ulH4ikEJxhm7",
        "colab_type": "code",
        "colab": {
          "base_uri": "https://localhost:8080/",
          "height": 53
        },
        "outputId": "fd743d4a-f12c-444d-a003-c260d24bf0d0"
      },
      "source": [
        "model.evaluate(X_test_res, Y_test_res)\n"
      ],
      "execution_count": 20,
      "outputs": [
        {
          "output_type": "stream",
          "text": [
            "3589/3589 [==============================] - 8s 2ms/step\n"
          ],
          "name": "stdout"
        },
        {
          "output_type": "execute_result",
          "data": {
            "text/plain": [
              "[0.9163703456932072, 0.732237392047814]"
            ]
          },
          "metadata": {
            "tags": []
          },
          "execution_count": 20
        }
      ]
    },
    {
      "cell_type": "code",
      "metadata": {
        "id": "1cHBx0OcUYWO",
        "colab_type": "code",
        "colab": {}
      },
      "source": [
        "from sklearn.metrics import accuracy_score\n",
        "\n",
        "# configure image data augmentation\n",
        "tta_aug = ImageDataGenerator(\n",
        "    # rotation_range  = 10,\n",
        "    # shear_range     = 10, # 10 degrees\n",
        "    # zoom_range      = 0.1,\n",
        "    # fill_mode       = 'reflect',\n",
        "    horizontal_flip = True\n",
        ")\n",
        "\n",
        "# make a prediction using test-time augmentation\n",
        "def tta_prediction(model, image, n_examples):\n",
        "\t# convert image into dataset\n",
        "\tsamples = np.expand_dims(image, 0)\n",
        "  test_generator = get_data(test_dataset_dir, bs=BS, aug=tta_aug)\n",
        "\tit = test_generator.flow(samples, batch_size=n_examples)\n",
        "\tyhats = model.predict_generator(it, steps=n_examples, verbose=0)\n",
        "\t# sum across predictions\n",
        "\tsummed = np.sum(yhats, axis=0)\n",
        "\t# argmax across classes\n",
        "\treturn np.argmax(summed)\n",
        " \n",
        " # evaluate a model on a dataset using test-time augmentation\n",
        "def tta_evaluate_model(model, testX, testY):\n",
        "\t# configure image data augmentation\n",
        "\tdatagen = ImageDataGenerator(horizontal_flip=True)\n",
        "\t# define the number of augmented images to generate per test set image\n",
        "\tn_examples_per_image = 7\n",
        "\tyhats = list()\n",
        "\tfor i in range(len(testX)):\n",
        "\t\t# make augmented prediction\n",
        "\t\tyhat = tta_prediction(datagen, model, testX[i], n_examples_per_image)\n",
        "\t\t# store for evaluation\n",
        "\t\tyhats.append(yhat)\n",
        "\t# calculate accuracy\n",
        "\ttestY_labels = np.argmax(testY, axis=1)\n",
        "\tacc = accuracy_score(testY_labels, yhats)\n",
        "\treturn acc"
      ],
      "execution_count": 0,
      "outputs": []
    },
    {
      "cell_type": "code",
      "metadata": {
        "id": "78X7l-0txbT6",
        "colab_type": "code",
        "colab": {}
      },
      "source": [
        ""
      ],
      "execution_count": 0,
      "outputs": []
    },
    {
      "cell_type": "code",
      "metadata": {
        "id": "3Ia-TsrIUf9Z",
        "colab_type": "code",
        "colab": {}
      },
      "source": [
        "print('\\n# Evaluate on test data')\n",
        "TTA_results_test = tta_evaluate_model(model, X_test, Y_test)\n",
        "print('test loss, test acc:', results_test)\n",
        "print('TTA test acc:', TTA_results_test)"
      ],
      "execution_count": 0,
      "outputs": []
    }
  ]
}