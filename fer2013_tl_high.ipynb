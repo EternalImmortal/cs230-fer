{
  "nbformat": 4,
  "nbformat_minor": 0,
  "metadata": {
    "accelerator": "GPU",
    "colab": {
      "name": "fer2013.ipynb",
      "provenance": [],
      "collapsed_sections": [],
      "machine_shape": "hm",
      "include_colab_link": true
    },
    "kernelspec": {
      "display_name": "Environment (conda_tensorflow_p36)",
      "language": "python",
      "name": "conda_tensorflow_p36"
    },
    "language_info": {
      "codemirror_mode": {
        "name": "ipython",
        "version": 3
      },
      "file_extension": ".py",
      "mimetype": "text/x-python",
      "name": "python",
      "nbconvert_exporter": "python",
      "pygments_lexer": "ipython3",
      "version": "3.6.5"
    }
  },
  "cells": [
    {
      "cell_type": "markdown",
      "metadata": {
        "id": "view-in-github",
        "colab_type": "text"
      },
      "source": [
        "<a href=\"https://colab.research.google.com/github/amilkh/cs230-fer/blob/datagen/fer2013_tl_high.ipynb\" target=\"_parent\"><img src=\"https://colab.research.google.com/assets/colab-badge.svg\" alt=\"Open In Colab\"/></a>"
      ]
    },
    {
      "cell_type": "code",
      "metadata": {
        "colab_type": "code",
        "id": "gwdg7Sv3XBaP",
        "colab": {
          "base_uri": "https://localhost:8080/",
          "height": 577
        },
        "outputId": "11dc73b1-9897-434c-91f4-0bb68970305b"
      },
      "source": [
        "%tensorflow_version 1.x\n",
        "!pip install keras-vggface\n",
        "!pip install scikit-image\n",
        "!pip install pydot"
      ],
      "execution_count": 1,
      "outputs": [
        {
          "output_type": "stream",
          "text": [
            "Collecting keras-vggface\n",
            "  Downloading https://files.pythonhosted.org/packages/2f/7d/5f0319ebdc09ac1a2272364fa9583f5067b6f8aff93fbbf8835d81cbaad7/keras_vggface-0.6-py3-none-any.whl\n",
            "Requirement already satisfied: six>=1.9.0 in /usr/local/lib/python3.6/dist-packages (from keras-vggface) (1.12.0)\n",
            "Requirement already satisfied: scipy>=0.14 in /usr/local/lib/python3.6/dist-packages (from keras-vggface) (1.4.1)\n",
            "Requirement already satisfied: h5py in /usr/local/lib/python3.6/dist-packages (from keras-vggface) (2.8.0)\n",
            "Requirement already satisfied: keras in /usr/local/lib/python3.6/dist-packages (from keras-vggface) (2.2.5)\n",
            "Requirement already satisfied: pyyaml in /usr/local/lib/python3.6/dist-packages (from keras-vggface) (3.13)\n",
            "Requirement already satisfied: pillow in /usr/local/lib/python3.6/dist-packages (from keras-vggface) (6.2.2)\n",
            "Requirement already satisfied: numpy>=1.9.1 in /usr/local/lib/python3.6/dist-packages (from keras-vggface) (1.17.5)\n",
            "Requirement already satisfied: keras-applications>=1.0.8 in /usr/local/lib/python3.6/dist-packages (from keras->keras-vggface) (1.0.8)\n",
            "Requirement already satisfied: keras-preprocessing>=1.1.0 in /usr/local/lib/python3.6/dist-packages (from keras->keras-vggface) (1.1.0)\n",
            "Installing collected packages: keras-vggface\n",
            "Successfully installed keras-vggface-0.6\n",
            "Requirement already satisfied: scikit-image in /usr/local/lib/python3.6/dist-packages (0.16.2)\n",
            "Requirement already satisfied: scipy>=0.19.0 in /usr/local/lib/python3.6/dist-packages (from scikit-image) (1.4.1)\n",
            "Requirement already satisfied: matplotlib!=3.0.0,>=2.0.0 in /usr/local/lib/python3.6/dist-packages (from scikit-image) (3.1.3)\n",
            "Requirement already satisfied: imageio>=2.3.0 in /usr/local/lib/python3.6/dist-packages (from scikit-image) (2.4.1)\n",
            "Requirement already satisfied: PyWavelets>=0.4.0 in /usr/local/lib/python3.6/dist-packages (from scikit-image) (1.1.1)\n",
            "Requirement already satisfied: pillow>=4.3.0 in /usr/local/lib/python3.6/dist-packages (from scikit-image) (6.2.2)\n",
            "Requirement already satisfied: networkx>=2.0 in /usr/local/lib/python3.6/dist-packages (from scikit-image) (2.4)\n",
            "Requirement already satisfied: numpy>=1.13.3 in /usr/local/lib/python3.6/dist-packages (from scipy>=0.19.0->scikit-image) (1.17.5)\n",
            "Requirement already satisfied: cycler>=0.10 in /usr/local/lib/python3.6/dist-packages (from matplotlib!=3.0.0,>=2.0.0->scikit-image) (0.10.0)\n",
            "Requirement already satisfied: python-dateutil>=2.1 in /usr/local/lib/python3.6/dist-packages (from matplotlib!=3.0.0,>=2.0.0->scikit-image) (2.6.1)\n",
            "Requirement already satisfied: pyparsing!=2.0.4,!=2.1.2,!=2.1.6,>=2.0.1 in /usr/local/lib/python3.6/dist-packages (from matplotlib!=3.0.0,>=2.0.0->scikit-image) (2.4.6)\n",
            "Requirement already satisfied: kiwisolver>=1.0.1 in /usr/local/lib/python3.6/dist-packages (from matplotlib!=3.0.0,>=2.0.0->scikit-image) (1.1.0)\n",
            "Requirement already satisfied: decorator>=4.3.0 in /usr/local/lib/python3.6/dist-packages (from networkx>=2.0->scikit-image) (4.4.1)\n",
            "Requirement already satisfied: six in /usr/local/lib/python3.6/dist-packages (from cycler>=0.10->matplotlib!=3.0.0,>=2.0.0->scikit-image) (1.12.0)\n",
            "Requirement already satisfied: setuptools in /usr/local/lib/python3.6/dist-packages (from kiwisolver>=1.0.1->matplotlib!=3.0.0,>=2.0.0->scikit-image) (45.2.0)\n",
            "Requirement already satisfied: pydot in /usr/local/lib/python3.6/dist-packages (1.3.0)\n",
            "Requirement already satisfied: pyparsing>=2.1.4 in /usr/local/lib/python3.6/dist-packages (from pydot) (2.4.6)\n"
          ],
          "name": "stdout"
        }
      ]
    },
    {
      "cell_type": "code",
      "metadata": {
        "colab_type": "code",
        "id": "2nz38mJZXN_P",
        "outputId": "20a59fd3-e36e-4ab2-c557-9ffbe4ace65e",
        "colab": {
          "base_uri": "https://localhost:8080/",
          "height": 35
        }
      },
      "source": [
        "import matplotlib.pyplot as plt\n",
        "import pandas as pd\n",
        "import numpy as np\n",
        "\n",
        "import tensorflow as tf\n",
        "from tensorflow.keras.layers import *\n",
        "from tensorflow.python.lib.io import file_io\n",
        "\n",
        "%matplotlib inline\n",
        "\n",
        "import keras\n",
        "from keras import backend as K\n",
        "from keras.callbacks import ModelCheckpoint, EarlyStopping\n",
        "from keras.models import load_model\n",
        "from keras.preprocessing.image import ImageDataGenerator\n",
        "from keras_vggface.vggface import VGGFace\n",
        "from keras.utils import plot_model\n",
        "from sklearn.metrics import *\n",
        "from keras.engine import Model\n",
        "from keras.layers import Input, Flatten, Dense, Activation, Conv2D, MaxPool2D, BatchNormalization, Dropout, MaxPooling2D\n",
        "import skimage\n",
        "from skimage.transform import rescale, resize\n",
        "\n",
        "import pydot"
      ],
      "execution_count": 2,
      "outputs": [
        {
          "output_type": "stream",
          "text": [
            "Using TensorFlow backend.\n"
          ],
          "name": "stderr"
        }
      ]
    },
    {
      "cell_type": "code",
      "metadata": {
        "id": "1fZczU8lGkX-",
        "colab_type": "code",
        "outputId": "41bf00e6-3e49-439e-e329-9154282a9ed2",
        "colab": {
          "base_uri": "https://localhost:8080/",
          "height": 127
        }
      },
      "source": [
        "from google.colab import drive\n",
        "drive.mount('/content/drive')"
      ],
      "execution_count": 3,
      "outputs": [
        {
          "output_type": "stream",
          "text": [
            "Go to this URL in a browser: https://accounts.google.com/o/oauth2/auth?client_id=947318989803-6bn6qk8qdgf4n4g3pfee6491hc0brc4i.apps.googleusercontent.com&redirect_uri=urn%3aietf%3awg%3aoauth%3a2.0%3aoob&response_type=code&scope=email%20https%3a%2f%2fwww.googleapis.com%2fauth%2fdocs.test%20https%3a%2f%2fwww.googleapis.com%2fauth%2fdrive%20https%3a%2f%2fwww.googleapis.com%2fauth%2fdrive.photos.readonly%20https%3a%2f%2fwww.googleapis.com%2fauth%2fpeopleapi.readonly\n",
            "\n",
            "Enter your authorization code:\n",
            "··········\n",
            "Mounted at /content/drive\n"
          ],
          "name": "stdout"
        }
      ]
    },
    {
      "cell_type": "code",
      "metadata": {
        "colab_type": "code",
        "id": "nUcd6yIGduUW",
        "outputId": "0d4b1ed1-6efa-432c-eb10-52b02e6a5d66",
        "colab": {
          "base_uri": "https://localhost:8080/",
          "height": 53
        }
      },
      "source": [
        "print(tf.__version__)\n",
        "print(keras.__version__)"
      ],
      "execution_count": 4,
      "outputs": [
        {
          "output_type": "stream",
          "text": [
            "1.15.0\n",
            "2.2.5\n"
          ],
          "name": "stdout"
        }
      ]
    },
    {
      "cell_type": "code",
      "metadata": {
        "id": "v60q28mDHnN9",
        "colab_type": "code",
        "colab": {}
      },
      "source": [
        "EPOCHS = 5\n",
        "BS = 128\n",
        "DROPOUT_RATE = 0.5\n",
        "FROZEN_LAYER_NUM = 101\n",
        "\n",
        "ADAM_LEARNING_RATE = 0.001\n",
        "SGD_LEARNING_RATE = 0.01\n",
        "SGD_DECAY = 0.0001\n",
        "\n",
        "Resize_pixelsize = 197"
      ],
      "execution_count": 0,
      "outputs": []
    },
    {
      "cell_type": "code",
      "metadata": {
        "id": "itKZtFV0F7b1",
        "colab_type": "code",
        "outputId": "ff32720a-aed6-4685-b3ff-d4941a22398d",
        "colab": {
          "base_uri": "https://localhost:8080/",
          "height": 1000
        }
      },
      "source": [
        "vgg_notop = VGGFace(model='resnet50', include_top=False, input_shape=(Resize_pixelsize, Resize_pixelsize, 3), pooling='avg')\n",
        "last_layer = vgg_notop.get_layer('avg_pool').output\n",
        "x = Flatten(name='flatten')(last_layer)\n",
        "x = Dropout(DROPOUT_RATE)(x)\n",
        "x = Dense(4096, activation='relu', name='fc6')(x)\n",
        "x = Dropout(DROPOUT_RATE)(x)\n",
        "x = Dense(1024, activation='relu', name='fc7')(x)\n",
        "# x = Dropout(DROPOUT_RATE)(x)\n",
        "l=0\n",
        "for layer in vgg_notop.layers:\n",
        "    print(layer,\"[\"+str(l)+\"]\")\n",
        "    l=l+1\n",
        "    \n",
        "batch_norm_indices = [2, 6, 9, 13, 14, 18, 21, 24, 28, 31, 34, 38, 41, 45, 46, 53, 56, 60, 63, 66, 70, 73, 76, 80, 83, 87, 88, 92, 95, 98, 102, 105, 108, 112, 115, 118, 122, 125, 128, 132, 135, 138, 142, 145, 149, 150, 154, 157, 160, 164, 167, 170]\n",
        "for i in range(FROZEN_LAYER_NUM):\n",
        "    if i not in batch_norm_indices:\n",
        "        vgg_notop.layers[i].trainable = False\n",
        "# print('vgg layer 2 is trainable: ' + str(vgg_notop.layers[2].trainable))\n",
        "# print('vgg layer 3 is trainable: ' + str(vgg_notop.layers[3].trainable))\n",
        "\n",
        "out = Dense(7, activation='softmax', name='classifier')(x)\n",
        "\n",
        "model = Model(vgg_notop.input, out)\n",
        "\n",
        "\n",
        "optim = keras.optimizers.Adam(lr=ADAM_LEARNING_RATE, beta_1=0.9, beta_2=0.999, epsilon=1e-08, decay=0.0)\n",
        "#optim = keras.optimizers.Adam(lr=0.0005, beta_1=0.9, beta_2=0.999, epsilon=1e-08, decay=0.0)\n",
        "sgd = keras.optimizers.SGD(lr=SGD_LEARNING_RATE, momentum=0.9, decay=SGD_DECAY, nesterov=True)\n",
        "rlrop = keras.callbacks.ReduceLROnPlateau(monitor='val_acc',mode='max',factor=0.5, patience=10, min_lr=0.00001, verbose=1)\n",
        "\n",
        "model.compile(optimizer=sgd, loss='categorical_crossentropy', metrics=['accuracy'])\n",
        "# plot_model(model, to_file='model2.png', show_shapes=True)"
      ],
      "execution_count": 6,
      "outputs": [
        {
          "output_type": "stream",
          "text": [
            "WARNING:tensorflow:From /usr/local/lib/python3.6/dist-packages/keras/backend/tensorflow_backend.py:66: The name tf.get_default_graph is deprecated. Please use tf.compat.v1.get_default_graph instead.\n",
            "\n",
            "WARNING:tensorflow:From /usr/local/lib/python3.6/dist-packages/keras/backend/tensorflow_backend.py:541: The name tf.placeholder is deprecated. Please use tf.compat.v1.placeholder instead.\n",
            "\n",
            "WARNING:tensorflow:From /usr/local/lib/python3.6/dist-packages/keras/backend/tensorflow_backend.py:4432: The name tf.random_uniform is deprecated. Please use tf.random.uniform instead.\n",
            "\n",
            "WARNING:tensorflow:From /usr/local/lib/python3.6/dist-packages/keras/backend/tensorflow_backend.py:190: The name tf.get_default_session is deprecated. Please use tf.compat.v1.get_default_session instead.\n",
            "\n",
            "WARNING:tensorflow:From /usr/local/lib/python3.6/dist-packages/keras/backend/tensorflow_backend.py:197: The name tf.ConfigProto is deprecated. Please use tf.compat.v1.ConfigProto instead.\n",
            "\n",
            "WARNING:tensorflow:From /usr/local/lib/python3.6/dist-packages/keras/backend/tensorflow_backend.py:203: The name tf.Session is deprecated. Please use tf.compat.v1.Session instead.\n",
            "\n",
            "WARNING:tensorflow:From /usr/local/lib/python3.6/dist-packages/keras/backend/tensorflow_backend.py:207: The name tf.global_variables is deprecated. Please use tf.compat.v1.global_variables instead.\n",
            "\n",
            "WARNING:tensorflow:From /usr/local/lib/python3.6/dist-packages/keras/backend/tensorflow_backend.py:216: The name tf.is_variable_initialized is deprecated. Please use tf.compat.v1.is_variable_initialized instead.\n",
            "\n",
            "WARNING:tensorflow:From /usr/local/lib/python3.6/dist-packages/keras/backend/tensorflow_backend.py:223: The name tf.variables_initializer is deprecated. Please use tf.compat.v1.variables_initializer instead.\n",
            "\n",
            "WARNING:tensorflow:From /usr/local/lib/python3.6/dist-packages/keras/backend/tensorflow_backend.py:2041: The name tf.nn.fused_batch_norm is deprecated. Please use tf.compat.v1.nn.fused_batch_norm instead.\n",
            "\n",
            "WARNING:tensorflow:From /usr/local/lib/python3.6/dist-packages/keras/backend/tensorflow_backend.py:148: The name tf.placeholder_with_default is deprecated. Please use tf.compat.v1.placeholder_with_default instead.\n",
            "\n",
            "WARNING:tensorflow:From /usr/local/lib/python3.6/dist-packages/keras/backend/tensorflow_backend.py:4267: The name tf.nn.max_pool is deprecated. Please use tf.nn.max_pool2d instead.\n",
            "\n",
            "WARNING:tensorflow:From /usr/local/lib/python3.6/dist-packages/keras/backend/tensorflow_backend.py:4271: The name tf.nn.avg_pool is deprecated. Please use tf.nn.avg_pool2d instead.\n",
            "\n",
            "Downloading data from https://github.com/rcmalli/keras-vggface/releases/download/v2.0/rcmalli_vggface_tf_notop_resnet50.h5\n",
            "94699520/94694792 [==============================] - 7s 0us/step\n",
            "WARNING:tensorflow:From /usr/local/lib/python3.6/dist-packages/keras/backend/tensorflow_backend.py:3733: calling dropout (from tensorflow.python.ops.nn_ops) with keep_prob is deprecated and will be removed in a future version.\n",
            "Instructions for updating:\n",
            "Please use `rate` instead of `keep_prob`. Rate should be set to `rate = 1 - keep_prob`.\n",
            "<keras.engine.input_layer.InputLayer object at 0x7fd29c7de9b0> [0]\n",
            "<keras.layers.convolutional.Conv2D object at 0x7fd29c7ded30> [1]\n",
            "<keras.layers.normalization.BatchNormalization object at 0x7fd29c7def98> [2]\n",
            "<keras.layers.core.Activation object at 0x7fd29c7dbf28> [3]\n",
            "<keras.layers.pooling.MaxPooling2D object at 0x7fd3031b9dd8> [4]\n",
            "<keras.layers.convolutional.Conv2D object at 0x7fd2f5b1d240> [5]\n",
            "<keras.layers.normalization.BatchNormalization object at 0x7fd28c722e10> [6]\n",
            "<keras.layers.core.Activation object at 0x7fd28c722fd0> [7]\n",
            "<keras.layers.convolutional.Conv2D object at 0x7fd28c72aba8> [8]\n",
            "<keras.layers.normalization.BatchNormalization object at 0x7fd28c6d7860> [9]\n",
            "<keras.layers.core.Activation object at 0x7fd28c6d77f0> [10]\n",
            "<keras.layers.convolutional.Conv2D object at 0x7fd28c6ddfd0> [11]\n",
            "<keras.layers.convolutional.Conv2D object at 0x7fd28c69e7f0> [12]\n",
            "<keras.layers.normalization.BatchNormalization object at 0x7fd28c69e1d0> [13]\n",
            "<keras.layers.normalization.BatchNormalization object at 0x7fd28c65ea58> [14]\n",
            "<keras.layers.merge.Add object at 0x7fd28c65eb00> [15]\n",
            "<keras.layers.core.Activation object at 0x7fd28c675a20> [16]\n",
            "<keras.layers.convolutional.Conv2D object at 0x7fd28c617358> [17]\n",
            "<keras.layers.normalization.BatchNormalization object at 0x7fd28c625d68> [18]\n",
            "<keras.layers.core.Activation object at 0x7fd28c62dda0> [19]\n",
            "<keras.layers.convolutional.Conv2D object at 0x7fd28c62def0> [20]\n",
            "<keras.layers.normalization.BatchNormalization object at 0x7fd28c5e3da0> [21]\n",
            "<keras.layers.core.Activation object at 0x7fd28c5ecf98> [22]\n",
            "<keras.layers.convolutional.Conv2D object at 0x7fd28c5f4a90> [23]\n",
            "<keras.layers.normalization.BatchNormalization object at 0x7fd28c5ab828> [24]\n",
            "<keras.layers.merge.Add object at 0x7fd28c5ab7b8> [25]\n",
            "<keras.layers.core.Activation object at 0x7fd28c546fd0> [26]\n",
            "<keras.layers.convolutional.Conv2D object at 0x7fd28c556438> [27]\n",
            "<keras.layers.normalization.BatchNormalization object at 0x7fd28c572cf8> [28]\n",
            "<keras.layers.core.Activation object at 0x7fd28c572ef0> [29]\n",
            "<keras.layers.convolutional.Conv2D object at 0x7fd28c4fdfd0> [30]\n",
            "<keras.layers.normalization.BatchNormalization object at 0x7fd28c536cf8> [31]\n",
            "<keras.layers.core.Activation object at 0x7fd28c4bcfd0> [32]\n",
            "<keras.layers.convolutional.Conv2D object at 0x7fd28c4c69e8> [33]\n",
            "<keras.layers.normalization.BatchNormalization object at 0x7fd28c47f780> [34]\n",
            "<keras.layers.merge.Add object at 0x7fd28c675710> [35]\n",
            "<keras.layers.core.Activation object at 0x7fd28c495940> [36]\n",
            "<keras.layers.convolutional.Conv2D object at 0x7fd28c438240> [37]\n",
            "<keras.layers.normalization.BatchNormalization object at 0x7fd28c446c50> [38]\n",
            "<keras.layers.core.Activation object at 0x7fd28c446f60> [39]\n",
            "<keras.layers.convolutional.Conv2D object at 0x7fd28c44fda0> [40]\n",
            "<keras.layers.normalization.BatchNormalization object at 0x7fd28c409c50> [41]\n",
            "<keras.layers.core.Activation object at 0x7fd28c40ef28> [42]\n",
            "<keras.layers.convolutional.Conv2D object at 0x7fd28c417940> [43]\n",
            "<keras.layers.convolutional.Conv2D object at 0x7fd28c3ce668> [44]\n",
            "<keras.layers.normalization.BatchNormalization object at 0x7fd28c3ce6d8> [45]\n",
            "<keras.layers.normalization.BatchNormalization object at 0x7fd28c38ee80> [46]\n",
            "<keras.layers.merge.Add object at 0x7fd28c395eb8> [47]\n",
            "<keras.layers.core.Activation object at 0x7fd28c3abc50> [48]\n",
            "<keras.layers.convolutional.Conv2D object at 0x7fd28c3b0d68> [49]\n",
            "<keras.layers.normalization.BatchNormalization object at 0x7fd28c356fd0> [50]\n",
            "<keras.layers.core.Activation object at 0x7fd28c35de48> [51]\n",
            "<keras.layers.convolutional.Conv2D object at 0x7fd28c35de80> [52]\n",
            "<keras.layers.normalization.BatchNormalization object at 0x7fd28c31f390> [53]\n",
            "<keras.layers.core.Activation object at 0x7fd28c31f9b0> [54]\n",
            "<keras.layers.convolutional.Conv2D object at 0x7fd28c327f60> [55]\n",
            "<keras.layers.normalization.BatchNormalization object at 0x7fd28c2dec88> [56]\n",
            "<keras.layers.merge.Add object at 0x7fd28c2e6f60> [57]\n",
            "<keras.layers.core.Activation object at 0x7fd28c27bfd0> [58]\n",
            "<keras.layers.convolutional.Conv2D object at 0x7fd28c284cf8> [59]\n",
            "<keras.layers.normalization.BatchNormalization object at 0x7fd28c29dda0> [60]\n",
            "<keras.layers.core.Activation object at 0x7fd28c2afdd8> [61]\n",
            "<keras.layers.convolutional.Conv2D object at 0x7fd28c2afe10> [62]\n",
            "<keras.layers.normalization.BatchNormalization object at 0x7fd28c2722e8> [63]\n",
            "<keras.layers.core.Activation object at 0x7fd28c272908> [64]\n",
            "<keras.layers.convolutional.Conv2D object at 0x7fd28c1fad30> [65]\n",
            "<keras.layers.normalization.BatchNormalization object at 0x7fd28c232be0> [66]\n",
            "<keras.layers.merge.Add object at 0x7fd28c1b8fd0> [67]\n",
            "<keras.layers.core.Activation object at 0x7fd28c1ccf28> [68]\n",
            "<keras.layers.convolutional.Conv2D object at 0x7fd28c1d5c50> [69]\n",
            "<keras.layers.normalization.BatchNormalization object at 0x7fd28c1f7cf8> [70]\n",
            "<keras.layers.core.Activation object at 0x7fd28c181d68> [71]\n",
            "<keras.layers.convolutional.Conv2D object at 0x7fd28c181fd0> [72]\n",
            "<keras.layers.normalization.BatchNormalization object at 0x7fd28c140240> [73]\n",
            "<keras.layers.core.Activation object at 0x7fd28c140860> [74]\n",
            "<keras.layers.convolutional.Conv2D object at 0x7fd28c14be48> [75]\n",
            "<keras.layers.normalization.BatchNormalization object at 0x7fd28c102b38> [76]\n",
            "<keras.layers.merge.Add object at 0x7fd28c108e10> [77]\n",
            "<keras.layers.core.Activation object at 0x7fd28c11df98> [78]\n",
            "<keras.layers.convolutional.Conv2D object at 0x7fd28c0bc6a0> [79]\n",
            "<keras.layers.normalization.BatchNormalization object at 0x7fd28c0c9f60> [80]\n",
            "<keras.layers.core.Activation object at 0x7fd28c0d1c88> [81]\n",
            "<keras.layers.convolutional.Conv2D object at 0x7fd28c0d1ef0> [82]\n",
            "<keras.layers.normalization.BatchNormalization object at 0x7fd28c090198> [83]\n",
            "<keras.layers.core.Activation object at 0x7fd28c090780> [84]\n",
            "<keras.layers.convolutional.Conv2D object at 0x7fd28c099d68> [85]\n",
            "<keras.layers.convolutional.Conv2D object at 0x7fd28c058b38> [86]\n",
            "<keras.layers.normalization.BatchNormalization object at 0x7fd28c050a90> [87]\n",
            "<keras.layers.normalization.BatchNormalization object at 0x7fd2803a2ac8> [88]\n",
            "<keras.layers.merge.Add object at 0x7fd2803a2b70> [89]\n",
            "<keras.layers.core.Activation object at 0x7fd2803b9b00> [90]\n",
            "<keras.layers.convolutional.Conv2D object at 0x7fd280347908> [91]\n",
            "<keras.layers.normalization.BatchNormalization object at 0x7fd280369e80> [92]\n",
            "<keras.layers.core.Activation object at 0x7fd280371f98> [93]\n",
            "<keras.layers.convolutional.Conv2D object at 0x7fd280371fd0> [94]\n",
            "<keras.layers.normalization.BatchNormalization object at 0x7fd280333630> [95]\n",
            "<keras.layers.core.Activation object at 0x7fd2803335c0> [96]\n",
            "<keras.layers.convolutional.Conv2D object at 0x7fd28033bf28> [97]\n",
            "<keras.layers.normalization.BatchNormalization object at 0x7fd2802e6f60> [98]\n",
            "<keras.layers.merge.Add object at 0x7fd2802ef630> [99]\n",
            "<keras.layers.core.Activation object at 0x7fd280281eb8> [100]\n",
            "<keras.layers.convolutional.Conv2D object at 0x7fd280286fd0> [101]\n",
            "<keras.layers.normalization.BatchNormalization object at 0x7fd2802b0be0> [102]\n",
            "<keras.layers.core.Activation object at 0x7fd2802b0ef0> [103]\n",
            "<keras.layers.convolutional.Conv2D object at 0x7fd2802b7d30> [104]\n",
            "<keras.layers.normalization.BatchNormalization object at 0x7fd280271be0> [105]\n",
            "<keras.layers.core.Activation object at 0x7fd280276fd0> [106]\n",
            "<keras.layers.convolutional.Conv2D object at 0x7fd28027e940> [107]\n",
            "<keras.layers.normalization.BatchNormalization object at 0x7fd280235668> [108]\n",
            "<keras.layers.merge.Add object at 0x7fd2802355f8> [109]\n",
            "<keras.layers.core.Activation object at 0x7fd2801cdd68> [110]\n",
            "<keras.layers.convolutional.Conv2D object at 0x7fd2801f24a8> [111]\n",
            "<keras.layers.normalization.BatchNormalization object at 0x7fd280200dd8> [112]\n",
            "<keras.layers.core.Activation object at 0x7fd28018be10> [113]\n",
            "<keras.layers.convolutional.Conv2D object at 0x7fd28018be48> [114]\n",
            "<keras.layers.normalization.BatchNormalization object at 0x7fd2801472e8> [115]\n",
            "<keras.layers.core.Activation object at 0x7fd280147908> [116]\n",
            "<keras.layers.convolutional.Conv2D object at 0x7fd280152d30> [117]\n",
            "<keras.layers.normalization.BatchNormalization object at 0x7fd280107c18> [118]\n",
            "<keras.layers.merge.Add object at 0x7fd280111fd0> [119]\n",
            "<keras.layers.core.Activation object at 0x7fd280127f60> [120]\n",
            "<keras.layers.convolutional.Conv2D object at 0x7fd28012dc88> [121]\n",
            "<keras.layers.normalization.BatchNormalization object at 0x7fd2800da898> [122]\n",
            "<keras.layers.core.Activation object at 0x7fd2800dafd0> [123]\n",
            "<keras.layers.convolutional.Conv2D object at 0x7fd2800e0ba8> [124]\n",
            "<keras.layers.normalization.BatchNormalization object at 0x7fd280099940> [125]\n",
            "<keras.layers.core.Activation object at 0x7fd2800998d0> [126]\n",
            "<keras.layers.convolutional.Conv2D object at 0x7fd2800a1e48> [127]\n",
            "<keras.layers.normalization.BatchNormalization object at 0x7fd280061358> [128]\n",
            "<keras.layers.merge.Add object at 0x7fd280061978> [129]\n",
            "<keras.layers.core.Activation object at 0x7fd280078898> [130]\n",
            "<keras.layers.convolutional.Conv2D object at 0x7fd280078ef0> [131]\n",
            "<keras.layers.normalization.BatchNormalization object at 0x7fd28002af28> [132]\n",
            "<keras.layers.core.Activation object at 0x7fd280031da0> [133]\n",
            "<keras.layers.convolutional.Conv2D object at 0x7fd280031f28> [134]\n",
            "<keras.layers.normalization.BatchNormalization object at 0x7fd22704af60> [135]\n",
            "<keras.layers.core.Activation object at 0x7fd22704f630> [136]\n",
            "<keras.layers.convolutional.Conv2D object at 0x7fd227059c18> [137]\n",
            "<keras.layers.normalization.BatchNormalization object at 0x7fd2270119b0> [138]\n",
            "<keras.layers.merge.Add object at 0x7fd227011940> [139]\n",
            "<keras.layers.core.Activation object at 0x7fd226fa8b70> [140]\n",
            "<keras.layers.convolutional.Conv2D object at 0x7fd226fb4978> [141]\n",
            "<keras.layers.normalization.BatchNormalization object at 0x7fd226fd7fd0> [142]\n",
            "<keras.layers.core.Activation object at 0x7fd226fdffd0> [143]\n",
            "<keras.layers.convolutional.Conv2D object at 0x7fd226f67940> [144]\n",
            "<keras.layers.normalization.BatchNormalization object at 0x7fd226f22668> [145]\n",
            "<keras.layers.core.Activation object at 0x7fd226f225f8> [146]\n",
            "<keras.layers.convolutional.Conv2D object at 0x7fd226f2af60> [147]\n",
            "<keras.layers.convolutional.Conv2D object at 0x7fd226ee8668> [148]\n",
            "<keras.layers.normalization.BatchNormalization object at 0x7fd226ee1fd0> [149]\n",
            "<keras.layers.normalization.BatchNormalization object at 0x7fd226ea9f60> [150]\n",
            "<keras.layers.merge.Add object at 0x7fd226eb0ef0> [151]\n",
            "<keras.layers.core.Activation object at 0x7fd226ec7cc0> [152]\n",
            "<keras.layers.convolutional.Conv2D object at 0x7fd226ed0dd8> [153]\n",
            "<keras.layers.normalization.BatchNormalization object at 0x7fd226e799e8> [154]\n",
            "<keras.layers.core.Activation object at 0x7fd226e79d68> [155]\n",
            "<keras.layers.convolutional.Conv2D object at 0x7fd226e82d30> [156]\n",
            "<keras.layers.normalization.BatchNormalization object at 0x7fd226e3aa20> [157]\n",
            "<keras.layers.core.Activation object at 0x7fd226e3af98> [158]\n",
            "<keras.layers.convolutional.Conv2D object at 0x7fd226e40f98> [159]\n",
            "<keras.layers.normalization.BatchNormalization object at 0x7fd226dff4a8> [160]\n",
            "<keras.layers.merge.Add object at 0x7fd226dff438> [161]\n",
            "<keras.layers.core.Activation object at 0x7fd226e15a20> [162]\n",
            "<keras.layers.convolutional.Conv2D object at 0x7fd226e15be0> [163]\n",
            "<keras.layers.normalization.BatchNormalization object at 0x7fd226dc8f98> [164]\n",
            "<keras.layers.core.Activation object at 0x7fd226dd1cc0> [165]\n",
            "<keras.layers.convolutional.Conv2D object at 0x7fd226dd1f28> [166]\n",
            "<keras.layers.normalization.BatchNormalization object at 0x7fd226d91198> [167]\n",
            "<keras.layers.core.Activation object at 0x7fd226d917b8> [168]\n",
            "<keras.layers.convolutional.Conv2D object at 0x7fd226d98da0> [169]\n",
            "<keras.layers.normalization.BatchNormalization object at 0x7fd226d52a90> [170]\n",
            "<keras.layers.merge.Add object at 0x7fd226d58d68> [171]\n",
            "<keras.layers.core.Activation object at 0x7fd226ceef98> [172]\n",
            "<keras.layers.pooling.AveragePooling2D object at 0x7fd226cf5b00> [173]\n",
            "<keras.layers.pooling.GlobalAveragePooling2D object at 0x7fd226d1ba20> [174]\n",
            "WARNING:tensorflow:From /usr/local/lib/python3.6/dist-packages/keras/optimizers.py:793: The name tf.train.Optimizer is deprecated. Please use tf.compat.v1.train.Optimizer instead.\n",
            "\n",
            "WARNING:tensorflow:From /usr/local/lib/python3.6/dist-packages/keras/backend/tensorflow_backend.py:3576: The name tf.log is deprecated. Please use tf.math.log instead.\n",
            "\n"
          ],
          "name": "stdout"
        }
      ]
    },
    {
      "cell_type": "code",
      "metadata": {
        "colab_type": "code",
        "id": "EjKPXZ3TX3Jb",
        "colab": {}
      },
      "source": [
        "# Function that reads the data from the csv file, increases the size of the images and returns the images and their labels\n",
        "def get_data(datas, bs=32, aug=None, pixelsize=Resize_pixelsize):\n",
        "    # Data preparation\n",
        "    while True:\n",
        "      file_stream = file_io.FileIO(training_dataset_dir, mode='r')\n",
        "      datas = pd.read_csv(file_stream,iterator=True, chunksize=bs )\n",
        "      for data in datas:\n",
        "          data[' pixels'] = data[' pixels'].apply(lambda x: [int(pixel) for pixel in x.split()])\n",
        "          X, Y = data[' pixels'].tolist(), data['emotion'].values\n",
        "          X = np.array(X, dtype='float32').reshape(-1,48,48,1)\n",
        "          X = X/255.0\n",
        "          X_res = np.zeros((X.shape[0], pixelsize,pixelsize,3))\n",
        "          for ind in range(X.shape[0]): \n",
        "              sample = X[ind]\n",
        "              sample = sample.reshape(48, 48)\n",
        "              image_resized = resize(sample, (pixelsize, pixelsize), anti_aliasing=True)\n",
        "              X_res[ind,:,:,:] = image_resized.reshape(pixelsize,pixelsize,1)\n",
        "\n",
        "          Y_res = np.zeros((Y.size, Y.max()+1))\n",
        "          Y_res[np.arange(Y.size),Y] = 1\n",
        "          if aug is not None:\n",
        "              (X_res, Y_res) = next(aug.flow(np.array(X_res),\n",
        "                  Y_res, batch_size=bs))\n",
        "          yield  X_res, Y_res"
      ],
      "execution_count": 0,
      "outputs": []
    },
    {
      "cell_type": "code",
      "metadata": {
        "id": "cQkWIk2kF0aL",
        "colab_type": "code",
        "colab": {}
      },
      "source": [
        "training_dataset_dir = '/content/drive/My Drive/cs230 project/collab/fer2013/train.csv'\n",
        "dev_dataset_dir = '/content/drive/My Drive/cs230 project/collab/fer2013/dev.csv'\n",
        "test_dataset_dir = '/content/drive/My Drive/cs230 project/collab/fer2013/test.csv'\n",
        "\n",
        "aug = ImageDataGenerator(\n",
        "    rotation_range  = 10,\n",
        "    shear_range     = 10, # 10 degrees\n",
        "    zoom_range      = 0.1,\n",
        "    fill_mode       = 'reflect',\n",
        "    horizontal_flip = True\n",
        ")\n",
        "\n",
        "train_generator = get_data(training_dataset_dir,  bs=BS, aug=None)\n",
        "dev_generator   = get_data(dev_dataset_dir, bs=BS, aug=None)\n",
        "test_generator   = get_data(test_dataset_dir, bs=BS, aug=None)\n",
        "    #X_dev_res, Y_dev_res  = get_data(dev_dataset_dir)\n",
        "\n",
        "# Generate batches of tensor image data with real-time data augmentation. The data will be looped over (in batches) indefinitely\n",
        "# rescale:          Rescaling factor (defaults to None). Multiply the data by the value provided (before applying any other transformation)\n",
        "# rotation_range:   Int. Degree range for random rotations\n",
        "# shear_range:      Float. Shear Intensity (Shear angle in counter-clockwise direction as radians)\n",
        "# zoom_range:       Float or [lower, upper]. Range for random zoom. If a float, [lower, upper] = [1-zoom_range, 1+zoom_range]\n",
        "# fill_mode :       Points outside the boundaries of the input are filled according to the given mode: {\"constant\", \"nearest\", \"reflect\" or \"wrap\"}\n",
        "# horizontal_flip:  Boolean. Randomly flip inputs horizontally\n",
        "\n",
        "\n",
        "# Takes numpy data & label arrays, and generates batches of augmented/normalized data. Yields batcfillhes indefinitely, in an infinite loop\n",
        "    # x:            Data. Should have rank 4. In case of grayscale data, the channels axis should have value 1, and in case of RGB data, \n",
        "    #               it should have value 3\n",
        "    # y:            Labels\n",
        "    # batch_size:   Int (default: 32)\n",
        "#train_generator = train_datagen.flow(X_train_res, Y_train_res,  batch_size  = BS)"
      ],
      "execution_count": 0,
      "outputs": []
    },
    {
      "cell_type": "code",
      "metadata": {
        "colab_type": "code",
        "id": "pLISdlaStbUn",
        "outputId": "a6bfeab1-e6cd-43a2-9220-b11f69e05375",
        "colab": {
          "base_uri": "https://localhost:8080/",
          "height": 343
        }
      },
      "source": [
        "history = model.fit_generator(\n",
        "    generator = train_generator,\n",
        "    validation_data=dev_generator, \n",
        "    steps_per_epoch=28709// BS,\n",
        "    validation_steps=3509 // BS,\n",
        "    shuffle=True,\n",
        "    epochs=EPOCHS,\n",
        "    callbacks=[rlrop],\n",
        "    use_multiprocessing=True,\n",
        ") "
      ],
      "execution_count": 9,
      "outputs": [
        {
          "output_type": "stream",
          "text": [
            "WARNING:tensorflow:From /usr/local/lib/python3.6/dist-packages/tensorflow_core/python/ops/math_grad.py:1424: where (from tensorflow.python.ops.array_ops) is deprecated and will be removed in a future version.\n",
            "Instructions for updating:\n",
            "Use tf.where in 2.0, which has the same broadcast rule as np.where\n",
            "WARNING:tensorflow:From /usr/local/lib/python3.6/dist-packages/keras/backend/tensorflow_backend.py:1033: The name tf.assign_add is deprecated. Please use tf.compat.v1.assign_add instead.\n",
            "\n",
            "WARNING:tensorflow:From /usr/local/lib/python3.6/dist-packages/keras/backend/tensorflow_backend.py:1020: The name tf.assign is deprecated. Please use tf.compat.v1.assign instead.\n",
            "\n",
            "Epoch 1/5\n",
            "224/224 [==============================] - 185s 826ms/step - loss: 1.4975 - acc: 0.4878 - val_loss: 1.2825 - val_acc: 0.5327\n",
            "Epoch 2/5\n",
            "224/224 [==============================] - 163s 726ms/step - loss: 0.9146 - acc: 0.6640 - val_loss: 0.9533 - val_acc: 0.6470\n",
            "Epoch 3/5\n",
            "224/224 [==============================] - 162s 721ms/step - loss: 0.7488 - acc: 0.7296 - val_loss: 0.7676 - val_acc: 0.7326\n",
            "Epoch 4/5\n",
            "224/224 [==============================] - 161s 720ms/step - loss: 0.6050 - acc: 0.7838 - val_loss: 0.6566 - val_acc: 0.7758\n",
            "Epoch 5/5\n",
            "224/224 [==============================] - 162s 723ms/step - loss: 0.5038 - acc: 0.8222 - val_loss: 0.6050 - val_acc: 0.7934\n"
          ],
          "name": "stdout"
        }
      ]
    },
    {
      "cell_type": "code",
      "metadata": {
        "id": "JSSv08SHF0bC",
        "colab_type": "code",
        "colab": {
          "base_uri": "https://localhost:8080/",
          "height": 71
        },
        "outputId": "60e8abd8-6a43-4efe-d75c-756e92d1b6e8"
      },
      "source": [
        "print('\\n# Evaluate on dev data')\n",
        "results_dev = model.evaluate_generator(dev_generator, 3509 // BS)\n",
        "print('dev loss, dev acc:', results_dev)"
      ],
      "execution_count": 10,
      "outputs": [
        {
          "output_type": "stream",
          "text": [
            "\n",
            "# Evaluate on dev data\n",
            "dev loss, dev acc: [0.7043382183269218, 0.7682291666666666]\n"
          ],
          "name": "stdout"
        }
      ]
    },
    {
      "cell_type": "code",
      "metadata": {
        "id": "Ev4sDYDlOsqk",
        "colab_type": "code",
        "colab": {
          "base_uri": "https://localhost:8080/",
          "height": 71
        },
        "outputId": "b6ea69bd-bc89-4648-bb6a-0e470e8c9ae8"
      },
      "source": [
        "print('\\n# Evaluate on test data')\n",
        "results_test = model.evaluate_generator(test_generator, 3509 // BS)\n",
        "print('test loss, test acc:', results_test)"
      ],
      "execution_count": 20,
      "outputs": [
        {
          "output_type": "stream",
          "text": [
            "\n",
            "# Evaluate on test data\n",
            "test loss, test acc: [0.6111446641109608, 0.7907986111111112]\n"
          ],
          "name": "stdout"
        }
      ]
    },
    {
      "cell_type": "code",
      "metadata": {
        "id": "m9f7smhHUQus",
        "colab_type": "code",
        "colab": {
          "base_uri": "https://localhost:8080/",
          "height": 591
        },
        "outputId": "3f222baf-6806-4520-f548-91e5e96a183b"
      },
      "source": [
        "# list all data in history\n",
        "print(history.history.keys())\n",
        "# summarize history for accuracy\n",
        "plt.plot(history.history['acc'])\n",
        "plt.plot(history.history['val_acc'])\n",
        "plt.title('model accuracy')\n",
        "plt.ylabel('accuracy')\n",
        "plt.xlabel('epoch')\n",
        "plt.legend(['train', 'dev'], loc='upper left')\n",
        "plt.show()\n",
        "# summarize history for loss\n",
        "plt.plot(history.history['loss'])\n",
        "plt.plot(history.history['val_loss'])\n",
        "plt.title('model loss')\n",
        "plt.ylabel('loss')\n",
        "plt.xlabel('epoch')\n",
        "plt.legend(['train', 'dev'], loc='upper left')\n",
        "plt.show()"
      ],
      "execution_count": 16,
      "outputs": [
        {
          "output_type": "stream",
          "text": [
            "dict_keys(['val_loss', 'val_acc', 'loss', 'acc', 'lr'])\n"
          ],
          "name": "stdout"
        },
        {
          "output_type": "display_data",
          "data": {
            "image/png": "[encoded data removed]",
            "text/plain": [
              "<Figure size 432x288 with 1 Axes>"
            ]
          },
          "metadata": {
            "tags": []
          }
        },
        {
          "output_type": "display_data",
          "data": {
            "image/png": "[encoded data removed]",
            "text/plain": [
              "<Figure size 432x288 with 1 Axes>"
            ]
          },
          "metadata": {
            "tags": []
          }
        }
      ]
    },
    {
      "cell_type": "code",
      "metadata": {
        "id": "F-QKHTmJQhi1",
        "colab_type": "code",
        "colab": {}
      },
      "source": [
        "lr_str = '-SGD_LR_%.5f' % SGD_LEARNING_RATE\n",
        "epoch_str = '-EPOCHS_' + str(EPOCHS)\n",
        "bs_str = '-BS_' + str(BS)\n",
        "dropout_str = '-DROPOUT_' + str(DROPOUT_RATE)\n",
        "test_acc = 'test_acc_%.3f' % results_test[1]\n",
        "model.save('/content/drive/My Drive/cs230 project/models/tl/tl' + lr_str + epoch_str + bs_str + dropout_str + test_acc + '.h5')"
      ],
      "execution_count": 0,
      "outputs": []
    },
    {
      "cell_type": "code",
      "metadata": {
        "id": "1cHBx0OcUYWO",
        "colab_type": "code",
        "colab": {
          "base_uri": "https://localhost:8080/",
          "height": 136
        },
        "outputId": "7b806548-edd3-463f-a795-8666be94da9a"
      },
      "source": [
        "from sklearn.metrics import accuracy_score\n",
        "\n",
        "# configure image data augmentation\n",
        "tta_aug = ImageDataGenerator(\n",
        "    # rotation_range  = 10,\n",
        "    # shear_range     = 10, # 10 degrees\n",
        "    # zoom_range      = 0.1,\n",
        "    # fill_mode       = 'reflect',\n",
        "    horizontal_flip = True\n",
        ")\n",
        "\n",
        "# make a prediction using test-time augmentation\n",
        "def tta_prediction(model, image, n_examples):\n",
        "\t# convert image into dataset\n",
        "\tsamples = np.expand_dims(image, 0)\n",
        "  test_generator = get_data(test_dataset_dir, bs=BS, aug=tta_aug)\n",
        "\tit = test_generator.flow(samples, batch_size=n_examples)\n",
        "\tyhats = model.predict_generator(it, steps=n_examples, verbose=0)\n",
        "\t# sum across predictions\n",
        "\tsummed = np.sum(yhats, axis=0)\n",
        "\t# argmax across classes\n",
        "\treturn np.argmax(summed)\n",
        " \n",
        " # evaluate a model on a dataset using test-time augmentation\n",
        "def tta_evaluate_model(model, testX, testY):\n",
        "\t# configure image data augmentation\n",
        "\tdatagen = ImageDataGenerator(horizontal_flip=True)\n",
        "\t# define the number of augmented images to generate per test set image\n",
        "\tn_examples_per_image = 7\n",
        "\tyhats = list()\n",
        "\tfor i in range(len(testX)):\n",
        "\t\t# make augmented prediction\n",
        "\t\tyhat = tta_prediction(datagen, model, testX[i], n_examples_per_image)\n",
        "\t\t# store for evaluation\n",
        "\t\tyhats.append(yhat)\n",
        "\t# calculate accuracy\n",
        "\ttestY_labels = np.argmax(testY, axis=1)\n",
        "\tacc = accuracy_score(testY_labels, yhats)\n",
        "\treturn acc"
      ],
      "execution_count": 14,
      "outputs": [
        {
          "output_type": "error",
          "ename": "IndentationError",
          "evalue": "ignored",
          "traceback": [
            "\u001b[0;36m  File \u001b[0;32m\"<ipython-input-14-05fd28d8e759>\"\u001b[0;36m, line \u001b[0;32m16\u001b[0m\n\u001b[0;31m    test_generator = get_data(test_dataset_dir, bs=BS, aug=tta_aug)\u001b[0m\n\u001b[0m                                                                   ^\u001b[0m\n\u001b[0;31mIndentationError\u001b[0m\u001b[0;31m:\u001b[0m unindent does not match any outer indentation level\n"
          ]
        }
      ]
    },
    {
      "cell_type": "code",
      "metadata": {
        "id": "3Ia-TsrIUf9Z",
        "colab_type": "code",
        "colab": {}
      },
      "source": [
        "print('\\n# Evaluate on test data')\n",
        "TTA_results_test = tta_evaluate_model(model, X_test, Y_test)\n",
        "print('test loss, test acc:', results_test)\n",
        "print('TTA test acc:', TTA_results_test)"
      ],
      "execution_count": 0,
      "outputs": []
    }
  ]
}