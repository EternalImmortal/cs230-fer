{
  "nbformat": 4,
  "nbformat_minor": 0,
  "metadata": {
    "accelerator": "GPU",
    "colab": {
      "name": "fer2013.ipynb",
      "provenance": [],
      "collapsed_sections": [],
      "include_colab_link": true
    },
    "kernelspec": {
      "name": "python3",
      "display_name": "Python 3"
    }
  },
  "cells": [
    {
      "cell_type": "markdown",
      "metadata": {
        "id": "view-in-github",
        "colab_type": "text"
      },
      "source": [
        "<a href=\"https://colab.research.google.com/github/amilkh/cs230-fer/blob/75-soa/fer2013-fit_generator.ipynb\" target=\"_parent\"><img src=\"https://colab.research.google.com/assets/colab-badge.svg\" alt=\"Open In Colab\"/></a>"
      ]
    },
    {
      "cell_type": "code",
      "metadata": {
        "colab_type": "code",
        "id": "gwdg7Sv3XBaP",
        "outputId": "144c82eb-82b8-4e1e-b17a-2e5588a38f4d",
        "colab": {
          "base_uri": "https://localhost:8080/",
          "height": 102
        }
      },
      "source": [
        "%tensorflow_version 1.4"
      ],
      "execution_count": 1,
      "outputs": [
        {
          "output_type": "stream",
          "text": [
            "`%tensorflow_version` only switches the major version: 1.x or 2.x.\n",
            "You set: `1.4`. This will be interpreted as: `1.x`.\n",
            "\n",
            "\n",
            "TensorFlow 1.x selected.\n"
          ],
          "name": "stdout"
        }
      ]
    },
    {
      "cell_type": "code",
      "metadata": {
        "colab_type": "code",
        "id": "2nz38mJZXN_P",
        "outputId": "00ab8aed-1159-4037-a16a-c1495472139c",
        "colab": {
          "base_uri": "https://localhost:8080/",
          "height": 34
        }
      },
      "source": [
        "import matplotlib.pyplot as plt\n",
        "import pandas as pd\n",
        "import numpy as np\n",
        "\n",
        "import tensorflow as tf\n",
        "from tensorflow.python.lib.io import file_io\n",
        "\n",
        "import keras\n",
        "from keras.preprocessing.image import ImageDataGenerator\n",
        "\n",
        "from keras.models import Sequential\n",
        "from keras.layers import Dense, Dropout, Flatten\n",
        "from keras.layers import Conv2D, MaxPooling2D, BatchNormalization\n",
        "from keras.optimizers import SGD\n",
        "from keras.callbacks import ReduceLROnPlateau\n",
        "\n",
        "%matplotlib inline"
      ],
      "execution_count": 2,
      "outputs": [
        {
          "output_type": "stream",
          "text": [
            "Using TensorFlow backend.\n"
          ],
          "name": "stderr"
        }
      ]
    },
    {
      "cell_type": "code",
      "metadata": {
        "id": "KI204HIYEdLE",
        "colab_type": "code",
        "outputId": "c3d81ac7-7a04-4c69-dc15-6838b4a2ad4d",
        "colab": {
          "base_uri": "https://localhost:8080/",
          "height": 122
        }
      },
      "source": [
        "from google.colab import drive\n",
        "drive.mount('/content/drive')"
      ],
      "execution_count": 3,
      "outputs": [
        {
          "output_type": "stream",
          "text": [
            "Go to this URL in a browser: https://accounts.google.com/o/oauth2/auth?client_id=947318989803-6bn6qk8qdgf4n4g3pfee6491hc0brc4i.apps.googleusercontent.com&redirect_uri=urn%3aietf%3awg%3aoauth%3a2.0%3aoob&response_type=code&scope=email%20https%3a%2f%2fwww.googleapis.com%2fauth%2fdocs.test%20https%3a%2f%2fwww.googleapis.com%2fauth%2fdrive%20https%3a%2f%2fwww.googleapis.com%2fauth%2fdrive.photos.readonly%20https%3a%2f%2fwww.googleapis.com%2fauth%2fpeopleapi.readonly\n",
            "\n",
            "Enter your authorization code:\n",
            "··········\n",
            "Mounted at /content/drive\n"
          ],
          "name": "stdout"
        }
      ]
    },
    {
      "cell_type": "code",
      "metadata": {
        "colab_type": "code",
        "id": "hAjh6yOLYPZm",
        "colab": {}
      },
      "source": [
        "from tensorflow.keras.preprocessing.image import ImageDataGenerator\n",
        "\n",
        "# Function that reads the data from the csv file, increases the size of the images and returns the images and their labels\n",
        "def get_data(dataset):\n",
        "    train_datagen = ImageDataGenerator(\n",
        "                        rescale=1./255,\n",
        "                        featurewise_center=False,\n",
        "                        featurewise_std_normalization=False,\n",
        "                        rotation_range=10,\n",
        "                        width_shift_range=0.1,\n",
        "                        height_shift_range=0.1,\n",
        "                        zoom_range=.1,\n",
        "                        horizontal_flip=True)\n",
        "\n",
        "    train_generator = train_datagen.flow_from_directory(\n",
        "            dataset,\n",
        "            target_size=(48, 48),\n",
        "            color_mode='grayscale',\n",
        "            shuffle = False,\n",
        "            class_mode='categorical',\n",
        "            batch_size=32)\n",
        "\n",
        "    X_train = train_generator\n",
        "    Y_train = train_generator.classes    \n",
        "    return  X_train, Y_train"
      ],
      "execution_count": 0,
      "outputs": []
    },
    {
      "cell_type": "code",
      "metadata": {
        "id": "rm5tqGr-zHsm",
        "colab_type": "code",
        "colab": {
          "base_uri": "https://localhost:8080/",
          "height": 51
        },
        "outputId": "b32610fd-1114-419f-c600-0d32d3b94cc9"
      },
      "source": [
        "training_dataset_dir = '/content/drive/My Drive/cs230 project/dataset/webcam'\n",
        "dev_dataset_dir = '/content/drive/My Drive/cs230 project/dataset/webcam' #TODO split into dev/test folders\n",
        "\n",
        "X_train, Y_train  = get_data(training_dataset_dir)\n",
        "X_dev, Y_dev      = get_data(dev_dataset_dir)\n",
        "\n",
        "# Generate batches of tensor image data with real-time data augmentation. The data will be looped over (in batches) indefinitely\n",
        "# rescale:          Rescaling factor (defaults to None). Multiply the data by the value provided (before applying any other transformation)\n",
        "# rotation_range:   Int. Degree range for random rotations\n",
        "# shear_range:      Float. Shear Intensity (Shear angle in counter-clockwise direction as radians)\n",
        "# zoom_range:       Float or [lower, upper]. Range for random zoom. If a float, [lower, upper] = [1-zoom_range, 1+zoom_range]\n",
        "# fill_mode :       Points outside the boundaries of the input are filled according to the given mode: {\"constant\", \"nearest\", \"reflect\" or \"wrap\"}\n",
        "# horizontal_flip:  Boolean. Randomly flip inputs horizontally\n",
        "# train_datagen = ImageDataGenerator(\n",
        "#     rotation_range  = 10,\n",
        "#     shear_range     = 5, # 10 degrees\n",
        "#     zoom_range      = 0.1,\n",
        "#     fill_mode       = 'reflect',\n",
        "#     horizontal_flip = True)\n",
        "\n",
        "# train_datagen = ImageDataGenerator(\n",
        "#         rotation_range=15,\n",
        "#         width_shift_range=0.2,\n",
        "#         height_shift_range=0.2,\n",
        "#         horizontal_flip=True,\n",
        "#         zoom_range=0.2)\n",
        "\n",
        "# train_datagen = ImageDataGenerator(\n",
        "#                         featurewise_center=False,\n",
        "#                         featurewise_std_normalization=False,\n",
        "#                         rotation_range=10,\n",
        "#                         width_shift_range=0.1,\n",
        "#                         height_shift_range=0.1,\n",
        "#                         zoom_range=.1,\n",
        "#                         horizontal_flip=True)\n",
        "\n",
        "# Takes numpy data & label arrays, and generates batches of augmented/normalized data. Yields batcfillhes indefinitely, in an infinite loop\n",
        "# x:            Data. Should have rank 4. In case of grayscale data, the channels axis should have value 1, and in case of RGB data, \n",
        "#               it should have value 3\n",
        "# y:            Labels\n",
        "# batch_size:   Int (default: 32)\n",
        "#train_generator = train_datagen.flow(X_train, Y_train,  batch_size  = BS)"
      ],
      "execution_count": 68,
      "outputs": [
        {
          "output_type": "stream",
          "text": [
            "Found 130 images belonging to 7 classes.\n",
            "Found 130 images belonging to 7 classes.\n"
          ],
          "name": "stdout"
        }
      ]
    },
    {
      "cell_type": "code",
      "metadata": {
        "id": "oPO33wZKzHsc",
        "colab_type": "code",
        "colab": {}
      },
      "source": [
        "EPOCHS = 100\n",
        "BS = 128\n",
        "DROPOUT_RATE = 0.4\n",
        "SGD_LEARNING_RATE = 0.01\n",
        "SGD_DECAY = 0.0001"
      ],
      "execution_count": 0,
      "outputs": []
    },
    {
      "cell_type": "code",
      "metadata": {
        "id": "bG4t-6RO-g2S",
        "colab_type": "code",
        "colab": {}
      },
      "source": [
        "# Implement below paper CPCPCPFF depth 5, 2.4m params\n",
        "# http://openaccess.thecvf.com/content_cvpr_2016_workshops/w28/papers/Kim_Fusing_Aligned_and_CVPR_2016_paper.pdf\n",
        "# Reference: https://arxiv.org/pdf/1612.02903.pdf\n",
        "model = Sequential()\n",
        "model.add(Conv2D(32, (5, 5), activation='relu',padding='same', input_shape=(48,48,1),name=\"conv1\"))\n",
        "model.add(BatchNormalization())\n",
        "model.add(MaxPooling2D(pool_size=(2, 2),name=\"maxpool1\"))\n",
        "#model.add(Dropout(DROPOUT_RATE))\n",
        "model.add(Conv2D(32, (4, 4), activation='relu',padding='same',name=\"conv2\"))\n",
        "model.add(BatchNormalization())\n",
        "model.add(MaxPooling2D(pool_size=(2, 2),name=\"maxpool2\"))         \n",
        "#model.add(Dropout(DROPOUT_RATE))\n",
        "model.add(Conv2D(64, (5, 5), activation='relu',padding='same',name=\"conv3\"))\n",
        "model.add(BatchNormalization())\n",
        "model.add(MaxPooling2D(pool_size=(2, 2),name=\"maxpool3\"))\n",
        "model.add(Flatten())\n",
        "model.add(Dense(1024, activation='relu',name='fc1'))\n",
        "model.add(Dropout(DROPOUT_RATE))\n",
        "model.add(Dense(7, activation='softmax',name='fcsoftmax'))\n",
        "\n",
        "#TODO: weight decay of 0.0001...initial learning rate is set to 0.01 and reduced by a factor of 2 at every 25 epoch\n",
        "sgd = SGD(lr=SGD_LEARNING_RATE,momentum=0.9, decay=SGD_DECAY, nesterov=True)\n",
        "model.compile(loss='categorical_crossentropy',optimizer=sgd,metrics=['accuracy'])\n",
        "#rlrop = ReduceLROnPlateau(monitor='val_loss', factor=0.1, patience=100)\n",
        "rlrop = ReduceLROnPlateau(monitor='val_acc',mode='max',factor=0.5, patience=10, min_lr=0.00001, verbose=1)\n"
      ],
      "execution_count": 0,
      "outputs": []
    },
    {
      "cell_type": "code",
      "metadata": {
        "id": "RJ3hGX2HzHsw",
        "colab_type": "code",
        "outputId": "d73605c9-fd66-4da4-b98a-9ef2aa7a33db",
        "colab": {
          "base_uri": "https://localhost:8080/",
          "height": 1000
        }
      },
      "source": [
        "# history = model.fit_generator(\n",
        "#     generator = X_train,\n",
        "#     validation_data=(X_dev, Y_dev), \n",
        "#     steps_per_epoch=len(X_train) // BS,\n",
        "#     shuffle=True,\n",
        "#     epochs=EPOCHS,\n",
        "#     callbacks=[rlrop]) \n",
        "\n",
        "history = model.fit_generator(\n",
        "    generator = X_train,\n",
        "    epochs=EPOCHS)"
      ],
      "execution_count": 76,
      "outputs": [
        {
          "output_type": "stream",
          "text": [
            "Epoch 1/100\n",
            "5/5 [==============================] - 1s 209ms/step - loss: 9.0054 - acc: 0.0649\n",
            "Epoch 2/100\n",
            "5/5 [==============================] - 0s 56ms/step - loss: 6.2580 - acc: 0.3380\n",
            "Epoch 3/100\n",
            "5/5 [==============================] - 0s 58ms/step - loss: 6.3245 - acc: 0.2925\n",
            "Epoch 4/100\n",
            "5/5 [==============================] - 0s 40ms/step - loss: 5.8467 - acc: 0.3510\n",
            "Epoch 5/100\n",
            "5/5 [==============================] - 0s 38ms/step - loss: 4.9982 - acc: 0.4288\n",
            "Epoch 6/100\n",
            "5/5 [==============================] - 0s 36ms/step - loss: 5.1653 - acc: 0.2731\n",
            "Epoch 7/100\n",
            "5/5 [==============================] - 0s 44ms/step - loss: 4.7225 - acc: 0.3769\n",
            "Epoch 8/100\n",
            "5/5 [==============================] - 0s 44ms/step - loss: 4.2260 - acc: 0.4418\n",
            "Epoch 9/100\n",
            "5/5 [==============================] - 0s 59ms/step - loss: 4.0025 - acc: 0.4353\n",
            "Epoch 10/100\n",
            "5/5 [==============================] - 0s 61ms/step - loss: 3.2044 - acc: 0.4937\n",
            "Epoch 11/100\n",
            "5/5 [==============================] - 0s 58ms/step - loss: 3.4593 - acc: 0.3572\n",
            "Epoch 12/100\n",
            "5/5 [==============================] - 0s 36ms/step - loss: 3.2141 - acc: 0.4678\n",
            "Epoch 13/100\n",
            "5/5 [==============================] - 0s 39ms/step - loss: 3.5232 - acc: 0.3897\n",
            "Epoch 14/100\n",
            "5/5 [==============================] - 0s 45ms/step - loss: 3.8792 - acc: 0.4288\n",
            "Epoch 15/100\n",
            "5/5 [==============================] - 0s 41ms/step - loss: 4.4329 - acc: 0.4224\n",
            "Epoch 16/100\n",
            "5/5 [==============================] - 0s 61ms/step - loss: 3.4633 - acc: 0.4224\n",
            "Epoch 17/100\n",
            "5/5 [==============================] - 0s 57ms/step - loss: 3.1827 - acc: 0.4548\n",
            "Epoch 18/100\n",
            "5/5 [==============================] - 0s 44ms/step - loss: 2.5054 - acc: 0.5132\n",
            "Epoch 19/100\n",
            "5/5 [==============================] - 0s 56ms/step - loss: 2.4976 - acc: 0.3702\n",
            "Epoch 20/100\n",
            "5/5 [==============================] - 0s 41ms/step - loss: 2.0671 - acc: 0.4873\n",
            "Epoch 21/100\n",
            "5/5 [==============================] - 0s 62ms/step - loss: 1.9525 - acc: 0.3637\n",
            "Epoch 22/100\n",
            "5/5 [==============================] - 0s 60ms/step - loss: 1.7274 - acc: 0.4548\n",
            "Epoch 23/100\n",
            "5/5 [==============================] - 0s 57ms/step - loss: 1.7960 - acc: 0.4613\n",
            "Epoch 24/100\n",
            "5/5 [==============================] - 0s 38ms/step - loss: 1.4473 - acc: 0.4937\n",
            "Epoch 25/100\n",
            "5/5 [==============================] - 0s 37ms/step - loss: 2.5024 - acc: 0.4675\n",
            "Epoch 26/100\n",
            "5/5 [==============================] - 0s 41ms/step - loss: 1.6530 - acc: 0.5392\n",
            "Epoch 27/100\n",
            "5/5 [==============================] - 0s 49ms/step - loss: 1.5598 - acc: 0.5522\n",
            "Epoch 28/100\n",
            "5/5 [==============================] - 0s 55ms/step - loss: 2.1640 - acc: 0.4740\n",
            "Epoch 29/100\n",
            "5/5 [==============================] - 0s 62ms/step - loss: 1.2162 - acc: 0.5522\n",
            "Epoch 30/100\n",
            "5/5 [==============================] - 0s 55ms/step - loss: 1.4806 - acc: 0.5197\n",
            "Epoch 31/100\n",
            "5/5 [==============================] - 0s 40ms/step - loss: 1.3164 - acc: 0.6300\n",
            "Epoch 32/100\n",
            "5/5 [==============================] - 0s 50ms/step - loss: 1.2935 - acc: 0.5716\n",
            "Epoch 33/100\n",
            "5/5 [==============================] - 0s 55ms/step - loss: 0.9243 - acc: 0.6560\n",
            "Epoch 34/100\n",
            "5/5 [==============================] - 0s 58ms/step - loss: 1.0086 - acc: 0.6820\n",
            "Epoch 35/100\n",
            "5/5 [==============================] - 0s 41ms/step - loss: 0.9451 - acc: 0.6690\n",
            "Epoch 36/100\n",
            "5/5 [==============================] - 0s 44ms/step - loss: 0.8038 - acc: 0.7209\n",
            "Epoch 37/100\n",
            "5/5 [==============================] - 0s 57ms/step - loss: 0.7444 - acc: 0.7079\n",
            "Epoch 38/100\n",
            "5/5 [==============================] - 0s 36ms/step - loss: 0.9245 - acc: 0.6950\n",
            "Epoch 39/100\n",
            "5/5 [==============================] - 0s 38ms/step - loss: 1.1329 - acc: 0.6430\n",
            "Epoch 40/100\n",
            "5/5 [==============================] - 0s 46ms/step - loss: 0.7610 - acc: 0.7079\n",
            "Epoch 41/100\n",
            "5/5 [==============================] - 0s 60ms/step - loss: 0.7045 - acc: 0.7339\n",
            "Epoch 42/100\n",
            "5/5 [==============================] - 0s 58ms/step - loss: 0.7502 - acc: 0.7339\n",
            "Epoch 43/100\n",
            "5/5 [==============================] - 0s 43ms/step - loss: 0.7591 - acc: 0.7599\n",
            "Epoch 44/100\n",
            "5/5 [==============================] - 0s 43ms/step - loss: 0.7580 - acc: 0.7209\n",
            "Epoch 45/100\n",
            "5/5 [==============================] - 0s 54ms/step - loss: 0.7764 - acc: 0.7404\n",
            "Epoch 46/100\n",
            "5/5 [==============================] - 0s 41ms/step - loss: 0.6174 - acc: 0.7404\n",
            "Epoch 47/100\n",
            "5/5 [==============================] - 0s 42ms/step - loss: 0.6893 - acc: 0.7728\n",
            "Epoch 48/100\n",
            "5/5 [==============================] - 0s 60ms/step - loss: 0.8668 - acc: 0.7274\n",
            "Epoch 49/100\n",
            "5/5 [==============================] - 0s 60ms/step - loss: 0.8568 - acc: 0.7534\n",
            "Epoch 50/100\n",
            "5/5 [==============================] - 0s 56ms/step - loss: 0.7103 - acc: 0.7469\n",
            "Epoch 51/100\n",
            "5/5 [==============================] - 0s 43ms/step - loss: 0.6461 - acc: 0.7599\n",
            "Epoch 52/100\n",
            "5/5 [==============================] - 0s 43ms/step - loss: 0.6542 - acc: 0.7339\n",
            "Epoch 53/100\n",
            "5/5 [==============================] - 0s 45ms/step - loss: 0.7441 - acc: 0.6623\n",
            "Epoch 54/100\n",
            "5/5 [==============================] - 0s 56ms/step - loss: 0.7181 - acc: 0.7988\n",
            "Epoch 55/100\n",
            "5/5 [==============================] - 0s 59ms/step - loss: 0.6366 - acc: 0.7209\n",
            "Epoch 56/100\n",
            "5/5 [==============================] - 0s 67ms/step - loss: 0.5651 - acc: 0.7858\n",
            "Epoch 57/100\n",
            "5/5 [==============================] - 0s 58ms/step - loss: 0.4542 - acc: 0.8377\n",
            "Epoch 58/100\n",
            "5/5 [==============================] - 0s 56ms/step - loss: 0.6319 - acc: 0.7793\n",
            "Epoch 59/100\n",
            "5/5 [==============================] - 0s 58ms/step - loss: 0.5792 - acc: 0.8183\n",
            "Epoch 60/100\n",
            "5/5 [==============================] - 0s 38ms/step - loss: 0.5726 - acc: 0.7663\n",
            "Epoch 61/100\n",
            "5/5 [==============================] - 0s 41ms/step - loss: 0.4363 - acc: 0.8572\n",
            "Epoch 62/100\n",
            "5/5 [==============================] - 0s 35ms/step - loss: 0.4571 - acc: 0.8442\n",
            "Epoch 63/100\n",
            "5/5 [==============================] - 0s 41ms/step - loss: 0.3834 - acc: 0.8507\n",
            "Epoch 64/100\n",
            "5/5 [==============================] - 0s 44ms/step - loss: 0.6061 - acc: 0.7339\n",
            "Epoch 65/100\n",
            "5/5 [==============================] - 0s 60ms/step - loss: 0.5595 - acc: 0.8248\n",
            "Epoch 66/100\n",
            "5/5 [==============================] - 0s 36ms/step - loss: 0.4185 - acc: 0.8312\n",
            "Epoch 67/100\n",
            "5/5 [==============================] - 0s 42ms/step - loss: 0.4468 - acc: 0.8248\n",
            "Epoch 68/100\n",
            "5/5 [==============================] - 0s 46ms/step - loss: 0.4836 - acc: 0.8053\n",
            "Epoch 69/100\n",
            "5/5 [==============================] - 0s 59ms/step - loss: 0.3531 - acc: 0.8442\n",
            "Epoch 70/100\n",
            "5/5 [==============================] - 0s 58ms/step - loss: 0.4364 - acc: 0.8377\n",
            "Epoch 71/100\n",
            "5/5 [==============================] - 0s 39ms/step - loss: 0.5384 - acc: 0.8183\n",
            "Epoch 72/100\n",
            "5/5 [==============================] - 0s 43ms/step - loss: 0.3174 - acc: 0.8572\n",
            "Epoch 73/100\n",
            "5/5 [==============================] - 0s 44ms/step - loss: 0.3781 - acc: 0.8832\n",
            "Epoch 74/100\n",
            "5/5 [==============================] - 0s 61ms/step - loss: 0.3492 - acc: 0.8442\n",
            "Epoch 75/100\n",
            "5/5 [==============================] - 0s 57ms/step - loss: 0.3652 - acc: 0.8702\n",
            "Epoch 76/100\n",
            "5/5 [==============================] - 0s 43ms/step - loss: 0.3528 - acc: 0.8767\n",
            "Epoch 77/100\n",
            "5/5 [==============================] - 0s 59ms/step - loss: 0.4635 - acc: 0.8118\n",
            "Epoch 78/100\n",
            "5/5 [==============================] - 0s 34ms/step - loss: 0.4269 - acc: 0.8183\n",
            "Epoch 79/100\n",
            "5/5 [==============================] - 0s 43ms/step - loss: 0.2370 - acc: 0.9091\n",
            "Epoch 80/100\n",
            "5/5 [==============================] - 0s 43ms/step - loss: 0.2628 - acc: 0.8897\n",
            "Epoch 81/100\n",
            "5/5 [==============================] - 0s 61ms/step - loss: 0.3303 - acc: 0.8832\n",
            "Epoch 82/100\n",
            "5/5 [==============================] - 0s 59ms/step - loss: 0.3618 - acc: 0.8702\n",
            "Epoch 83/100\n",
            "5/5 [==============================] - 0s 58ms/step - loss: 0.4642 - acc: 0.8702\n",
            "Epoch 84/100\n",
            "5/5 [==============================] - 0s 39ms/step - loss: 0.2010 - acc: 0.9416\n",
            "Epoch 85/100\n",
            "5/5 [==============================] - 0s 41ms/step - loss: 0.2876 - acc: 0.8897\n",
            "Epoch 86/100\n",
            "5/5 [==============================] - 0s 45ms/step - loss: 0.2824 - acc: 0.8897\n",
            "Epoch 87/100\n",
            "5/5 [==============================] - 0s 56ms/step - loss: 0.2597 - acc: 0.9156\n",
            "Epoch 88/100\n",
            "5/5 [==============================] - 0s 61ms/step - loss: 0.3491 - acc: 0.8767\n",
            "Epoch 89/100\n",
            "5/5 [==============================] - 0s 57ms/step - loss: 0.3071 - acc: 0.8962\n",
            "Epoch 90/100\n",
            "5/5 [==============================] - 0s 39ms/step - loss: 0.1975 - acc: 0.9416\n",
            "Epoch 91/100\n",
            "5/5 [==============================] - 0s 44ms/step - loss: 0.2693 - acc: 0.9026\n",
            "Epoch 92/100\n",
            "5/5 [==============================] - 0s 59ms/step - loss: 0.2596 - acc: 0.9026\n",
            "Epoch 93/100\n",
            "5/5 [==============================] - 0s 54ms/step - loss: 0.2327 - acc: 0.9156\n",
            "Epoch 94/100\n",
            "5/5 [==============================] - 0s 45ms/step - loss: 0.2165 - acc: 0.9156\n",
            "Epoch 95/100\n",
            "5/5 [==============================] - 0s 38ms/step - loss: 0.2298 - acc: 0.9481\n",
            "Epoch 96/100\n",
            "5/5 [==============================] - 0s 43ms/step - loss: 0.3409 - acc: 0.8572\n",
            "Epoch 97/100\n",
            "5/5 [==============================] - 0s 60ms/step - loss: 0.2056 - acc: 0.9091\n",
            "Epoch 98/100\n",
            "5/5 [==============================] - 0s 60ms/step - loss: 0.2018 - acc: 0.9675\n",
            "Epoch 99/100\n",
            "5/5 [==============================] - 0s 59ms/step - loss: 0.2645 - acc: 0.9026\n",
            "Epoch 100/100\n",
            "5/5 [==============================] - 0s 40ms/step - loss: 0.2815 - acc: 0.9286\n"
          ],
          "name": "stdout"
        }
      ]
    },
    {
      "cell_type": "code",
      "metadata": {
        "colab_type": "code",
        "id": "-FSBxRPXHSZE",
        "outputId": "cdce1f17-399d-46fc-d2c8-5af76aa53243",
        "colab": {
          "base_uri": "https://localhost:8080/",
          "height": 51
        }
      },
      "source": [
        "results_dev = model.evaluate_generator(X_dev)\n",
        "print(\"Accuracy on dev set: {:.2%}\".format(results_dev[1]))\n",
        "results_test = results_dev\n",
        "print(\"Accuracy on test set: {:.2%}\".format(results_test[1]))"
      ],
      "execution_count": 77,
      "outputs": [
        {
          "output_type": "stream",
          "text": [
            "Accuracy on dev set: 74.62%\n",
            "Accuracy on test set: 74.62%\n"
          ],
          "name": "stdout"
        }
      ]
    },
    {
      "cell_type": "code",
      "metadata": {
        "id": "Sr6u8rO4zHtH",
        "colab_type": "code",
        "outputId": "62afff18-2f1f-4016-f40a-be13f37b6462",
        "colab": {
          "base_uri": "https://localhost:8080/",
          "height": 504
        }
      },
      "source": [
        "# list all data in history\n",
        "print(history.history.keys())\n",
        "# summarize history for accuracy\n",
        "plt.plot(history.history['acc'])\n",
        "plt.plot(history.history['val_acc'])\n",
        "plt.title('model accuracy')\n",
        "plt.ylabel('accuracy')\n",
        "plt.xlabel('epoch')\n",
        "plt.legend(['train', 'dev'], loc='upper left')\n",
        "plt.show()\n",
        "# summarize history for loss\n",
        "plt.plot(history.history['loss'])\n",
        "plt.plot(history.history['val_loss'])\n",
        "plt.title('model loss')\n",
        "plt.ylabel('loss')\n",
        "plt.xlabel('epoch')\n",
        "plt.legend(['train', 'dev'], loc='upper left')\n",
        "plt.show()"
      ],
      "execution_count": 78,
      "outputs": [
        {
          "output_type": "stream",
          "text": [
            "dict_keys(['loss', 'acc'])\n"
          ],
          "name": "stdout"
        },
        {
          "output_type": "error",
          "ename": "KeyError",
          "evalue": "ignored",
          "traceback": [
            "\u001b[0;31m---------------------------------------------------------------------------\u001b[0m",
            "\u001b[0;31mKeyError\u001b[0m                                  Traceback (most recent call last)",
            "\u001b[0;32m<ipython-input-78-8a82a978eaa9>\u001b[0m in \u001b[0;36m<module>\u001b[0;34m()\u001b[0m\n\u001b[1;32m      2\u001b[0m \u001b[0;31m# summarize history for accuracy\u001b[0m\u001b[0;34m\u001b[0m\u001b[0;34m\u001b[0m\u001b[0;34m\u001b[0m\u001b[0m\n\u001b[1;32m      3\u001b[0m \u001b[0mplt\u001b[0m\u001b[0;34m.\u001b[0m\u001b[0mplot\u001b[0m\u001b[0;34m(\u001b[0m\u001b[0mhistory\u001b[0m\u001b[0;34m.\u001b[0m\u001b[0mhistory\u001b[0m\u001b[0;34m[\u001b[0m\u001b[0;34m'acc'\u001b[0m\u001b[0;34m]\u001b[0m\u001b[0;34m)\u001b[0m\u001b[0;34m\u001b[0m\u001b[0;34m\u001b[0m\u001b[0m\n\u001b[0;32m----> 4\u001b[0;31m \u001b[0mplt\u001b[0m\u001b[0;34m.\u001b[0m\u001b[0mplot\u001b[0m\u001b[0;34m(\u001b[0m\u001b[0mhistory\u001b[0m\u001b[0;34m.\u001b[0m\u001b[0mhistory\u001b[0m\u001b[0;34m[\u001b[0m\u001b[0;34m'val_acc'\u001b[0m\u001b[0;34m]\u001b[0m\u001b[0;34m)\u001b[0m\u001b[0;34m\u001b[0m\u001b[0;34m\u001b[0m\u001b[0m\n\u001b[0m\u001b[1;32m      5\u001b[0m \u001b[0mplt\u001b[0m\u001b[0;34m.\u001b[0m\u001b[0mtitle\u001b[0m\u001b[0;34m(\u001b[0m\u001b[0;34m'model accuracy'\u001b[0m\u001b[0;34m)\u001b[0m\u001b[0;34m\u001b[0m\u001b[0;34m\u001b[0m\u001b[0m\n\u001b[1;32m      6\u001b[0m \u001b[0mplt\u001b[0m\u001b[0;34m.\u001b[0m\u001b[0mylabel\u001b[0m\u001b[0;34m(\u001b[0m\u001b[0;34m'accuracy'\u001b[0m\u001b[0;34m)\u001b[0m\u001b[0;34m\u001b[0m\u001b[0;34m\u001b[0m\u001b[0m\n",
            "\u001b[0;31mKeyError\u001b[0m: 'val_acc'"
          ]
        },
        {
          "output_type": "display_data",
          "data": {
            "image/png": "[encoded data removed]",
            "text/plain": [
              "<Figure size 432x288 with 1 Axes>"
            ]
          },
          "metadata": {
            "tags": []
          }
        }
      ]
    },
    {
      "cell_type": "code",
      "metadata": {
        "id": "6pQfysJQzHtD",
        "colab_type": "code",
        "colab": {}
      },
      "source": [
        "lr_str = '-SGD_LR_%.5f' % SGD_LEARNING_RATE\n",
        "epoch_str = '-EPOCHS_' + str(EPOCHS)\n",
        "bs_str = '-BS_' + str(BS)\n",
        "dropout_str = '-DROPOUT_' + str(DROPOUT_RATE)\n",
        "test_acc = 'test_acc_%.3f' % results_test[1]\n",
        "model.save('/content/drive/My Drive/cs230 project/models/soa' + lr_str + epoch_str + bs_str + dropout_str + test_acc + '.h5')"
      ],
      "execution_count": 0,
      "outputs": []
    },
    {
      "cell_type": "code",
      "metadata": {
        "id": "ZMAJ9smqKdD3",
        "colab_type": "code",
        "colab": {}
      },
      "source": [
        "from sklearn.metrics import accuracy_score\n",
        "# configure image data augmentation\n",
        "datagen = ImageDataGenerator(horizontal_flip=True)\n",
        "\n",
        "# make a prediction using test-time augmentation\n",
        "def tta_prediction(datagen, model, image, n_examples):\n",
        "\t# convert image into dataset\n",
        "\tsamples = np.expand_dims(image, 0)\n",
        "\t# prepare iterator\n",
        "\tit = datagen.flow(samples, batch_size=n_examples)\n",
        "\t# make predictions for each augmented image\n",
        "\tyhats = model.predict_generator(it, steps=n_examples, verbose=0)\n",
        "\t# sum across predictions\n",
        "\tsummed = np.sum(yhats, axis=0)\n",
        "\t# argmax across classes\n",
        "\treturn np.argmax(summed)\n",
        " \n",
        " # evaluate a model on a dataset using test-time augmentation\n",
        "def tta_evaluate_model(model, testX, testY):\n",
        "\t# configure image data augmentation\n",
        "\tdatagen = ImageDataGenerator(horizontal_flip=True)\n",
        "\t# define the number of augmented images to generate per test set image\n",
        "\tn_examples_per_image = 7\n",
        "\tyhats = list()\n",
        "\tfor i in range(len(testX)):\n",
        "\t\t# make augmented prediction\n",
        "\t\tyhat = tta_prediction(datagen, model, testX[i], n_examples_per_image)\n",
        "\t\t# store for evaluation\n",
        "\t\tyhats.append(yhat)\n",
        "\t# calculate accuracy\n",
        "\ttestY_labels = np.argmax(testY, axis=1)\n",
        "\tacc = accuracy_score(testY_labels, yhats)\n",
        "\treturn acc"
      ],
      "execution_count": 0,
      "outputs": []
    },
    {
      "cell_type": "code",
      "metadata": {
        "id": "gfTihcArMdUk",
        "colab_type": "code",
        "outputId": "82bcb68b-0155-4bc3-eb6a-55b480809cd2",
        "colab": {
          "base_uri": "https://localhost:8080/",
          "height": 253
        }
      },
      "source": [
        "print('\\n# Evaluate on test data')\n",
        "TTA_results_test = tta_evaluate_model(model, X_test, Y_test)\n",
        "print('test loss, test acc:', results_test)\n",
        "print('TTA test acc:', TTA_results_test)"
      ],
      "execution_count": 55,
      "outputs": [
        {
          "output_type": "stream",
          "text": [
            "\n",
            "# Evaluate on test data\n"
          ],
          "name": "stdout"
        },
        {
          "output_type": "error",
          "ename": "NameError",
          "evalue": "ignored",
          "traceback": [
            "\u001b[0;31m---------------------------------------------------------------------------\u001b[0m",
            "\u001b[0;31mNameError\u001b[0m                                 Traceback (most recent call last)",
            "\u001b[0;32m<ipython-input-55-47f55bc342ea>\u001b[0m in \u001b[0;36m<module>\u001b[0;34m()\u001b[0m\n\u001b[1;32m      1\u001b[0m \u001b[0mprint\u001b[0m\u001b[0;34m(\u001b[0m\u001b[0;34m'\\n# Evaluate on test data'\u001b[0m\u001b[0;34m)\u001b[0m\u001b[0;34m\u001b[0m\u001b[0;34m\u001b[0m\u001b[0m\n\u001b[0;32m----> 2\u001b[0;31m \u001b[0mTTA_results_test\u001b[0m \u001b[0;34m=\u001b[0m \u001b[0mtta_evaluate_model\u001b[0m\u001b[0;34m(\u001b[0m\u001b[0mmodel\u001b[0m\u001b[0;34m,\u001b[0m \u001b[0mX_test\u001b[0m\u001b[0;34m,\u001b[0m \u001b[0mY_test\u001b[0m\u001b[0;34m)\u001b[0m\u001b[0;34m\u001b[0m\u001b[0;34m\u001b[0m\u001b[0m\n\u001b[0m\u001b[1;32m      3\u001b[0m \u001b[0mprint\u001b[0m\u001b[0;34m(\u001b[0m\u001b[0;34m'test loss, test acc:'\u001b[0m\u001b[0;34m,\u001b[0m \u001b[0mresults_test\u001b[0m\u001b[0;34m)\u001b[0m\u001b[0;34m\u001b[0m\u001b[0;34m\u001b[0m\u001b[0m\n\u001b[1;32m      4\u001b[0m \u001b[0mprint\u001b[0m\u001b[0;34m(\u001b[0m\u001b[0;34m'TTA test acc:'\u001b[0m\u001b[0;34m,\u001b[0m \u001b[0mTTA_results_test\u001b[0m\u001b[0;34m)\u001b[0m\u001b[0;34m\u001b[0m\u001b[0;34m\u001b[0m\u001b[0m\n",
            "\u001b[0;31mNameError\u001b[0m: name 'X_test' is not defined"
          ]
        }
      ]
    }
  ]
}