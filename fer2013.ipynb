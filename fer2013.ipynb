{
 "cells": [
  {
   "cell_type": "markdown",
   "metadata": {
    "colab_type": "text",
    "id": "view-in-github"
   },
   "source": [
    "<a href=\"https://colab.research.google.com/github/amilkh/cs230-fer/blob/transfer-learning/fer2013.ipynb\" target=\"_parent\"><img src=\"https://colab.research.google.com/assets/colab-badge.svg\" alt=\"Open In Colab\"/></a>"
   ]
  },
  {
   "cell_type": "code",
   "execution_count": 1,
   "metadata": {
    "colab": {},
    "colab_type": "code",
    "id": "gwdg7Sv3XBaP"
   },
   "outputs": [],
   "source": [
    "#tensorflow_version 1.x"
   ]
  },
  {
   "cell_type": "code",
   "execution_count": 2,
   "metadata": {
    "colab": {},
    "colab_type": "code",
    "id": "2nz38mJZXN_P"
   },
   "outputs": [
    {
     "name": "stdout",
     "output_type": "stream",
     "text": [
      "WARNING:tensorflow:From /home/ubuntu/anaconda3/envs/tensorflow_p36/lib/python3.6/site-packages/tensorflow_core/__init__.py:1467: The name tf.estimator.inputs is deprecated. Please use tf.compat.v1.estimator.inputs instead.\n",
      "\n"
     ]
    },
    {
     "name": "stderr",
     "output_type": "stream",
     "text": [
      "Using TensorFlow backend.\n"
     ]
    }
   ],
   "source": [
    "import matplotlib.pyplot as plt\n",
    "import pandas as pd\n",
    "import numpy as np\n",
    "\n",
    "import tensorflow as tf\n",
    "from tensorflow.keras.layers import *\n",
    "from tensorflow.python.lib.io import file_io\n",
    "\n",
    "%matplotlib inline\n",
    "\n",
    "import keras\n",
    "from keras import backend as K\n",
    "from keras.callbacks import ModelCheckpoint, EarlyStopping\n",
    "from keras.models import load_model\n",
    "from keras.preprocessing.image import ImageDataGenerator\n",
    "from keras_vggface.vggface import VGGFace\n",
    "from keras.utils import plot_model\n",
    "from sklearn.metrics import *\n",
    "from keras.engine import Model\n",
    "from keras.layers import Input, Flatten, Dense, Activation, Conv2D, MaxPool2D, BatchNormalization, Dropout, MaxPooling2D\n",
    "from skimage.transform import rescale, resize\n",
    "\n",
    "import pydot\n",
    "\n",
    "!python -c \"import skimage\""
   ]
  },
  {
   "cell_type": "markdown",
   "metadata": {},
   "source": [
    "try:\n",
    "    pydot.Dot.create(pydot.Dot())\n",
    "except:\n",
    "    print('pydot error')"
   ]
  },
  {
   "cell_type": "code",
   "execution_count": 3,
   "metadata": {
    "colab": {
     "base_uri": "https://localhost:8080/",
     "height": 34
    },
    "colab_type": "code",
    "id": "nUcd6yIGduUW",
    "outputId": "94e06002-1afb-4fab-b6fc-f69cef85fa1c"
   },
   "outputs": [
    {
     "name": "stdout",
     "output_type": "stream",
     "text": [
      "1.15.0\n",
      "2.2.4\n"
     ]
    }
   ],
   "source": [
    "print(tf.__version__)\n",
    "print(keras.__version__)"
   ]
  },
  {
   "cell_type": "markdown",
   "metadata": {},
   "source": [
    "data = pd.read_csv('fer2013/fer2013.csv')\n",
    "data.head()\n",
    "\n",
    "data_train = data[data['Usage'] == 'Training']\n",
    "#print('Number samples in the training dataset: ', data_train.shape[0])\n",
    "\n",
    "data_dev = data[data['Usage'] == 'PublicTest']\n",
    "#print('Number samples in the development dataset: ', data_dev.shape[0])\n",
    "data_dev.head()\n",
    "\n",
    "data_train.to_csv('fer2013/train.csv')\n",
    "data_dev.to_csv('fer2013/dev.csv')\n",
    "\n",
    "print(data_train.shape)\n",
    "\n",
    "print(data_dev.shape)"
   ]
  },
  {
   "cell_type": "markdown",
   "metadata": {},
   "source": [
    "data = pd.read_csv('fer2013/icml_face_data.csv') \n",
    "print(data.head())\n",
    "print(data.shape)\n",
    "\n",
    "print(data[' Usage'].unique())\n",
    "\n",
    "data_dev2 = data[data[' Usage'] == 'PublicTest']\n",
    "#print('Number samples in the development dataset: ', data_dev.shape[0])\n",
    "print(data_dev2.head())\n",
    "\n",
    "data_dev2.to_csv('fer2013/dev2.csv')\n",
    "print(data_dev2.shape)\n",
    "\n",
    "data_test = data[data[' Usage'] == 'PrivateTest']\n",
    "#print('Number samples in the development dataset: ', data_dev.shape[0])\n",
    "print(data_test.head())\n",
    "\n",
    "data_test.to_csv('fer2013/test.csv')\n",
    "print(data_test.shape)"
   ]
  },
  {
   "cell_type": "code",
   "execution_count": 4,
   "metadata": {
    "colab": {
     "base_uri": "https://localhost:8080/",
     "height": 1000
    },
    "colab_type": "code",
    "id": "EarfWgg_Y4rR",
    "outputId": "a053f8b0-3c50-46bd-abc3-19e52a91aed0"
   },
   "outputs": [
    {
     "name": "stdout",
     "output_type": "stream",
     "text": [
      "WARNING:tensorflow:From /home/ubuntu/anaconda3/envs/tensorflow_p36/lib/python3.6/site-packages/keras/backend/tensorflow_backend.py:74: The name tf.get_default_graph is deprecated. Please use tf.compat.v1.get_default_graph instead.\n",
      "\n",
      "WARNING:tensorflow:From /home/ubuntu/anaconda3/envs/tensorflow_p36/lib/python3.6/site-packages/keras/backend/tensorflow_backend.py:517: The name tf.placeholder is deprecated. Please use tf.compat.v1.placeholder instead.\n",
      "\n",
      "WARNING:tensorflow:From /home/ubuntu/anaconda3/envs/tensorflow_p36/lib/python3.6/site-packages/keras/backend/tensorflow_backend.py:4138: The name tf.random_uniform is deprecated. Please use tf.random.uniform instead.\n",
      "\n",
      "WARNING:tensorflow:From /home/ubuntu/anaconda3/envs/tensorflow_p36/lib/python3.6/site-packages/keras/backend/tensorflow_backend.py:174: The name tf.get_default_session is deprecated. Please use tf.compat.v1.get_default_session instead.\n",
      "\n",
      "WARNING:tensorflow:From /home/ubuntu/anaconda3/envs/tensorflow_p36/lib/python3.6/site-packages/keras/backend/tensorflow_backend.py:181: The name tf.ConfigProto is deprecated. Please use tf.compat.v1.ConfigProto instead.\n",
      "\n",
      "WARNING:tensorflow:From /home/ubuntu/anaconda3/envs/tensorflow_p36/lib/python3.6/site-packages/keras/backend/tensorflow_backend.py:186: The name tf.Session is deprecated. Please use tf.compat.v1.Session instead.\n",
      "\n",
      "WARNING:tensorflow:From /home/ubuntu/anaconda3/envs/tensorflow_p36/lib/python3.6/site-packages/keras/backend/tensorflow_backend.py:190: The name tf.global_variables is deprecated. Please use tf.compat.v1.global_variables instead.\n",
      "\n",
      "WARNING:tensorflow:From /home/ubuntu/anaconda3/envs/tensorflow_p36/lib/python3.6/site-packages/keras/backend/tensorflow_backend.py:199: The name tf.is_variable_initialized is deprecated. Please use tf.compat.v1.is_variable_initialized instead.\n",
      "\n",
      "WARNING:tensorflow:From /home/ubuntu/anaconda3/envs/tensorflow_p36/lib/python3.6/site-packages/keras/backend/tensorflow_backend.py:206: The name tf.variables_initializer is deprecated. Please use tf.compat.v1.variables_initializer instead.\n",
      "\n",
      "WARNING:tensorflow:From /home/ubuntu/anaconda3/envs/tensorflow_p36/lib/python3.6/site-packages/keras/backend/tensorflow_backend.py:1834: The name tf.nn.fused_batch_norm is deprecated. Please use tf.compat.v1.nn.fused_batch_norm instead.\n",
      "\n",
      "WARNING:tensorflow:From /home/ubuntu/anaconda3/envs/tensorflow_p36/lib/python3.6/site-packages/keras/backend/tensorflow_backend.py:133: The name tf.placeholder_with_default is deprecated. Please use tf.compat.v1.placeholder_with_default instead.\n",
      "\n",
      "WARNING:tensorflow:From /home/ubuntu/anaconda3/envs/tensorflow_p36/lib/python3.6/site-packages/keras/backend/tensorflow_backend.py:3976: The name tf.nn.max_pool is deprecated. Please use tf.nn.max_pool2d instead.\n",
      "\n",
      "WARNING:tensorflow:From /home/ubuntu/anaconda3/envs/tensorflow_p36/lib/python3.6/site-packages/keras/backend/tensorflow_backend.py:3980: The name tf.nn.avg_pool is deprecated. Please use tf.nn.avg_pool2d instead.\n",
      "\n",
      "<keras.engine.input_layer.InputLayer object at 0x7fc6ce7b0710> [0]\n",
      "<keras.layers.convolutional.Conv2D object at 0x7fc6ce7b0940> [1]\n",
      "<keras.layers.normalization.BatchNormalization object at 0x7fc6ce7b0c88> [2]\n",
      "<keras.layers.core.Activation object at 0x7fc6ce7b0dd8> [3]\n",
      "<keras.layers.pooling.MaxPooling2D object at 0x7fc6cda58e80> [4]\n",
      "<keras.layers.convolutional.Conv2D object at 0x7fc6cc236b00> [5]\n",
      "<keras.layers.normalization.BatchNormalization object at 0x7fc6cc248e10> [6]\n",
      "<keras.layers.core.Activation object at 0x7fc6cc248f98> [7]\n",
      "<keras.layers.convolutional.Conv2D object at 0x7fc6cc1d1b38> [8]\n",
      "<keras.layers.normalization.BatchNormalization object at 0x7fc6cc2087b8> [9]\n",
      "<keras.layers.core.Activation object at 0x7fc6cc208748> [10]\n",
      "<keras.layers.convolutional.Conv2D object at 0x7fc6cc190f28> [11]\n",
      "<keras.layers.convolutional.Conv2D object at 0x7fc6cc199358> [12]\n",
      "<keras.layers.normalization.BatchNormalization object at 0x7fc6cc1cf0f0> [13]\n",
      "<keras.layers.normalization.BatchNormalization object at 0x7fc6cc18f908> [14]\n",
      "<keras.layers.merge.Add object at 0x7fc6cc18fe80> [15]\n",
      "<keras.layers.core.Activation object at 0x7fc6cc124908> [16]\n",
      "<keras.layers.convolutional.Conv2D object at 0x7fc6cc1481d0> [17]\n",
      "<keras.layers.normalization.BatchNormalization object at 0x7fc6cc0d7be0> [18]\n",
      "<keras.layers.core.Activation object at 0x7fc6cc0d7f60> [19]\n",
      "<keras.layers.convolutional.Conv2D object at 0x7fc6cc0e0d68> [20]\n",
      "<keras.layers.normalization.BatchNormalization object at 0x7fc6cc098be0> [21]\n",
      "<keras.layers.core.Activation object at 0x7fc6cc09ffd0> [22]\n",
      "<keras.layers.convolutional.Conv2D object at 0x7fc6cc0a7940> [23]\n",
      "<keras.layers.normalization.BatchNormalization object at 0x7fc6cc0606a0> [24]\n",
      "<keras.layers.merge.Add object at 0x7fc6cc060630> [25]\n",
      "<keras.layers.core.Activation object at 0x7fc6cc081f98> [26]\n",
      "<keras.layers.convolutional.Conv2D object at 0x7fc6cc01a160> [27]\n",
      "<keras.layers.normalization.BatchNormalization object at 0x7fc6cc0295f8> [28]\n",
      "<keras.layers.core.Activation object at 0x7fc6cc029e48> [29]\n",
      "<keras.layers.convolutional.Conv2D object at 0x7fc6cc032e48> [30]\n",
      "<keras.layers.normalization.BatchNormalization object at 0x7fc6c402eb70> [31]\n",
      "<keras.layers.core.Activation object at 0x7fc6c4038e10> [32]\n",
      "<keras.layers.convolutional.Conv2D object at 0x7fc6c4038c18> [33]\n",
      "<keras.layers.normalization.BatchNormalization object at 0x7fc6a02c45f8> [34]\n",
      "<keras.layers.merge.Add object at 0x7fc6a02c4588> [35]\n",
      "<keras.layers.core.Activation object at 0x7fc6a02deb38> [36]\n",
      "<keras.layers.convolutional.Conv2D object at 0x7fc6a02decf8> [37]\n",
      "<keras.layers.normalization.BatchNormalization object at 0x7fc6a0284a20> [38]\n",
      "<keras.layers.core.Activation object at 0x7fc6a0284d30> [39]\n",
      "<keras.layers.convolutional.Conv2D object at 0x7fc6a028dd30> [40]\n",
      "<keras.layers.normalization.BatchNormalization object at 0x7fc6a0242a20> [41]\n",
      "<keras.layers.core.Activation object at 0x7fc6a0242f98> [42]\n",
      "<keras.layers.convolutional.Conv2D object at 0x7fc6a024af98> [43]\n",
      "<keras.layers.convolutional.Conv2D object at 0x7fc6a0208438> [44]\n",
      "<keras.layers.normalization.BatchNormalization object at 0x7fc6a02084a8> [45]\n",
      "<keras.layers.normalization.BatchNormalization object at 0x7fc6a01cbd30> [46]\n",
      "<keras.layers.merge.Add object at 0x7fc6a01cbdd8> [47]\n",
      "<keras.layers.core.Activation object at 0x7fc6a0168f98> [48]\n",
      "<keras.layers.convolutional.Conv2D object at 0x7fc6a0185630> [49]\n",
      "<keras.layers.normalization.BatchNormalization object at 0x7fc6a0193f28> [50]\n",
      "<keras.layers.core.Activation object at 0x7fc6a019ac88> [51]\n",
      "<keras.layers.convolutional.Conv2D object at 0x7fc6a019aef0> [52]\n",
      "<keras.layers.normalization.BatchNormalization object at 0x7fc6a015c198> [53]\n",
      "<keras.layers.core.Activation object at 0x7fc6a015c780> [54]\n",
      "<keras.layers.convolutional.Conv2D object at 0x7fc6a0164d68> [55]\n",
      "<keras.layers.normalization.BatchNormalization object at 0x7fc6a011ca58> [56]\n",
      "<keras.layers.merge.Add object at 0x7fc6a0122ef0> [57]\n",
      "<keras.layers.core.Activation object at 0x7fc6a00b8f60> [58]\n",
      "<keras.layers.convolutional.Conv2D object at 0x7fc6a00beac8> [59]\n",
      "<keras.layers.normalization.BatchNormalization object at 0x7fc6a00e2fd0> [60]\n",
      "<keras.layers.core.Activation object at 0x7fc6a006ee48> [61]\n",
      "<keras.layers.convolutional.Conv2D object at 0x7fc6a006efd0> [62]\n",
      "<keras.layers.normalization.BatchNormalization object at 0x7fc6a00a5f28> [63]\n",
      "<keras.layers.core.Activation object at 0x7fc6a002b6d8> [64]\n",
      "<keras.layers.convolutional.Conv2D object at 0x7fc6a0033cc0> [65]\n",
      "<keras.layers.normalization.BatchNormalization object at 0x7fc6907bda58> [66]\n",
      "<keras.layers.merge.Add object at 0x7fc6907bd9e8> [67]\n",
      "<keras.layers.core.Activation object at 0x7fc6907d2c18> [68]\n",
      "<keras.layers.convolutional.Conv2D object at 0x7fc6907f7518> [69]\n",
      "<keras.layers.normalization.BatchNormalization object at 0x7fc690785f28> [70]\n",
      "<keras.layers.core.Activation object at 0x7fc69078dda0> [71]\n",
      "<keras.layers.convolutional.Conv2D object at 0x7fc69078df28> [72]\n",
      "<keras.layers.normalization.BatchNormalization object at 0x7fc690747f60> [73]\n",
      "<keras.layers.core.Activation object at 0x7fc69074b5f8> [74]\n",
      "<keras.layers.convolutional.Conv2D object at 0x7fc690755be0> [75]\n",
      "<keras.layers.normalization.BatchNormalization object at 0x7fc6907019b0> [76]\n",
      "<keras.layers.merge.Add object at 0x7fc690701940> [77]\n",
      "<keras.layers.core.Activation object at 0x7fc690725b70> [78]\n",
      "<keras.layers.convolutional.Conv2D object at 0x7fc6906ca470> [79]\n",
      "<keras.layers.normalization.BatchNormalization object at 0x7fc6906d8e80> [80]\n",
      "<keras.layers.core.Activation object at 0x7fc6906dee80> [81]\n",
      "<keras.layers.convolutional.Conv2D object at 0x7fc6906defd0> [82]\n",
      "<keras.layers.normalization.BatchNormalization object at 0x7fc690695e80> [83]\n",
      "<keras.layers.core.Activation object at 0x7fc69069ffd0> [84]\n",
      "<keras.layers.convolutional.Conv2D object at 0x7fc6906a8b70> [85]\n",
      "<keras.layers.convolutional.Conv2D object at 0x7fc69065f898> [86]\n",
      "<keras.layers.normalization.BatchNormalization object at 0x7fc69065f908> [87]\n",
      "<keras.layers.normalization.BatchNormalization object at 0x7fc6906248d0> [88]\n",
      "<keras.layers.merge.Add object at 0x7fc690624e10> [89]\n",
      "<keras.layers.core.Activation object at 0x7fc6905bb8d0> [90]\n",
      "<keras.layers.convolutional.Conv2D object at 0x7fc6905de550> [91]\n",
      "<keras.layers.normalization.BatchNormalization object at 0x7fc6905ebef0> [92]\n",
      "<keras.layers.core.Activation object at 0x7fc6905f2ef0> [93]\n",
      "<keras.layers.convolutional.Conv2D object at 0x7fc6905f2f28> [94]\n",
      "<keras.layers.normalization.BatchNormalization object at 0x7fc6905b4400> [95]\n",
      "<keras.layers.core.Activation object at 0x7fc6905b4a20> [96]\n",
      "<keras.layers.convolutional.Conv2D object at 0x7fc69053dfd0> [97]\n",
      "<keras.layers.normalization.BatchNormalization object at 0x7fc690574cf8> [98]\n",
      "<keras.layers.merge.Add object at 0x7fc6904fafd0> [99]\n",
      "<keras.layers.core.Activation object at 0x7fc690512c50> [100]\n",
      "<keras.layers.convolutional.Conv2D object at 0x7fc690517d68> [101]\n",
      "<keras.layers.normalization.BatchNormalization object at 0x7fc6904c39b0> [102]\n",
      "<keras.layers.core.Activation object at 0x7fc6904c3f98> [103]\n",
      "<keras.layers.convolutional.Conv2D object at 0x7fc6904cecc0> [104]\n",
      "<keras.layers.normalization.BatchNormalization object at 0x7fc690485a58> [105]\n",
      "<keras.layers.core.Activation object at 0x7fc6904859e8> [106]\n",
      "<keras.layers.convolutional.Conv2D object at 0x7fc69048df60> [107]\n",
      "<keras.layers.normalization.BatchNormalization object at 0x7fc69044c400> [108]\n",
      "<keras.layers.merge.Add object at 0x7fc69044ca20> [109]\n",
      "<keras.layers.core.Activation object at 0x7fc690464978> [110]\n",
      "<keras.layers.convolutional.Conv2D object at 0x7fc690464fd0> [111]\n",
      "<keras.layers.normalization.BatchNormalization object at 0x7fc690412ef0> [112]\n",
      "<keras.layers.core.Activation object at 0x7fc69041bc18> [113]\n",
      "<keras.layers.convolutional.Conv2D object at 0x7fc69041be80> [114]\n",
      "<keras.layers.normalization.BatchNormalization object at 0x7fc6903dd0f0> [115]\n",
      "<keras.layers.core.Activation object at 0x7fc6903dd710> [116]\n",
      "<keras.layers.convolutional.Conv2D object at 0x7fc6903e4cf8> [117]\n",
      "<keras.layers.normalization.BatchNormalization object at 0x7fc69039e9e8> [118]\n",
      "<keras.layers.merge.Add object at 0x7fc69039ef60> [119]\n",
      "<keras.layers.core.Activation object at 0x7fc6903b3f98> [120]\n",
      "<keras.layers.convolutional.Conv2D object at 0x7fc690340a58> [121]\n",
      "<keras.layers.normalization.BatchNormalization object at 0x7fc69036d668> [122]\n",
      "<keras.layers.core.Activation object at 0x7fc69036df60> [123]\n",
      "<keras.layers.convolutional.Conv2D object at 0x7fc690375978> [124]\n",
      "<keras.layers.normalization.BatchNormalization object at 0x7fc69032c748> [125]\n",
      "<keras.layers.core.Activation object at 0x7fc69032c6d8> [126]\n",
      "<keras.layers.convolutional.Conv2D object at 0x7fc690334eb8> [127]\n",
      "<keras.layers.normalization.BatchNormalization object at 0x7fc6902f1128> [128]\n",
      "<keras.layers.merge.Add object at 0x7fc6902f1748> [129]\n",
      "<keras.layers.core.Activation object at 0x7fc69027e668> [130]\n",
      "<keras.layers.convolutional.Conv2D object at 0x7fc69028acf8> [131]\n",
      "<keras.layers.normalization.BatchNormalization object at 0x7fc6902aecf8> [132]\n",
      "<keras.layers.core.Activation object at 0x7fc6902aeef0> [133]\n",
      "<keras.layers.convolutional.Conv2D object at 0x7fc6902b6fd0> [134]\n",
      "<keras.layers.normalization.BatchNormalization object at 0x7fc69026dcf8> [135]\n",
      "<keras.layers.core.Activation object at 0x7fc690275fd0> [136]\n",
      "<keras.layers.convolutional.Conv2D object at 0x7fc6901fd9e8> [137]\n",
      "<keras.layers.normalization.BatchNormalization object at 0x7fc690234780> [138]\n",
      "<keras.layers.merge.Add object at 0x7fc690234710> [139]\n",
      "<keras.layers.core.Activation object at 0x7fc69029d2e8> [140]\n",
      "<keras.layers.convolutional.Conv2D object at 0x7fc6901f05c0> [141]\n",
      "<keras.layers.normalization.BatchNormalization object at 0x7fc69017ce48> [142]\n",
      "<keras.layers.core.Activation object at 0x7fc690181f28> [143]\n",
      "<keras.layers.convolutional.Conv2D object at 0x7fc690181f60> [144]\n",
      "<keras.layers.normalization.BatchNormalization object at 0x7fc690144400> [145]\n",
      "<keras.layers.core.Activation object at 0x7fc690144a20> [146]\n",
      "<keras.layers.convolutional.Conv2D object at 0x7fc69014dfd0> [147]\n",
      "<keras.layers.convolutional.Conv2D object at 0x7fc69010cf28> [148]\n",
      "<keras.layers.normalization.BatchNormalization object at 0x7fc690104d30> [149]\n",
      "<keras.layers.normalization.BatchNormalization object at 0x7fc6900ccda0> [150]\n",
      "<keras.layers.merge.Add object at 0x7fc6900cce48> [151]\n",
      "<keras.layers.core.Activation object at 0x7fc6900ebf98> [152]\n",
      "<keras.layers.convolutional.Conv2D object at 0x7fc6900f1ba8> [153]\n",
      "<keras.layers.normalization.BatchNormalization object at 0x7fc69009b7f0> [154]\n",
      "<keras.layers.core.Activation object at 0x7fc69009bf98> [155]\n",
      "<keras.layers.convolutional.Conv2D object at 0x7fc6900a4b38> [156]\n",
      "<keras.layers.normalization.BatchNormalization object at 0x7fc69005b8d0> [157]\n",
      "<keras.layers.core.Activation object at 0x7fc69005b860> [158]\n",
      "<keras.layers.convolutional.Conv2D object at 0x7fc690065dd8> [159]\n",
      "<keras.layers.normalization.BatchNormalization object at 0x7fc63eec92b0> [160]\n",
      "<keras.layers.merge.Add object at 0x7fc63eec98d0> [161]\n",
      "<keras.layers.core.Activation object at 0x7fc63ee617f0> [162]\n",
      "<keras.layers.convolutional.Conv2D object at 0x7fc63ee61fd0> [163]\n",
      "<keras.layers.normalization.BatchNormalization object at 0x7fc63ee92e80> [164]\n",
      "<keras.layers.core.Activation object at 0x7fc690040fd0> [165]\n",
      "<keras.layers.convolutional.Conv2D object at 0x7fc63ee9bfd0> [166]\n",
      "<keras.layers.normalization.BatchNormalization object at 0x7fc63ee51e80> [167]\n",
      "<keras.layers.core.Activation object at 0x7fc63ee5afd0> [168]\n",
      "<keras.layers.convolutional.Conv2D object at 0x7fc63ede3b70> [169]\n",
      "<keras.layers.normalization.BatchNormalization object at 0x7fc63ee18908> [170]\n",
      "<keras.layers.merge.Add object at 0x7fc63ee18898> [171]\n",
      "<keras.layers.core.Activation object at 0x7fc63edb2ac8> [172]\n",
      "<keras.layers.pooling.AveragePooling2D object at 0x7fc63edbf8d0> [173]\n",
      "<keras.layers.pooling.GlobalAveragePooling2D object at 0x7fc63ed64e48> [174]\n",
      "vgg layer 2 is trainable: True\n",
      "vgg layer 3 is trainable: False\n",
      "WARNING:tensorflow:From /home/ubuntu/anaconda3/envs/tensorflow_p36/lib/python3.6/site-packages/keras/optimizers.py:790: The name tf.train.Optimizer is deprecated. Please use tf.compat.v1.train.Optimizer instead.\n",
      "\n"
     ]
    },
    {
     "name": "stdout",
     "output_type": "stream",
     "text": [
      "WARNING:tensorflow:From /home/ubuntu/anaconda3/envs/tensorflow_p36/lib/python3.6/site-packages/keras/backend/tensorflow_backend.py:3295: The name tf.log is deprecated. Please use tf.math.log instead.\n",
      "\n"
     ]
    }
   ],
   "source": [
    "Resize_pixelsize = 197\n",
    "vgg_notop = VGGFace(model='resnet50', include_top=False, input_shape=(Resize_pixelsize, Resize_pixelsize, 3), pooling='avg')\n",
    "last_layer = vgg_notop.get_layer('avg_pool').output\n",
    "x = Flatten(name='flatten')(last_layer)\n",
    "x = Dense(4096, activation='relu', name='fc6')(x)\n",
    "x = Dense(1024, activation='relu', name='fc7')(x)\n",
    "#print(\"Emotions count\", len(EMOTIONS))\n",
    "l=0\n",
    "for layer in vgg_notop.layers:\n",
    "    print(layer,\"[\"+str(l)+\"]\")\n",
    "    l=l+1\n",
    "    \n",
    "batch_norm_indices = [2, 6, 9, 13, 14, 18, 21, 24, 28, 31, 34, 38, 41, 45, 46, 53, 56, 60, 63, 66, 70, 73, 76, 80, 83, 87, 88, 92, 95, 98]\n",
    "for i in range(101):\n",
    "    if i not in batch_norm_indices:\n",
    "        vgg_notop.layers[i].trainable = False\n",
    "\n",
    "print('vgg layer 2 is trainable: ' + str(vgg_notop.layers[2].trainable))\n",
    "print('vgg layer 3 is trainable: ' + str(vgg_notop.layers[3].trainable))\n",
    "\n",
    "out = Dense(7, activation='softmax', name='classifier')(x)\n",
    "\n",
    "custom_resnet = Model(vgg_notop.input, out)\n",
    "\n",
    "\n",
    "optim = keras.optimizers.Adam(lr=0.001, beta_1=0.9, beta_2=0.999, epsilon=1e-08, decay=0.0)\n",
    "#optim = keras.optimizers.Adam(lr=0.0005, beta_1=0.9, beta_2=0.999, epsilon=1e-08, decay=0.0)\n",
    "sgd = keras.optimizers.SGD(lr=0.01, decay=1e-6, momentum=0.9, nesterov=True)\n",
    "\n",
    "custom_resnet.compile(optimizer=sgd, loss='categorical_crossentropy', metrics=['accuracy'])\n",
    "plot_model(custom_resnet, to_file='model2.png', show_shapes=True)"
   ]
  },
  {
   "cell_type": "code",
   "execution_count": 5,
   "metadata": {
    "colab": {
     "base_uri": "https://localhost:8080/",
     "height": 34
    },
    "colab_type": "code",
    "id": "EjKPXZ3TX3Jb",
    "outputId": "ee0e13f9-5570-4876-f3b8-ac0ca4a7818e"
   },
   "outputs": [],
   "source": [
    "# Function that reads the data from the csv file, increases the size of the images and returns the images and their labels\n",
    "    # dataset: Data path\n",
    "def get_data(dataset, pixelsize = Resize_pixelsize):\n",
    "    \n",
    "    file_stream = file_io.FileIO(dataset, mode='r')\n",
    "    data = pd.read_csv(file_stream)\n",
    "\n",
    "    #data = pd.read_csv('fer2013/fer2013.csv')\n",
    "    data['pixels'] = data['pixels'].apply(lambda x: [int(pixel) for pixel in x.split()])\n",
    "\n",
    "    # Retrieve train input and target\n",
    "    X, Y = data['pixels'].tolist(), data['emotion'].values\n",
    "    #print(len(X))\n",
    "    #print(X[0])\n",
    "    # Reshape images to 4D (num_samples, width, height, num_channels)\n",
    "    X = np.array(X, dtype='float32').reshape(-1,48,48,1)\n",
    "    # Normalize images with max (the maximum pixel intensity is 255)\n",
    "    X = X/255.0\n",
    "    #print(X.shape)\n",
    "    #print(X[0])\n",
    "    #image_resized = resize(image, (image.shape[0] // 4, image.shape[1] // 4), anti_aliasing=True)\n",
    "\n",
    "    X_res = np.zeros((X.shape[0], pixelsize,pixelsize,3))\n",
    "    for ind in range(X.shape[0]):  #X_dev.shape[0]\n",
    "        sample = X[ind]\n",
    "        sample = sample.reshape(48, 48)\n",
    "        #plt.imshow(sample, cmap='gray')\n",
    "        #plt.show()\n",
    "        image_resized = resize(sample, (pixelsize, pixelsize), anti_aliasing=True)\n",
    "        X_res[ind,:,:,:] = image_resized.reshape(pixelsize,pixelsize,1)\n",
    "    #         np.save('X_res.npy', X_res)\n",
    "\n",
    "    Y_res = np.zeros((Y.size, Y.max()+1))\n",
    "    Y_res[np.arange(Y.size),Y] = 1\n",
    "    \n",
    "    \n",
    "    return  X_res, Y_res"
   ]
  },
  {
   "cell_type": "code",
   "execution_count": 6,
   "metadata": {},
   "outputs": [],
   "source": [
    "EPOCHS = 20\n",
    "BS = 32\n",
    "training_dataset_dir = 'fer2013/train.csv'\n",
    "dev_dataset_dir = 'fer2013/dev.csv'\n",
    "# Data preparation\n",
    "X_train_res, Y_train_res  = get_data(training_dataset_dir)\n",
    "X_dev_res, Y_dev_res  = get_data(dev_dataset_dir)\n",
    "\n",
    "# Generate batches of tensor image data with real-time data augmentation. The data will be looped over (in batches) indefinitely\n",
    "# rescale:          Rescaling factor (defaults to None). Multiply the data by the value provided (before applying any other transformation)\n",
    "# rotation_range:   Int. Degree range for random rotations\n",
    "# shear_range:      Float. Shear Intensity (Shear angle in counter-clockwise direction as radians)\n",
    "# zoom_range:       Float or [lower, upper]. Range for random zoom. If a float, [lower, upper] = [1-zoom_range, 1+zoom_range]\n",
    "# fill_mode :       Points outside the boundaries of the input are filled according to the given mode: {\"constant\", \"nearest\", \"reflect\" or \"wrap\"}\n",
    "# horizontal_flip:  Boolean. Randomly flip inputs horizontally\n",
    "train_datagen = ImageDataGenerator(\n",
    "    rotation_range  = 10,\n",
    "    shear_range     = 10, # 10 degrees\n",
    "    zoom_range      = 0.1,\n",
    "    fill_mode       = 'reflect',\n",
    "    horizontal_flip = True)\n",
    "\n",
    "# Takes numpy data & label arrays, and generates batches of augmented/normalized data. Yields batcfillhes indefinitely, in an infinite loop\n",
    "    # x:            Data. Should have rank 4. In case of grayscale data, the channels axis should have value 1, and in case of RGB data, \n",
    "    #               it should have value 3\n",
    "    # y:            Labels\n",
    "    # batch_size:   Int (default: 32)\n",
    "train_generator = train_datagen.flow(X_train_res, Y_train_res,  batch_size  = BS)"
   ]
  },
  {
   "cell_type": "code",
   "execution_count": 7,
   "metadata": {},
   "outputs": [
    {
     "name": "stdout",
     "output_type": "stream",
     "text": [
      "X_train_res shape: (28709, 197, 197, 3)\n",
      "Y_train_res shape: (28709, 7)\n",
      "X_dev_res shape: (3589, 197, 197, 3)\n",
      "Y_dev_res shape: (3589, 7)\n"
     ]
    }
   ],
   "source": [
    "#print (\"X_train shape: \" + str(X_train.shape))\n",
    "#print (\"Y_train shape: \" + str(Y_train.shape))\n",
    "#print (\"X_dev shape: \" + str(X_dev.shape))\n",
    "#print (\"Y_dev shape: \" + str(Y_dev.shape))\n",
    "\n",
    "print (\"X_train_res shape: \" + str(X_train_res.shape))\n",
    "print(\"Y_train_res shape: \" + str(Y_train_res.shape))\n",
    "print (\"X_dev_res shape: \" + str(X_dev_res.shape))\n",
    "print(\"Y_dev_res shape: \" + str(Y_dev_res.shape))"
   ]
  },
  {
   "cell_type": "code",
   "execution_count": 8,
   "metadata": {
    "colab": {},
    "colab_type": "code",
    "id": "l3DpD608HuiQ"
   },
   "outputs": [
    {
     "data": {
      "image/png": "[encoded data removed]",
      "text/plain": [
       "<Figure size 432x288 with 1 Axes>"
      ]
     },
     "metadata": {},
     "output_type": "display_data"
    },
    {
     "name": "stdout",
     "output_type": "stream",
     "text": [
      "[1. 0. 0. 0. 0. 0. 0.]\n"
     ]
    },
    {
     "data": {
      "image/png": "[encoded data removed]",
      "text/plain": [
       "<Figure size 432x288 with 1 Axes>"
      ]
     },
     "metadata": {},
     "output_type": "display_data"
    },
    {
     "name": "stdout",
     "output_type": "stream",
     "text": [
      "[0. 0. 0. 1. 0. 0. 0.]\n"
     ]
    }
   ],
   "source": [
    "i = 10\n",
    "#image = X_train[i,:,:,:].reshape(48, 48)\n",
    "#plt.imshow(image, cmap='gray')\n",
    "#plt.show()\n",
    "\n",
    "image_resized = X_train_res[i,:,:,:].reshape(Resize_pixelsize, Resize_pixelsize, 3)\n",
    "plt.imshow(image_resized)\n",
    "plt.show()\n",
    "print(Y_train_res[i])\n",
    "\n",
    "dev_resized = X_dev_res[i,:,:,:].reshape(Resize_pixelsize, Resize_pixelsize, 3)\n",
    "plt.imshow(dev_resized)\n",
    "plt.show()\n",
    "print(Y_dev_res[i])\n"
   ]
  },
  {
   "cell_type": "markdown",
   "metadata": {
    "colab": {},
    "colab_type": "code",
    "id": "Yi3lopGhZIuT"
   },
   "source": [
    "#Baseline model\n",
    "model = tf.keras.models.Sequential([\n",
    "    InputLayer(input_shape=(48,48,1),name=\"input\"),\n",
    "    Conv2D(filters=32,kernel_size=3,activation='relu',padding='same',name=\"conv1\"),\n",
    "    Dropout(0.25), BatchNormalization(),\n",
    "    Conv2D(filters=32,kernel_size=3,activation='relu',padding='same',name=\"conv2\"),\n",
    "    Dropout(0.25), BatchNormalization(),\n",
    "    MaxPool2D(pool_size=(2,2),name=\"maxpool1\"),\n",
    "    Conv2D(filters=64,kernel_size=3,activation='relu',padding='same',name=\"conv3\"),\n",
    "    Dropout(0.25), BatchNormalization(),\n",
    "    Conv2D(filters=64,kernel_size=3,activation='relu',padding='same',name=\"conv4\"),\n",
    "    Dropout(0.25), BatchNormalization(),\n",
    "    Flatten(),\n",
    "    Dense(1024,input_shape=(24*24*64,1),activation='relu',name='fc1'),\n",
    "    Dense(7,input_shape=(1024,1),activation='softmax',name='fc-softmax')\n",
    "])\n",
    "\n",
    "print(\"Accuracy after training\")\n",
    "model.compile(loss='sparse_categorical_crossentropy',optimizer='adam',metrics=['accuracy'])"
   ]
  },
  {
   "cell_type": "markdown",
   "metadata": {
    "colab": {},
    "colab_type": "code",
    "id": "iKzZuMBafv0a",
    "scrolled": true
   },
   "source": [
    "model.fit(X_train, Y_train, batch_size=32, epochs=1, validation_data=(X_dev, Y_dev))"
   ]
  },
  {
   "cell_type": "markdown",
   "metadata": {},
   "source": [
    "small_x = X_train_res[0:5000]\n",
    "small_y = Y_train_res[0:5000]"
   ]
  },
  {
   "cell_type": "markdown",
   "metadata": {
    "colab": {},
    "colab_type": "code",
    "id": "pLISdlaStbUn"
   },
   "source": [
    "history = custom_resnet.fit(\n",
    "    X_train_res,\n",
    "    Y_train_res,\n",
    "    epochs=10,\n",
    "    batch_size=64,\n",
    "    shuffle=True,\n",
    "    validation_data=(X_dev_res, Y_dev_res)\n",
    ")\n",
    "\n",
    "print('\\nhistory dict:', history.history)"
   ]
  },
  {
   "cell_type": "code",
   "execution_count": null,
   "metadata": {},
   "outputs": [
    {
     "name": "stdout",
     "output_type": "stream",
     "text": [
      "WARNING:tensorflow:From /home/ubuntu/anaconda3/envs/tensorflow_p36/lib/python3.6/site-packages/tensorflow_core/python/ops/math_grad.py:1424: where (from tensorflow.python.ops.array_ops) is deprecated and will be removed in a future version.\n",
      "Instructions for updating:\n",
      "Use tf.where in 2.0, which has the same broadcast rule as np.where\n",
      "WARNING:tensorflow:From /home/ubuntu/anaconda3/envs/tensorflow_p36/lib/python3.6/site-packages/keras/backend/tensorflow_backend.py:986: The name tf.assign_add is deprecated. Please use tf.compat.v1.assign_add instead.\n",
      "\n",
      "WARNING:tensorflow:From /home/ubuntu/anaconda3/envs/tensorflow_p36/lib/python3.6/site-packages/keras/backend/tensorflow_backend.py:973: The name tf.assign is deprecated. Please use tf.compat.v1.assign instead.\n",
      "\n",
      "Epoch 1/20\n",
      "897/897 [==============================] - 604s 673ms/step - loss: 1.1478 - acc: 0.5865 - val_loss: 1.0071 - val_acc: 0.6266\n",
      "Epoch 2/20\n",
      "897/897 [==============================] - 584s 651ms/step - loss: 0.9229 - acc: 0.6552 - val_loss: 0.9645 - val_acc: 0.6539\n",
      "Epoch 3/20\n",
      "897/897 [==============================] - 579s 646ms/step - loss: 0.8386 - acc: 0.6892 - val_loss: 0.9583 - val_acc: 0.6512\n",
      "Epoch 4/20\n",
      " 19/897 [..............................] - ETA: 8:42 - loss: 0.8425 - acc: 0.6763"
     ]
    }
   ],
   "source": [
    "custom_resnet.fit_generator(\n",
    "    generator           = train_generator,\n",
    "    validation_data=(X_dev_res, Y_dev_res), \n",
    "    steps_per_epoch=len(X_train_res) // BS,\n",
    "    shuffle=True,\n",
    "    epochs=EPOCHS)  "
   ]
  },
  {
   "cell_type": "code",
   "execution_count": null,
   "metadata": {},
   "outputs": [],
   "source": [
    "custom_resnet.save('transfer_learning_DG.h5')"
   ]
  },
  {
   "cell_type": "markdown",
   "metadata": {},
   "source": [
    "custom_resnet.evaluate(X_train_res, Y_train_res)"
   ]
  },
  {
   "cell_type": "markdown",
   "metadata": {},
   "source": [
    "custom_resnet.evaluate(X_dev_res, Y_dev_res)"
   ]
  },
  {
   "cell_type": "code",
   "execution_count": null,
   "metadata": {},
   "outputs": [],
   "source": []
  }
 ],
 "metadata": {
  "accelerator": "GPU",
  "colab": {
   "collapsed_sections": [],
   "include_colab_link": true,
   "machine_shape": "hm",
   "name": "fer2013.ipynb",
   "provenance": []
  },
  "kernelspec": {
   "display_name": "Python 3",
   "language": "python",
   "name": "python3"
  },
  "language_info": {
   "codemirror_mode": {
    "name": "ipython",
    "version": 3
   },
   "file_extension": ".py",
   "mimetype": "text/x-python",
   "name": "python",
   "nbconvert_exporter": "python",
   "pygments_lexer": "ipython3",
   "version": "3.6.5"
  }
 },
 "nbformat": 4,
 "nbformat_minor": 1
}
