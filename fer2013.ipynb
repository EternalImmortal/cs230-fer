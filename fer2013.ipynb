{
  "nbformat": 4,
  "nbformat_minor": 0,
  "metadata": {
    "accelerator": "GPU",
    "colab": {
      "name": "fer2013.ipynb",
      "provenance": [],
      "collapsed_sections": []
    },
    "kernelspec": {
      "name": "python3",
      "display_name": "Python 3"
    }
  },
  "cells": [
    {
      "cell_type": "code",
      "metadata": {
        "colab_type": "code",
        "id": "gwdg7Sv3XBaP",
        "colab": {
          "base_uri": "https://localhost:8080/",
          "height": 34
        },
        "outputId": "f573015e-64ef-465d-b2ee-2c94b4046cfe"
      },
      "source": [
        "%tensorflow_version 2.x"
      ],
      "execution_count": 2,
      "outputs": [
        {
          "output_type": "stream",
          "text": [
            "TensorFlow 2.x selected.\n"
          ],
          "name": "stdout"
        }
      ]
    },
    {
      "cell_type": "code",
      "metadata": {
        "colab_type": "code",
        "id": "2nz38mJZXN_P",
        "colab": {}
      },
      "source": [
        "import matplotlib.pyplot as plt\n",
        "import pandas as pd\n",
        "import numpy as np\n",
        "\n",
        "import tensorflow as tf\n",
        "from tensorflow.keras.layers import *\n",
        "\n",
        "%matplotlib inline"
      ],
      "execution_count": 0,
      "outputs": []
    },
    {
      "cell_type": "code",
      "metadata": {
        "colab_type": "code",
        "id": "EjKPXZ3TX3Jb",
        "outputId": "39ee5b7d-b5be-4b4b-8f19-04add3d94699",
        "colab": {
          "base_uri": "https://localhost:8080/",
          "height": 122
        }
      },
      "source": [
        "from google.colab import drive\n",
        "drive.mount('/content/drive')\n",
        "data = pd.read_csv('/content/drive/My Drive/cs230 project/collab/fer2013/fer2013.csv')\n",
        "\n",
        "#print('Number of samples in the dataset: ', data.shape[0])\n",
        "# Transform images from strings to lists of integers. TODO: use an array cast\n",
        "data['pixels'] = data['pixels'].apply(lambda x: [int(pixel) for pixel in x.split()])"
      ],
      "execution_count": 4,
      "outputs": [
        {
          "output_type": "stream",
          "text": [
            "Go to this URL in a browser: https://accounts.google.com/o/oauth2/auth?client_id=947318989803-6bn6qk8qdgf4n4g3pfee6491hc0brc4i.apps.googleusercontent.com&redirect_uri=urn%3aietf%3awg%3aoauth%3a2.0%3aoob&response_type=code&scope=email%20https%3a%2f%2fwww.googleapis.com%2fauth%2fdocs.test%20https%3a%2f%2fwww.googleapis.com%2fauth%2fdrive%20https%3a%2f%2fwww.googleapis.com%2fauth%2fdrive.photos.readonly%20https%3a%2f%2fwww.googleapis.com%2fauth%2fpeopleapi.readonly\n",
            "\n",
            "Enter your authorization code:\n",
            "··········\n",
            "Mounted at /content/drive\n"
          ],
          "name": "stdout"
        }
      ]
    },
    {
      "cell_type": "code",
      "metadata": {
        "colab_type": "code",
        "id": "oXIX_VLMYJty",
        "colab": {}
      },
      "source": [
        "emotion_cat = {0:'Angry', 1:'Disgust', 2:'Fear', 3:'Happy', 4:'Sad', 5:'Surprise', 6:'Neutral'}\n",
        "\n",
        "# See the target distribution (check for imbalance)\n",
        "#target_counts = data['emotion'].value_counts().reset_index(drop=False)\n",
        "#target_counts.columns = ['emotion', 'number_samples']\n",
        "#target_counts['emotion'] = target_counts['emotion'].map(emotion_cat)\n",
        "#target_counts\n",
        "\n",
        "# Select randomly 10 images\n",
        "#random_seed = 1\n",
        "#data_sample = data.sample(10, random_state=random_seed)\n",
        "#f, axarr = plt.subplots(2, 5, figsize=(20, 10))\n",
        "\n",
        "#i, j = 0, 0\n",
        "#for idx, row in data_sample.iterrows():\n",
        "#    img = np.array(row['pixels']).reshape(48,48)\n",
        "#    axarr[i,j].imshow(img, cmap='gray')\n",
        "#    axarr[i,j].set_title(emotion_cat[row['emotion']])\n",
        "#    if j==4:\n",
        "#        i += 1\n",
        "#        j = 0\n",
        "#    else:\n",
        "#        j += 1"
      ],
      "execution_count": 0,
      "outputs": []
    },
    {
      "cell_type": "code",
      "metadata": {
        "colab_type": "code",
        "id": "hAjh6yOLYPZm",
        "colab": {}
      },
      "source": [
        "data_train = data[data['Usage']=='Training']\n",
        "#print('Number samples in the training dataset: ', data_train.shape[0])\n",
        "\n",
        "data_dev = data[data['Usage']=='PublicTest']\n",
        "#print('Number samples in the development dataset: ', data_dev.shape[0])\n",
        "\n",
        "# Retrieve train input and target\n",
        "X_train, y_train = data_train['pixels'].tolist(), data_train['emotion'].values\n",
        "# Reshape images to 4D (num_samples, width, height, num_channels)\n",
        "X_train = np.array(X_train, dtype='float32').reshape(-1,48,48,1)\n",
        "# Normalize images with max (the maximum pixel intensity is 255)\n",
        "X_train = X_train/255.0\n",
        "\n",
        "# Retrieve dev input and target\n",
        "X_dev, y_dev = data_dev['pixels'].tolist(), data_dev['emotion'].values\n",
        "X_dev = np.array(X_dev, dtype='float32').reshape(-1,48,48,1)\n",
        "X_dev = X_dev/255.0"
      ],
      "execution_count": 0,
      "outputs": []
    },
    {
      "cell_type": "code",
      "metadata": {
        "colab_type": "code",
        "id": "Yi3lopGhZIuT",
        "colab": {}
      },
      "source": [
        "# Implement below paper CPCPCPFF depth 5, 2.4m params\n",
        "# http://openaccess.thecvf.com/content_cvpr_2016_workshops/w28/papers/Kim_Fusing_Aligned_and_CVPR_2016_paper.pdf\n",
        "# Reference: https://arxiv.org/pdf/1612.02903.pdf\n",
        "model = tf.keras.models.Sequential(   \n",
        "    [\n",
        "      InputLayer(input_shape=(48,48,1),name=\"input\"),\n",
        "      Conv2D(filters=64,kernel_size=5,activation='relu',padding='same',name=\"conv1\"),\n",
        "      MaxPool2D(pool_size=(2,2),name=\"maxpool1\"),     \n",
        "      Conv2D(filters=96,kernel_size=5,activation='relu',padding='same',name=\"conv2\"),\n",
        "      MaxPool2D(pool_size=(2,2),name=\"maxpool2\"),\n",
        "      Conv2D(filters=256,kernel_size=5,activation='relu',padding='same',name=\"conv3\"),\n",
        "      MaxPool2D(pool_size=(2,2),name=\"maxpool3\"),\n",
        "      Conv2D(filters=256,kernel_size=5,activation='relu',padding='same',name=\"conv4\"),\n",
        "      Flatten(),\n",
        "      Dense(2048,input_shape=(6*6*256,1),activation='relu',name='fc1'),\n",
        "      Dropout(0.5),\n",
        "      Dense(7,input_shape=(2048,1),activation='softmax',name='fc-softmax')\n",
        "    ]\n",
        ")\n",
        "\n",
        "#TODO: weight decay of 0.0001...initial learning rate is set to 0.01 and reduced by a factor of 2 at every 25 epoch\n",
        "sgd = tf.keras.optimizers.SGD(lr=0.01,momentum=0.9, nesterov=True)\n",
        "model.compile(loss='sparse_categorical_crossentropy',optimizer=sgd,metrics=['accuracy'])"
      ],
      "execution_count": 0,
      "outputs": []
    },
    {
      "cell_type": "code",
      "metadata": {
        "colab_type": "code",
        "id": "iKzZuMBafv0a",
        "scrolled": true,
        "outputId": "6ee6a4b5-e98e-4f4a-acbe-5ed67ba48de9",
        "colab": {
          "base_uri": "https://localhost:8080/",
          "height": 1000
        }
      },
      "source": [
        "model.fit(X_train,y_train,batch_size=500,epochs=1000,validation_data=(X_dev, y_dev))"
      ],
      "execution_count": 12,
      "outputs": [
        {
          "output_type": "stream",
          "text": [
            "Train on 28709 samples, validate on 3589 samples\n",
            "Epoch 1/100\n",
            "28709/28709 [==============================] - 6s 196us/sample - loss: 1.8211 - accuracy: 0.2500 - val_loss: 1.8024 - val_accuracy: 0.2502\n",
            "Epoch 2/100\n",
            "28709/28709 [==============================] - 5s 177us/sample - loss: 1.7707 - accuracy: 0.2702 - val_loss: 1.7184 - val_accuracy: 0.3162\n",
            "Epoch 3/100\n",
            "28709/28709 [==============================] - 5s 178us/sample - loss: 1.6818 - accuracy: 0.3377 - val_loss: 1.6244 - val_accuracy: 0.3661\n",
            "Epoch 4/100\n",
            "28709/28709 [==============================] - 5s 176us/sample - loss: 1.5864 - accuracy: 0.3888 - val_loss: 1.5362 - val_accuracy: 0.4115\n",
            "Epoch 5/100\n",
            "28709/28709 [==============================] - 5s 180us/sample - loss: 1.5078 - accuracy: 0.4211 - val_loss: 1.4952 - val_accuracy: 0.4199\n",
            "Epoch 6/100\n",
            "28709/28709 [==============================] - 5s 177us/sample - loss: 1.4491 - accuracy: 0.4446 - val_loss: 1.4330 - val_accuracy: 0.4550\n",
            "Epoch 7/100\n",
            "28709/28709 [==============================] - 5s 179us/sample - loss: 1.3909 - accuracy: 0.4700 - val_loss: 1.3981 - val_accuracy: 0.4731\n",
            "Epoch 8/100\n",
            "28709/28709 [==============================] - 5s 179us/sample - loss: 1.3333 - accuracy: 0.4921 - val_loss: 1.3444 - val_accuracy: 0.4915\n",
            "Epoch 9/100\n",
            "28709/28709 [==============================] - 5s 177us/sample - loss: 1.2764 - accuracy: 0.5149 - val_loss: 1.3107 - val_accuracy: 0.5040\n",
            "Epoch 10/100\n",
            "28709/28709 [==============================] - 5s 178us/sample - loss: 1.2155 - accuracy: 0.5419 - val_loss: 1.3109 - val_accuracy: 0.5013\n",
            "Epoch 11/100\n",
            "28709/28709 [==============================] - 5s 176us/sample - loss: 1.1538 - accuracy: 0.5694 - val_loss: 1.2610 - val_accuracy: 0.5138\n",
            "Epoch 12/100\n",
            "28709/28709 [==============================] - 5s 179us/sample - loss: 1.0878 - accuracy: 0.5942 - val_loss: 1.2559 - val_accuracy: 0.5308\n",
            "Epoch 13/100\n",
            "28709/28709 [==============================] - 5s 178us/sample - loss: 1.0136 - accuracy: 0.6265 - val_loss: 1.2472 - val_accuracy: 0.5386\n",
            "Epoch 14/100\n",
            "28709/28709 [==============================] - 5s 179us/sample - loss: 0.9335 - accuracy: 0.6536 - val_loss: 1.2917 - val_accuracy: 0.5222\n",
            "Epoch 15/100\n",
            "28709/28709 [==============================] - 5s 178us/sample - loss: 0.8447 - accuracy: 0.6912 - val_loss: 1.2989 - val_accuracy: 0.5394\n",
            "Epoch 16/100\n",
            "28709/28709 [==============================] - 5s 176us/sample - loss: 0.7401 - accuracy: 0.7309 - val_loss: 1.2982 - val_accuracy: 0.5592\n",
            "Epoch 17/100\n",
            "28709/28709 [==============================] - 5s 178us/sample - loss: 0.6344 - accuracy: 0.7728 - val_loss: 1.4011 - val_accuracy: 0.5383\n",
            "Epoch 18/100\n",
            "28709/28709 [==============================] - 5s 179us/sample - loss: 0.5293 - accuracy: 0.8111 - val_loss: 1.4772 - val_accuracy: 0.5347\n",
            "Epoch 19/100\n",
            "28709/28709 [==============================] - 5s 179us/sample - loss: 0.4334 - accuracy: 0.8466 - val_loss: 1.5685 - val_accuracy: 0.5525\n",
            "Epoch 20/100\n",
            "28709/28709 [==============================] - 5s 177us/sample - loss: 0.3533 - accuracy: 0.8767 - val_loss: 1.6420 - val_accuracy: 0.5486\n",
            "Epoch 21/100\n",
            "28709/28709 [==============================] - 5s 178us/sample - loss: 0.2860 - accuracy: 0.9022 - val_loss: 1.8378 - val_accuracy: 0.5564\n",
            "Epoch 22/100\n",
            "28709/28709 [==============================] - 5s 179us/sample - loss: 0.2242 - accuracy: 0.9233 - val_loss: 1.9395 - val_accuracy: 0.5503\n",
            "Epoch 23/100\n",
            "28709/28709 [==============================] - 5s 177us/sample - loss: 0.1830 - accuracy: 0.9405 - val_loss: 2.0247 - val_accuracy: 0.5587\n",
            "Epoch 24/100\n",
            "28709/28709 [==============================] - 5s 178us/sample - loss: 0.1537 - accuracy: 0.9499 - val_loss: 2.1874 - val_accuracy: 0.5573\n",
            "Epoch 25/100\n",
            "28709/28709 [==============================] - 5s 177us/sample - loss: 0.1255 - accuracy: 0.9621 - val_loss: 2.3620 - val_accuracy: 0.5595\n",
            "Epoch 26/100\n",
            "28709/28709 [==============================] - 5s 178us/sample - loss: 0.1112 - accuracy: 0.9672 - val_loss: 2.3619 - val_accuracy: 0.5592\n",
            "Epoch 27/100\n",
            "28709/28709 [==============================] - 5s 178us/sample - loss: 0.0888 - accuracy: 0.9756 - val_loss: 2.4105 - val_accuracy: 0.5550\n",
            "Epoch 28/100\n",
            "28709/28709 [==============================] - 5s 176us/sample - loss: 0.0746 - accuracy: 0.9800 - val_loss: 2.6479 - val_accuracy: 0.5587\n",
            "Epoch 29/100\n",
            "28709/28709 [==============================] - 5s 176us/sample - loss: 0.0744 - accuracy: 0.9800 - val_loss: 2.4350 - val_accuracy: 0.5620\n",
            "Epoch 30/100\n",
            "28709/28709 [==============================] - 5s 178us/sample - loss: 0.0608 - accuracy: 0.9843 - val_loss: 2.5549 - val_accuracy: 0.5659\n",
            "Epoch 31/100\n",
            "28709/28709 [==============================] - 5s 179us/sample - loss: 0.0514 - accuracy: 0.9869 - val_loss: 2.5947 - val_accuracy: 0.5575\n",
            "Epoch 32/100\n",
            "28709/28709 [==============================] - 5s 178us/sample - loss: 0.0473 - accuracy: 0.9889 - val_loss: 2.6220 - val_accuracy: 0.5729\n",
            "Epoch 33/100\n",
            "28709/28709 [==============================] - 5s 177us/sample - loss: 0.0395 - accuracy: 0.9914 - val_loss: 2.7043 - val_accuracy: 0.5651\n",
            "Epoch 34/100\n",
            "28709/28709 [==============================] - 5s 178us/sample - loss: 0.0351 - accuracy: 0.9918 - val_loss: 2.7757 - val_accuracy: 0.5542\n",
            "Epoch 35/100\n",
            "28709/28709 [==============================] - 5s 178us/sample - loss: 0.0339 - accuracy: 0.9929 - val_loss: 2.7375 - val_accuracy: 0.5731\n",
            "Epoch 36/100\n",
            "28709/28709 [==============================] - 5s 178us/sample - loss: 0.0293 - accuracy: 0.9935 - val_loss: 2.6906 - val_accuracy: 0.5717\n",
            "Epoch 37/100\n",
            "28709/28709 [==============================] - 5s 179us/sample - loss: 0.0283 - accuracy: 0.9935 - val_loss: 2.8005 - val_accuracy: 0.5723\n",
            "Epoch 38/100\n",
            "28709/28709 [==============================] - 5s 179us/sample - loss: 0.0255 - accuracy: 0.9949 - val_loss: 2.6891 - val_accuracy: 0.5670\n",
            "Epoch 39/100\n",
            "28709/28709 [==============================] - 5s 177us/sample - loss: 0.0219 - accuracy: 0.9954 - val_loss: 2.9017 - val_accuracy: 0.5656\n",
            "Epoch 40/100\n",
            "28709/28709 [==============================] - 5s 178us/sample - loss: 0.0193 - accuracy: 0.9958 - val_loss: 2.8558 - val_accuracy: 0.5704\n",
            "Epoch 41/100\n",
            "28709/28709 [==============================] - 5s 177us/sample - loss: 0.0214 - accuracy: 0.9954 - val_loss: 2.7960 - val_accuracy: 0.5723\n",
            "Epoch 42/100\n",
            "28709/28709 [==============================] - 5s 178us/sample - loss: 0.0181 - accuracy: 0.9961 - val_loss: 2.8299 - val_accuracy: 0.5704\n",
            "Epoch 43/100\n",
            "28709/28709 [==============================] - 5s 180us/sample - loss: 0.0154 - accuracy: 0.9964 - val_loss: 2.8980 - val_accuracy: 0.5748\n",
            "Epoch 44/100\n",
            "28709/28709 [==============================] - 5s 176us/sample - loss: 0.0162 - accuracy: 0.9964 - val_loss: 2.9124 - val_accuracy: 0.5720\n",
            "Epoch 45/100\n",
            "28709/28709 [==============================] - 5s 179us/sample - loss: 0.0140 - accuracy: 0.9965 - val_loss: 2.8843 - val_accuracy: 0.5687\n",
            "Epoch 46/100\n",
            "28709/28709 [==============================] - 5s 177us/sample - loss: 0.0144 - accuracy: 0.9964 - val_loss: 2.7519 - val_accuracy: 0.5723\n",
            "Epoch 47/100\n",
            "28709/28709 [==============================] - 5s 178us/sample - loss: 0.0145 - accuracy: 0.9964 - val_loss: 2.8217 - val_accuracy: 0.5662\n",
            "Epoch 48/100\n",
            "28709/28709 [==============================] - 5s 178us/sample - loss: 0.0135 - accuracy: 0.9965 - val_loss: 2.9206 - val_accuracy: 0.5715\n",
            "Epoch 49/100\n",
            "28709/28709 [==============================] - 5s 178us/sample - loss: 0.0142 - accuracy: 0.9963 - val_loss: 2.9369 - val_accuracy: 0.5734\n",
            "Epoch 50/100\n",
            "28709/28709 [==============================] - 5s 178us/sample - loss: 0.0133 - accuracy: 0.9963 - val_loss: 2.8676 - val_accuracy: 0.5770\n",
            "Epoch 51/100\n",
            "28709/28709 [==============================] - 5s 178us/sample - loss: 0.0119 - accuracy: 0.9966 - val_loss: 2.8276 - val_accuracy: 0.5729\n",
            "Epoch 52/100\n",
            "28709/28709 [==============================] - 5s 179us/sample - loss: 0.0133 - accuracy: 0.9968 - val_loss: 2.8844 - val_accuracy: 0.5776\n",
            "Epoch 53/100\n",
            "28709/28709 [==============================] - 5s 175us/sample - loss: 0.0125 - accuracy: 0.9970 - val_loss: 2.8575 - val_accuracy: 0.5793\n",
            "Epoch 54/100\n",
            "28709/28709 [==============================] - 5s 177us/sample - loss: 0.0123 - accuracy: 0.9967 - val_loss: 2.8622 - val_accuracy: 0.5715\n",
            "Epoch 55/100\n",
            "28709/28709 [==============================] - 5s 178us/sample - loss: 0.0118 - accuracy: 0.9969 - val_loss: 2.8468 - val_accuracy: 0.5773\n",
            "Epoch 56/100\n",
            "28709/28709 [==============================] - 5s 178us/sample - loss: 0.0096 - accuracy: 0.9971 - val_loss: 2.8892 - val_accuracy: 0.5784\n",
            "Epoch 57/100\n",
            "28709/28709 [==============================] - 5s 178us/sample - loss: 0.0095 - accuracy: 0.9974 - val_loss: 2.8924 - val_accuracy: 0.5759\n",
            "Epoch 58/100\n",
            "28709/28709 [==============================] - 5s 178us/sample - loss: 0.0103 - accuracy: 0.9968 - val_loss: 2.8567 - val_accuracy: 0.5834\n",
            "Epoch 59/100\n",
            "28709/28709 [==============================] - 5s 180us/sample - loss: 0.0102 - accuracy: 0.9971 - val_loss: 2.9431 - val_accuracy: 0.5756\n",
            "Epoch 60/100\n",
            "28709/28709 [==============================] - 5s 177us/sample - loss: 0.0092 - accuracy: 0.9972 - val_loss: 2.9501 - val_accuracy: 0.5818\n",
            "Epoch 61/100\n",
            "28709/28709 [==============================] - 5s 176us/sample - loss: 0.0091 - accuracy: 0.9974 - val_loss: 2.9292 - val_accuracy: 0.5809\n",
            "Epoch 62/100\n",
            "28709/28709 [==============================] - 5s 175us/sample - loss: 0.0091 - accuracy: 0.9971 - val_loss: 2.9201 - val_accuracy: 0.5818\n",
            "Epoch 63/100\n",
            "28709/28709 [==============================] - 5s 177us/sample - loss: 0.0080 - accuracy: 0.9970 - val_loss: 2.9849 - val_accuracy: 0.5826\n",
            "Epoch 64/100\n",
            "28709/28709 [==============================] - 5s 176us/sample - loss: 0.0085 - accuracy: 0.9970 - val_loss: 2.9012 - val_accuracy: 0.5818\n",
            "Epoch 65/100\n",
            "28709/28709 [==============================] - 5s 179us/sample - loss: 0.0084 - accuracy: 0.9970 - val_loss: 2.8834 - val_accuracy: 0.5793\n",
            "Epoch 66/100\n",
            "28709/28709 [==============================] - 5s 176us/sample - loss: 0.0091 - accuracy: 0.9970 - val_loss: 2.9492 - val_accuracy: 0.5795\n",
            "Epoch 67/100\n",
            "28709/28709 [==============================] - 5s 176us/sample - loss: 0.0088 - accuracy: 0.9972 - val_loss: 2.9360 - val_accuracy: 0.5779\n",
            "Epoch 68/100\n",
            "28709/28709 [==============================] - 5s 176us/sample - loss: 0.0093 - accuracy: 0.9972 - val_loss: 2.9697 - val_accuracy: 0.5823\n",
            "Epoch 69/100\n",
            "28709/28709 [==============================] - 5s 177us/sample - loss: 0.0083 - accuracy: 0.9973 - val_loss: 3.0167 - val_accuracy: 0.5793\n",
            "Epoch 70/100\n",
            "28709/28709 [==============================] - 5s 177us/sample - loss: 0.0089 - accuracy: 0.9971 - val_loss: 2.9217 - val_accuracy: 0.5762\n",
            "Epoch 71/100\n",
            "28709/28709 [==============================] - 5s 176us/sample - loss: 0.0085 - accuracy: 0.9974 - val_loss: 2.9536 - val_accuracy: 0.5815\n",
            "Epoch 72/100\n",
            "28709/28709 [==============================] - 5s 176us/sample - loss: 0.0077 - accuracy: 0.9974 - val_loss: 2.9719 - val_accuracy: 0.5762\n",
            "Epoch 73/100\n",
            "28709/28709 [==============================] - 5s 175us/sample - loss: 0.0082 - accuracy: 0.9974 - val_loss: 2.9154 - val_accuracy: 0.5768\n",
            "Epoch 74/100\n",
            "28709/28709 [==============================] - 5s 177us/sample - loss: 0.0076 - accuracy: 0.9974 - val_loss: 2.9915 - val_accuracy: 0.5765\n",
            "Epoch 75/100\n",
            "28709/28709 [==============================] - 5s 177us/sample - loss: 0.0087 - accuracy: 0.9970 - val_loss: 2.8919 - val_accuracy: 0.5790\n",
            "Epoch 76/100\n",
            "28709/28709 [==============================] - 5s 176us/sample - loss: 0.0085 - accuracy: 0.9975 - val_loss: 2.9326 - val_accuracy: 0.5762\n",
            "Epoch 77/100\n",
            "28709/28709 [==============================] - 5s 176us/sample - loss: 0.0077 - accuracy: 0.9972 - val_loss: 2.9275 - val_accuracy: 0.5776\n",
            "Epoch 78/100\n",
            "28709/28709 [==============================] - 5s 177us/sample - loss: 0.0081 - accuracy: 0.9974 - val_loss: 2.8759 - val_accuracy: 0.5756\n",
            "Epoch 79/100\n",
            "28709/28709 [==============================] - 5s 175us/sample - loss: 0.0078 - accuracy: 0.9974 - val_loss: 2.9050 - val_accuracy: 0.5801\n",
            "Epoch 80/100\n",
            "28709/28709 [==============================] - 5s 177us/sample - loss: 0.0071 - accuracy: 0.9974 - val_loss: 3.0176 - val_accuracy: 0.5801\n",
            "Epoch 81/100\n",
            "28709/28709 [==============================] - 5s 176us/sample - loss: 0.0073 - accuracy: 0.9974 - val_loss: 2.9552 - val_accuracy: 0.5829\n",
            "Epoch 82/100\n",
            "28709/28709 [==============================] - 5s 175us/sample - loss: 0.0074 - accuracy: 0.9974 - val_loss: 2.9434 - val_accuracy: 0.5748\n",
            "Epoch 83/100\n",
            "28709/28709 [==============================] - 5s 176us/sample - loss: 0.0069 - accuracy: 0.9976 - val_loss: 2.9867 - val_accuracy: 0.5795\n",
            "Epoch 84/100\n",
            "28709/28709 [==============================] - 5s 175us/sample - loss: 0.0071 - accuracy: 0.9974 - val_loss: 3.0550 - val_accuracy: 0.5784\n",
            "Epoch 85/100\n",
            "28709/28709 [==============================] - 5s 176us/sample - loss: 0.0065 - accuracy: 0.9974 - val_loss: 3.0158 - val_accuracy: 0.5787\n",
            "Epoch 86/100\n",
            "28709/28709 [==============================] - 5s 176us/sample - loss: 0.0062 - accuracy: 0.9977 - val_loss: 2.9556 - val_accuracy: 0.5748\n",
            "Epoch 87/100\n",
            "28709/28709 [==============================] - 5s 177us/sample - loss: 0.0059 - accuracy: 0.9978 - val_loss: 3.0865 - val_accuracy: 0.5809\n",
            "Epoch 88/100\n",
            "28709/28709 [==============================] - 5s 177us/sample - loss: 0.0062 - accuracy: 0.9974 - val_loss: 3.0382 - val_accuracy: 0.5804\n",
            "Epoch 89/100\n",
            "28709/28709 [==============================] - 5s 177us/sample - loss: 0.0074 - accuracy: 0.9974 - val_loss: 3.0250 - val_accuracy: 0.5770\n",
            "Epoch 90/100\n",
            "28709/28709 [==============================] - 5s 177us/sample - loss: 0.0061 - accuracy: 0.9976 - val_loss: 3.0993 - val_accuracy: 0.5815\n",
            "Epoch 91/100\n",
            "28709/28709 [==============================] - 5s 178us/sample - loss: 0.0067 - accuracy: 0.9977 - val_loss: 2.9663 - val_accuracy: 0.5768\n",
            "Epoch 92/100\n",
            "28709/28709 [==============================] - 5s 178us/sample - loss: 0.0060 - accuracy: 0.9977 - val_loss: 3.0347 - val_accuracy: 0.5779\n",
            "Epoch 93/100\n",
            "28709/28709 [==============================] - 5s 175us/sample - loss: 0.0069 - accuracy: 0.9974 - val_loss: 3.0268 - val_accuracy: 0.5801\n",
            "Epoch 94/100\n",
            "28709/28709 [==============================] - 5s 176us/sample - loss: 0.0067 - accuracy: 0.9976 - val_loss: 3.0274 - val_accuracy: 0.5765\n",
            "Epoch 95/100\n",
            "28709/28709 [==============================] - 5s 177us/sample - loss: 0.0067 - accuracy: 0.9973 - val_loss: 2.9682 - val_accuracy: 0.5770\n",
            "Epoch 96/100\n",
            "28709/28709 [==============================] - 5s 177us/sample - loss: 0.0062 - accuracy: 0.9973 - val_loss: 3.0652 - val_accuracy: 0.5829\n",
            "Epoch 97/100\n",
            "28709/28709 [==============================] - 5s 178us/sample - loss: 0.0077 - accuracy: 0.9972 - val_loss: 2.9825 - val_accuracy: 0.5779\n",
            "Epoch 98/100\n",
            "28709/28709 [==============================] - 5s 176us/sample - loss: 0.0060 - accuracy: 0.9975 - val_loss: 3.0401 - val_accuracy: 0.5812\n",
            "Epoch 99/100\n",
            "28709/28709 [==============================] - 5s 178us/sample - loss: 0.0057 - accuracy: 0.9978 - val_loss: 3.0805 - val_accuracy: 0.5740\n",
            "Epoch 100/100\n",
            "28709/28709 [==============================] - 5s 176us/sample - loss: 0.0062 - accuracy: 0.9975 - val_loss: 3.0731 - val_accuracy: 0.5790\n"
          ],
          "name": "stdout"
        },
        {
          "output_type": "execute_result",
          "data": {
            "text/plain": [
              "<tensorflow.python.keras.callbacks.History at 0x7f2f3036ea90>"
            ]
          },
          "metadata": {
            "tags": []
          },
          "execution_count": 12
        }
      ]
    },
    {
      "cell_type": "code",
      "metadata": {
        "id": "-FSBxRPXHSZE",
        "colab_type": "code",
        "colab": {}
      },
      "source": [
        ""
      ],
      "execution_count": 0,
      "outputs": []
    }
  ]
}