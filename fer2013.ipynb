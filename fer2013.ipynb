{
 "cells": [
  {
   "cell_type": "code",
   "execution_count": 1,
   "metadata": {
    "colab": {
     "base_uri": "https://localhost:8080/",
     "height": 34
    },
    "colab_type": "code",
    "id": "gwdg7Sv3XBaP",
    "outputId": "f573015e-64ef-465d-b2ee-2c94b4046cfe"
   },
   "outputs": [
    {
     "name": "stderr",
     "output_type": "stream",
     "text": [
      "UsageError: Line magic function `%tensorflow_version` not found.\n"
     ]
    }
   ],
   "source": [
    "%tensorflow_version 2.x"
   ]
  },
  {
   "cell_type": "code",
   "execution_count": 2,
   "metadata": {
    "colab": {},
    "colab_type": "code",
    "id": "2nz38mJZXN_P"
   },
   "outputs": [
    {
     "name": "stdout",
     "output_type": "stream",
     "text": [
      "WARNING:tensorflow:From /home/ubuntu/anaconda3/envs/tensorflow_p36/lib/python3.6/site-packages/tensorflow_core/__init__.py:1467: The name tf.estimator.inputs is deprecated. Please use tf.compat.v1.estimator.inputs instead.\n",
      "\n"
     ]
    },
    {
     "name": "stderr",
     "output_type": "stream",
     "text": [
      "Using TensorFlow backend.\n"
     ]
    }
   ],
   "source": [
    "import matplotlib.pyplot as plt\n",
    "import pandas as pd\n",
    "import numpy as np\n",
    "\n",
    "import tensorflow as tf\n",
    "from tensorflow.python.lib.io import file_io\n",
    "\n",
    "\n",
    "import keras\n",
    "from keras.preprocessing.image import ImageDataGenerator\n",
    "\n",
    "from keras.models import Sequential\n",
    "from keras.layers import Dense, Dropout, Flatten\n",
    "from keras.layers import Conv2D, MaxPooling2D, BatchNormalization\n",
    "from keras.optimizers import SGD\n",
    "\n",
    "%matplotlib inline"
   ]
  },
  {
   "cell_type": "code",
   "execution_count": 3,
   "metadata": {},
   "outputs": [],
   "source": [
    "EPOCHS = 100\n",
    "BS = 128\n",
    "DROPOUT_RATE = 0.5\n",
    "SGD_LEARNING_RATE = 0.01"
   ]
  },
  {
   "cell_type": "markdown",
   "metadata": {},
   "source": [
    "#data = pd.read_csv('fer2013/icml_face_data.csv', sep=r'\\s,\\s', header=0, encoding='ascii', engine='python') \n",
    "data = pd.read_csv('fer2013/icml_face_data.csv') \n",
    "data.head()\n",
    "\n",
    "data.columns\n",
    "\n",
    "data_train = data[data[' Usage'] == 'Training']\n",
    "#print('Number samples in the training dataset: ', data_train.shape[0])\n",
    "\n",
    "data_dev = data[data[' Usage'] == 'PublicTest']\n",
    "#print('Number samples in the development dataset: ', data_dev.shape[0]) print(data_dev.head())\n",
    "\n",
    "data_test = data[data[' Usage'] == 'PrivateTest']\n",
    "#print('Number samples in the development dataset: ', data_dev.shape[0]) print(data_test.head())\n",
    "\n",
    "data_train.to_csv('fer2013/train.csv') \n",
    "data_dev.to_csv('fer2013/dev.csv') \n",
    "data_test.to_csv('fer2013/test.csv')\n",
    "\n",
    "print(data_train.shape) \n",
    "print(data_dev.shape) \n",
    "print(data_test.shape)"
   ]
  },
  {
   "cell_type": "code",
   "execution_count": 4,
   "metadata": {
    "colab": {},
    "colab_type": "code",
    "id": "hAjh6yOLYPZm"
   },
   "outputs": [],
   "source": [
    "# Function that reads the data from the csv file, increases the size of the images and returns the images and their labels\n",
    "    # dataset: Data path\n",
    "def get_data(dataset):\n",
    "    \n",
    "    file_stream = file_io.FileIO(dataset, mode='r')\n",
    "    data = pd.read_csv(file_stream)\n",
    "\n",
    "    #data = pd.read_csv('fer2013/fer2013.csv')\n",
    "    data[' pixels'] = data[' pixels'].apply(lambda x: [int(pixel) for pixel in x.split()])\n",
    "\n",
    "    # Retrieve train input and target\n",
    "    X, Y = data[' pixels'].tolist(), data['emotion'].values\n",
    "    \n",
    "    # Reshape images to 4D (num_samples, width, height, num_channels)\n",
    "    X_res = np.array(X, dtype='float32').reshape(-1,48,48,1)\n",
    "    # Normalize images with max (the maximum pixel intensity is 255)\n",
    "    X_res = X_res/255.0\n",
    "    #image_resized = resize(image, (image.shape[0] // 4, image.shape[1] // 4), anti_aliasing=True)\n",
    "\n",
    "    Y_res = np.zeros((Y.size, 7))\n",
    "    Y_res[np.arange(Y.size),Y] = 1    \n",
    "    \n",
    "    return  X_res, Y_res"
   ]
  },
  {
   "cell_type": "code",
   "execution_count": 5,
   "metadata": {},
   "outputs": [],
   "source": [
    "training_dataset_dir = 'fer2013/train.csv'\n",
    "dev_dataset_dir = 'fer2013/dev.csv'\n",
    "# Data preparation\n",
    "X_train, Y_train  = get_data(training_dataset_dir)\n",
    "X_dev, Y_dev      = get_data(dev_dataset_dir)\n",
    "\n",
    "# Generate batches of tensor image data with real-time data augmentation. The data will be looped over (in batches) indefinitely\n",
    "# rescale:          Rescaling factor (defaults to None). Multiply the data by the value provided (before applying any other transformation)\n",
    "# rotation_range:   Int. Degree range for random rotations\n",
    "# shear_range:      Float. Shear Intensity (Shear angle in counter-clockwise direction as radians)\n",
    "# zoom_range:       Float or [lower, upper]. Range for random zoom. If a float, [lower, upper] = [1-zoom_range, 1+zoom_range]\n",
    "# fill_mode :       Points outside the boundaries of the input are filled according to the given mode: {\"constant\", \"nearest\", \"reflect\" or \"wrap\"}\n",
    "# horizontal_flip:  Boolean. Randomly flip inputs horizontally\n",
    "train_datagen = ImageDataGenerator(\n",
    "    rotation_range  = 10,\n",
    "    shear_range     = 5, # 10 degrees\n",
    "    zoom_range      = 0.1,\n",
    "    fill_mode       = 'reflect',\n",
    "    horizontal_flip = True)\n",
    "\n",
    "# Takes numpy data & label arrays, and generates batches of augmented/normalized data. Yields batcfillhes indefinitely, in an infinite loop\n",
    "    # x:            Data. Should have rank 4. In case of grayscale data, the channels axis should have value 1, and in case of RGB data, \n",
    "    #               it should have value 3\n",
    "    # y:            Labels\n",
    "    # batch_size:   Int (default: 32)\n",
    "train_generator = train_datagen.flow(X_train, Y_train,  batch_size  = BS)"
   ]
  },
  {
   "cell_type": "code",
   "execution_count": 6,
   "metadata": {},
   "outputs": [
    {
     "name": "stdout",
     "output_type": "stream",
     "text": [
      "WARNING:tensorflow:From /home/ubuntu/anaconda3/envs/tensorflow_p36/lib/python3.6/site-packages/keras/backend/tensorflow_backend.py:74: The name tf.get_default_graph is deprecated. Please use tf.compat.v1.get_default_graph instead.\n",
      "\n",
      "WARNING:tensorflow:From /home/ubuntu/anaconda3/envs/tensorflow_p36/lib/python3.6/site-packages/keras/backend/tensorflow_backend.py:517: The name tf.placeholder is deprecated. Please use tf.compat.v1.placeholder instead.\n",
      "\n",
      "WARNING:tensorflow:From /home/ubuntu/anaconda3/envs/tensorflow_p36/lib/python3.6/site-packages/keras/backend/tensorflow_backend.py:4138: The name tf.random_uniform is deprecated. Please use tf.random.uniform instead.\n",
      "\n",
      "WARNING:tensorflow:From /home/ubuntu/anaconda3/envs/tensorflow_p36/lib/python3.6/site-packages/keras/backend/tensorflow_backend.py:174: The name tf.get_default_session is deprecated. Please use tf.compat.v1.get_default_session instead.\n",
      "\n",
      "WARNING:tensorflow:From /home/ubuntu/anaconda3/envs/tensorflow_p36/lib/python3.6/site-packages/keras/backend/tensorflow_backend.py:181: The name tf.ConfigProto is deprecated. Please use tf.compat.v1.ConfigProto instead.\n",
      "\n",
      "WARNING:tensorflow:From /home/ubuntu/anaconda3/envs/tensorflow_p36/lib/python3.6/site-packages/keras/backend/tensorflow_backend.py:186: The name tf.Session is deprecated. Please use tf.compat.v1.Session instead.\n",
      "\n",
      "WARNING:tensorflow:From /home/ubuntu/anaconda3/envs/tensorflow_p36/lib/python3.6/site-packages/keras/backend/tensorflow_backend.py:190: The name tf.global_variables is deprecated. Please use tf.compat.v1.global_variables instead.\n",
      "\n",
      "WARNING:tensorflow:From /home/ubuntu/anaconda3/envs/tensorflow_p36/lib/python3.6/site-packages/keras/backend/tensorflow_backend.py:199: The name tf.is_variable_initialized is deprecated. Please use tf.compat.v1.is_variable_initialized instead.\n",
      "\n",
      "WARNING:tensorflow:From /home/ubuntu/anaconda3/envs/tensorflow_p36/lib/python3.6/site-packages/keras/backend/tensorflow_backend.py:206: The name tf.variables_initializer is deprecated. Please use tf.compat.v1.variables_initializer instead.\n",
      "\n",
      "WARNING:tensorflow:From /home/ubuntu/anaconda3/envs/tensorflow_p36/lib/python3.6/site-packages/keras/backend/tensorflow_backend.py:1834: The name tf.nn.fused_batch_norm is deprecated. Please use tf.compat.v1.nn.fused_batch_norm instead.\n",
      "\n",
      "WARNING:tensorflow:From /home/ubuntu/anaconda3/envs/tensorflow_p36/lib/python3.6/site-packages/keras/backend/tensorflow_backend.py:133: The name tf.placeholder_with_default is deprecated. Please use tf.compat.v1.placeholder_with_default instead.\n",
      "\n",
      "WARNING:tensorflow:From /home/ubuntu/anaconda3/envs/tensorflow_p36/lib/python3.6/site-packages/keras/backend/tensorflow_backend.py:3976: The name tf.nn.max_pool is deprecated. Please use tf.nn.max_pool2d instead.\n",
      "\n",
      "WARNING:tensorflow:From /home/ubuntu/anaconda3/envs/tensorflow_p36/lib/python3.6/site-packages/keras/backend/tensorflow_backend.py:3445: calling dropout (from tensorflow.python.ops.nn_ops) with keep_prob is deprecated and will be removed in a future version.\n",
      "Instructions for updating:\n",
      "Please use `rate` instead of `keep_prob`. Rate should be set to `rate = 1 - keep_prob`.\n",
      "WARNING:tensorflow:From /home/ubuntu/anaconda3/envs/tensorflow_p36/lib/python3.6/site-packages/keras/optimizers.py:790: The name tf.train.Optimizer is deprecated. Please use tf.compat.v1.train.Optimizer instead.\n",
      "\n",
      "WARNING:tensorflow:From /home/ubuntu/anaconda3/envs/tensorflow_p36/lib/python3.6/site-packages/keras/backend/tensorflow_backend.py:3295: The name tf.log is deprecated. Please use tf.math.log instead.\n",
      "\n"
     ]
    }
   ],
   "source": [
    "# Implement below paper CPCPCPFF depth 5, 2.4m params\n",
    "# http://openaccess.thecvf.com/content_cvpr_2016_workshops/w28/papers/Kim_Fusing_Aligned_and_CVPR_2016_paper.pdf\n",
    "# Reference: https://arxiv.org/pdf/1612.02903.pdf\n",
    "model = Sequential()\n",
    "model.add(Conv2D(64, (5, 5), activation='relu',padding='same', input_shape=(48,48,1),name=\"conv1\"))\n",
    "model.add(BatchNormalization())\n",
    "model.add(MaxPooling2D(pool_size=(2, 2),name=\"maxpool1\"))\n",
    "model.add(Dropout(DROPOUT_RATE))\n",
    "model.add(Conv2D(96, (5, 5), activation='relu',padding='same',name=\"conv2\"))\n",
    "model.add(BatchNormalization())\n",
    "model.add(MaxPooling2D(pool_size=(2, 2),name=\"maxpool2\"))         \n",
    "model.add(Dropout(DROPOUT_RATE))\n",
    "model.add(Conv2D(256, (5, 5), activation='relu',padding='same',name=\"conv3\"))\n",
    "model.add(BatchNormalization())\n",
    "model.add(MaxPooling2D(pool_size=(2, 2),name=\"maxpool3\"))\n",
    "model.add(Conv2D(256, (5, 5), activation='relu',padding='same',name=\"conv4\"))\n",
    "\n",
    "model.add(Flatten())\n",
    "model.add(Dense(2048, activation='relu',name='fc1'))\n",
    "model.add(Dropout(0.5))\n",
    "model.add(Dense(7, activation='softmax',name='fcsoftmax'))\n",
    "\n",
    "#TODO: weight decay of 0.0001...initial learning rate is set to 0.01 and reduced by a factor of 2 at every 25 epoch\n",
    "sgd = SGD(lr=SGD_LEARNING_RATE,momentum=0.9, nesterov=True)\n",
    "model.compile(loss='categorical_crossentropy',optimizer=sgd,metrics=['accuracy'])"
   ]
  },
  {
   "cell_type": "code",
   "execution_count": 7,
   "metadata": {},
   "outputs": [
    {
     "name": "stdout",
     "output_type": "stream",
     "text": [
      "WARNING:tensorflow:From /home/ubuntu/anaconda3/envs/tensorflow_p36/lib/python3.6/site-packages/tensorflow_core/python/ops/math_grad.py:1424: where (from tensorflow.python.ops.array_ops) is deprecated and will be removed in a future version.\n",
      "Instructions for updating:\n",
      "Use tf.where in 2.0, which has the same broadcast rule as np.where\n",
      "WARNING:tensorflow:From /home/ubuntu/anaconda3/envs/tensorflow_p36/lib/python3.6/site-packages/keras/backend/tensorflow_backend.py:986: The name tf.assign_add is deprecated. Please use tf.compat.v1.assign_add instead.\n",
      "\n",
      "WARNING:tensorflow:From /home/ubuntu/anaconda3/envs/tensorflow_p36/lib/python3.6/site-packages/keras/backend/tensorflow_backend.py:973: The name tf.assign is deprecated. Please use tf.compat.v1.assign instead.\n",
      "\n",
      "Epoch 1/100\n",
      "224/224 [==============================] - 12s 53ms/step - loss: 1.8434 - acc: 0.2868 - val_loss: 1.7723 - val_acc: 0.3224\n",
      "Epoch 2/100\n",
      "224/224 [==============================] - 9s 39ms/step - loss: 1.6544 - acc: 0.3439 - val_loss: 1.6005 - val_acc: 0.4032\n",
      "Epoch 3/100\n",
      "224/224 [==============================] - 10s 44ms/step - loss: 1.5907 - acc: 0.3747 - val_loss: 1.5357 - val_acc: 0.4138\n",
      "Epoch 4/100\n",
      "224/224 [==============================] - 9s 41ms/step - loss: 1.5271 - acc: 0.4055 - val_loss: 1.4939 - val_acc: 0.4210\n",
      "Epoch 5/100\n",
      "224/224 [==============================] - 9s 40ms/step - loss: 1.4853 - acc: 0.4237 - val_loss: 1.4313 - val_acc: 0.4592\n",
      "Epoch 6/100\n",
      "224/224 [==============================] - 9s 40ms/step - loss: 1.4396 - acc: 0.4451 - val_loss: 1.3682 - val_acc: 0.4681\n",
      "Epoch 7/100\n",
      "224/224 [==============================] - 9s 40ms/step - loss: 1.3989 - acc: 0.4622 - val_loss: 1.3434 - val_acc: 0.4968\n",
      "Epoch 8/100\n",
      "224/224 [==============================] - 9s 41ms/step - loss: 1.3654 - acc: 0.4759 - val_loss: 1.5172 - val_acc: 0.4444\n",
      "Epoch 9/100\n",
      "224/224 [==============================] - 9s 41ms/step - loss: 1.3335 - acc: 0.4898 - val_loss: 1.4771 - val_acc: 0.4383\n",
      "Epoch 10/100\n",
      "224/224 [==============================] - 9s 40ms/step - loss: 1.3033 - acc: 0.4999 - val_loss: 1.2777 - val_acc: 0.5210\n",
      "Epoch 11/100\n",
      "224/224 [==============================] - 9s 40ms/step - loss: 1.2891 - acc: 0.5093 - val_loss: 1.2884 - val_acc: 0.5155\n",
      "Epoch 12/100\n",
      "224/224 [==============================] - 9s 40ms/step - loss: 1.2591 - acc: 0.5200 - val_loss: 1.2532 - val_acc: 0.5330\n",
      "Epoch 13/100\n",
      "224/224 [==============================] - 9s 39ms/step - loss: 1.2381 - acc: 0.5247 - val_loss: 1.2973 - val_acc: 0.5166\n",
      "Epoch 14/100\n",
      "224/224 [==============================] - 9s 41ms/step - loss: 1.2227 - acc: 0.5345 - val_loss: 1.2413 - val_acc: 0.5341\n",
      "Epoch 15/100\n",
      "224/224 [==============================] - 9s 40ms/step - loss: 1.2037 - acc: 0.5433 - val_loss: 1.2255 - val_acc: 0.5453\n",
      "Epoch 16/100\n",
      "224/224 [==============================] - 9s 40ms/step - loss: 1.1785 - acc: 0.5570 - val_loss: 1.1965 - val_acc: 0.5553\n",
      "Epoch 17/100\n",
      "224/224 [==============================] - 9s 40ms/step - loss: 1.1614 - acc: 0.5574 - val_loss: 1.4525 - val_acc: 0.4698\n",
      "Epoch 18/100\n",
      "224/224 [==============================] - 9s 40ms/step - loss: 1.1432 - acc: 0.5660 - val_loss: 1.1747 - val_acc: 0.5659\n",
      "Epoch 19/100\n",
      "224/224 [==============================] - 9s 41ms/step - loss: 1.1283 - acc: 0.5728 - val_loss: 1.2886 - val_acc: 0.5419\n",
      "Epoch 20/100\n",
      "224/224 [==============================] - 9s 41ms/step - loss: 1.1107 - acc: 0.5770 - val_loss: 1.4744 - val_acc: 0.4695\n",
      "Epoch 21/100\n",
      "224/224 [==============================] - 9s 40ms/step - loss: 1.0981 - acc: 0.5850 - val_loss: 1.1544 - val_acc: 0.5759\n",
      "Epoch 22/100\n",
      "224/224 [==============================] - 9s 41ms/step - loss: 1.0798 - acc: 0.5955 - val_loss: 1.3350 - val_acc: 0.5280\n",
      "Epoch 23/100\n",
      "224/224 [==============================] - 9s 40ms/step - loss: 1.0681 - acc: 0.5960 - val_loss: 1.1679 - val_acc: 0.5815\n",
      "Epoch 24/100\n",
      "224/224 [==============================] - 9s 41ms/step - loss: 1.0517 - acc: 0.6041 - val_loss: 1.3297 - val_acc: 0.5263\n",
      "Epoch 25/100\n",
      "224/224 [==============================] - 9s 41ms/step - loss: 1.0344 - acc: 0.6121 - val_loss: 1.1559 - val_acc: 0.5890\n",
      "Epoch 26/100\n",
      "224/224 [==============================] - 9s 40ms/step - loss: 1.0239 - acc: 0.6163 - val_loss: 1.1443 - val_acc: 0.5801\n",
      "Epoch 27/100\n",
      "224/224 [==============================] - 9s 40ms/step - loss: 0.9994 - acc: 0.6240 - val_loss: 1.4250 - val_acc: 0.5110\n",
      "Epoch 28/100\n",
      "224/224 [==============================] - 9s 41ms/step - loss: 0.9956 - acc: 0.6266 - val_loss: 1.2649 - val_acc: 0.5528\n",
      "Epoch 29/100\n",
      "224/224 [==============================] - 9s 41ms/step - loss: 0.9816 - acc: 0.6329 - val_loss: 1.1967 - val_acc: 0.5871\n",
      "Epoch 30/100\n",
      "224/224 [==============================] - 9s 40ms/step - loss: 0.9682 - acc: 0.6356 - val_loss: 1.1617 - val_acc: 0.5787\n",
      "Epoch 31/100\n",
      "224/224 [==============================] - 9s 40ms/step - loss: 0.9633 - acc: 0.6381 - val_loss: 1.3512 - val_acc: 0.5272\n",
      "Epoch 32/100\n",
      "224/224 [==============================] - 9s 41ms/step - loss: 0.9441 - acc: 0.6487 - val_loss: 1.1913 - val_acc: 0.5879\n",
      "Epoch 33/100\n",
      "224/224 [==============================] - 9s 40ms/step - loss: 0.9330 - acc: 0.6484 - val_loss: 1.1534 - val_acc: 0.5924\n",
      "Epoch 34/100\n",
      "224/224 [==============================] - 9s 40ms/step - loss: 0.9110 - acc: 0.6632 - val_loss: 1.3314 - val_acc: 0.5592\n",
      "Epoch 35/100\n",
      "224/224 [==============================] - 9s 41ms/step - loss: 0.8974 - acc: 0.6655 - val_loss: 1.2084 - val_acc: 0.5823\n",
      "Epoch 36/100\n",
      "224/224 [==============================] - 9s 41ms/step - loss: 0.8808 - acc: 0.6722 - val_loss: 1.2133 - val_acc: 0.5968\n",
      "Epoch 37/100\n",
      "224/224 [==============================] - 9s 40ms/step - loss: 0.8751 - acc: 0.6744 - val_loss: 1.2107 - val_acc: 0.5887\n",
      "Epoch 38/100\n",
      "224/224 [==============================] - 9s 39ms/step - loss: 0.8574 - acc: 0.6837 - val_loss: 1.1697 - val_acc: 0.5887\n",
      "Epoch 39/100\n",
      "224/224 [==============================] - 9s 40ms/step - loss: 0.8485 - acc: 0.6842 - val_loss: 1.1633 - val_acc: 0.6088\n",
      "Epoch 40/100\n",
      "224/224 [==============================] - 9s 40ms/step - loss: 0.8377 - acc: 0.6869 - val_loss: 1.4963 - val_acc: 0.5497\n",
      "Epoch 41/100\n",
      "224/224 [==============================] - 9s 40ms/step - loss: 0.8261 - acc: 0.6945 - val_loss: 1.3386 - val_acc: 0.5745\n",
      "Epoch 42/100\n",
      "224/224 [==============================] - 9s 40ms/step - loss: 0.8062 - acc: 0.6996 - val_loss: 1.3028 - val_acc: 0.5787\n",
      "Epoch 43/100\n",
      "224/224 [==============================] - 9s 40ms/step - loss: 0.8015 - acc: 0.7040 - val_loss: 1.2813 - val_acc: 0.5890\n",
      "Epoch 44/100\n",
      "224/224 [==============================] - 9s 40ms/step - loss: 0.8048 - acc: 0.7042 - val_loss: 1.3833 - val_acc: 0.5665\n",
      "Epoch 45/100\n",
      "224/224 [==============================] - 9s 40ms/step - loss: 0.7716 - acc: 0.7151 - val_loss: 1.2194 - val_acc: 0.6052\n",
      "Epoch 46/100\n",
      "224/224 [==============================] - 9s 40ms/step - loss: 0.7665 - acc: 0.7171 - val_loss: 1.3673 - val_acc: 0.5748\n",
      "Epoch 47/100\n",
      "224/224 [==============================] - 9s 40ms/step - loss: 0.7594 - acc: 0.7187 - val_loss: 1.3601 - val_acc: 0.5729\n",
      "Epoch 48/100\n",
      "224/224 [==============================] - 9s 40ms/step - loss: 0.7451 - acc: 0.7273 - val_loss: 1.2449 - val_acc: 0.5974\n",
      "Epoch 49/100\n",
      "224/224 [==============================] - 9s 41ms/step - loss: 0.7522 - acc: 0.7220 - val_loss: 1.2733 - val_acc: 0.5938\n",
      "Epoch 50/100\n",
      "224/224 [==============================] - 9s 40ms/step - loss: 0.7226 - acc: 0.7321 - val_loss: 1.2122 - val_acc: 0.6041\n",
      "Epoch 51/100\n",
      "224/224 [==============================] - 9s 40ms/step - loss: 0.7160 - acc: 0.7351 - val_loss: 1.2914 - val_acc: 0.5979\n",
      "Epoch 52/100\n",
      "224/224 [==============================] - 9s 39ms/step - loss: 0.6996 - acc: 0.7438 - val_loss: 1.4548 - val_acc: 0.5662\n",
      "Epoch 53/100\n",
      "224/224 [==============================] - 9s 40ms/step - loss: 0.6934 - acc: 0.7487 - val_loss: 1.3485 - val_acc: 0.5843\n",
      "Epoch 54/100\n",
      "224/224 [==============================] - 9s 40ms/step - loss: 0.6863 - acc: 0.7484 - val_loss: 1.4103 - val_acc: 0.5720\n",
      "Epoch 55/100\n",
      "224/224 [==============================] - 9s 41ms/step - loss: 0.6686 - acc: 0.7513 - val_loss: 1.3551 - val_acc: 0.5776\n",
      "Epoch 56/100\n"
     ]
    },
    {
     "name": "stdout",
     "output_type": "stream",
     "text": [
      "224/224 [==============================] - 9s 41ms/step - loss: 0.6587 - acc: 0.7571 - val_loss: 1.2964 - val_acc: 0.6091\n",
      "Epoch 57/100\n",
      "224/224 [==============================] - 9s 40ms/step - loss: 0.6524 - acc: 0.7585 - val_loss: 1.6073 - val_acc: 0.5469\n",
      "Epoch 58/100\n",
      "224/224 [==============================] - 9s 40ms/step - loss: 0.6460 - acc: 0.7662 - val_loss: 1.3805 - val_acc: 0.5893\n",
      "Epoch 59/100\n",
      "224/224 [==============================] - 9s 41ms/step - loss: 0.6390 - acc: 0.7652 - val_loss: 1.3002 - val_acc: 0.6147\n",
      "Epoch 60/100\n",
      "224/224 [==============================] - 9s 40ms/step - loss: 0.6356 - acc: 0.7677 - val_loss: 1.3926 - val_acc: 0.5952\n",
      "Epoch 61/100\n",
      "224/224 [==============================] - 9s 40ms/step - loss: 0.6202 - acc: 0.7739 - val_loss: 1.5568 - val_acc: 0.5676\n",
      "Epoch 62/100\n",
      "224/224 [==============================] - 9s 41ms/step - loss: 0.6038 - acc: 0.7834 - val_loss: 1.4010 - val_acc: 0.6063\n",
      "Epoch 63/100\n",
      "224/224 [==============================] - 9s 41ms/step - loss: 0.5903 - acc: 0.7845 - val_loss: 1.3245 - val_acc: 0.6099\n",
      "Epoch 64/100\n",
      "224/224 [==============================] - 9s 40ms/step - loss: 0.5863 - acc: 0.7882 - val_loss: 1.5674 - val_acc: 0.5793\n",
      "Epoch 65/100\n",
      "224/224 [==============================] - 9s 41ms/step - loss: 0.5764 - acc: 0.7906 - val_loss: 1.4416 - val_acc: 0.6030\n",
      "Epoch 66/100\n",
      "224/224 [==============================] - 9s 39ms/step - loss: 0.5782 - acc: 0.7908 - val_loss: 1.4953 - val_acc: 0.5915\n",
      "Epoch 67/100\n",
      "224/224 [==============================] - 9s 40ms/step - loss: 0.5726 - acc: 0.7904 - val_loss: 1.3151 - val_acc: 0.6227\n",
      "Epoch 68/100\n",
      "224/224 [==============================] - 9s 39ms/step - loss: 0.5518 - acc: 0.7991 - val_loss: 1.4724 - val_acc: 0.6027\n",
      "Epoch 69/100\n",
      "224/224 [==============================] - 9s 41ms/step - loss: 0.5568 - acc: 0.7980 - val_loss: 1.4561 - val_acc: 0.6018\n",
      "Epoch 70/100\n",
      "224/224 [==============================] - 9s 41ms/step - loss: 0.5459 - acc: 0.8023 - val_loss: 1.4813 - val_acc: 0.6004\n",
      "Epoch 71/100\n",
      "224/224 [==============================] - 9s 41ms/step - loss: 0.5341 - acc: 0.8049 - val_loss: 1.4455 - val_acc: 0.6121\n",
      "Epoch 72/100\n",
      "224/224 [==============================] - 9s 40ms/step - loss: 0.5212 - acc: 0.8109 - val_loss: 1.7094 - val_acc: 0.5779\n",
      "Epoch 73/100\n",
      "224/224 [==============================] - 9s 39ms/step - loss: 0.5180 - acc: 0.8142 - val_loss: 1.5433 - val_acc: 0.5924\n",
      "Epoch 74/100\n",
      "224/224 [==============================] - 9s 40ms/step - loss: 0.5157 - acc: 0.8129 - val_loss: 1.7369 - val_acc: 0.5584\n",
      "Epoch 75/100\n",
      "224/224 [==============================] - 9s 41ms/step - loss: 0.5062 - acc: 0.8193 - val_loss: 1.4056 - val_acc: 0.6239\n",
      "Epoch 76/100\n",
      "224/224 [==============================] - 9s 39ms/step - loss: 0.4974 - acc: 0.8200 - val_loss: 1.6912 - val_acc: 0.5832\n",
      "Epoch 77/100\n",
      "224/224 [==============================] - 9s 41ms/step - loss: 0.4904 - acc: 0.8249 - val_loss: 1.7330 - val_acc: 0.5676\n",
      "Epoch 78/100\n",
      "224/224 [==============================] - 9s 41ms/step - loss: 0.4887 - acc: 0.8248 - val_loss: 1.5471 - val_acc: 0.6024\n",
      "Epoch 79/100\n",
      "224/224 [==============================] - 9s 40ms/step - loss: 0.4799 - acc: 0.8285 - val_loss: 1.6123 - val_acc: 0.5913\n",
      "Epoch 80/100\n",
      "224/224 [==============================] - 9s 41ms/step - loss: 0.4693 - acc: 0.8336 - val_loss: 1.4814 - val_acc: 0.6233\n",
      "Epoch 81/100\n",
      "224/224 [==============================] - 9s 41ms/step - loss: 0.4708 - acc: 0.8334 - val_loss: 1.5987 - val_acc: 0.5907\n",
      "Epoch 82/100\n",
      "224/224 [==============================] - 9s 40ms/step - loss: 0.4574 - acc: 0.8357 - val_loss: 1.4058 - val_acc: 0.6225\n",
      "Epoch 83/100\n",
      "224/224 [==============================] - 9s 40ms/step - loss: 0.4655 - acc: 0.8325 - val_loss: 1.4597 - val_acc: 0.6152\n",
      "Epoch 84/100\n",
      "224/224 [==============================] - 9s 39ms/step - loss: 0.4488 - acc: 0.8392 - val_loss: 1.5620 - val_acc: 0.6063\n",
      "Epoch 85/100\n",
      "224/224 [==============================] - 9s 40ms/step - loss: 0.4472 - acc: 0.8406 - val_loss: 1.5994 - val_acc: 0.5940\n",
      "Epoch 86/100\n",
      "224/224 [==============================] - 9s 41ms/step - loss: 0.4307 - acc: 0.8455 - val_loss: 1.5148 - val_acc: 0.6186\n",
      "Epoch 87/100\n",
      "224/224 [==============================] - 9s 41ms/step - loss: 0.4311 - acc: 0.8464 - val_loss: 1.5867 - val_acc: 0.6199\n",
      "Epoch 88/100\n",
      "224/224 [==============================] - 9s 40ms/step - loss: 0.4200 - acc: 0.8462 - val_loss: 1.6199 - val_acc: 0.6116\n",
      "Epoch 89/100\n",
      "224/224 [==============================] - 9s 39ms/step - loss: 0.4201 - acc: 0.8487 - val_loss: 1.5742 - val_acc: 0.6208\n",
      "Epoch 90/100\n",
      "224/224 [==============================] - 9s 40ms/step - loss: 0.4181 - acc: 0.8496 - val_loss: 1.5837 - val_acc: 0.6241\n",
      "Epoch 91/100\n",
      "224/224 [==============================] - 9s 40ms/step - loss: 0.4154 - acc: 0.8515 - val_loss: 1.4665 - val_acc: 0.6347\n",
      "Epoch 92/100\n",
      "224/224 [==============================] - 9s 40ms/step - loss: 0.4012 - acc: 0.8564 - val_loss: 1.5552 - val_acc: 0.6342\n",
      "Epoch 93/100\n",
      "224/224 [==============================] - 9s 40ms/step - loss: 0.4049 - acc: 0.8568 - val_loss: 1.7263 - val_acc: 0.5926\n",
      "Epoch 94/100\n",
      "224/224 [==============================] - 9s 39ms/step - loss: 0.3907 - acc: 0.8594 - val_loss: 1.5736 - val_acc: 0.6105\n",
      "Epoch 95/100\n",
      "224/224 [==============================] - 9s 41ms/step - loss: 0.3805 - acc: 0.8637 - val_loss: 1.5951 - val_acc: 0.6247\n",
      "Epoch 96/100\n",
      "224/224 [==============================] - 9s 41ms/step - loss: 0.3958 - acc: 0.8574 - val_loss: 1.6181 - val_acc: 0.6133\n",
      "Epoch 97/100\n",
      "224/224 [==============================] - 9s 40ms/step - loss: 0.3807 - acc: 0.8622 - val_loss: 1.5584 - val_acc: 0.6152\n",
      "Epoch 98/100\n",
      "224/224 [==============================] - 9s 40ms/step - loss: 0.3768 - acc: 0.8648 - val_loss: 1.6643 - val_acc: 0.6155\n",
      "Epoch 99/100\n",
      "224/224 [==============================] - 9s 40ms/step - loss: 0.3656 - acc: 0.8679 - val_loss: 1.6049 - val_acc: 0.6094\n",
      "Epoch 100/100\n",
      "224/224 [==============================] - 9s 41ms/step - loss: 0.3761 - acc: 0.8657 - val_loss: 1.6076 - val_acc: 0.6172\n"
     ]
    }
   ],
   "source": [
    "history = model.fit_generator(\n",
    "    generator = train_generator,\n",
    "    validation_data=(X_dev, Y_dev), \n",
    "    steps_per_epoch=len(X_train) // BS,\n",
    "    shuffle=True,\n",
    "    epochs=EPOCHS) "
   ]
  },
  {
   "cell_type": "code",
   "execution_count": 8,
   "metadata": {
    "colab": {
     "base_uri": "https://localhost:8080/",
     "height": 1000
    },
    "colab_type": "code",
    "id": "iKzZuMBafv0a",
    "outputId": "6ee6a4b5-e98e-4f4a-acbe-5ed67ba48de9",
    "scrolled": true
   },
   "outputs": [],
   "source": [
    "#model.fit(X_train,y_train,batch_size=500,epochs=1000,validation_data=(X_dev, y_dev))"
   ]
  },
  {
   "cell_type": "code",
   "execution_count": 9,
   "metadata": {
    "colab": {},
    "colab_type": "code",
    "id": "-FSBxRPXHSZE"
   },
   "outputs": [
    {
     "name": "stdout",
     "output_type": "stream",
     "text": [
      "\n",
      "# Evaluate on dev data\n",
      "3589/3589 [==============================] - 0s 48us/step\n",
      "dev loss, dev acc: [1.6075864573579939, 0.6171635553411003]\n"
     ]
    }
   ],
   "source": [
    "print('\\n# Evaluate on dev data')\n",
    "results_dev = model.evaluate(X_dev, Y_dev , batch_size=128)\n",
    "print('dev loss, dev acc:', results_dev)"
   ]
  },
  {
   "cell_type": "code",
   "execution_count": 10,
   "metadata": {},
   "outputs": [
    {
     "name": "stdout",
     "output_type": "stream",
     "text": [
      "\n",
      "# Evaluate on test data\n",
      "3589/3589 [==============================] - 0s 50us/step\n",
      "test loss, test acc: [1.5174738322170573, 0.6277514628362244]\n"
     ]
    }
   ],
   "source": [
    "test_dataset_dir = 'fer2013/test.csv'\n",
    "X_test, Y_test      = get_data(test_dataset_dir)\n",
    "\n",
    "print('\\n# Evaluate on test data')\n",
    "results_test = model.evaluate(X_test, Y_test , batch_size=128)\n",
    "print('test loss, test acc:', results_test)"
   ]
  },
  {
   "cell_type": "code",
   "execution_count": 11,
   "metadata": {},
   "outputs": [],
   "source": [
    "lr_str = '-SGD_LR_%.5f' % SGD_LEARNING_RATE\n",
    "epoch_str = '-EPOCHS_' + str(EPOCHS)\n",
    "bs_str = '-BS_' + str(BS)\n",
    "dropout_str = '-DROPOUT_' + str(DROPOUT_RATE)\n",
    "model.save('models/soa' + lr_str + epoch_str + bs_str + dropout_str + '.h5')"
   ]
  },
  {
   "cell_type": "code",
   "execution_count": 12,
   "metadata": {},
   "outputs": [
    {
     "name": "stdout",
     "output_type": "stream",
     "text": [
      "dict_keys(['val_loss', 'val_acc', 'loss', 'acc'])\n"
     ]
    },
    {
     "data": {
      "image/png": "[encoded data removed]",
      "text/plain": [
       "<Figure size 432x288 with 1 Axes>"
      ]
     },
     "metadata": {},
     "output_type": "display_data"
    },
    {
     "data": {
      "image/png": "[encoded data removed]",
      "text/plain": [
       "<Figure size 432x288 with 1 Axes>"
      ]
     },
     "metadata": {},
     "output_type": "display_data"
    }
   ],
   "source": [
    "# list all data in history\n",
    "print(history.history.keys())\n",
    "# summarize history for accuracy\n",
    "plt.plot(history.history['acc'])\n",
    "plt.plot(history.history['val_acc'])\n",
    "plt.title('model accuracy')\n",
    "plt.ylabel('accuracy')\n",
    "plt.xlabel('epoch')\n",
    "plt.legend(['train', 'dev'], loc='upper left')\n",
    "plt.show()\n",
    "# summarize history for loss\n",
    "plt.plot(history.history['loss'])\n",
    "plt.plot(history.history['val_loss'])\n",
    "plt.title('model loss')\n",
    "plt.ylabel('loss')\n",
    "plt.xlabel('epoch')\n",
    "plt.legend(['train', 'dev'], loc='upper left')\n",
    "plt.show()"
   ]
  },
  {
   "cell_type": "code",
   "execution_count": null,
   "metadata": {},
   "outputs": [],
   "source": []
  }
 ],
 "metadata": {
  "accelerator": "GPU",
  "colab": {
   "collapsed_sections": [],
   "name": "fer2013.ipynb",
   "provenance": []
  },
  "kernelspec": {
   "display_name": "Environment (conda_tensorflow_p36)",
   "language": "python",
   "name": "conda_tensorflow_p36"
  },
  "language_info": {
   "codemirror_mode": {
    "name": "ipython",
    "version": 3
   },
   "file_extension": ".py",
   "mimetype": "text/x-python",
   "name": "python",
   "nbconvert_exporter": "python",
   "pygments_lexer": "ipython3",
   "version": "3.6.6"
  }
 },
 "nbformat": 4,
 "nbformat_minor": 1
}
