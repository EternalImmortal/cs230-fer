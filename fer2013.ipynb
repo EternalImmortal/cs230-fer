{
 "cells": [
  {
   "cell_type": "markdown",
   "metadata": {
    "colab_type": "text",
    "id": "view-in-github"
   },
   "source": [
    "<a href=\"https://colab.research.google.com/github/amilkh/cs230-fer/blob/transfer-learning/fer2013.ipynb\" target=\"_parent\"><img src=\"https://colab.research.google.com/assets/colab-badge.svg\" alt=\"Open In Colab\"/></a>"
   ]
  },
  {
   "cell_type": "code",
   "execution_count": 17,
   "metadata": {
    "colab": {},
    "colab_type": "code",
    "id": "gwdg7Sv3XBaP"
   },
   "outputs": [],
   "source": [
    "#tensorflow_version 1.x"
   ]
  },
  {
   "cell_type": "code",
   "execution_count": 18,
   "metadata": {
    "colab": {},
    "colab_type": "code",
    "id": "2nz38mJZXN_P"
   },
   "outputs": [
    {
     "ename": "OSError",
     "evalue": "[Errno 12] Cannot allocate memory",
     "output_type": "error",
     "traceback": [
      "\u001b[0;31m---------------------------------------------------------------------------\u001b[0m",
      "\u001b[0;31mOSError\u001b[0m                                   Traceback (most recent call last)",
      "\u001b[0;32m<ipython-input-18-0515e7c43443>\u001b[0m in \u001b[0;36m<module>\u001b[0;34m()\u001b[0m\n\u001b[1;32m     23\u001b[0m \u001b[0;32mimport\u001b[0m \u001b[0mpydot\u001b[0m\u001b[0;34m\u001b[0m\u001b[0m\n\u001b[1;32m     24\u001b[0m \u001b[0;34m\u001b[0m\u001b[0m\n\u001b[0;32m---> 25\u001b[0;31m \u001b[0mget_ipython\u001b[0m\u001b[0;34m(\u001b[0m\u001b[0;34m)\u001b[0m\u001b[0;34m.\u001b[0m\u001b[0msystem\u001b[0m\u001b[0;34m(\u001b[0m\u001b[0;34m'python -c \"import skimage\"'\u001b[0m\u001b[0;34m)\u001b[0m\u001b[0;34m\u001b[0m\u001b[0m\n\u001b[0m",
      "\u001b[0;32m~/anaconda3/envs/tensorflow_p36/lib/python3.6/site-packages/IPython/core/interactiveshell.py\u001b[0m in \u001b[0;36msystem_piped\u001b[0;34m(self, cmd)\u001b[0m\n\u001b[1;32m   2259\u001b[0m         \u001b[0;31m# a non-None value would trigger :func:`sys.displayhook` calls.\u001b[0m\u001b[0;34m\u001b[0m\u001b[0;34m\u001b[0m\u001b[0m\n\u001b[1;32m   2260\u001b[0m         \u001b[0;31m# Instead, we store the exit_code in user_ns.\u001b[0m\u001b[0;34m\u001b[0m\u001b[0;34m\u001b[0m\u001b[0m\n\u001b[0;32m-> 2261\u001b[0;31m         \u001b[0mself\u001b[0m\u001b[0;34m.\u001b[0m\u001b[0muser_ns\u001b[0m\u001b[0;34m[\u001b[0m\u001b[0;34m'_exit_code'\u001b[0m\u001b[0;34m]\u001b[0m \u001b[0;34m=\u001b[0m \u001b[0msystem\u001b[0m\u001b[0;34m(\u001b[0m\u001b[0mself\u001b[0m\u001b[0;34m.\u001b[0m\u001b[0mvar_expand\u001b[0m\u001b[0;34m(\u001b[0m\u001b[0mcmd\u001b[0m\u001b[0;34m,\u001b[0m \u001b[0mdepth\u001b[0m\u001b[0;34m=\u001b[0m\u001b[0;36m1\u001b[0m\u001b[0;34m)\u001b[0m\u001b[0;34m)\u001b[0m\u001b[0;34m\u001b[0m\u001b[0m\n\u001b[0m\u001b[1;32m   2262\u001b[0m \u001b[0;34m\u001b[0m\u001b[0m\n\u001b[1;32m   2263\u001b[0m     \u001b[0;32mdef\u001b[0m \u001b[0msystem_raw\u001b[0m\u001b[0;34m(\u001b[0m\u001b[0mself\u001b[0m\u001b[0;34m,\u001b[0m \u001b[0mcmd\u001b[0m\u001b[0;34m)\u001b[0m\u001b[0;34m:\u001b[0m\u001b[0;34m\u001b[0m\u001b[0m\n",
      "\u001b[0;32m~/anaconda3/envs/tensorflow_p36/lib/python3.6/site-packages/IPython/utils/_process_posix.py\u001b[0m in \u001b[0;36msystem\u001b[0;34m(self, cmd)\u001b[0m\n\u001b[1;32m    154\u001b[0m                 \u001b[0mchild\u001b[0m \u001b[0;34m=\u001b[0m \u001b[0mpexpect\u001b[0m\u001b[0;34m.\u001b[0m\u001b[0mspawnb\u001b[0m\u001b[0;34m(\u001b[0m\u001b[0mself\u001b[0m\u001b[0;34m.\u001b[0m\u001b[0msh\u001b[0m\u001b[0;34m,\u001b[0m \u001b[0margs\u001b[0m\u001b[0;34m=\u001b[0m\u001b[0;34m[\u001b[0m\u001b[0;34m'-c'\u001b[0m\u001b[0;34m,\u001b[0m \u001b[0mcmd\u001b[0m\u001b[0;34m]\u001b[0m\u001b[0;34m)\u001b[0m \u001b[0;31m# Pexpect-U\u001b[0m\u001b[0;34m\u001b[0m\u001b[0m\n\u001b[1;32m    155\u001b[0m             \u001b[0;32melse\u001b[0m\u001b[0;34m:\u001b[0m\u001b[0;34m\u001b[0m\u001b[0m\n\u001b[0;32m--> 156\u001b[0;31m                 \u001b[0mchild\u001b[0m \u001b[0;34m=\u001b[0m \u001b[0mpexpect\u001b[0m\u001b[0;34m.\u001b[0m\u001b[0mspawn\u001b[0m\u001b[0;34m(\u001b[0m\u001b[0mself\u001b[0m\u001b[0;34m.\u001b[0m\u001b[0msh\u001b[0m\u001b[0;34m,\u001b[0m \u001b[0margs\u001b[0m\u001b[0;34m=\u001b[0m\u001b[0;34m[\u001b[0m\u001b[0;34m'-c'\u001b[0m\u001b[0;34m,\u001b[0m \u001b[0mcmd\u001b[0m\u001b[0;34m]\u001b[0m\u001b[0;34m)\u001b[0m  \u001b[0;31m# Vanilla Pexpect\u001b[0m\u001b[0;34m\u001b[0m\u001b[0m\n\u001b[0m\u001b[1;32m    157\u001b[0m             \u001b[0mflush\u001b[0m \u001b[0;34m=\u001b[0m \u001b[0msys\u001b[0m\u001b[0;34m.\u001b[0m\u001b[0mstdout\u001b[0m\u001b[0;34m.\u001b[0m\u001b[0mflush\u001b[0m\u001b[0;34m\u001b[0m\u001b[0m\n\u001b[1;32m    158\u001b[0m             \u001b[0;32mwhile\u001b[0m \u001b[0;32mTrue\u001b[0m\u001b[0;34m:\u001b[0m\u001b[0;34m\u001b[0m\u001b[0m\n",
      "\u001b[0;32m~/anaconda3/envs/tensorflow_p36/lib/python3.6/site-packages/pexpect/pty_spawn.py\u001b[0m in \u001b[0;36m__init__\u001b[0;34m(self, command, args, timeout, maxread, searchwindowsize, logfile, cwd, env, ignore_sighup, echo, preexec_fn, encoding, codec_errors, dimensions, use_poll)\u001b[0m\n\u001b[1;32m    202\u001b[0m             \u001b[0mself\u001b[0m\u001b[0;34m.\u001b[0m\u001b[0mname\u001b[0m \u001b[0;34m=\u001b[0m \u001b[0;34m'<pexpect factory incomplete>'\u001b[0m\u001b[0;34m\u001b[0m\u001b[0m\n\u001b[1;32m    203\u001b[0m         \u001b[0;32melse\u001b[0m\u001b[0;34m:\u001b[0m\u001b[0;34m\u001b[0m\u001b[0m\n\u001b[0;32m--> 204\u001b[0;31m             \u001b[0mself\u001b[0m\u001b[0;34m.\u001b[0m\u001b[0m_spawn\u001b[0m\u001b[0;34m(\u001b[0m\u001b[0mcommand\u001b[0m\u001b[0;34m,\u001b[0m \u001b[0margs\u001b[0m\u001b[0;34m,\u001b[0m \u001b[0mpreexec_fn\u001b[0m\u001b[0;34m,\u001b[0m \u001b[0mdimensions\u001b[0m\u001b[0;34m)\u001b[0m\u001b[0;34m\u001b[0m\u001b[0m\n\u001b[0m\u001b[1;32m    205\u001b[0m         \u001b[0mself\u001b[0m\u001b[0;34m.\u001b[0m\u001b[0muse_poll\u001b[0m \u001b[0;34m=\u001b[0m \u001b[0muse_poll\u001b[0m\u001b[0;34m\u001b[0m\u001b[0m\n\u001b[1;32m    206\u001b[0m \u001b[0;34m\u001b[0m\u001b[0m\n",
      "\u001b[0;32m~/anaconda3/envs/tensorflow_p36/lib/python3.6/site-packages/pexpect/pty_spawn.py\u001b[0m in \u001b[0;36m_spawn\u001b[0;34m(self, command, args, preexec_fn, dimensions)\u001b[0m\n\u001b[1;32m    301\u001b[0m \u001b[0;34m\u001b[0m\u001b[0m\n\u001b[1;32m    302\u001b[0m         self.ptyproc = self._spawnpty(self.args, env=self.env,\n\u001b[0;32m--> 303\u001b[0;31m                                      cwd=self.cwd, **kwargs)\n\u001b[0m\u001b[1;32m    304\u001b[0m \u001b[0;34m\u001b[0m\u001b[0m\n\u001b[1;32m    305\u001b[0m         \u001b[0mself\u001b[0m\u001b[0;34m.\u001b[0m\u001b[0mpid\u001b[0m \u001b[0;34m=\u001b[0m \u001b[0mself\u001b[0m\u001b[0;34m.\u001b[0m\u001b[0mptyproc\u001b[0m\u001b[0;34m.\u001b[0m\u001b[0mpid\u001b[0m\u001b[0;34m\u001b[0m\u001b[0m\n",
      "\u001b[0;32m~/anaconda3/envs/tensorflow_p36/lib/python3.6/site-packages/pexpect/pty_spawn.py\u001b[0m in \u001b[0;36m_spawnpty\u001b[0;34m(self, args, **kwargs)\u001b[0m\n\u001b[1;32m    312\u001b[0m     \u001b[0;32mdef\u001b[0m \u001b[0m_spawnpty\u001b[0m\u001b[0;34m(\u001b[0m\u001b[0mself\u001b[0m\u001b[0;34m,\u001b[0m \u001b[0margs\u001b[0m\u001b[0;34m,\u001b[0m \u001b[0;34m**\u001b[0m\u001b[0mkwargs\u001b[0m\u001b[0;34m)\u001b[0m\u001b[0;34m:\u001b[0m\u001b[0;34m\u001b[0m\u001b[0m\n\u001b[1;32m    313\u001b[0m         \u001b[0;34m'''Spawn a pty and return an instance of PtyProcess.'''\u001b[0m\u001b[0;34m\u001b[0m\u001b[0m\n\u001b[0;32m--> 314\u001b[0;31m         \u001b[0;32mreturn\u001b[0m \u001b[0mptyprocess\u001b[0m\u001b[0;34m.\u001b[0m\u001b[0mPtyProcess\u001b[0m\u001b[0;34m.\u001b[0m\u001b[0mspawn\u001b[0m\u001b[0;34m(\u001b[0m\u001b[0margs\u001b[0m\u001b[0;34m,\u001b[0m \u001b[0;34m**\u001b[0m\u001b[0mkwargs\u001b[0m\u001b[0;34m)\u001b[0m\u001b[0;34m\u001b[0m\u001b[0m\n\u001b[0m\u001b[1;32m    315\u001b[0m \u001b[0;34m\u001b[0m\u001b[0m\n\u001b[1;32m    316\u001b[0m     \u001b[0;32mdef\u001b[0m \u001b[0mclose\u001b[0m\u001b[0;34m(\u001b[0m\u001b[0mself\u001b[0m\u001b[0;34m,\u001b[0m \u001b[0mforce\u001b[0m\u001b[0;34m=\u001b[0m\u001b[0;32mTrue\u001b[0m\u001b[0;34m)\u001b[0m\u001b[0;34m:\u001b[0m\u001b[0;34m\u001b[0m\u001b[0m\n",
      "\u001b[0;32m~/anaconda3/envs/tensorflow_p36/lib/python3.6/site-packages/ptyprocess/ptyprocess.py\u001b[0m in \u001b[0;36mspawn\u001b[0;34m(cls, argv, cwd, env, echo, preexec_fn, dimensions)\u001b[0m\n\u001b[1;32m    220\u001b[0m \u001b[0;34m\u001b[0m\u001b[0m\n\u001b[1;32m    221\u001b[0m         \u001b[0;32mif\u001b[0m \u001b[0muse_native_pty_fork\u001b[0m\u001b[0;34m:\u001b[0m\u001b[0;34m\u001b[0m\u001b[0m\n\u001b[0;32m--> 222\u001b[0;31m             \u001b[0mpid\u001b[0m\u001b[0;34m,\u001b[0m \u001b[0mfd\u001b[0m \u001b[0;34m=\u001b[0m \u001b[0mpty\u001b[0m\u001b[0;34m.\u001b[0m\u001b[0mfork\u001b[0m\u001b[0;34m(\u001b[0m\u001b[0;34m)\u001b[0m\u001b[0;34m\u001b[0m\u001b[0m\n\u001b[0m\u001b[1;32m    223\u001b[0m         \u001b[0;32melse\u001b[0m\u001b[0;34m:\u001b[0m\u001b[0;34m\u001b[0m\u001b[0m\n\u001b[1;32m    224\u001b[0m             \u001b[0;31m# Use internal fork_pty, for Solaris\u001b[0m\u001b[0;34m\u001b[0m\u001b[0;34m\u001b[0m\u001b[0m\n",
      "\u001b[0;32m~/anaconda3/envs/tensorflow_p36/lib/python3.6/pty.py\u001b[0m in \u001b[0;36mfork\u001b[0;34m()\u001b[0m\n\u001b[1;32m     95\u001b[0m \u001b[0;34m\u001b[0m\u001b[0m\n\u001b[1;32m     96\u001b[0m     \u001b[0mmaster_fd\u001b[0m\u001b[0;34m,\u001b[0m \u001b[0mslave_fd\u001b[0m \u001b[0;34m=\u001b[0m \u001b[0mopenpty\u001b[0m\u001b[0;34m(\u001b[0m\u001b[0;34m)\u001b[0m\u001b[0;34m\u001b[0m\u001b[0m\n\u001b[0;32m---> 97\u001b[0;31m     \u001b[0mpid\u001b[0m \u001b[0;34m=\u001b[0m \u001b[0mos\u001b[0m\u001b[0;34m.\u001b[0m\u001b[0mfork\u001b[0m\u001b[0;34m(\u001b[0m\u001b[0;34m)\u001b[0m\u001b[0;34m\u001b[0m\u001b[0m\n\u001b[0m\u001b[1;32m     98\u001b[0m     \u001b[0;32mif\u001b[0m \u001b[0mpid\u001b[0m \u001b[0;34m==\u001b[0m \u001b[0mCHILD\u001b[0m\u001b[0;34m:\u001b[0m\u001b[0;34m\u001b[0m\u001b[0m\n\u001b[1;32m     99\u001b[0m         \u001b[0;31m# Establish a new session.\u001b[0m\u001b[0;34m\u001b[0m\u001b[0;34m\u001b[0m\u001b[0m\n",
      "\u001b[0;31mOSError\u001b[0m: [Errno 12] Cannot allocate memory"
     ]
    }
   ],
   "source": [
    "import matplotlib.pyplot as plt\n",
    "import pandas as pd\n",
    "import numpy as np\n",
    "\n",
    "import tensorflow as tf\n",
    "from tensorflow.keras.layers import *\n",
    "\n",
    "%matplotlib inline\n",
    "\n",
    "import keras\n",
    "from keras import backend as K\n",
    "from keras.callbacks import ModelCheckpoint, EarlyStopping\n",
    "from keras.models import load_model\n",
    "from keras.preprocessing.image import ImageDataGenerator\n",
    "from keras_vggface.vggface import VGGFace\n",
    "from keras.utils import plot_model\n",
    "from sklearn.metrics import *\n",
    "from keras.engine import Model\n",
    "from keras.layers import Input, Flatten, Dense, Activation, Conv2D, MaxPool2D, BatchNormalization, Dropout, MaxPooling2D\n",
    "from skimage.transform import rescale, resize\n",
    "\n",
    "\n",
    "import pydot\n",
    "\n",
    "!python -c \"import skimage\""
   ]
  },
  {
   "cell_type": "markdown",
   "metadata": {},
   "source": [
    "try:\n",
    "    pydot.Dot.create(pydot.Dot())\n",
    "except:\n",
    "    print('pydot error')"
   ]
  },
  {
   "cell_type": "code",
   "execution_count": 3,
   "metadata": {
    "colab": {
     "base_uri": "https://localhost:8080/",
     "height": 34
    },
    "colab_type": "code",
    "id": "nUcd6yIGduUW",
    "outputId": "94e06002-1afb-4fab-b6fc-f69cef85fa1c"
   },
   "outputs": [
    {
     "name": "stdout",
     "output_type": "stream",
     "text": [
      "1.15.0\n",
      "2.2.4\n"
     ]
    }
   ],
   "source": [
    "print(tf.__version__)\n",
    "print(keras.__version__)"
   ]
  },
  {
   "cell_type": "code",
   "execution_count": 4,
   "metadata": {
    "colab": {
     "base_uri": "https://localhost:8080/",
     "height": 1000
    },
    "colab_type": "code",
    "id": "EarfWgg_Y4rR",
    "outputId": "a053f8b0-3c50-46bd-abc3-19e52a91aed0"
   },
   "outputs": [
    {
     "name": "stdout",
     "output_type": "stream",
     "text": [
      "WARNING:tensorflow:From /home/ubuntu/anaconda3/envs/tensorflow_p36/lib/python3.6/site-packages/keras/backend/tensorflow_backend.py:74: The name tf.get_default_graph is deprecated. Please use tf.compat.v1.get_default_graph instead.\n",
      "\n",
      "WARNING:tensorflow:From /home/ubuntu/anaconda3/envs/tensorflow_p36/lib/python3.6/site-packages/keras/backend/tensorflow_backend.py:517: The name tf.placeholder is deprecated. Please use tf.compat.v1.placeholder instead.\n",
      "\n",
      "WARNING:tensorflow:From /home/ubuntu/anaconda3/envs/tensorflow_p36/lib/python3.6/site-packages/keras/backend/tensorflow_backend.py:4138: The name tf.random_uniform is deprecated. Please use tf.random.uniform instead.\n",
      "\n",
      "WARNING:tensorflow:From /home/ubuntu/anaconda3/envs/tensorflow_p36/lib/python3.6/site-packages/keras/backend/tensorflow_backend.py:174: The name tf.get_default_session is deprecated. Please use tf.compat.v1.get_default_session instead.\n",
      "\n",
      "WARNING:tensorflow:From /home/ubuntu/anaconda3/envs/tensorflow_p36/lib/python3.6/site-packages/keras/backend/tensorflow_backend.py:181: The name tf.ConfigProto is deprecated. Please use tf.compat.v1.ConfigProto instead.\n",
      "\n",
      "WARNING:tensorflow:From /home/ubuntu/anaconda3/envs/tensorflow_p36/lib/python3.6/site-packages/keras/backend/tensorflow_backend.py:186: The name tf.Session is deprecated. Please use tf.compat.v1.Session instead.\n",
      "\n",
      "WARNING:tensorflow:From /home/ubuntu/anaconda3/envs/tensorflow_p36/lib/python3.6/site-packages/keras/backend/tensorflow_backend.py:190: The name tf.global_variables is deprecated. Please use tf.compat.v1.global_variables instead.\n",
      "\n",
      "WARNING:tensorflow:From /home/ubuntu/anaconda3/envs/tensorflow_p36/lib/python3.6/site-packages/keras/backend/tensorflow_backend.py:199: The name tf.is_variable_initialized is deprecated. Please use tf.compat.v1.is_variable_initialized instead.\n",
      "\n",
      "WARNING:tensorflow:From /home/ubuntu/anaconda3/envs/tensorflow_p36/lib/python3.6/site-packages/keras/backend/tensorflow_backend.py:206: The name tf.variables_initializer is deprecated. Please use tf.compat.v1.variables_initializer instead.\n",
      "\n",
      "WARNING:tensorflow:From /home/ubuntu/anaconda3/envs/tensorflow_p36/lib/python3.6/site-packages/keras/backend/tensorflow_backend.py:1834: The name tf.nn.fused_batch_norm is deprecated. Please use tf.compat.v1.nn.fused_batch_norm instead.\n",
      "\n",
      "WARNING:tensorflow:From /home/ubuntu/anaconda3/envs/tensorflow_p36/lib/python3.6/site-packages/keras/backend/tensorflow_backend.py:133: The name tf.placeholder_with_default is deprecated. Please use tf.compat.v1.placeholder_with_default instead.\n",
      "\n",
      "WARNING:tensorflow:From /home/ubuntu/anaconda3/envs/tensorflow_p36/lib/python3.6/site-packages/keras/backend/tensorflow_backend.py:3976: The name tf.nn.max_pool is deprecated. Please use tf.nn.max_pool2d instead.\n",
      "\n",
      "WARNING:tensorflow:From /home/ubuntu/anaconda3/envs/tensorflow_p36/lib/python3.6/site-packages/keras/backend/tensorflow_backend.py:3980: The name tf.nn.avg_pool is deprecated. Please use tf.nn.avg_pool2d instead.\n",
      "\n",
      "<keras.engine.input_layer.InputLayer object at 0x7f787fc0c7b8> [0]\n",
      "<keras.layers.convolutional.Conv2D object at 0x7f787fc0ca20> [1]\n",
      "<keras.layers.normalization.BatchNormalization object at 0x7f787fc0ccf8> [2]\n",
      "<keras.layers.core.Activation object at 0x7f78884f9710> [3]\n",
      "<keras.layers.pooling.MaxPooling2D object at 0x7f787c18bb70> [4]\n",
      "<keras.layers.convolutional.Conv2D object at 0x7f787e6e6da0> [5]\n",
      "<keras.layers.normalization.BatchNormalization object at 0x7f787c1c1cf8> [6]\n",
      "<keras.layers.core.Activation object at 0x7f787c1c1f28> [7]\n",
      "<keras.layers.convolutional.Conv2D object at 0x7f787c14ca20> [8]\n",
      "<keras.layers.normalization.BatchNormalization object at 0x7f787c182748> [9]\n",
      "<keras.layers.core.Activation object at 0x7f787c14c978> [10]\n",
      "<keras.layers.convolutional.Conv2D object at 0x7f787c10bfd0> [11]\n",
      "<keras.layers.convolutional.Conv2D object at 0x7f787c1485f8> [12]\n",
      "<keras.layers.normalization.BatchNormalization object at 0x7f787c142ef0> [13]\n",
      "<keras.layers.normalization.BatchNormalization object at 0x7f787c1077f0> [14]\n",
      "<keras.layers.merge.Add object at 0x7f787c1079b0> [15]\n",
      "<keras.layers.core.Activation object at 0x7f787c09fb70> [16]\n",
      "<keras.layers.convolutional.Conv2D object at 0x7f787c09fcf8> [17]\n",
      "<keras.layers.normalization.BatchNormalization object at 0x7f787c051ac8> [18]\n",
      "<keras.layers.core.Activation object at 0x7f787c051e48> [19]\n",
      "<keras.layers.convolutional.Conv2D object at 0x7f787c05ae10> [20]\n",
      "<keras.layers.normalization.BatchNormalization object at 0x7f787c013b00> [21]\n",
      "<keras.layers.core.Activation object at 0x7f787c01add8> [22]\n",
      "<keras.layers.convolutional.Conv2D object at 0x7f787c01abe0> [23]\n",
      "<keras.layers.normalization.BatchNormalization object at 0x7f78647ca588> [24]\n",
      "<keras.layers.merge.Add object at 0x7f78647ca518> [25]\n",
      "<keras.layers.core.Activation object at 0x7f78647deac8> [26]\n",
      "<keras.layers.convolutional.Conv2D object at 0x7f78647dec88> [27]\n",
      "<keras.layers.normalization.BatchNormalization object at 0x7f7864793a58> [28]\n",
      "<keras.layers.core.Activation object at 0x7f7864793d68> [29]\n",
      "<keras.layers.convolutional.Conv2D object at 0x7f786479bd68> [30]\n",
      "<keras.layers.normalization.BatchNormalization object at 0x7f7864750a58> [31]\n",
      "<keras.layers.core.Activation object at 0x7f7864759b38> [32]\n",
      "<keras.layers.convolutional.Conv2D object at 0x7f7864759ef0> [33]\n",
      "<keras.layers.normalization.BatchNormalization object at 0x7f78647174a8> [34]\n",
      "<keras.layers.merge.Add object at 0x7f7864717438> [35]\n",
      "<keras.layers.core.Activation object at 0x7f7864730a20> [36]\n",
      "<keras.layers.convolutional.Conv2D object at 0x7f7864730be0> [37]\n",
      "<keras.layers.normalization.BatchNormalization object at 0x7f78646d8908> [38]\n",
      "<keras.layers.core.Activation object at 0x7f78646d8ef0> [39]\n",
      "<keras.layers.convolutional.Conv2D object at 0x7f78646dfc18> [40]\n",
      "<keras.layers.normalization.BatchNormalization object at 0x7f7864696978> [41]\n",
      "<keras.layers.core.Activation object at 0x7f7864696908> [42]\n",
      "<keras.layers.convolutional.Conv2D object at 0x7f786469de80> [43]\n",
      "<keras.layers.convolutional.Conv2D object at 0x7f786465b9b0> [44]\n",
      "<keras.layers.normalization.BatchNormalization object at 0x7f786465b390> [45]\n",
      "<keras.layers.normalization.BatchNormalization object at 0x7f786461dc18> [46]\n",
      "<keras.layers.merge.Add object at 0x7f786461dcc0> [47]\n",
      "<keras.layers.core.Activation object at 0x7f7864634f98> [48]\n",
      "<keras.layers.convolutional.Conv2D object at 0x7f78645da518> [49]\n",
      "<keras.layers.normalization.BatchNormalization object at 0x7f78645e7f28> [50]\n",
      "<keras.layers.core.Activation object at 0x7f78645eddd8> [51]\n",
      "<keras.layers.convolutional.Conv2D object at 0x7f78645edf60> [52]\n",
      "<keras.layers.normalization.BatchNormalization object at 0x7f78645a5fd0> [53]\n",
      "<keras.layers.core.Activation object at 0x7f78645ae668> [54]\n",
      "<keras.layers.convolutional.Conv2D object at 0x7f78645b7c50> [55]\n",
      "<keras.layers.normalization.BatchNormalization object at 0x7f786456e9e8> [56]\n",
      "<keras.layers.merge.Add object at 0x7f786456e978> [57]\n",
      "<keras.layers.core.Activation object at 0x7f7864503ba8> [58]\n",
      "<keras.layers.convolutional.Conv2D object at 0x7f78645274a8> [59]\n",
      "<keras.layers.normalization.BatchNormalization object at 0x7f7864534b38> [60]\n",
      "<keras.layers.core.Activation object at 0x7f78644c1cf8> [61]\n",
      "<keras.layers.convolutional.Conv2D object at 0x7f78644c1e80> [62]\n",
      "<keras.layers.normalization.BatchNormalization object at 0x7f78644f8eb8> [63]\n",
      "<keras.layers.core.Activation object at 0x7f786447ffd0> [64]\n",
      "<keras.layers.convolutional.Conv2D object at 0x7f7864487ba8> [65]\n",
      "<keras.layers.normalization.BatchNormalization object at 0x7f786443e940> [66]\n",
      "<keras.layers.merge.Add object at 0x7f786443e8d0> [67]\n",
      "<keras.layers.core.Activation object at 0x7f7864453b00> [68]\n",
      "<keras.layers.convolutional.Conv2D object at 0x7f78644628d0> [69]\n",
      "<keras.layers.normalization.BatchNormalization object at 0x7f7864406dd8> [70]\n",
      "<keras.layers.core.Activation object at 0x7f7864406fd0> [71]\n",
      "<keras.layers.convolutional.Conv2D object at 0x7f786440edd8> [72]\n",
      "<keras.layers.normalization.BatchNormalization object at 0x7f78643c7e10> [73]\n",
      "<keras.layers.core.Activation object at 0x7f78643ccf60> [74]\n",
      "<keras.layers.convolutional.Conv2D object at 0x7f78643d4b00> [75]\n",
      "<keras.layers.normalization.BatchNormalization object at 0x7f786438e898> [76]\n",
      "<keras.layers.merge.Add object at 0x7f786438e828> [77]\n",
      "<keras.layers.core.Activation object at 0x7f78643a5a58> [78]\n",
      "<keras.layers.convolutional.Conv2D object at 0x7f7864348358> [79]\n",
      "<keras.layers.normalization.BatchNormalization object at 0x7f7864358d68> [80]\n",
      "<keras.layers.core.Activation object at 0x7f7864358f60> [81]\n",
      "<keras.layers.convolutional.Conv2D object at 0x7f786435feb8> [82]\n",
      "<keras.layers.normalization.BatchNormalization object at 0x7f7864316d68> [83]\n",
      "<keras.layers.core.Activation object at 0x7f786431ef60> [84]\n",
      "<keras.layers.convolutional.Conv2D object at 0x7f7864328a58> [85]\n",
      "<keras.layers.convolutional.Conv2D object at 0x7f78642de780> [86]\n",
      "<keras.layers.normalization.BatchNormalization object at 0x7f78642de7f0> [87]\n",
      "<keras.layers.normalization.BatchNormalization object at 0x7f78642a67b8> [88]\n",
      "<keras.layers.merge.Add object at 0x7f78642a6cf8> [89]\n",
      "<keras.layers.core.Activation object at 0x7f786423cb38> [90]\n",
      "<keras.layers.convolutional.Conv2D object at 0x7f786423ccf8> [91]\n",
      "<keras.layers.normalization.BatchNormalization object at 0x7f786426cd68> [92]\n",
      "<keras.layers.core.Activation object at 0x7f7864272dd8> [93]\n",
      "<keras.layers.convolutional.Conv2D object at 0x7f7864272e10> [94]\n",
      "<keras.layers.normalization.BatchNormalization object at 0x7f78642342e8> [95]\n",
      "<keras.layers.core.Activation object at 0x7f7864234908> [96]\n",
      "<keras.layers.convolutional.Conv2D object at 0x7f78641bfd30> [97]\n",
      "<keras.layers.normalization.BatchNormalization object at 0x7f78641f5be0> [98]\n",
      "<keras.layers.merge.Add object at 0x7f786417bfd0> [99]\n",
      "<keras.layers.core.Activation object at 0x7f7864191f28> [100]\n",
      "<keras.layers.convolutional.Conv2D object at 0x7f7864199c50> [101]\n",
      "<keras.layers.normalization.BatchNormalization object at 0x7f7864145898> [102]\n",
      "<keras.layers.core.Activation object at 0x7f7864145fd0> [103]\n",
      "<keras.layers.convolutional.Conv2D object at 0x7f7864150ba8> [104]\n",
      "<keras.layers.normalization.BatchNormalization object at 0x7f7864105940> [105]\n",
      "<keras.layers.core.Activation object at 0x7f78641058d0> [106]\n",
      "<keras.layers.convolutional.Conv2D object at 0x7f786410de48> [107]\n",
      "<keras.layers.normalization.BatchNormalization object at 0x7f78640cf320> [108]\n",
      "<keras.layers.merge.Add object at 0x7f78640cf940> [109]\n",
      "<keras.layers.core.Activation object at 0x7f78640e2860> [110]\n",
      "<keras.layers.convolutional.Conv2D object at 0x7f78640e2eb8> [111]\n",
      "<keras.layers.normalization.BatchNormalization object at 0x7f7864094ef0> [112]\n",
      "<keras.layers.core.Activation object at 0x7f786409ad68> [113]\n",
      "<keras.layers.convolutional.Conv2D object at 0x7f786409aef0> [114]\n",
      "<keras.layers.normalization.BatchNormalization object at 0x7f7864058ef0> [115]\n",
      "<keras.layers.core.Activation object at 0x7f786405e5f8> [116]\n",
      "<keras.layers.convolutional.Conv2D object at 0x7f7864066be0> [117]\n",
      "<keras.layers.normalization.BatchNormalization object at 0x7f78400d2978> [118]\n",
      "<keras.layers.merge.Add object at 0x7f78400d2908> [119]\n",
      "<keras.layers.core.Activation object at 0x7f78400e9b38> [120]\n",
      "<keras.layers.convolutional.Conv2D object at 0x7f7840077940> [121]\n",
      "<keras.layers.normalization.BatchNormalization object at 0x7f784009af98> [122]\n",
      "<keras.layers.core.Activation object at 0x7f78400a1f98> [123]\n",
      "<keras.layers.convolutional.Conv2D object at 0x7f78400a1fd0> [124]\n",
      "<keras.layers.normalization.BatchNormalization object at 0x7f7840061630> [125]\n",
      "<keras.layers.core.Activation object at 0x7f78400615c0> [126]\n",
      "<keras.layers.convolutional.Conv2D object at 0x7f7840069f28> [127]\n",
      "<keras.layers.normalization.BatchNormalization object at 0x7f77f0c61f60> [128]\n",
      "<keras.layers.merge.Add object at 0x7f77f0c67630> [129]\n",
      "<keras.layers.core.Activation object at 0x7f77f0bf5eb8> [130]\n",
      "<keras.layers.convolutional.Conv2D object at 0x7f77f0bfbfd0> [131]\n",
      "<keras.layers.normalization.BatchNormalization object at 0x7f77f0c26be0> [132]\n",
      "<keras.layers.core.Activation object at 0x7f77f0c26710> [133]\n",
      "<keras.layers.convolutional.Conv2D object at 0x7f77f0c30eb8> [134]\n",
      "<keras.layers.normalization.BatchNormalization object at 0x7f77f0be8be0> [135]\n",
      "<keras.layers.core.Activation object at 0x7f77f0becfd0> [136]\n",
      "<keras.layers.convolutional.Conv2D object at 0x7f77f0b76940> [137]\n",
      "<keras.layers.normalization.BatchNormalization object at 0x7f77f0bac668> [138]\n",
      "<keras.layers.merge.Add object at 0x7f77f0bac5f8> [139]\n",
      "<keras.layers.core.Activation object at 0x7f77f0b44d68> [140]\n",
      "<keras.layers.convolutional.Conv2D object at 0x7f77f0b684a8> [141]\n",
      "<keras.layers.normalization.BatchNormalization object at 0x7f77f0af4da0> [142]\n",
      "<keras.layers.core.Activation object at 0x7f77f0afbdd8> [143]\n",
      "<keras.layers.convolutional.Conv2D object at 0x7f77f0afbe10> [144]\n",
      "<keras.layers.normalization.BatchNormalization object at 0x7f77f0abc320> [145]\n",
      "<keras.layers.core.Activation object at 0x7f77f0abc940> [146]\n",
      "<keras.layers.convolutional.Conv2D object at 0x7f77f0ac7d68> [147]\n",
      "<keras.layers.convolutional.Conv2D object at 0x7f77f0a84ef0> [148]\n",
      "<keras.layers.normalization.BatchNormalization object at 0x7f77f0a7ec18> [149]\n",
      "<keras.layers.normalization.BatchNormalization object at 0x7f77f0a45c88> [150]\n",
      "<keras.layers.merge.Add object at 0x7f77f0a45d30> [151]\n",
      "<keras.layers.core.Activation object at 0x7f77f0a64fd0> [152]\n",
      "<keras.layers.convolutional.Conv2D object at 0x7f77f0a69a90> [153]\n",
      "<keras.layers.normalization.BatchNormalization object at 0x7f77f0a146d8> [154]\n",
      "<keras.layers.core.Activation object at 0x7f77f0a14f28> [155]\n",
      "<keras.layers.convolutional.Conv2D object at 0x7f77f0a1ba20> [156]\n",
      "<keras.layers.normalization.BatchNormalization object at 0x7f77f09d47b8> [157]\n",
      "<keras.layers.core.Activation object at 0x7f77f09d4748> [158]\n",
      "<keras.layers.convolutional.Conv2D object at 0x7f77f09def28> [159]\n",
      "<keras.layers.normalization.BatchNormalization object at 0x7f77f099c198> [160]\n",
      "<keras.layers.merge.Add object at 0x7f77f099c7b8> [161]\n",
      "<keras.layers.core.Activation object at 0x7f77f09336d8> [162]\n",
      "<keras.layers.convolutional.Conv2D object at 0x7f77f0933fd0> [163]\n",
      "<keras.layers.normalization.BatchNormalization object at 0x7f77f0965d68> [164]\n",
      "<keras.layers.core.Activation object at 0x7f77f0965f60> [165]\n",
      "<keras.layers.convolutional.Conv2D object at 0x7f77f096deb8> [166]\n",
      "<keras.layers.normalization.BatchNormalization object at 0x7f77f0922d68> [167]\n",
      "<keras.layers.core.Activation object at 0x7f77f092bf28> [168]\n",
      "<keras.layers.convolutional.Conv2D object at 0x7f77f08b5a20> [169]\n",
      "<keras.layers.normalization.BatchNormalization object at 0x7f77f08ec7f0> [170]\n",
      "<keras.layers.merge.Add object at 0x7f77f08ec780> [171]\n",
      "<keras.layers.core.Activation object at 0x7f77f088bfd0> [172]\n",
      "<keras.layers.pooling.AveragePooling2D object at 0x7f77f08a9630> [173]\n",
      "<keras.layers.pooling.GlobalAveragePooling2D object at 0x7f77f0836d30> [174]\n",
      "vgg layer 2 is trainable: True\n",
      "vgg layer 3 is trainable: False\n",
      "WARNING:tensorflow:From /home/ubuntu/anaconda3/envs/tensorflow_p36/lib/python3.6/site-packages/keras/optimizers.py:790: The name tf.train.Optimizer is deprecated. Please use tf.compat.v1.train.Optimizer instead.\n",
      "\n"
     ]
    },
    {
     "name": "stdout",
     "output_type": "stream",
     "text": [
      "WARNING:tensorflow:From /home/ubuntu/anaconda3/envs/tensorflow_p36/lib/python3.6/site-packages/keras/backend/tensorflow_backend.py:3295: The name tf.log is deprecated. Please use tf.math.log instead.\n",
      "\n"
     ]
    }
   ],
   "source": [
    "vgg_notop = VGGFace(model='resnet50', include_top=False, input_shape=(224, 224, 3), pooling='avg')\n",
    "last_layer = vgg_notop.get_layer('avg_pool').output\n",
    "x = Flatten(name='flatten')(last_layer)\n",
    "x = Dense(4096, activation='relu', name='fc6')(x)\n",
    "x = Dense(1024, activation='relu', name='fc7')(x)\n",
    "#print(\"Emotions count\", len(EMOTIONS))\n",
    "l=0\n",
    "for layer in vgg_notop.layers:\n",
    "    print(layer,\"[\"+str(l)+\"]\")\n",
    "    l=l+1\n",
    "    \n",
    "batch_norm_indices = [2, 6, 9, 13, 14, 18, 21, 24, 28, 31, 34, 38, 41, 45, 46, 53, 56, 60, 63, 66, 70, 73, 76, 80, 83, 87, 88, 92, 95, 98]\n",
    "for i in range(101):\n",
    "    if i not in batch_norm_indices:\n",
    "        vgg_notop.layers[i].trainable = False\n",
    "\n",
    "print('vgg layer 2 is trainable: ' + str(vgg_notop.layers[2].trainable))\n",
    "print('vgg layer 3 is trainable: ' + str(vgg_notop.layers[3].trainable))\n",
    "\n",
    "out = Dense(7, activation='softmax', name='classifier')(x)\n",
    "\n",
    "custom_resnet = Model(vgg_notop.input, out)\n",
    "\n",
    "\n",
    "optim = keras.optimizers.Adam(lr=0.001, beta_1=0.9, beta_2=0.999, epsilon=1e-08, decay=0.0)\n",
    "#optim = keras.optimizers.Adam(lr=0.0005, beta_1=0.9, beta_2=0.999, epsilon=1e-08, decay=0.0)\n",
    "sgd = keras.optimizers.SGD(lr=0.01, decay=1e-6, momentum=0.9, nesterov=True)\n",
    "\n",
    "custom_resnet.compile(optimizer=sgd, loss='categorical_crossentropy', metrics=['accuracy'])\n",
    "plot_model(custom_resnet, to_file='model2.png', show_shapes=True)"
   ]
  },
  {
   "cell_type": "code",
   "execution_count": 1,
   "metadata": {
    "colab": {
     "base_uri": "https://localhost:8080/",
     "height": 34
    },
    "colab_type": "code",
    "id": "EjKPXZ3TX3Jb",
    "outputId": "ee0e13f9-5570-4876-f3b8-ac0ca4a7818e"
   },
   "outputs": [],
   "source": [
    "# Function that reads the data from the csv file, increases the size of the images and returns the images and their labels\n",
    "    # dataset: Data path\n",
    "def get_data(dataset, pixelsize = 224):\n",
    "    \n",
    "    file_stream = file_io.FileIO(dataset, mode='r')\n",
    "    data = pd.read_csv(file_stream)\n",
    "\n",
    "    #data = pd.read_csv('fer2013/fer2013.csv')\n",
    "    data['pixels'] = data['pixels'].apply(lambda x: [int(pixel) for pixel in x.split()])\n",
    "\n",
    "    data_train = data[data['Usage'] == 'Training']\n",
    "    #print('Number samples in the training dataset: ', data_train.shape[0])\n",
    "\n",
    "    data_dev = data[data['Usage'] == 'PublicTest']\n",
    "    #print('Number samples in the development dataset: ', data_dev.shape[0])\n",
    "\n",
    "    # Retrieve train input and target\n",
    "    X_train, Y_train = data_train['pixels'].tolist(), data_train['emotion'].values\n",
    "    #print(len(X_train))\n",
    "    #print(X_train[0])\n",
    "    # Reshape images to 4D (num_samples, width, height, num_channels)\n",
    "    X_train = np.array(X_train, dtype='float32').reshape(-1,48,48,1)\n",
    "    # Normalize images with max (the maximum pixel intensity is 255)\n",
    "    X_train = X_train/255.0\n",
    "    #print(X_train.shape)\n",
    "    #print(X_train[0])\n",
    "    #image_resized = resize(image, (image.shape[0] // 4, image.shape[1] // 4), anti_aliasing=True)\n",
    "\n",
    "    # Retrieve dev input and target\n",
    "    X_dev, Y_dev = data_dev['pixels'].tolist(), data_dev['emotion'].values\n",
    "    X_dev = np.array(X_dev, dtype='float32').reshape(-1,48,48,1)\n",
    "    X_dev = X_dev/255.0\n",
    "\n",
    "    X_dev_res = np.zeros((X_dev.shape[0], pixelsize,pixelsize,3))\n",
    "    for ind in range(X_dev.shape[0]):  #X_dev.shape[0]\n",
    "        sample = X_dev[ind]\n",
    "        sample = sample.reshape(48, 48)\n",
    "        #plt.imshow(sample, cmap='gray')\n",
    "        #plt.show()\n",
    "        image_resized = resize(sample, (pixelsize, pixelsize), anti_aliasing=True)\n",
    "        X_dev_res[ind,:,:,:] = image_resized.reshape(pixelsize,pixelsize,1)\n",
    "    #         np.save('X_dev_res.npy', X_dev_res)\n",
    "\n",
    "    X_train_res = np.zeros((X_train.shape[0], pixelsize,pixelsize,3))\n",
    "    for ind in range(X_train.shape[0]):  #X_dev.shape[0]\n",
    "        sample = X_train[ind]\n",
    "        sample = sample.reshape(48, 48)\n",
    "        #plt.imshow(sample, cmap='gray')\n",
    "        #plt.show()\n",
    "        image_resized = resize(sample, (pixelsize, pixelsize), anti_aliasing=True)\n",
    "        X_train_res[ind,:,:,:] = image_resized.reshape(pixelsize,pixelsize,1)\n",
    "    #         np.save('X_train_res.npy', X_train_res)\n",
    "\n",
    "    Y_train_res = np.zeros((Y_train.size, Y_train.max()+1))\n",
    "    Y_train_res[np.arange(Y_train.size),Y_train] = 1\n",
    "    Y_dev_res = np.zeros((Y_dev.size, Y_dev.max()+1))\n",
    "    Y_dev_res[np.arange(Y_dev.size),Y_dev] = 1\n",
    "    \n",
    "    return  X_train_res, Y_train_res, X_dev_res, Y_dev_res"
   ]
  },
  {
   "cell_type": "code",
   "execution_count": null,
   "metadata": {},
   "outputs": [],
   "source": [
    "# Data preparation\n",
    "train_data_x, train_data_y  = get_data(train_dataset)\n",
    "val_data  = get_data(eval_dataset)\n",
    "\n",
    "# Generate batches of tensor image data with real-time data augmentation. The data will be looped over (in batches) indefinitely\n",
    "# rescale:          Rescaling factor (defaults to None). Multiply the data by the value provided (before applying any other transformation)\n",
    "# rotation_range:   Int. Degree range for random rotations\n",
    "# shear_range:      Float. Shear Intensity (Shear angle in counter-clockwise direction as radians)\n",
    "# zoom_range:       Float or [lower, upper]. Range for random zoom. If a float, [lower, upper] = [1-zoom_range, 1+zoom_range]\n",
    "# fill_mode :       Points outside the boundaries of the input are filled according to the given mode: {\"constant\", \"nearest\", \"reflect\" or \"wrap\"}\n",
    "# horizontal_flip:  Boolean. Randomly flip inputs horizontally\n",
    "train_datagen = ImageDataGenerator(\n",
    "    rotation_range  = 10,\n",
    "    shear_range     = 10, # 10 degrees\n",
    "    zoom_range      = 0.1,\n",
    "    fill_mode       = 'reflect',\n",
    "    horizontal_flip = True)\n",
    "\n",
    "# Takes numpy data & label arrays, and generates batches of augmented/normalized data. Yields batcfillhes indefinitely, in an infinite loop\n",
    "    # x:            Data. Should have rank 4. In case of grayscale data, the channels axis should have value 1, and in case of RGB data, \n",
    "    #               it should have value 3\n",
    "    # y:            Labels\n",
    "    # batch_size:   Int (default: 32)\n",
    "train_generator = train_datagen.flow(\n",
    "    train_data_x,\n",
    "    train_data_y,\n",
    "    batch_size  = batch_size)"
   ]
  },
  {
   "cell_type": "code",
   "execution_count": 11,
   "metadata": {},
   "outputs": [
    {
     "name": "stdout",
     "output_type": "stream",
     "text": [
      "X_train shape: (28709, 48, 48, 1)\n",
      "Y_train shape: (28709,)\n",
      "X_dev shape: (3589, 48, 48, 1)\n",
      "Y_dev shape: (3589,)\n",
      "X_train_res shape: (28709, 224, 224, 3)\n",
      "Y_train_res shape: (28709, 7)\n",
      "X_dev_res shape: (3589, 224, 224, 3)\n",
      "Y_dev_res shape: (3589, 7)\n"
     ]
    }
   ],
   "source": [
    "print (\"X_train shape: \" + str(X_train.shape))\n",
    "print (\"Y_train shape: \" + str(Y_train.shape))\n",
    "print (\"X_dev shape: \" + str(X_dev.shape))\n",
    "print (\"Y_dev shape: \" + str(Y_dev.shape))\n",
    "\n",
    "print (\"X_train_res shape: \" + str(X_train_res.shape))\n",
    "print(\"Y_train_res shape: \" + str(Y_train_res.shape))\n",
    "print (\"X_dev_res shape: \" + str(X_dev_res.shape))\n",
    "print(\"Y_dev_res shape: \" + str(Y_dev_res.shape))"
   ]
  },
  {
   "cell_type": "code",
   "execution_count": 12,
   "metadata": {
    "colab": {},
    "colab_type": "code",
    "id": "l3DpD608HuiQ"
   },
   "outputs": [
    {
     "data": {
      "image/png": "[encoded data removed]",
      "text/plain": [
       "<Figure size 432x288 with 1 Axes>"
      ]
     },
     "metadata": {},
     "output_type": "display_data"
    },
    {
     "data": {
      "image/png": "[encoded data removed]",
      "text/plain": [
       "<Figure size 432x288 with 1 Axes>"
      ]
     },
     "metadata": {},
     "output_type": "display_data"
    },
    {
     "name": "stdout",
     "output_type": "stream",
     "text": [
      "[1. 0. 0. 0. 0. 0. 0.]\n"
     ]
    },
    {
     "data": {
      "image/png": "[encoded data removed]",
      "text/plain": [
       "<Figure size 432x288 with 1 Axes>"
      ]
     },
     "metadata": {},
     "output_type": "display_data"
    },
    {
     "name": "stdout",
     "output_type": "stream",
     "text": [
      "[0. 0. 0. 1. 0. 0. 0.]\n"
     ]
    }
   ],
   "source": [
    "i = 10\n",
    "image = X_train[i,:,:,:].reshape(48, 48)\n",
    "plt.imshow(image, cmap='gray')\n",
    "plt.show()\n",
    "\n",
    "image_resized = X_train_res[i,:,:,:].reshape(pixelsize, pixelsize, 3)\n",
    "plt.imshow(image_resized)\n",
    "plt.show()\n",
    "print(Y_train_res[i])\n",
    "\n",
    "dev_resized = X_dev_res[i,:,:,:].reshape(pixelsize, pixelsize, 3)\n",
    "plt.imshow(dev_resized)\n",
    "plt.show()\n",
    "print(Y_dev_res[i])\n"
   ]
  },
  {
   "cell_type": "code",
   "execution_count": 13,
   "metadata": {
    "colab": {},
    "colab_type": "code",
    "id": "SktuGWC4Kkob"
   },
   "outputs": [
    {
     "name": "stdout",
     "output_type": "stream",
     "text": [
      "(48, 48)\n",
      "(224, 224, 3)\n"
     ]
    }
   ],
   "source": [
    "print(sample.shape)\n",
    "print(image_resized.shape)"
   ]
  },
  {
   "cell_type": "markdown",
   "metadata": {
    "colab": {},
    "colab_type": "code",
    "id": "Yi3lopGhZIuT"
   },
   "source": [
    "#Baseline model\n",
    "model = tf.keras.models.Sequential([\n",
    "    InputLayer(input_shape=(48,48,1),name=\"input\"),\n",
    "    Conv2D(filters=32,kernel_size=3,activation='relu',padding='same',name=\"conv1\"),\n",
    "    Dropout(0.25), BatchNormalization(),\n",
    "    Conv2D(filters=32,kernel_size=3,activation='relu',padding='same',name=\"conv2\"),\n",
    "    Dropout(0.25), BatchNormalization(),\n",
    "    MaxPool2D(pool_size=(2,2),name=\"maxpool1\"),\n",
    "    Conv2D(filters=64,kernel_size=3,activation='relu',padding='same',name=\"conv3\"),\n",
    "    Dropout(0.25), BatchNormalization(),\n",
    "    Conv2D(filters=64,kernel_size=3,activation='relu',padding='same',name=\"conv4\"),\n",
    "    Dropout(0.25), BatchNormalization(),\n",
    "    Flatten(),\n",
    "    Dense(1024,input_shape=(24*24*64,1),activation='relu',name='fc1'),\n",
    "    Dense(7,input_shape=(1024,1),activation='softmax',name='fc-softmax')\n",
    "])\n",
    "\n",
    "print(\"Accuracy after training\")\n",
    "model.compile(loss='sparse_categorical_crossentropy',optimizer='adam',metrics=['accuracy'])"
   ]
  },
  {
   "cell_type": "markdown",
   "metadata": {
    "colab": {},
    "colab_type": "code",
    "id": "iKzZuMBafv0a",
    "scrolled": true
   },
   "source": [
    "model.fit(X_train, Y_train, batch_size=32, epochs=1, validation_data=(X_dev, Y_dev))"
   ]
  },
  {
   "cell_type": "markdown",
   "metadata": {},
   "source": [
    "small_x = X_train_res[0:5000]\n",
    "small_y = Y_train_res[0:5000]"
   ]
  },
  {
   "cell_type": "code",
   "execution_count": 14,
   "metadata": {
    "colab": {},
    "colab_type": "code",
    "id": "pLISdlaStbUn"
   },
   "outputs": [
    {
     "name": "stdout",
     "output_type": "stream",
     "text": [
      "WARNING:tensorflow:From /home/ubuntu/anaconda3/envs/tensorflow_p36/lib/python3.6/site-packages/tensorflow_core/python/ops/math_grad.py:1424: where (from tensorflow.python.ops.array_ops) is deprecated and will be removed in a future version.\n",
      "Instructions for updating:\n",
      "Use tf.where in 2.0, which has the same broadcast rule as np.where\n",
      "WARNING:tensorflow:From /home/ubuntu/anaconda3/envs/tensorflow_p36/lib/python3.6/site-packages/keras/backend/tensorflow_backend.py:986: The name tf.assign_add is deprecated. Please use tf.compat.v1.assign_add instead.\n",
      "\n",
      "WARNING:tensorflow:From /home/ubuntu/anaconda3/envs/tensorflow_p36/lib/python3.6/site-packages/keras/backend/tensorflow_backend.py:973: The name tf.assign is deprecated. Please use tf.compat.v1.assign instead.\n",
      "\n",
      "Train on 28709 samples, validate on 3589 samples\n",
      "Epoch 1/10\n",
      "28709/28709 [==============================] - 656s 23ms/step - loss: 1.1518 - acc: 0.5916 - val_loss: 1.0869 - val_acc: 0.6250\n",
      "Epoch 2/10\n",
      "28709/28709 [==============================] - 611s 21ms/step - loss: 0.8232 - acc: 0.6941 - val_loss: 0.9561 - val_acc: 0.6559\n",
      "Epoch 3/10\n",
      "28709/28709 [==============================] - 611s 21ms/step - loss: 0.6897 - acc: 0.7447 - val_loss: 0.9195 - val_acc: 0.6726\n",
      "Epoch 4/10\n",
      "28709/28709 [==============================] - 611s 21ms/step - loss: 0.5628 - acc: 0.7962 - val_loss: 0.9387 - val_acc: 0.6801\n",
      "Epoch 5/10\n",
      "28709/28709 [==============================] - 611s 21ms/step - loss: 0.4480 - acc: 0.8378 - val_loss: 1.1717 - val_acc: 0.6411\n",
      "Epoch 6/10\n",
      "28709/28709 [==============================] - 611s 21ms/step - loss: 0.3401 - acc: 0.8799 - val_loss: 1.2257 - val_acc: 0.6425\n",
      "Epoch 7/10\n",
      "28709/28709 [==============================] - 612s 21ms/step - loss: 0.2576 - acc: 0.9106 - val_loss: 1.4736 - val_acc: 0.6314\n",
      "Epoch 8/10\n",
      "28709/28709 [==============================] - 612s 21ms/step - loss: 0.1897 - acc: 0.9347 - val_loss: 1.4300 - val_acc: 0.6135\n",
      "Epoch 9/10\n",
      "28709/28709 [==============================] - 612s 21ms/step - loss: 0.1411 - acc: 0.9531 - val_loss: 1.7789 - val_acc: 0.6311\n",
      "Epoch 10/10\n",
      "28709/28709 [==============================] - 611s 21ms/step - loss: 0.1081 - acc: 0.9655 - val_loss: 1.7495 - val_acc: 0.6244\n",
      "\n",
      "history dict: {'val_loss': [1.0868551682615453, 0.9560770375976393, 0.9195237530576515, 0.9387243664108568, 1.17168250387261, 1.2256993877751543, 1.4736427480578589, 1.430048791935066, 1.778927840771998, 1.749510705421216], 'val_acc': [0.6249651713901391, 0.6558930064416855, 0.6726107550932857, 0.6801337419894121, 0.6411256617442185, 0.6425188074755649, 0.6313736416912238, 0.6135413764362782, 0.6310950125715267, 0.6244079130760106], 'loss': [1.1517901088282159, 0.823170342034791, 0.6896539455343096, 0.5628173843816662, 0.4479686465720206, 0.34005520201272493, 0.25756339661201144, 0.18973546703420524, 0.14112796619824636, 0.10809342913505297], 'acc': [0.5916263192353309, 0.6940680623133398, 0.7447490334228445, 0.7961614824744028, 0.837786060112215, 0.879863457479357, 0.9105855306968149, 0.9347243024482469, 0.953115747660412, 0.9655160402661186]}\n"
     ]
    }
   ],
   "source": [
    "history = custom_resnet.fit(\n",
    "    X_train_res,\n",
    "    Y_train_res,\n",
    "    epochs=10,\n",
    "    batch_size=64,\n",
    "    shuffle=True,\n",
    "    validation_data=(X_dev_res, Y_dev_res)\n",
    ")\n",
    "\n",
    "print('\\nhistory dict:', history.history)"
   ]
  },
  {
   "cell_type": "code",
   "execution_count": 15,
   "metadata": {},
   "outputs": [],
   "source": [
    "custom_resnet.save('transfer_learning.h5')"
   ]
  },
  {
   "cell_type": "markdown",
   "metadata": {},
   "source": [
    "custom_resnet.evaluate(X_train_res, Y_train_res)"
   ]
  },
  {
   "cell_type": "markdown",
   "metadata": {},
   "source": [
    "custom_resnet.evaluate(X_dev_res, Y_dev_res)"
   ]
  },
  {
   "cell_type": "code",
   "execution_count": null,
   "metadata": {},
   "outputs": [],
   "source": []
  }
 ],
 "metadata": {
  "accelerator": "GPU",
  "colab": {
   "collapsed_sections": [],
   "include_colab_link": true,
   "machine_shape": "hm",
   "name": "fer2013.ipynb",
   "provenance": []
  },
  "kernelspec": {
   "display_name": "Python 3",
   "language": "python",
   "name": "python3"
  },
  "language_info": {
   "codemirror_mode": {
    "name": "ipython",
    "version": 3
   },
   "file_extension": ".py",
   "mimetype": "text/x-python",
   "name": "python",
   "nbconvert_exporter": "python",
   "pygments_lexer": "ipython3",
   "version": "3.6.5"
  }
 },
 "nbformat": 4,
 "nbformat_minor": 1
}
