{
  "nbformat": 4,
  "nbformat_minor": 0,
  "metadata": {
    "accelerator": "GPU",
    "colab": {
      "name": "fer2013.ipynb",
      "provenance": [],
      "collapsed_sections": [],
      "include_colab_link": true
    },
    "kernelspec": {
      "name": "python3",
      "display_name": "Python 3"
    }
  },
  "cells": [
    {
      "cell_type": "markdown",
      "metadata": {
        "id": "view-in-github",
        "colab_type": "text"
      },
      "source": [
        "<a href=\"https://colab.research.google.com/github/amilkh/cs230-fer/blob/error-analysis/fer2013.ipynb\" target=\"_parent\"><img src=\"https://colab.research.google.com/assets/colab-badge.svg\" alt=\"Open In Colab\"/></a>"
      ]
    },
    {
      "cell_type": "code",
      "metadata": {
        "id": "cVbLZURCveTi",
        "colab_type": "code",
        "colab": {}
      },
      "source": [
        "%tensorflow_version 2.x"
      ],
      "execution_count": 0,
      "outputs": []
    },
    {
      "cell_type": "code",
      "metadata": {
        "colab_type": "code",
        "id": "2nz38mJZXN_P",
        "colab": {}
      },
      "source": [
        "import matplotlib.pyplot as plt\n",
        "import pandas as pd\n",
        "import numpy as np\n",
        "\n",
        "import tensorflow as tf\n",
        "from tensorflow.keras.layers import *\n",
        "from tensorflow.keras.models import load_model\n",
        "\n",
        "%matplotlib inline"
      ],
      "execution_count": 0,
      "outputs": []
    },
    {
      "cell_type": "code",
      "metadata": {
        "colab_type": "code",
        "id": "EjKPXZ3TX3Jb",
        "outputId": "7e9fde97-50fd-4ca2-b69d-320f9bfeec92",
        "colab": {
          "base_uri": "https://localhost:8080/",
          "height": 122
        }
      },
      "source": [
        "from google.colab import drive\n",
        "drive.mount('/content/drive')"
      ],
      "execution_count": 4,
      "outputs": [
        {
          "output_type": "stream",
          "text": [
            "Go to this URL in a browser: https://accounts.google.com/o/oauth2/auth?client_id=947318989803-6bn6qk8qdgf4n4g3pfee6491hc0brc4i.apps.googleusercontent.com&redirect_uri=urn%3aietf%3awg%3aoauth%3a2.0%3aoob&response_type=code&scope=email%20https%3a%2f%2fwww.googleapis.com%2fauth%2fdocs.test%20https%3a%2f%2fwww.googleapis.com%2fauth%2fdrive%20https%3a%2f%2fwww.googleapis.com%2fauth%2fdrive.photos.readonly%20https%3a%2f%2fwww.googleapis.com%2fauth%2fpeopleapi.readonly\n",
            "\n",
            "Enter your authorization code:\n",
            "··········\n",
            "Mounted at /content/drive\n"
          ],
          "name": "stdout"
        }
      ]
    },
    {
      "cell_type": "code",
      "metadata": {
        "id": "rMt7BeH-FyBc",
        "colab_type": "code",
        "colab": {}
      },
      "source": [
        "! rm -rf dev; mkdir dev\n",
        "! unzip -q '/content/drive/My Drive/cs230 project/dataset/webcam amil.zip' -d dev\n",
        "! unzip -q '/content/drive/My Drive/cs230 project/dataset/webcam paki.zip' -d dev"
      ],
      "execution_count": 0,
      "outputs": []
    },
    {
      "cell_type": "code",
      "metadata": {
        "id": "c9ZXgnQaF0tx",
        "colab_type": "code",
        "colab": {
          "base_uri": "https://localhost:8080/",
          "height": 136
        },
        "outputId": "681d3c8f-c1e3-40a9-da6a-878a0bdfd067"
      },
      "source": [
        "# Move 80% of webcam images to the training set\n",
        "%%bash\n",
        "source_root='/content/dev/'\n",
        "target_root='/content/train/'\n",
        "IFS=$(echo -en \"\\n\\b\")\n",
        "for dir in $(ls -1 \"$source_root\")\n",
        "do\n",
        "    source_dir=\"$source_root$dir\"\n",
        "    target_dir=\"$target_root$dir\"\n",
        "    num_files=$(ls -1 \"$source_dir\" | wc -l)\n",
        "    num_to_move=$(( $num_files*8/10 ))\n",
        "    echo \"Moving $num_to_move/$num_files files from $source_dir to $target_dir\"\n",
        "    mkdir -p \"$target_dir\"\n",
        "    cd \"$source_dir\"\n",
        "    ls -1 \"$source_dir\" | shuf -n $num_to_move | xargs -i mv {} \"$target_dir\"\n",
        " done"
      ],
      "execution_count": 6,
      "outputs": [
        {
          "output_type": "stream",
          "text": [
            "Moving 29/37 files from /content/dev/0 angry to /content/train/0 angry\n",
            "Moving 34/43 files from /content/dev/1 disgust to /content/train/1 disgust\n",
            "Moving 18/23 files from /content/dev/2 fear to /content/train/2 fear\n",
            "Moving 22/28 files from /content/dev/3 happy to /content/train/3 happy\n",
            "Moving 21/27 files from /content/dev/4 sad to /content/train/4 sad\n",
            "Moving 20/25 files from /content/dev/5 surprise to /content/train/5 surprise\n",
            "Moving 21/27 files from /content/dev/6 neutral to /content/train/6 neutral\n"
          ],
          "name": "stdout"
        }
      ]
    },
    {
      "cell_type": "code",
      "metadata": {
        "id": "cp9OLdnjF3Iy",
        "colab_type": "code",
        "colab": {}
      },
      "source": [
        "! unzip -q '/content/drive/My Drive/cs230 project/dataset/fer2013/test-private.zip' -d dev"
      ],
      "execution_count": 0,
      "outputs": []
    },
    {
      "cell_type": "code",
      "metadata": {
        "id": "juGBLEC8HIL9",
        "colab_type": "code",
        "colab": {}
      },
      "source": [
        "def get_datagen(dataset):\n",
        "    return ImageDataGenerator().flow_from_directory(\n",
        "              dataset,\n",
        "              target_size=(48, 48),\n",
        "              color_mode='grayscale',\n",
        "              shuffle = True,\n",
        "              class_mode='categorical',\n",
        "              batch_size=128)"
      ],
      "execution_count": 0,
      "outputs": []
    },
    {
      "cell_type": "code",
      "metadata": {
        "id": "Vbd0LVf6HWmV",
        "colab_type": "code",
        "colab": {
          "base_uri": "https://localhost:8080/",
          "height": 34
        },
        "outputId": "490f91e2-d283-409c-ef03-6fb145b2148a"
      },
      "source": [
        "from skimage import io, transform\n",
        "\n",
        "X_dev_gen    = get_datagen('/content/dev')\n",
        "\n",
        "X_dev = np.zeros((len(X_dev_gen.filepaths), 48, 48, 1))\n",
        "Y_dev = np.zeros((len(X_dev_gen.filepaths), 7))\n",
        "for i in range(0,len(X_dev_gen.filepaths)):\n",
        "  x = io.imread(X_dev_gen.filepaths[i], as_gray=True)\n",
        "  X_dev[i,:] = transform.resize(x, (48,48,1))\n",
        "  Y_dev[i,X_dev_gen.classes[i]] = 1"
      ],
      "execution_count": 18,
      "outputs": [
        {
          "output_type": "stream",
          "text": [
            "Found 3633 images belonging to 7 classes.\n"
          ],
          "name": "stdout"
        }
      ]
    },
    {
      "cell_type": "code",
      "metadata": {
        "id": "0diR1j4JV0xl",
        "colab_type": "code",
        "colab": {}
      },
      "source": [
        "model = load_model('/content/drive/My Drive/cs230 project/models/webcam-SGD_LR_0.01000-EPOCHS_50-BS_128-DROPOUT_0.4test_acc_0.569.h5')"
      ],
      "execution_count": 0,
      "outputs": []
    },
    {
      "cell_type": "code",
      "metadata": {
        "id": "AkkxgoSy1Ot_",
        "colab_type": "code",
        "colab": {}
      },
      "source": [
        "# TODO: subtract probabilities?\n",
        "y_pred = model.predict(X_dev).argmax(axis=1)\n",
        "y_true = Y_dev.argmax(axis=1)"
      ],
      "execution_count": 0,
      "outputs": []
    },
    {
      "cell_type": "code",
      "metadata": {
        "id": "2BMengn9162u",
        "colab_type": "code",
        "outputId": "2aff1c27-bfaf-4f79-a7d7-a08930e4134d",
        "colab": {
          "base_uri": "https://localhost:8080/",
          "height": 34
        }
      },
      "source": [
        "incorrect = np.count_nonzero(y_pred-y_true)\n",
        "print(\"Accuracy on dev images: {:.2%}\".format(1.0 - incorrect/len(y_true)))"
      ],
      "execution_count": 25,
      "outputs": [
        {
          "output_type": "stream",
          "text": [
            "Accuracy on dev images: 63.20%\n"
          ],
          "name": "stdout"
        }
      ]
    },
    {
      "cell_type": "code",
      "metadata": {
        "id": "wAcLxbqE82e0",
        "colab_type": "code",
        "colab": {
          "base_uri": "https://localhost:8080/",
          "height": 399
        },
        "outputId": "4c4518bf-837a-4a0d-f3f1-c9bd9b779ec1"
      },
      "source": [
        "from sklearn.metrics import confusion_matrix\n",
        "from seaborn import heatmap\n",
        "\n",
        "emotions = {0:'Angry', 1:'Disgust', 2:'Fear', 3:'Happy', 4:'Sad', 5:'Surprise', 6:'Neutral'}\n",
        "\n",
        "cmat_df_test=pd.DataFrame(\n",
        "  confusion_matrix(y_true, y_pred, normalize='true').round(2),\n",
        "  index=emotions.values(), \n",
        "  columns=emotions.values()\n",
        "  )\n",
        "\n",
        "plt.figure(figsize=(5,5))\n",
        "heatmap(cmat_df_test,annot=True,cmap=plt.cm.Blues)\n",
        "plt.tight_layout()\n",
        "plt.title('Confusion Matrix on Private Test Set')\n",
        "plt.ylabel('True label')\n",
        "plt.xlabel('Predicted label')\n",
        "plt.show()"
      ],
      "execution_count": 28,
      "outputs": [
        {
          "output_type": "display_data",
          "data": {
            "image/png": "[encoded data removed]",
            "text/plain": [
              "<Figure size 360x360 with 2 Axes>"
            ]
          },
          "metadata": {
            "tags": []
          }
        }
      ]
    },
    {
      "cell_type": "code",
      "metadata": {
        "id": "1NVUTGPJI3xM",
        "colab_type": "code",
        "colab": {}
      },
      "source": [
        ""
      ],
      "execution_count": 0,
      "outputs": []
    }
  ]
}