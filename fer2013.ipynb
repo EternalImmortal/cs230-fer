{
  "nbformat": 4,
  "nbformat_minor": 0,
  "metadata": {
    "accelerator": "GPU",
    "colab": {
      "name": "fer2013.ipynb",
      "provenance": [],
      "collapsed_sections": [],
      "include_colab_link": true
    },
    "kernelspec": {
      "name": "python3",
      "display_name": "Python 3"
    }
  },
  "cells": [
    {
      "cell_type": "markdown",
      "metadata": {
        "id": "view-in-github",
        "colab_type": "text"
      },
      "source": [
        "<a href=\"https://colab.research.google.com/github/amilkh/cs230-fer/blob/75-soa/fer2013.ipynb\" target=\"_parent\"><img src=\"https://colab.research.google.com/assets/colab-badge.svg\" alt=\"Open In Colab\"/></a>"
      ]
    },
    {
      "cell_type": "code",
      "metadata": {
        "colab_type": "code",
        "id": "gwdg7Sv3XBaP",
        "outputId": "5b9d9a51-047d-4cab-a145-46403e02ab68",
        "colab": {
          "base_uri": "https://localhost:8080/",
          "height": 103
        }
      },
      "source": [
        "%tensorflow_version 1.4"
      ],
      "execution_count": 26,
      "outputs": [
        {
          "output_type": "stream",
          "text": [
            "`%tensorflow_version` only switches the major version: 1.x or 2.x.\n",
            "You set: `1.4`. This will be interpreted as: `1.x`.\n",
            "\n",
            "\n",
            "TensorFlow is already loaded. Please restart the runtime to change versions.\n"
          ],
          "name": "stdout"
        }
      ]
    },
    {
      "cell_type": "code",
      "metadata": {
        "colab_type": "code",
        "id": "2nz38mJZXN_P",
        "colab": {}
      },
      "source": [
        "import matplotlib.pyplot as plt\n",
        "import pandas as pd\n",
        "import numpy as np\n",
        "\n",
        "import tensorflow as tf\n",
        "from tensorflow.python.lib.io import file_io\n",
        "\n",
        "import keras\n",
        "from keras.preprocessing.image import ImageDataGenerator\n",
        "\n",
        "from keras.models import Sequential\n",
        "from keras.layers import Dense, Dropout, Flatten\n",
        "from keras.layers import Conv2D, MaxPooling2D, BatchNormalization\n",
        "from keras.optimizers import SGD\n",
        "from keras.callbacks import ReduceLROnPlateau\n",
        "\n",
        "%matplotlib inline"
      ],
      "execution_count": 0,
      "outputs": []
    },
    {
      "cell_type": "code",
      "metadata": {
        "id": "vqF6jK_u5Q7d",
        "colab_type": "code",
        "colab": {
          "base_uri": "https://localhost:8080/",
          "height": 51
        },
        "outputId": "7739f650-61f0-420e-f184-842b48a4177e"
      },
      "source": [
        "print(tf.__version__)\n",
        "print(keras.__version__)"
      ],
      "execution_count": 28,
      "outputs": [
        {
          "output_type": "stream",
          "text": [
            "1.15.0\n",
            "2.2.5\n"
          ],
          "name": "stdout"
        }
      ]
    },
    {
      "cell_type": "code",
      "metadata": {
        "id": "oPO33wZKzHsc",
        "colab_type": "code",
        "colab": {}
      },
      "source": [
        "EPOCHS = 100\n",
        "BS = 128\n",
        "DROPOUT_RATE = 0.25\n",
        "SGD_LEARNING_RATE = 0.01\n",
        "SGD_DECAY = 0.0001"
      ],
      "execution_count": 0,
      "outputs": []
    },
    {
      "cell_type": "markdown",
      "metadata": {
        "id": "YYIE_ufI2Rf9",
        "colab_type": "text"
      },
      "source": [
        "#data = pd.read_csv('/content/drive/My Drive/cs230 project/collab/fer2013/fer2013.csv')\n",
        "\n",
        "data = pd.read_csv('/content/drive/My Drive/cs230 project/collab/fer2013/icml_face_data.csv') \n",
        "\n",
        "print(data.head())\n",
        "\n",
        "print(data.columns)\n",
        "\n",
        "data_train = data[data[' Usage'] == 'Training']\n",
        "\n",
        "print('Number samples in the training dataset: ', data_train.shape[0])\n",
        "data_dev = data[data[' Usage'] == 'PublicTest']\n",
        "\n",
        "print('Number samples in the development dataset: ', data_dev.shape[0]) \n",
        "print(data_dev.head())\n",
        "data_test = data[data[' Usage'] == 'PrivateTest']\n",
        "\n",
        "print('Number samples in the development dataset: ', data_dev.shape[0]) \n",
        "print(data_test.head())\n",
        "data_train.to_csv('/content/drive/My Drive/cs230 project/collab/fer2013/train.csv') \n",
        "data_dev.to_csv('/content/drive/My Drive/cs230 project/collab/fer2013/dev.csv') \n",
        "data_test.to_csv('/content/drive/My Drive/cs230 project/collab/fer2013/test.csv')\n",
        "\n",
        "print(data_train.shape) \n",
        "print(data_dev.shape) \n",
        "print(data_test.shape)"
      ]
    },
    {
      "cell_type": "code",
      "metadata": {
        "colab_type": "code",
        "id": "hAjh6yOLYPZm",
        "colab": {}
      },
      "source": [
        "# Function that reads the data from the csv file, increases the size of the images and returns the images and their labels\n",
        "    # dataset: Data path\n",
        "def get_data(dataset):\n",
        "    \n",
        "    file_stream = file_io.FileIO(dataset, mode='r')\n",
        "    data = pd.read_csv(file_stream)\n",
        "\n",
        "    #data = pd.read_csv('fer2013/fer2013.csv')\n",
        "    data[' pixels'] = data[' pixels'].apply(lambda x: [int(pixel) for pixel in x.split()])\n",
        "\n",
        "    # Retrieve train input and target\n",
        "    X, Y = data[' pixels'].tolist(), data['emotion'].values\n",
        "    \n",
        "    # Reshape images to 4D (num_samples, width, height, num_channels)\n",
        "    X_res = np.array(X, dtype='float32').reshape(-1,48,48,1)\n",
        "    # Normalize images with max (the maximum pixel intensity is 255)\n",
        "    X_res = X_res/255.0\n",
        "    #image_resized = resize(image, (image.shape[0] // 4, image.shape[1] // 4), anti_aliasing=True)\n",
        "\n",
        "    Y_res = np.zeros((Y.size, 7))\n",
        "    Y_res[np.arange(Y.size),Y] = 1    \n",
        "    \n",
        "    return  X_res, Y_res"
      ],
      "execution_count": 0,
      "outputs": []
    },
    {
      "cell_type": "code",
      "metadata": {
        "id": "rm5tqGr-zHsm",
        "colab_type": "code",
        "colab": {}
      },
      "source": [
        "training_dataset_dir = '/content/drive/My Drive/cs230 project/collab/fer2013/train.csv'\n",
        "dev_dataset_dir = '/content/drive/My Drive/cs230 project/collab/fer2013/dev.csv'\n",
        "# Data preparation\n",
        "X_train, Y_train  = get_data(training_dataset_dir)\n",
        "X_dev, Y_dev      = get_data(dev_dataset_dir)\n",
        "\n",
        "# Generate batches of tensor image data with real-time data augmentation. The data will be looped over (in batches) indefinitely\n",
        "# rescale:          Rescaling factor (defaults to None). Multiply the data by the value provided (before applying any other transformation)\n",
        "# rotation_range:   Int. Degree range for random rotations\n",
        "# shear_range:      Float. Shear Intensity (Shear angle in counter-clockwise direction as radians)\n",
        "# zoom_range:       Float or [lower, upper]. Range for random zoom. If a float, [lower, upper] = [1-zoom_range, 1+zoom_range]\n",
        "# fill_mode :       Points outside the boundaries of the input are filled according to the given mode: {\"constant\", \"nearest\", \"reflect\" or \"wrap\"}\n",
        "# horizontal_flip:  Boolean. Randomly flip inputs horizontally\n",
        "train_datagen = ImageDataGenerator(\n",
        "    rotation_range  = 10,\n",
        "    shear_range     = 5, # 10 degrees\n",
        "    zoom_range      = 0.1,\n",
        "    fill_mode       = 'reflect',\n",
        "    horizontal_flip = True)\n",
        "\n",
        "# Takes numpy data & label arrays, and generates batches of augmented/normalized data. Yields batcfillhes indefinitely, in an infinite loop\n",
        "    # x:            Data. Should have rank 4. In case of grayscale data, the channels axis should have value 1, and in case of RGB data, \n",
        "    #               it should have value 3\n",
        "    # y:            Labels\n",
        "    # batch_size:   Int (default: 32)\n",
        "train_generator = train_datagen.flow(X_train, Y_train,  batch_size  = BS)"
      ],
      "execution_count": 0,
      "outputs": []
    },
    {
      "cell_type": "markdown",
      "metadata": {
        "id": "Dfk02gSdzHsq",
        "colab_type": "text"
      },
      "source": [
        "# Implement below paper CPCPCPFF depth 5, 2.4m params\n",
        "# http://openaccess.thecvf.com/content_cvpr_2016_workshops/w28/papers/Kim_Fusing_Aligned_and_CVPR_2016_paper.pdf\n",
        "# Reference: https://arxiv.org/pdf/1612.02903.pdf\n",
        "model = Sequential()\n",
        "model.add(Conv2D(64, (5, 5), activation='relu',padding='same', input_shape=(48,48,1),name=\"conv1\"))\n",
        "model.add(BatchNormalization())\n",
        "model.add(MaxPooling2D(pool_size=(2, 2),name=\"maxpool1\"))\n",
        "model.add(Dropout(DROPOUT_RATE))\n",
        "model.add(Conv2D(96, (5, 5), activation='relu',padding='same',name=\"conv2\"))\n",
        "model.add(BatchNormalization())\n",
        "model.add(MaxPooling2D(pool_size=(2, 2),name=\"maxpool2\"))         \n",
        "model.add(Dropout(DROPOUT_RATE))\n",
        "model.add(Conv2D(256, (5, 5), activation='relu',padding='same',name=\"conv3\"))\n",
        "model.add(BatchNormalization())\n",
        "model.add(MaxPooling2D(pool_size=(2, 2),name=\"maxpool3\"))\n",
        "model.add(Conv2D(256, (5, 5), activation='relu',padding='same',name=\"conv4\"))\n",
        "\n",
        "model.add(Flatten())\n",
        "model.add(Dense(2048, activation='relu',name='fc1'))\n",
        "model.add(Dropout(0.5))\n",
        "model.add(Dense(7, activation='softmax',name='fcsoftmax'))\n",
        "\n",
        "#TODO: weight decay of 0.0001...initial learning rate is set to 0.01 and reduced by a factor of 2 at every 25 epoch\n",
        "sgd = SGD(lr=SGD_LEARNING_RATE,momentum=0.9, nesterov=True)\n",
        "model.compile(loss='categorical_crossentropy',optimizer=sgd,metrics=['accuracy'])"
      ]
    },
    {
      "cell_type": "code",
      "metadata": {
        "id": "bG4t-6RO-g2S",
        "colab_type": "code",
        "colab": {}
      },
      "source": [
        "# Implement below paper CPCPCPFF depth 5, 2.4m params\n",
        "# http://openaccess.thecvf.com/content_cvpr_2016_workshops/w28/papers/Kim_Fusing_Aligned_and_CVPR_2016_paper.pdf\n",
        "# Reference: https://arxiv.org/pdf/1612.02903.pdf\n",
        "modelSOA = Sequential()\n",
        "modelSOA.add(Conv2D(32, (5, 5), activation='relu',padding='same', input_shape=(48,48,1),name=\"conv1\"))\n",
        "modelSOA.add(BatchNormalization())\n",
        "modelSOA.add(MaxPooling2D(pool_size=(2, 2),name=\"maxpool1\"))\n",
        "modelSOA.add(Dropout(DROPOUT_RATE))\n",
        "modelSOA.add(Conv2D(32, (4, 4), activation='relu',padding='same',name=\"conv2\"))\n",
        "modelSOA.add(BatchNormalization())\n",
        "modelSOA.add(MaxPooling2D(pool_size=(2, 2),name=\"maxpool2\"))         \n",
        "modelSOA.add(Dropout(DROPOUT_RATE))\n",
        "modelSOA.add(Conv2D(64, (5, 5), activation='relu',padding='same',name=\"conv3\"))\n",
        "modelSOA.add(BatchNormalization())\n",
        "modelSOA.add(MaxPooling2D(pool_size=(2, 2),name=\"maxpool3\"))\n",
        "modelSOA.add(Flatten())\n",
        "modelSOA.add(Dense(1024, activation='relu',name='fc1'))\n",
        "modelSOA.add(Dropout(0.5))\n",
        "modelSOA.add(Dense(7, activation='softmax',name='fcsoftmax'))\n",
        "\n",
        "#TODO: weight decay of 0.0001...initial learning rate is set to 0.01 and reduced by a factor of 2 at every 25 epoch\n",
        "sgd = SGD(lr=SGD_LEARNING_RATE,momentum=0.9, decay=SGD_DECAY, nesterov=True)\n",
        "modelSOA.compile(loss='categorical_crossentropy',optimizer=sgd,metrics=['accuracy'])\n",
        "#rlrop = ReduceLROnPlateau(monitor='val_loss', factor=0.1, patience=100)\n",
        "rlrop = ReduceLROnPlateau(monitor='val_acc',mode='max',factor=0.5, patience=10, min_lr=0.00001, verbose=1)\n",
        "model = modelSOA"
      ],
      "execution_count": 0,
      "outputs": []
    },
    {
      "cell_type": "code",
      "metadata": {
        "id": "RJ3hGX2HzHsw",
        "colab_type": "code",
        "colab": {
          "base_uri": "https://localhost:8080/",
          "height": 1000
        },
        "outputId": "30c19c1f-65d5-418c-a760-0559c50d496b"
      },
      "source": [
        "history = modelSOA.fit_generator(\n",
        "    generator = train_generator,\n",
        "    validation_data=(X_dev, Y_dev), \n",
        "    steps_per_epoch=len(X_train) // BS,\n",
        "    shuffle=True,\n",
        "    epochs=EPOCHS,\n",
        "    callbacks=[rlrop]) "
      ],
      "execution_count": 33,
      "outputs": [
        {
          "output_type": "stream",
          "text": [
            "Epoch 1/100\n",
            "224/224 [==============================] - 11s 49ms/step - loss: 2.0007 - acc: 0.2769 - val_loss: 1.6824 - val_acc: 0.3369\n",
            "Epoch 2/100\n",
            "224/224 [==============================] - 10s 45ms/step - loss: 1.6938 - acc: 0.3245 - val_loss: 1.6143 - val_acc: 0.3605\n",
            "Epoch 3/100\n",
            "224/224 [==============================] - 10s 45ms/step - loss: 1.6441 - acc: 0.3526 - val_loss: 1.5652 - val_acc: 0.3990\n",
            "Epoch 4/100\n",
            "224/224 [==============================] - 10s 45ms/step - loss: 1.6028 - acc: 0.3752 - val_loss: 1.5135 - val_acc: 0.4129\n",
            "Epoch 5/100\n",
            "224/224 [==============================] - 10s 44ms/step - loss: 1.5761 - acc: 0.3850 - val_loss: 1.4922 - val_acc: 0.4238\n",
            "Epoch 6/100\n",
            "224/224 [==============================] - 10s 45ms/step - loss: 1.5385 - acc: 0.3989 - val_loss: 1.4503 - val_acc: 0.4433\n",
            "Epoch 7/100\n",
            "224/224 [==============================] - 10s 45ms/step - loss: 1.5129 - acc: 0.4132 - val_loss: 1.4352 - val_acc: 0.4372\n",
            "Epoch 8/100\n",
            "224/224 [==============================] - 10s 45ms/step - loss: 1.4853 - acc: 0.4263 - val_loss: 1.3882 - val_acc: 0.4667\n",
            "Epoch 9/100\n",
            "224/224 [==============================] - 10s 45ms/step - loss: 1.4660 - acc: 0.4331 - val_loss: 1.3985 - val_acc: 0.4592\n",
            "Epoch 10/100\n",
            "224/224 [==============================] - 10s 44ms/step - loss: 1.4458 - acc: 0.4426 - val_loss: 1.3968 - val_acc: 0.4648\n",
            "Epoch 11/100\n",
            "224/224 [==============================] - 10s 45ms/step - loss: 1.4162 - acc: 0.4551 - val_loss: 1.3505 - val_acc: 0.4854\n",
            "Epoch 12/100\n",
            "224/224 [==============================] - 10s 44ms/step - loss: 1.4064 - acc: 0.4604 - val_loss: 1.3357 - val_acc: 0.4884\n",
            "Epoch 13/100\n",
            "224/224 [==============================] - 10s 44ms/step - loss: 1.3844 - acc: 0.4642 - val_loss: 1.3421 - val_acc: 0.4865\n",
            "Epoch 14/100\n",
            "224/224 [==============================] - 10s 44ms/step - loss: 1.3707 - acc: 0.4726 - val_loss: 1.3092 - val_acc: 0.5021\n",
            "Epoch 15/100\n",
            "224/224 [==============================] - 10s 44ms/step - loss: 1.3473 - acc: 0.4835 - val_loss: 1.3289 - val_acc: 0.4937\n",
            "Epoch 16/100\n",
            "224/224 [==============================] - 10s 45ms/step - loss: 1.3229 - acc: 0.4955 - val_loss: 1.2884 - val_acc: 0.5155\n",
            "Epoch 17/100\n",
            "224/224 [==============================] - 10s 44ms/step - loss: 1.3198 - acc: 0.4973 - val_loss: 1.2604 - val_acc: 0.5188\n",
            "Epoch 18/100\n",
            "224/224 [==============================] - 10s 45ms/step - loss: 1.2982 - acc: 0.5030 - val_loss: 1.3028 - val_acc: 0.5049\n",
            "Epoch 19/100\n",
            "224/224 [==============================] - 10s 45ms/step - loss: 1.2874 - acc: 0.5119 - val_loss: 1.2789 - val_acc: 0.5024\n",
            "Epoch 20/100\n",
            "224/224 [==============================] - 10s 45ms/step - loss: 1.2716 - acc: 0.5138 - val_loss: 1.2240 - val_acc: 0.5378\n",
            "Epoch 21/100\n",
            "224/224 [==============================] - 10s 44ms/step - loss: 1.2545 - acc: 0.5212 - val_loss: 1.2563 - val_acc: 0.5185\n",
            "Epoch 22/100\n",
            "224/224 [==============================] - 10s 44ms/step - loss: 1.2444 - acc: 0.5266 - val_loss: 1.2571 - val_acc: 0.5305\n",
            "Epoch 23/100\n",
            "224/224 [==============================] - 10s 44ms/step - loss: 1.2339 - acc: 0.5297 - val_loss: 1.3655 - val_acc: 0.4957\n",
            "Epoch 24/100\n",
            "224/224 [==============================] - 10s 44ms/step - loss: 1.2151 - acc: 0.5435 - val_loss: 1.2135 - val_acc: 0.5442\n",
            "Epoch 25/100\n",
            "224/224 [==============================] - 10s 45ms/step - loss: 1.2117 - acc: 0.5402 - val_loss: 1.2260 - val_acc: 0.5397\n",
            "Epoch 26/100\n",
            "224/224 [==============================] - 10s 45ms/step - loss: 1.1923 - acc: 0.5469 - val_loss: 1.2257 - val_acc: 0.5394\n",
            "Epoch 27/100\n",
            "224/224 [==============================] - 10s 45ms/step - loss: 1.1842 - acc: 0.5486 - val_loss: 1.1818 - val_acc: 0.5634\n",
            "Epoch 28/100\n",
            "224/224 [==============================] - 10s 45ms/step - loss: 1.1677 - acc: 0.5610 - val_loss: 1.1735 - val_acc: 0.5692\n",
            "Epoch 29/100\n",
            "224/224 [==============================] - 10s 45ms/step - loss: 1.1622 - acc: 0.5567 - val_loss: 1.2237 - val_acc: 0.5436\n",
            "Epoch 30/100\n",
            "224/224 [==============================] - 10s 46ms/step - loss: 1.1489 - acc: 0.5672 - val_loss: 1.1913 - val_acc: 0.5617\n",
            "Epoch 31/100\n",
            "224/224 [==============================] - 10s 45ms/step - loss: 1.1430 - acc: 0.5687 - val_loss: 1.2665 - val_acc: 0.5263\n",
            "Epoch 32/100\n",
            "224/224 [==============================] - 10s 44ms/step - loss: 1.1236 - acc: 0.5778 - val_loss: 1.2113 - val_acc: 0.5520\n",
            "Epoch 33/100\n",
            "224/224 [==============================] - 10s 45ms/step - loss: 1.1238 - acc: 0.5729 - val_loss: 1.1836 - val_acc: 0.5545\n",
            "Epoch 34/100\n",
            "224/224 [==============================] - 10s 46ms/step - loss: 1.1161 - acc: 0.5806 - val_loss: 1.2031 - val_acc: 0.5548\n",
            "Epoch 35/100\n",
            "224/224 [==============================] - 10s 45ms/step - loss: 1.0946 - acc: 0.5863 - val_loss: 1.1861 - val_acc: 0.5609\n",
            "Epoch 36/100\n",
            "224/224 [==============================] - 10s 45ms/step - loss: 1.0992 - acc: 0.5856 - val_loss: 1.1748 - val_acc: 0.5584\n",
            "Epoch 37/100\n",
            "224/224 [==============================] - 10s 45ms/step - loss: 1.0941 - acc: 0.5856 - val_loss: 1.2554 - val_acc: 0.5408\n",
            "Epoch 38/100\n",
            "224/224 [==============================] - 10s 45ms/step - loss: 1.0759 - acc: 0.5952 - val_loss: 1.1725 - val_acc: 0.5709\n",
            "Epoch 39/100\n",
            "224/224 [==============================] - 10s 45ms/step - loss: 1.0639 - acc: 0.5980 - val_loss: 1.2131 - val_acc: 0.5589\n",
            "Epoch 40/100\n",
            "224/224 [==============================] - 10s 45ms/step - loss: 1.0598 - acc: 0.6013 - val_loss: 1.3226 - val_acc: 0.5085\n",
            "Epoch 41/100\n",
            "224/224 [==============================] - 10s 45ms/step - loss: 1.0564 - acc: 0.6049 - val_loss: 1.1537 - val_acc: 0.5723\n",
            "Epoch 42/100\n",
            "224/224 [==============================] - 10s 45ms/step - loss: 1.0418 - acc: 0.6082 - val_loss: 1.2236 - val_acc: 0.5506\n",
            "Epoch 43/100\n",
            "224/224 [==============================] - 10s 46ms/step - loss: 1.0320 - acc: 0.6136 - val_loss: 1.1454 - val_acc: 0.5795\n",
            "Epoch 44/100\n",
            "224/224 [==============================] - 10s 45ms/step - loss: 1.0306 - acc: 0.6134 - val_loss: 1.1585 - val_acc: 0.5798\n",
            "Epoch 45/100\n",
            "224/224 [==============================] - 10s 44ms/step - loss: 1.0195 - acc: 0.6204 - val_loss: 1.1414 - val_acc: 0.5818\n",
            "Epoch 46/100\n",
            "224/224 [==============================] - 10s 45ms/step - loss: 1.0190 - acc: 0.6174 - val_loss: 1.1407 - val_acc: 0.5887\n",
            "Epoch 47/100\n",
            "224/224 [==============================] - 10s 44ms/step - loss: 1.0035 - acc: 0.6241 - val_loss: 1.1554 - val_acc: 0.5784\n",
            "Epoch 48/100\n",
            "224/224 [==============================] - 10s 45ms/step - loss: 0.9987 - acc: 0.6278 - val_loss: 1.1881 - val_acc: 0.5637\n",
            "Epoch 49/100\n",
            "224/224 [==============================] - 10s 45ms/step - loss: 0.9928 - acc: 0.6258 - val_loss: 1.2479 - val_acc: 0.5389\n",
            "Epoch 50/100\n",
            "224/224 [==============================] - 10s 45ms/step - loss: 0.9945 - acc: 0.6285 - val_loss: 1.1413 - val_acc: 0.5926\n",
            "Epoch 51/100\n",
            "224/224 [==============================] - 10s 45ms/step - loss: 0.9798 - acc: 0.6338 - val_loss: 1.1236 - val_acc: 0.5946\n",
            "Epoch 52/100\n",
            "224/224 [==============================] - 10s 45ms/step - loss: 0.9793 - acc: 0.6309 - val_loss: 1.1425 - val_acc: 0.5913\n",
            "Epoch 53/100\n",
            "224/224 [==============================] - 10s 45ms/step - loss: 0.9672 - acc: 0.6384 - val_loss: 1.1970 - val_acc: 0.5639\n",
            "Epoch 54/100\n",
            "224/224 [==============================] - 10s 45ms/step - loss: 0.9622 - acc: 0.6414 - val_loss: 1.1357 - val_acc: 0.5901\n",
            "Epoch 55/100\n",
            "224/224 [==============================] - 10s 45ms/step - loss: 0.9580 - acc: 0.6451 - val_loss: 1.1455 - val_acc: 0.5871\n",
            "Epoch 56/100\n",
            "224/224 [==============================] - 10s 45ms/step - loss: 0.9423 - acc: 0.6480 - val_loss: 1.1493 - val_acc: 0.5929\n",
            "Epoch 57/100\n",
            "224/224 [==============================] - 10s 45ms/step - loss: 0.9502 - acc: 0.6435 - val_loss: 1.1441 - val_acc: 0.5924\n",
            "Epoch 58/100\n",
            "224/224 [==============================] - 10s 45ms/step - loss: 0.9389 - acc: 0.6504 - val_loss: 1.1726 - val_acc: 0.5784\n",
            "Epoch 59/100\n",
            "224/224 [==============================] - 10s 45ms/step - loss: 0.9241 - acc: 0.6535 - val_loss: 1.1327 - val_acc: 0.5921\n",
            "Epoch 60/100\n",
            "224/224 [==============================] - 10s 45ms/step - loss: 0.9299 - acc: 0.6533 - val_loss: 1.2465 - val_acc: 0.5481\n",
            "Epoch 61/100\n",
            "224/224 [==============================] - 10s 45ms/step - loss: 0.9225 - acc: 0.6527 - val_loss: 1.1446 - val_acc: 0.5954\n",
            "Epoch 62/100\n",
            "224/224 [==============================] - 10s 45ms/step - loss: 0.9149 - acc: 0.6582 - val_loss: 1.2544 - val_acc: 0.5442\n",
            "Epoch 63/100\n",
            "224/224 [==============================] - 10s 45ms/step - loss: 0.9131 - acc: 0.6605 - val_loss: 1.1642 - val_acc: 0.5868\n",
            "Epoch 64/100\n",
            "224/224 [==============================] - 10s 46ms/step - loss: 0.9068 - acc: 0.6591 - val_loss: 1.1563 - val_acc: 0.5991\n",
            "Epoch 65/100\n",
            "224/224 [==============================] - 10s 46ms/step - loss: 0.8965 - acc: 0.6642 - val_loss: 1.1978 - val_acc: 0.5687\n",
            "Epoch 66/100\n",
            "224/224 [==============================] - 10s 45ms/step - loss: 0.8908 - acc: 0.6688 - val_loss: 1.1839 - val_acc: 0.5809\n",
            "Epoch 67/100\n",
            "224/224 [==============================] - 10s 46ms/step - loss: 0.8904 - acc: 0.6677 - val_loss: 1.1290 - val_acc: 0.5982\n",
            "Epoch 68/100\n",
            "224/224 [==============================] - 10s 45ms/step - loss: 0.8755 - acc: 0.6745 - val_loss: 1.1507 - val_acc: 0.6004\n",
            "Epoch 69/100\n",
            "224/224 [==============================] - 10s 44ms/step - loss: 0.8790 - acc: 0.6755 - val_loss: 1.1881 - val_acc: 0.5865\n",
            "Epoch 70/100\n",
            "224/224 [==============================] - 10s 45ms/step - loss: 0.8755 - acc: 0.6737 - val_loss: 1.1466 - val_acc: 0.5965\n",
            "Epoch 71/100\n",
            "224/224 [==============================] - 10s 44ms/step - loss: 0.8720 - acc: 0.6766 - val_loss: 1.1438 - val_acc: 0.5963\n",
            "Epoch 72/100\n",
            "224/224 [==============================] - 10s 45ms/step - loss: 0.8625 - acc: 0.6790 - val_loss: 1.1457 - val_acc: 0.5943\n",
            "Epoch 73/100\n",
            "224/224 [==============================] - 10s 45ms/step - loss: 0.8594 - acc: 0.6799 - val_loss: 1.1596 - val_acc: 0.5910\n",
            "Epoch 74/100\n",
            "224/224 [==============================] - 10s 46ms/step - loss: 0.8551 - acc: 0.6851 - val_loss: 1.1368 - val_acc: 0.5988\n",
            "Epoch 75/100\n",
            "224/224 [==============================] - 10s 46ms/step - loss: 0.8487 - acc: 0.6860 - val_loss: 1.1564 - val_acc: 0.5957\n",
            "Epoch 76/100\n",
            "224/224 [==============================] - 10s 45ms/step - loss: 0.8452 - acc: 0.6859 - val_loss: 1.1489 - val_acc: 0.6041\n",
            "Epoch 77/100\n",
            "224/224 [==============================] - 10s 45ms/step - loss: 0.8333 - acc: 0.6899 - val_loss: 1.1607 - val_acc: 0.6041\n",
            "Epoch 78/100\n",
            "224/224 [==============================] - 10s 44ms/step - loss: 0.8394 - acc: 0.6884 - val_loss: 1.1678 - val_acc: 0.6021\n",
            "Epoch 79/100\n",
            "224/224 [==============================] - 10s 45ms/step - loss: 0.8303 - acc: 0.6907 - val_loss: 1.1850 - val_acc: 0.5918\n",
            "Epoch 80/100\n",
            "224/224 [==============================] - 10s 44ms/step - loss: 0.8054 - acc: 0.7036 - val_loss: 1.1427 - val_acc: 0.6096\n",
            "Epoch 81/100\n",
            "224/224 [==============================] - 10s 44ms/step - loss: 0.8240 - acc: 0.6927 - val_loss: 1.1549 - val_acc: 0.6127\n",
            "Epoch 82/100\n",
            "224/224 [==============================] - 10s 44ms/step - loss: 0.8194 - acc: 0.6972 - val_loss: 1.2324 - val_acc: 0.5701\n",
            "Epoch 83/100\n",
            "224/224 [==============================] - 10s 43ms/step - loss: 0.8082 - acc: 0.7008 - val_loss: 1.1968 - val_acc: 0.5751\n",
            "Epoch 84/100\n",
            "224/224 [==============================] - 10s 44ms/step - loss: 0.7989 - acc: 0.7032 - val_loss: 1.1653 - val_acc: 0.6099\n",
            "Epoch 85/100\n",
            "224/224 [==============================] - 10s 44ms/step - loss: 0.8007 - acc: 0.7017 - val_loss: 1.1988 - val_acc: 0.5904\n",
            "Epoch 86/100\n",
            "224/224 [==============================] - 10s 44ms/step - loss: 0.7975 - acc: 0.7041 - val_loss: 1.1883 - val_acc: 0.5921\n",
            "Epoch 87/100\n",
            "224/224 [==============================] - 10s 44ms/step - loss: 0.7921 - acc: 0.7076 - val_loss: 1.1714 - val_acc: 0.6055\n",
            "Epoch 88/100\n",
            "224/224 [==============================] - 10s 44ms/step - loss: 0.7967 - acc: 0.7019 - val_loss: 1.1734 - val_acc: 0.6055\n",
            "Epoch 89/100\n",
            "224/224 [==============================] - 10s 44ms/step - loss: 0.7866 - acc: 0.7075 - val_loss: 1.1656 - val_acc: 0.6004\n",
            "Epoch 90/100\n",
            "224/224 [==============================] - 10s 45ms/step - loss: 0.7722 - acc: 0.7109 - val_loss: 1.1824 - val_acc: 0.5910\n",
            "Epoch 91/100\n",
            "224/224 [==============================] - 10s 44ms/step - loss: 0.7718 - acc: 0.7136 - val_loss: 1.1783 - val_acc: 0.6113\n",
            "\n",
            "Epoch 00091: ReduceLROnPlateau reducing learning rate to 0.004999999888241291.\n",
            "Epoch 92/100\n",
            "224/224 [==============================] - 10s 43ms/step - loss: 0.7591 - acc: 0.7194 - val_loss: 1.1489 - val_acc: 0.6147\n",
            "Epoch 93/100\n",
            "224/224 [==============================] - 10s 44ms/step - loss: 0.7477 - acc: 0.7235 - val_loss: 1.1603 - val_acc: 0.6043\n",
            "Epoch 94/100\n",
            "224/224 [==============================] - 10s 45ms/step - loss: 0.7555 - acc: 0.7203 - val_loss: 1.1543 - val_acc: 0.6094\n",
            "Epoch 95/100\n",
            "224/224 [==============================] - 10s 44ms/step - loss: 0.7440 - acc: 0.7230 - val_loss: 1.1704 - val_acc: 0.6021\n",
            "Epoch 96/100\n",
            "224/224 [==============================] - 10s 45ms/step - loss: 0.7358 - acc: 0.7233 - val_loss: 1.1601 - val_acc: 0.6199\n",
            "Epoch 97/100\n",
            "224/224 [==============================] - 10s 44ms/step - loss: 0.7334 - acc: 0.7279 - val_loss: 1.1563 - val_acc: 0.6138\n",
            "Epoch 98/100\n",
            "224/224 [==============================] - 10s 44ms/step - loss: 0.7310 - acc: 0.7300 - val_loss: 1.1687 - val_acc: 0.6110\n",
            "Epoch 99/100\n",
            "224/224 [==============================] - 10s 44ms/step - loss: 0.7312 - acc: 0.7292 - val_loss: 1.1429 - val_acc: 0.6216\n",
            "Epoch 100/100\n",
            "224/224 [==============================] - 10s 44ms/step - loss: 0.7232 - acc: 0.7326 - val_loss: 1.1673 - val_acc: 0.6085\n"
          ],
          "name": "stdout"
        }
      ]
    },
    {
      "cell_type": "code",
      "metadata": {
        "colab_type": "code",
        "id": "-FSBxRPXHSZE",
        "colab": {
          "base_uri": "https://localhost:8080/",
          "height": 86
        },
        "outputId": "f7baa6e0-6286-411f-b56f-7739b6005044"
      },
      "source": [
        "print('\\n# Evaluate on dev data')\n",
        "results_dev = model.evaluate(X_dev, Y_dev , batch_size=128)\n",
        "print('dev loss, dev acc:', results_dev)"
      ],
      "execution_count": 38,
      "outputs": [
        {
          "output_type": "stream",
          "text": [
            "\n",
            "# Evaluate on dev data\n",
            "3589/3589 [==============================] - 0s 73us/step\n",
            "dev loss, dev acc: [1.1673159183782267, 0.6085260518291727]\n"
          ],
          "name": "stdout"
        }
      ]
    },
    {
      "cell_type": "code",
      "metadata": {
        "id": "5b9-RdV1zHs_",
        "colab_type": "code",
        "colab": {
          "base_uri": "https://localhost:8080/",
          "height": 86
        },
        "outputId": "0bd27cd5-2b21-480c-8023-f6dbdc6a5720"
      },
      "source": [
        "test_dataset_dir = '/content/drive/My Drive/cs230 project/collab/fer2013/test.csv'\n",
        "X_test, Y_test      = get_data(test_dataset_dir)\n",
        "\n",
        "print('\\n# Evaluate on test data')\n",
        "results_test = model.evaluate(X_test, Y_test , batch_size=128)\n",
        "print('test loss, test acc:', results_test)"
      ],
      "execution_count": 39,
      "outputs": [
        {
          "output_type": "stream",
          "text": [
            "\n",
            "# Evaluate on test data\n",
            "3589/3589 [==============================] - 0s 74us/step\n",
            "test loss, test acc: [1.1082359130218455, 0.6085260518291727]\n"
          ],
          "name": "stdout"
        }
      ]
    },
    {
      "cell_type": "code",
      "metadata": {
        "id": "6pQfysJQzHtD",
        "colab_type": "code",
        "colab": {}
      },
      "source": [
        "lr_str = '-SGD_LR_%.5f' % SGD_LEARNING_RATE\n",
        "epoch_str = '-EPOCHS_' + str(EPOCHS)\n",
        "bs_str = '-BS_' + str(BS)\n",
        "dropout_str = '-DROPOUT_' + str(DROPOUT_RATE)\n",
        "model.save('/content/drive/My Drive/cs230 project/collab/fer2013/models/soa' + lr_str + epoch_str + bs_str + dropout_str + '.h5')"
      ],
      "execution_count": 0,
      "outputs": []
    },
    {
      "cell_type": "code",
      "metadata": {
        "id": "Sr6u8rO4zHtH",
        "colab_type": "code",
        "colab": {
          "base_uri": "https://localhost:8080/",
          "height": 590
        },
        "outputId": "37f7f13c-c4ca-47c4-8bfb-9df4c24aa946"
      },
      "source": [
        "# list all data in history\n",
        "print(history.history.keys())\n",
        "# summarize history for accuracy\n",
        "plt.plot(history.history['acc'])\n",
        "plt.plot(history.history['val_acc'])\n",
        "plt.title('model accuracy')\n",
        "plt.ylabel('accuracy')\n",
        "plt.xlabel('epoch')\n",
        "plt.legend(['train', 'dev'], loc='upper left')\n",
        "plt.show()\n",
        "# summarize history for loss\n",
        "plt.plot(history.history['loss'])\n",
        "plt.plot(history.history['val_loss'])\n",
        "plt.title('model loss')\n",
        "plt.ylabel('loss')\n",
        "plt.xlabel('epoch')\n",
        "plt.legend(['train', 'dev'], loc='upper left')\n",
        "plt.show()"
      ],
      "execution_count": 37,
      "outputs": [
        {
          "output_type": "stream",
          "text": [
            "dict_keys(['val_loss', 'val_acc', 'loss', 'acc', 'lr'])\n"
          ],
          "name": "stdout"
        },
        {
          "output_type": "display_data",
          "data": {
            "image/png": "[encoded data removed]",
            "text/plain": [
              "<Figure size 432x288 with 1 Axes>"
            ]
          },
          "metadata": {
            "tags": []
          }
        },
        {
          "output_type": "display_data",
          "data": {
            "image/png": "[encoded data removed]",
            "text/plain": [
              "<Figure size 432x288 with 1 Axes>"
            ]
          },
          "metadata": {
            "tags": []
          }
        }
      ]
    },
    {
      "cell_type": "code",
      "metadata": {
        "id": "V57Y-EomzHtL",
        "colab_type": "code",
        "colab": {}
      },
      "source": [
        ""
      ],
      "execution_count": 0,
      "outputs": []
    }
  ]
}