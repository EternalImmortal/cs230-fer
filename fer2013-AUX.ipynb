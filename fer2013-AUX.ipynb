{
  "nbformat": 4,
  "nbformat_minor": 0,
  "metadata": {
    "accelerator": "GPU",
    "colab": {
      "name": "fer2013.ipynb",
      "provenance": [],
      "collapsed_sections": [],
      "include_colab_link": true
    },
    "kernelspec": {
      "name": "python3",
      "display_name": "Python 3"
    }
  },
  "cells": [
    {
      "cell_type": "markdown",
      "metadata": {
        "id": "view-in-github",
        "colab_type": "text"
      },
      "source": [
        "<a href=\"https://colab.research.google.com/github/amilkh/cs230-fer/blob/75-soa/fer2013-AUX.ipynb\" target=\"_parent\"><img src=\"https://colab.research.google.com/assets/colab-badge.svg\" alt=\"Open In Colab\"/></a>"
      ]
    },
    {
      "cell_type": "code",
      "metadata": {
        "colab_type": "code",
        "id": "gwdg7Sv3XBaP",
        "outputId": "8d53d435-83da-4219-b9ff-19e3b8a715a0",
        "colab": {
          "base_uri": "https://localhost:8080/",
          "height": 102
        }
      },
      "source": [
        "%tensorflow_version 1.4"
      ],
      "execution_count": 1,
      "outputs": [
        {
          "output_type": "stream",
          "text": [
            "`%tensorflow_version` only switches the major version: 1.x or 2.x.\n",
            "You set: `1.4`. This will be interpreted as: `1.x`.\n",
            "\n",
            "\n",
            "TensorFlow 1.x selected.\n"
          ],
          "name": "stdout"
        }
      ]
    },
    {
      "cell_type": "code",
      "metadata": {
        "colab_type": "code",
        "id": "2nz38mJZXN_P",
        "outputId": "ecb8a50f-57cd-41df-876e-5d276974ab56",
        "colab": {
          "base_uri": "https://localhost:8080/",
          "height": 34
        }
      },
      "source": [
        "import matplotlib.pyplot as plt\n",
        "import pandas as pd\n",
        "import numpy as np\n",
        "\n",
        "import tensorflow as tf\n",
        "from tensorflow.python.lib.io import file_io\n",
        "\n",
        "import keras\n",
        "from keras.preprocessing.image import ImageDataGenerator\n",
        "\n",
        "from keras.models import Sequential\n",
        "from keras.layers import Dense, Dropout, Flatten\n",
        "from keras.layers import Conv2D, MaxPooling2D, BatchNormalization\n",
        "from keras.optimizers import SGD\n",
        "from keras.callbacks import ReduceLROnPlateau\n",
        "from keras.callbacks import ModelCheckpoint, EarlyStopping\n",
        "\n",
        "from sklearn.metrics import confusion_matrix\n",
        "from seaborn import heatmap\n",
        "\n",
        "%matplotlib inline"
      ],
      "execution_count": 2,
      "outputs": [
        {
          "output_type": "stream",
          "text": [
            "Using TensorFlow backend.\n"
          ],
          "name": "stderr"
        }
      ]
    },
    {
      "cell_type": "code",
      "metadata": {
        "id": "KI204HIYEdLE",
        "colab_type": "code",
        "outputId": "8381725f-feb0-4e8a-b162-0393f254912f",
        "colab": {
          "base_uri": "https://localhost:8080/",
          "height": 122
        }
      },
      "source": [
        "from google.colab import drive\n",
        "drive.mount('/content/drive')"
      ],
      "execution_count": 3,
      "outputs": [
        {
          "output_type": "stream",
          "text": [
            "Go to this URL in a browser: https://accounts.google.com/o/oauth2/auth?client_id=947318989803-6bn6qk8qdgf4n4g3pfee6491hc0brc4i.apps.googleusercontent.com&redirect_uri=urn%3aietf%3awg%3aoauth%3a2.0%3aoob&response_type=code&scope=email%20https%3a%2f%2fwww.googleapis.com%2fauth%2fdocs.test%20https%3a%2f%2fwww.googleapis.com%2fauth%2fdrive%20https%3a%2f%2fwww.googleapis.com%2fauth%2fdrive.photos.readonly%20https%3a%2f%2fwww.googleapis.com%2fauth%2fpeopleapi.readonly\n",
            "\n",
            "Enter your authorization code:\n",
            "··········\n",
            "Mounted at /content/drive\n"
          ],
          "name": "stdout"
        }
      ]
    },
    {
      "cell_type": "code",
      "metadata": {
        "id": "vqF6jK_u5Q7d",
        "colab_type": "code",
        "outputId": "82350d07-c642-4584-ca4a-47c6eaa30cb9",
        "colab": {
          "base_uri": "https://localhost:8080/",
          "height": 51
        }
      },
      "source": [
        "print(tf.__version__)\n",
        "print(keras.__version__)"
      ],
      "execution_count": 4,
      "outputs": [
        {
          "output_type": "stream",
          "text": [
            "1.15.0\n",
            "2.2.5\n"
          ],
          "name": "stdout"
        }
      ]
    },
    {
      "cell_type": "code",
      "metadata": {
        "id": "oPO33wZKzHsc",
        "colab_type": "code",
        "colab": {}
      },
      "source": [
        "EPOCHS = 150\n",
        "BS = 128\n",
        "DROPOUT_RATE = 0.35\n",
        "SGD_LEARNING_RATE = 0.01\n",
        "SGD_DECAY = 0.0001"
      ],
      "execution_count": 0,
      "outputs": []
    },
    {
      "cell_type": "code",
      "metadata": {
        "id": "bG4t-6RO-g2S",
        "colab_type": "code",
        "outputId": "2a8a2769-806e-4830-e31e-c939946ab052",
        "colab": {
          "base_uri": "https://localhost:8080/",
          "height": 564
        }
      },
      "source": [
        "# Implement below paper CPCPCPFF depth 5, 2.4m params\n",
        "# http://openaccess.thecvf.com/content_cvpr_2016_workshops/w28/papers/Kim_Fusing_Aligned_and_CVPR_2016_paper.pdf\n",
        "# Reference: https://arxiv.org/pdf/1612.02903.pdf\n",
        "model = Sequential()\n",
        "model.add(BatchNormalization(input_shape=(48,48,1)))\n",
        "model.add(Conv2D(32, (5, 5), activation='tanh',padding='same', input_shape=(48,48,1),name=\"conv1\"))\n",
        "model.add(BatchNormalization())\n",
        "model.add(MaxPooling2D(pool_size=(2, 2),name=\"maxpool1\"))\n",
        "model.add(Dropout(0.1))\n",
        "model.add(Conv2D(32, (4, 4), activation='tanh',padding='same',name=\"conv2\"))\n",
        "model.add(BatchNormalization())\n",
        "model.add(MaxPooling2D(pool_size=(2, 2),name=\"maxpool2\"))         \n",
        "#model.add(Dropout(DROPOUT_RATE))\n",
        "model.add(Conv2D(64, (5, 5), activation='tanh',padding='same',name=\"conv3\"))\n",
        "model.add(BatchNormalization())\n",
        "model.add(MaxPooling2D(pool_size=(2, 2),name=\"maxpool3\"))\n",
        "model.add(Flatten())\n",
        "model.add(Dense(1024, activation='tanh',name='fc1'))\n",
        "model.add(Dropout(DROPOUT_RATE))\n",
        "model.add(BatchNormalization())\n",
        "model.add(Dense(7, activation='softmax',name='fcsoftmax'))\n",
        "\n",
        "#TODO: weight decay of 0.0001...initial learning rate is set to 0.01 and reduced by a factor of 2 at every 25 epoch\n",
        "sgd = SGD(lr=SGD_LEARNING_RATE,momentum=0.9, decay=SGD_DECAY, nesterov=True)\n",
        "model.compile(loss='categorical_crossentropy',optimizer=sgd,metrics=['accuracy'])\n",
        "\n",
        "# checkpoint\n",
        "cp_filepath='/content/drive/My Drive/cs230 project/models/SOA-weights-best.hdf5'\n",
        "rlrop = keras.callbacks.ReduceLROnPlateau(monitor='val_acc',mode='max',factor=0.5, patience=10, min_lr=0.00001, verbose=1)\n",
        "checkpoint = ModelCheckpoint(cp_filepath, monitor='val_acc', verbose=1, save_best_only=True, mode='max')\n",
        "callbacks_list = [rlrop,checkpoint]"
      ],
      "execution_count": 6,
      "outputs": [
        {
          "output_type": "stream",
          "text": [
            "WARNING:tensorflow:From /usr/local/lib/python3.6/dist-packages/keras/backend/tensorflow_backend.py:66: The name tf.get_default_graph is deprecated. Please use tf.compat.v1.get_default_graph instead.\n",
            "\n",
            "WARNING:tensorflow:From /usr/local/lib/python3.6/dist-packages/keras/backend/tensorflow_backend.py:541: The name tf.placeholder is deprecated. Please use tf.compat.v1.placeholder instead.\n",
            "\n",
            "WARNING:tensorflow:From /usr/local/lib/python3.6/dist-packages/keras/backend/tensorflow_backend.py:190: The name tf.get_default_session is deprecated. Please use tf.compat.v1.get_default_session instead.\n",
            "\n",
            "WARNING:tensorflow:From /usr/local/lib/python3.6/dist-packages/keras/backend/tensorflow_backend.py:197: The name tf.ConfigProto is deprecated. Please use tf.compat.v1.ConfigProto instead.\n",
            "\n",
            "WARNING:tensorflow:From /usr/local/lib/python3.6/dist-packages/keras/backend/tensorflow_backend.py:203: The name tf.Session is deprecated. Please use tf.compat.v1.Session instead.\n",
            "\n",
            "WARNING:tensorflow:From /usr/local/lib/python3.6/dist-packages/keras/backend/tensorflow_backend.py:207: The name tf.global_variables is deprecated. Please use tf.compat.v1.global_variables instead.\n",
            "\n",
            "WARNING:tensorflow:From /usr/local/lib/python3.6/dist-packages/keras/backend/tensorflow_backend.py:216: The name tf.is_variable_initialized is deprecated. Please use tf.compat.v1.is_variable_initialized instead.\n",
            "\n",
            "WARNING:tensorflow:From /usr/local/lib/python3.6/dist-packages/keras/backend/tensorflow_backend.py:223: The name tf.variables_initializer is deprecated. Please use tf.compat.v1.variables_initializer instead.\n",
            "\n",
            "WARNING:tensorflow:From /usr/local/lib/python3.6/dist-packages/keras/backend/tensorflow_backend.py:2041: The name tf.nn.fused_batch_norm is deprecated. Please use tf.compat.v1.nn.fused_batch_norm instead.\n",
            "\n",
            "WARNING:tensorflow:From /usr/local/lib/python3.6/dist-packages/keras/backend/tensorflow_backend.py:148: The name tf.placeholder_with_default is deprecated. Please use tf.compat.v1.placeholder_with_default instead.\n",
            "\n",
            "WARNING:tensorflow:From /usr/local/lib/python3.6/dist-packages/keras/backend/tensorflow_backend.py:4432: The name tf.random_uniform is deprecated. Please use tf.random.uniform instead.\n",
            "\n",
            "WARNING:tensorflow:From /usr/local/lib/python3.6/dist-packages/keras/backend/tensorflow_backend.py:4267: The name tf.nn.max_pool is deprecated. Please use tf.nn.max_pool2d instead.\n",
            "\n",
            "WARNING:tensorflow:From /usr/local/lib/python3.6/dist-packages/keras/backend/tensorflow_backend.py:3733: calling dropout (from tensorflow.python.ops.nn_ops) with keep_prob is deprecated and will be removed in a future version.\n",
            "Instructions for updating:\n",
            "Please use `rate` instead of `keep_prob`. Rate should be set to `rate = 1 - keep_prob`.\n",
            "WARNING:tensorflow:From /usr/local/lib/python3.6/dist-packages/keras/optimizers.py:793: The name tf.train.Optimizer is deprecated. Please use tf.compat.v1.train.Optimizer instead.\n",
            "\n",
            "WARNING:tensorflow:From /usr/local/lib/python3.6/dist-packages/keras/backend/tensorflow_backend.py:3576: The name tf.log is deprecated. Please use tf.math.log instead.\n",
            "\n"
          ],
          "name": "stdout"
        }
      ]
    },
    {
      "cell_type": "code",
      "metadata": {
        "id": "ruuR9M08W7Cn",
        "colab_type": "code",
        "colab": {}
      },
      "source": [
        "! rm -rf train; mkdir train\n",
        "! unzip -q '/content/drive/My Drive/cs230 project/dataset/emotion.zip' -d train\n",
        "! unzip -q '/content/drive/My Drive/cs230 project/dataset/facesdb.zip' -d train\n",
        "! unzip -q '/content/drive/My Drive/cs230 project/dataset/fer2013/train.zip' -d train\n",
        "! unzip -q '/content/drive/My Drive/cs230 project/dataset/googlesearch.zip' -d train\n",
        "! unzip -q '/content/drive/My Drive/cs230 project/dataset/googleset.zip' -d train\n",
        "! unzip -q '/content/drive/My Drive/cs230 project/dataset/jaffe.zip' -d train\n",
        "! unzip -q '/content/drive/My Drive/cs230 project/dataset/umea.zip' -d train\n",
        "! unzip -q '/content/drive/My Drive/cs230 project/dataset/ck-plus.zip' -d train"
      ],
      "execution_count": 0,
      "outputs": []
    },
    {
      "cell_type": "code",
      "metadata": {
        "id": "RjjKaFnDW9Kb",
        "colab_type": "code",
        "colab": {}
      },
      "source": [
        "! rm -rf dev; mkdir dev\n",
        "! unzip -q '/content/drive/My Drive/cs230 project/dataset/fer2013/test-public.zip' -d dev\n",
        "! rm -rf test; mkdir test\n",
        "! unzip -q '/content/drive/My Drive/cs230 project/dataset/fer2013/test-private.zip' -d test"
      ],
      "execution_count": 0,
      "outputs": []
    },
    {
      "cell_type": "code",
      "metadata": {
        "id": "7Hgz_lNsW_2z",
        "colab_type": "code",
        "outputId": "7769f035-ef04-444a-f78c-694647fa83f3",
        "colab": {
          "base_uri": "https://localhost:8080/",
          "height": 136
        }
      },
      "source": [
        "%%bash\n",
        "root='/content/train/'\n",
        "IFS=$(echo -en \"\\n\\b\")\n",
        "(for dir in $(ls -1 \"$root\")\n",
        "    do printf \"$dir: \" && ls -i \"$root$dir\" | wc -l\n",
        " done)"
      ],
      "execution_count": 9,
      "outputs": [
        {
          "output_type": "stream",
          "text": [
            "0 angry: 4330\n",
            "1 disgust: 1059\n",
            "2 fear: 4372\n",
            "3 happy: 7662\n",
            "4 sad: 5122\n",
            "5 surprise: 3647\n",
            "6 neutral: 5453\n"
          ],
          "name": "stdout"
        }
      ]
    },
    {
      "cell_type": "code",
      "metadata": {
        "id": "i9ITyLGoXEC3",
        "colab_type": "code",
        "colab": {}
      },
      "source": [
        "from tensorflow.keras.preprocessing.image import ImageDataGenerator\n",
        "\n",
        "def get_datagen(dataset, aug=False):\n",
        "    if aug:\n",
        "        datagen = ImageDataGenerator(\n",
        "                            rescale=1./255,\n",
        "                            featurewise_center=False,\n",
        "                            featurewise_std_normalization=False,\n",
        "                            rotation_range=10,\n",
        "                            width_shift_range=0.1,\n",
        "                            height_shift_range=0.1,\n",
        "                            zoom_range=0.1,\n",
        "                            horizontal_flip=True)\n",
        "    else:\n",
        "        datagen = ImageDataGenerator(rescale=1./255)\n",
        "\n",
        "    return datagen.flow_from_directory(\n",
        "            dataset,\n",
        "            target_size=(48, 48),\n",
        "            color_mode='grayscale',\n",
        "            shuffle = True,\n",
        "            class_mode='categorical',\n",
        "            batch_size=BS)"
      ],
      "execution_count": 0,
      "outputs": []
    },
    {
      "cell_type": "code",
      "metadata": {
        "id": "k3Mh89rnXXpD",
        "colab_type": "code",
        "outputId": "d0d4e4e7-a9e5-4356-c628-0e46247d128f",
        "colab": {
          "base_uri": "https://localhost:8080/",
          "height": 102
        }
      },
      "source": [
        "train_generator  = get_datagen('/content/train', True)\n",
        "dev_generator    = get_datagen('/content/dev')\n",
        "test_generator  = get_datagen('/content/test')\n"
      ],
      "execution_count": 11,
      "outputs": [
        {
          "output_type": "stream",
          "text": [
            "/usr/local/lib/python3.6/dist-packages/keras_preprocessing/image/utils.py:173: UserWarning: Using \".tiff\" files with multiple bands will cause distortion. Please verify your output.\n",
            "  warnings.warn('Using \".tiff\" files with multiple bands '\n"
          ],
          "name": "stderr"
        },
        {
          "output_type": "stream",
          "text": [
            "Found 31645 images belonging to 7 classes.\n",
            "Found 3589 images belonging to 7 classes.\n",
            "Found 3589 images belonging to 7 classes.\n"
          ],
          "name": "stdout"
        }
      ]
    },
    {
      "cell_type": "code",
      "metadata": {
        "id": "nTzccX-yXZy5",
        "colab_type": "code",
        "outputId": "eaa45548-7b63-426a-a641-be363f61a579",
        "colab": {
          "base_uri": "https://localhost:8080/",
          "height": 1000
        }
      },
      "source": [
        "history = model.fit_generator(\n",
        "    generator = train_generator,\n",
        "    validation_data=dev_generator, \n",
        "    #steps_per_epoch=28709// BS,\n",
        "    #validation_steps=3509 // BS,\n",
        "    shuffle=True,\n",
        "    epochs=EPOCHS,\n",
        "    callbacks=callbacks_list,\n",
        "#    callbacks=[rlrop],\n",
        "    use_multiprocessing=False,\n",
        ") "
      ],
      "execution_count": 0,
      "outputs": [
        {
          "output_type": "stream",
          "text": [
            "Epoch 1/150\n",
            "248/248 [==============================] - 37s 151ms/step - loss: 0.9355 - acc: 0.6528 - val_loss: 1.0261 - val_acc: 0.6289\n",
            "\n",
            "Epoch 00001: val_acc improved from 0.62803 to 0.62887, saving model to /content/drive/My Drive/cs230 project/models/SOA-weights-best.hdf5\n",
            "Epoch 2/150\n",
            "248/248 [==============================] - 37s 148ms/step - loss: 0.9379 - acc: 0.6486 - val_loss: 1.0265 - val_acc: 0.6283\n",
            "\n",
            "Epoch 00002: val_acc did not improve from 0.62887\n",
            "Epoch 3/150\n",
            "248/248 [==============================] - 37s 149ms/step - loss: 0.9330 - acc: 0.6523 - val_loss: 1.0261 - val_acc: 0.6261\n",
            "\n",
            "Epoch 00003: val_acc did not improve from 0.62887\n",
            "Epoch 4/150\n",
            "248/248 [==============================] - 36s 147ms/step - loss: 0.9359 - acc: 0.6527 - val_loss: 1.0261 - val_acc: 0.6264\n",
            "\n",
            "Epoch 00004: val_acc did not improve from 0.62887\n",
            "Epoch 5/150\n",
            "248/248 [==============================] - 37s 148ms/step - loss: 0.9358 - acc: 0.6506 - val_loss: 1.0257 - val_acc: 0.6266\n",
            "\n",
            "Epoch 00005: val_acc did not improve from 0.62887\n",
            "Epoch 6/150\n",
            "248/248 [==============================] - 36s 146ms/step - loss: 0.9357 - acc: 0.6493 - val_loss: 1.0259 - val_acc: 0.6280\n",
            "\n",
            "Epoch 00006: val_acc did not improve from 0.62887\n",
            "Epoch 7/150\n",
            "248/248 [==============================] - 36s 146ms/step - loss: 0.9362 - acc: 0.6497 - val_loss: 1.0261 - val_acc: 0.6269\n",
            "\n",
            "Epoch 00007: val_acc did not improve from 0.62887\n",
            "Epoch 8/150\n",
            "248/248 [==============================] - 36s 146ms/step - loss: 0.9331 - acc: 0.6508 - val_loss: 1.0254 - val_acc: 0.6272\n",
            "\n",
            "Epoch 00008: val_acc did not improve from 0.62887\n",
            "Epoch 9/150\n",
            "248/248 [==============================] - 36s 146ms/step - loss: 0.9370 - acc: 0.6497 - val_loss: 1.0266 - val_acc: 0.6272\n",
            "\n",
            "Epoch 00009: val_acc did not improve from 0.62887\n",
            "Epoch 10/150\n",
            "248/248 [==============================] - 36s 147ms/step - loss: 0.9395 - acc: 0.6493 - val_loss: 1.0262 - val_acc: 0.6278\n",
            "\n",
            "Epoch 00010: val_acc did not improve from 0.62887\n",
            "Epoch 11/150\n",
            "248/248 [==============================] - 37s 149ms/step - loss: 0.9392 - acc: 0.6464 - val_loss: 1.0256 - val_acc: 0.6272\n",
            "\n",
            "Epoch 00011: ReduceLROnPlateau reducing learning rate to 7.812499825377017e-05.\n",
            "\n",
            "Epoch 00011: val_acc did not improve from 0.62887\n",
            "Epoch 12/150\n",
            "248/248 [==============================] - 37s 148ms/step - loss: 0.9372 - acc: 0.6487 - val_loss: 1.0258 - val_acc: 0.6269\n",
            "\n",
            "Epoch 00012: val_acc did not improve from 0.62887\n",
            "Epoch 13/150\n",
            "248/248 [==============================] - 36s 147ms/step - loss: 0.9322 - acc: 0.6532 - val_loss: 1.0256 - val_acc: 0.6266\n",
            "\n",
            "Epoch 00013: val_acc did not improve from 0.62887\n",
            "Epoch 14/150\n",
            "248/248 [==============================] - 36s 146ms/step - loss: 0.9372 - acc: 0.6487 - val_loss: 1.0265 - val_acc: 0.6278\n",
            "\n",
            "Epoch 00014: val_acc did not improve from 0.62887\n",
            "Epoch 15/150\n",
            "248/248 [==============================] - 36s 146ms/step - loss: 0.9374 - acc: 0.6499 - val_loss: 1.0257 - val_acc: 0.6264\n",
            "\n",
            "Epoch 00015: val_acc did not improve from 0.62887\n",
            "Epoch 16/150\n",
            "248/248 [==============================] - 36s 147ms/step - loss: 0.9346 - acc: 0.6507 - val_loss: 1.0260 - val_acc: 0.6278\n",
            "\n",
            "Epoch 00016: val_acc did not improve from 0.62887\n",
            "Epoch 17/150\n",
            "248/248 [==============================] - 36s 147ms/step - loss: 0.9354 - acc: 0.6484 - val_loss: 1.0268 - val_acc: 0.6272\n",
            "\n",
            "Epoch 00017: val_acc did not improve from 0.62887\n",
            "Epoch 18/150\n",
            "248/248 [==============================] - 36s 146ms/step - loss: 0.9403 - acc: 0.6487 - val_loss: 1.0263 - val_acc: 0.6261\n",
            "\n",
            "Epoch 00018: val_acc did not improve from 0.62887\n",
            "Epoch 19/150\n",
            "248/248 [==============================] - 36s 146ms/step - loss: 0.9314 - acc: 0.6514 - val_loss: 1.0265 - val_acc: 0.6275\n",
            "\n",
            "Epoch 00019: val_acc did not improve from 0.62887\n",
            "Epoch 20/150\n",
            "248/248 [==============================] - 37s 147ms/step - loss: 0.9340 - acc: 0.6497 - val_loss: 1.0263 - val_acc: 0.6269\n",
            "\n",
            "Epoch 00020: val_acc did not improve from 0.62887\n",
            "Epoch 21/150\n",
            "248/248 [==============================] - 36s 147ms/step - loss: 0.9358 - acc: 0.6497 - val_loss: 1.0264 - val_acc: 0.6272\n",
            "\n",
            "Epoch 00021: ReduceLROnPlateau reducing learning rate to 3.9062499126885086e-05.\n",
            "\n",
            "Epoch 00021: val_acc did not improve from 0.62887\n",
            "Epoch 22/150\n",
            "248/248 [==============================] - 36s 147ms/step - loss: 0.9320 - acc: 0.6521 - val_loss: 1.0262 - val_acc: 0.6275\n",
            "\n",
            "Epoch 00022: val_acc did not improve from 0.62887\n",
            "Epoch 23/150\n",
            "248/248 [==============================] - 36s 147ms/step - loss: 0.9377 - acc: 0.6498 - val_loss: 1.0262 - val_acc: 0.6275\n",
            "\n",
            "Epoch 00023: val_acc did not improve from 0.62887\n",
            "Epoch 24/150\n",
            "248/248 [==============================] - 37s 148ms/step - loss: 0.9409 - acc: 0.6503 - val_loss: 1.0264 - val_acc: 0.6275\n",
            "\n",
            "Epoch 00024: val_acc did not improve from 0.62887\n",
            "Epoch 25/150\n",
            "248/248 [==============================] - 37s 148ms/step - loss: 0.9296 - acc: 0.6512 - val_loss: 1.0267 - val_acc: 0.6278\n",
            "\n",
            "Epoch 00025: val_acc did not improve from 0.62887\n",
            "Epoch 26/150\n",
            "248/248 [==============================] - 36s 145ms/step - loss: 0.9382 - acc: 0.6506 - val_loss: 1.0262 - val_acc: 0.6272\n",
            "\n",
            "Epoch 00026: val_acc did not improve from 0.62887\n",
            "Epoch 27/150\n",
            "248/248 [==============================] - 36s 146ms/step - loss: 0.9322 - acc: 0.6525 - val_loss: 1.0265 - val_acc: 0.6272\n",
            "\n",
            "Epoch 00027: val_acc did not improve from 0.62887\n",
            "Epoch 28/150\n",
            "248/248 [==============================] - 37s 148ms/step - loss: 0.9350 - acc: 0.6514 - val_loss: 1.0266 - val_acc: 0.6286\n",
            "\n",
            "Epoch 00028: val_acc did not improve from 0.62887\n",
            "Epoch 29/150\n",
            "248/248 [==============================] - 36s 145ms/step - loss: 0.9347 - acc: 0.6507 - val_loss: 1.0262 - val_acc: 0.6280\n",
            "\n",
            "Epoch 00029: val_acc did not improve from 0.62887\n",
            "Epoch 30/150\n",
            "248/248 [==============================] - 36s 147ms/step - loss: 0.9339 - acc: 0.6520 - val_loss: 1.0267 - val_acc: 0.6278\n",
            "\n",
            "Epoch 00030: val_acc did not improve from 0.62887\n",
            "Epoch 31/150\n",
            "248/248 [==============================] - 36s 147ms/step - loss: 0.9381 - acc: 0.6491 - val_loss: 1.0267 - val_acc: 0.6283\n",
            "\n",
            "Epoch 00031: ReduceLROnPlateau reducing learning rate to 1.9531249563442543e-05.\n",
            "\n",
            "Epoch 00031: val_acc did not improve from 0.62887\n",
            "Epoch 32/150\n",
            "248/248 [==============================] - 37s 149ms/step - loss: 0.9303 - acc: 0.6518 - val_loss: 1.0268 - val_acc: 0.6283\n",
            "\n",
            "Epoch 00032: val_acc did not improve from 0.62887\n",
            "Epoch 33/150\n",
            "248/248 [==============================] - 37s 149ms/step - loss: 0.9363 - acc: 0.6500 - val_loss: 1.0265 - val_acc: 0.6280\n",
            "\n",
            "Epoch 00033: val_acc did not improve from 0.62887\n",
            "Epoch 34/150\n",
            "248/248 [==============================] - 37s 148ms/step - loss: 0.9383 - acc: 0.6495 - val_loss: 1.0269 - val_acc: 0.6280\n",
            "\n",
            "Epoch 00034: val_acc did not improve from 0.62887\n",
            "Epoch 35/150\n",
            "248/248 [==============================] - 37s 148ms/step - loss: 0.9374 - acc: 0.6492 - val_loss: 1.0269 - val_acc: 0.6283\n",
            "\n",
            "Epoch 00035: val_acc did not improve from 0.62887\n",
            "Epoch 36/150\n",
            "248/248 [==============================] - 37s 148ms/step - loss: 0.9339 - acc: 0.6497 - val_loss: 1.0270 - val_acc: 0.6275\n",
            "\n",
            "Epoch 00036: val_acc did not improve from 0.62887\n",
            "Epoch 37/150\n",
            "248/248 [==============================] - 37s 149ms/step - loss: 0.9350 - acc: 0.6505 - val_loss: 1.0266 - val_acc: 0.6269\n",
            "\n",
            "Epoch 00037: val_acc did not improve from 0.62887\n",
            "Epoch 38/150\n",
            "248/248 [==============================] - 36s 147ms/step - loss: 0.9340 - acc: 0.6509 - val_loss: 1.0269 - val_acc: 0.6286\n",
            "\n",
            "Epoch 00038: val_acc did not improve from 0.62887\n",
            "Epoch 39/150\n",
            "248/248 [==============================] - 36s 147ms/step - loss: 0.9347 - acc: 0.6522 - val_loss: 1.0266 - val_acc: 0.6269\n",
            "\n",
            "Epoch 00039: val_acc did not improve from 0.62887\n",
            "Epoch 40/150\n",
            "248/248 [==============================] - 36s 147ms/step - loss: 0.9348 - acc: 0.6518 - val_loss: 1.0272 - val_acc: 0.6266\n",
            "\n",
            "Epoch 00040: val_acc did not improve from 0.62887\n",
            "Epoch 41/150\n",
            "248/248 [==============================] - 36s 146ms/step - loss: 0.9372 - acc: 0.6498 - val_loss: 1.0266 - val_acc: 0.6286\n",
            "\n",
            "Epoch 00041: ReduceLROnPlateau reducing learning rate to 1e-05.\n",
            "\n",
            "Epoch 00041: val_acc did not improve from 0.62887\n",
            "Epoch 42/150\n",
            "248/248 [==============================] - 36s 146ms/step - loss: 0.9428 - acc: 0.6477 - val_loss: 1.0263 - val_acc: 0.6278\n",
            "\n",
            "Epoch 00042: val_acc did not improve from 0.62887\n",
            "Epoch 43/150\n",
            "248/248 [==============================] - 36s 144ms/step - loss: 0.9286 - acc: 0.6509 - val_loss: 1.0262 - val_acc: 0.6280\n",
            "\n",
            "Epoch 00043: val_acc did not improve from 0.62887\n",
            "Epoch 44/150\n",
            "248/248 [==============================] - 36s 145ms/step - loss: 0.9356 - acc: 0.6497 - val_loss: 1.0267 - val_acc: 0.6275\n",
            "\n",
            "Epoch 00044: val_acc did not improve from 0.62887\n",
            "Epoch 45/150\n",
            "248/248 [==============================] - 36s 147ms/step - loss: 0.9385 - acc: 0.6477 - val_loss: 1.0265 - val_acc: 0.6266\n",
            "\n",
            "Epoch 00045: val_acc did not improve from 0.62887\n",
            "Epoch 46/150\n",
            "248/248 [==============================] - 36s 146ms/step - loss: 0.9358 - acc: 0.6515 - val_loss: 1.0266 - val_acc: 0.6269\n",
            "\n",
            "Epoch 00046: val_acc did not improve from 0.62887\n",
            "Epoch 47/150\n",
            "248/248 [==============================] - 36s 146ms/step - loss: 0.9314 - acc: 0.6504 - val_loss: 1.0264 - val_acc: 0.6278\n",
            "\n",
            "Epoch 00047: val_acc did not improve from 0.62887\n",
            "Epoch 48/150\n",
            "248/248 [==============================] - 37s 148ms/step - loss: 0.9390 - acc: 0.6452 - val_loss: 1.0264 - val_acc: 0.6272\n",
            "\n",
            "Epoch 00048: val_acc did not improve from 0.62887\n",
            "Epoch 49/150\n",
            "248/248 [==============================] - 36s 145ms/step - loss: 0.9324 - acc: 0.6519 - val_loss: 1.0266 - val_acc: 0.6275\n",
            "\n",
            "Epoch 00049: val_acc did not improve from 0.62887\n",
            "Epoch 50/150\n",
            "248/248 [==============================] - 36s 146ms/step - loss: 0.9351 - acc: 0.6472 - val_loss: 1.0266 - val_acc: 0.6278\n",
            "\n",
            "Epoch 00050: val_acc did not improve from 0.62887\n",
            "Epoch 51/150\n",
            "248/248 [==============================] - 36s 146ms/step - loss: 0.9345 - acc: 0.6491 - val_loss: 1.0267 - val_acc: 0.6264\n",
            "\n",
            "Epoch 00051: val_acc did not improve from 0.62887\n",
            "Epoch 52/150\n",
            "248/248 [==============================] - 36s 146ms/step - loss: 0.9350 - acc: 0.6503 - val_loss: 1.0274 - val_acc: 0.6264\n",
            "\n",
            "Epoch 00052: val_acc did not improve from 0.62887\n",
            "Epoch 53/150\n",
            "248/248 [==============================] - 36s 146ms/step - loss: 0.9330 - acc: 0.6535 - val_loss: 1.0269 - val_acc: 0.6275\n",
            "\n",
            "Epoch 00053: val_acc did not improve from 0.62887\n",
            "Epoch 54/150\n",
            "248/248 [==============================] - 36s 146ms/step - loss: 0.9389 - acc: 0.6503 - val_loss: 1.0262 - val_acc: 0.6275\n",
            "\n",
            "Epoch 00054: val_acc did not improve from 0.62887\n",
            "Epoch 55/150\n",
            "248/248 [==============================] - 36s 145ms/step - loss: 0.9336 - acc: 0.6504 - val_loss: 1.0270 - val_acc: 0.6275\n",
            "\n",
            "Epoch 00055: val_acc did not improve from 0.62887\n",
            "Epoch 56/150\n",
            "248/248 [==============================] - 35s 142ms/step - loss: 0.9345 - acc: 0.6498 - val_loss: 1.0263 - val_acc: 0.6272\n",
            "\n",
            "Epoch 00056: val_acc did not improve from 0.62887\n",
            "Epoch 57/150\n",
            "248/248 [==============================] - 36s 145ms/step - loss: 0.9412 - acc: 0.6466 - val_loss: 1.0267 - val_acc: 0.6264\n",
            "\n",
            "Epoch 00057: val_acc did not improve from 0.62887\n",
            "Epoch 58/150\n",
            "248/248 [==============================] - 36s 145ms/step - loss: 0.9346 - acc: 0.6530 - val_loss: 1.0269 - val_acc: 0.6272\n",
            "\n",
            "Epoch 00058: val_acc did not improve from 0.62887\n",
            "Epoch 59/150\n",
            "248/248 [==============================] - 36s 143ms/step - loss: 0.9332 - acc: 0.6511 - val_loss: 1.0266 - val_acc: 0.6275\n",
            "\n",
            "Epoch 00059: val_acc did not improve from 0.62887\n",
            "Epoch 60/150\n",
            "248/248 [==============================] - 35s 143ms/step - loss: 0.9318 - acc: 0.6508 - val_loss: 1.0266 - val_acc: 0.6269\n",
            "\n",
            "Epoch 00060: val_acc did not improve from 0.62887\n",
            "Epoch 61/150\n",
            "248/248 [==============================] - 36s 146ms/step - loss: 0.9338 - acc: 0.6487 - val_loss: 1.0265 - val_acc: 0.6272\n",
            "\n",
            "Epoch 00061: val_acc did not improve from 0.62887\n",
            "Epoch 62/150\n",
            "248/248 [==============================] - 35s 142ms/step - loss: 0.9331 - acc: 0.6514 - val_loss: 1.0265 - val_acc: 0.6283\n",
            "\n",
            "Epoch 00062: val_acc did not improve from 0.62887\n",
            "Epoch 63/150\n",
            "248/248 [==============================] - 36s 144ms/step - loss: 0.9389 - acc: 0.6510 - val_loss: 1.0267 - val_acc: 0.6272\n",
            "\n",
            "Epoch 00063: val_acc did not improve from 0.62887\n",
            "Epoch 64/150\n",
            "248/248 [==============================] - 36s 144ms/step - loss: 0.9287 - acc: 0.6518 - val_loss: 1.0262 - val_acc: 0.6269\n",
            "\n",
            "Epoch 00064: val_acc did not improve from 0.62887\n",
            "Epoch 65/150\n",
            "248/248 [==============================] - 36s 146ms/step - loss: 0.9350 - acc: 0.6501 - val_loss: 1.0266 - val_acc: 0.6269\n",
            "\n",
            "Epoch 00065: val_acc did not improve from 0.62887\n",
            "Epoch 66/150\n",
            "248/248 [==============================] - 36s 145ms/step - loss: 0.9364 - acc: 0.6507 - val_loss: 1.0264 - val_acc: 0.6269\n",
            "\n",
            "Epoch 00066: val_acc did not improve from 0.62887\n",
            "Epoch 67/150\n",
            "248/248 [==============================] - 36s 145ms/step - loss: 0.9356 - acc: 0.6502 - val_loss: 1.0269 - val_acc: 0.6275\n",
            "\n",
            "Epoch 00067: val_acc did not improve from 0.62887\n",
            "Epoch 68/150\n",
            "248/248 [==============================] - 36s 146ms/step - loss: 0.9402 - acc: 0.6514 - val_loss: 1.0268 - val_acc: 0.6272\n",
            "\n",
            "Epoch 00068: val_acc did not improve from 0.62887\n",
            "Epoch 69/150\n",
            "247/248 [============================>.] - ETA: 0s - loss: 0.9293 - acc: 0.6529"
          ],
          "name": "stdout"
        }
      ]
    },
    {
      "cell_type": "code",
      "metadata": {
        "id": "5aUXi05NXeol",
        "colab_type": "code",
        "colab": {
          "base_uri": "https://localhost:8080/",
          "height": 68
        },
        "outputId": "d645d28f-d694-4b26-a3c4-803de148e372"
      },
      "source": [
        "print('\\n# Evaluate on dev data')\n",
        "results_dev = model.evaluate_generator(dev_generator, 3509 // BS)\n",
        "print('dev loss, dev acc:', results_dev)"
      ],
      "execution_count": 13,
      "outputs": [
        {
          "output_type": "stream",
          "text": [
            "\n",
            "# Evaluate on dev data\n",
            "dev loss, dev acc: [1.0298649889451486, 0.6276041666666666]\n"
          ],
          "name": "stdout"
        }
      ]
    },
    {
      "cell_type": "code",
      "metadata": {
        "id": "iXTV7TokXfx1",
        "colab_type": "code",
        "colab": {
          "base_uri": "https://localhost:8080/",
          "height": 68
        },
        "outputId": "87aa424a-4c07-4bfd-bfc5-6ed89b20ac61"
      },
      "source": [
        "print('\\n# Evaluate on test data')\n",
        "results_test = model.evaluate_generator(test_generator, 3509 // BS)\n",
        "print('test loss, test acc:', results_test)"
      ],
      "execution_count": 14,
      "outputs": [
        {
          "output_type": "stream",
          "text": [
            "\n",
            "# Evaluate on test data\n",
            "test loss, test acc: [0.9916370157842282, 0.6331018518518519]\n"
          ],
          "name": "stdout"
        }
      ]
    },
    {
      "cell_type": "code",
      "metadata": {
        "id": "N65tgp91XiWO",
        "colab_type": "code",
        "colab": {
          "base_uri": "https://localhost:8080/",
          "height": 590
        },
        "outputId": "a3e8f945-7b2c-4d37-f163-d3fdb10ea237"
      },
      "source": [
        "# list all data in history\n",
        "print(history.history.keys())\n",
        "# summarize history for accuracy\n",
        "plt.plot(history.history['acc'])\n",
        "plt.plot(history.history['val_acc'])\n",
        "plt.title('model accuracy')\n",
        "plt.ylabel('accuracy')\n",
        "plt.xlabel('epoch')\n",
        "plt.legend(['train', 'dev'], loc='upper left')\n",
        "plt.show()\n",
        "# summarize history for loss\n",
        "plt.plot(history.history['loss'])\n",
        "plt.plot(history.history['val_loss'])\n",
        "plt.title('model loss')\n",
        "plt.ylabel('loss')\n",
        "plt.xlabel('epoch')\n",
        "plt.legend(['train', 'dev'], loc='upper left')\n",
        "plt.show()"
      ],
      "execution_count": 15,
      "outputs": [
        {
          "output_type": "stream",
          "text": [
            "dict_keys(['val_loss', 'val_acc', 'loss', 'acc', 'lr'])\n"
          ],
          "name": "stdout"
        },
        {
          "output_type": "display_data",
          "data": {
            "image/png": "[encoded data removed]",
            "text/plain": [
              "<Figure size 432x288 with 1 Axes>"
            ]
          },
          "metadata": {
            "tags": []
          }
        },
        {
          "output_type": "display_data",
          "data": {
            "image/png": "[encoded data removed]",
            "text/plain": [
              "<Figure size 432x288 with 1 Axes>"
            ]
          },
          "metadata": {
            "tags": []
          }
        }
      ]
    },
    {
      "cell_type": "code",
      "metadata": {
        "id": "CppmEt5KXlYz",
        "colab_type": "code",
        "colab": {}
      },
      "source": [
        "epoch_str = '-EPOCHS_' + str(EPOCHS)\n",
        "test_acc = 'test_acc_%.3f' % results_test[1]\n",
        "model.save('/content/drive/My Drive/cs230 project/models/' + 'SOA' + epoch_str + test_acc + '.h5')"
      ],
      "execution_count": 0,
      "outputs": []
    },
    {
      "cell_type": "code",
      "metadata": {
        "id": "27rHaOQlzzCY",
        "colab_type": "code",
        "colab": {
          "base_uri": "https://localhost:8080/",
          "height": 399
        },
        "outputId": "dee1a057-eba5-4393-fd64-2b6f7e91fa2b"
      },
      "source": [
        "emotions = {0:'Angry', 1:'Disgust', 2:'Fear', 3:'Happy', 4:'Sad', 5:'Surprise', 6:'Neutral'}\n",
        "\n",
        "y_pred = model.predict_generator(dev_generator).argmax(axis=1)\n",
        "y_true = dev_generator.classes\n",
        "\n",
        "cmat_df_test=pd.DataFrame(\n",
        "  confusion_matrix(y_true, y_pred, normalize='true').round(2),\n",
        "  index=emotions.values(), \n",
        "  columns=emotions.values()\n",
        "  )\n",
        "\n",
        "plt.figure(figsize=(5,5))\n",
        "heatmap(cmat_df_test,annot=True,cmap=plt.cm.Blues)\n",
        "plt.tight_layout()\n",
        "plt.title('Confusion Matrix on Private Test Set')\n",
        "plt.ylabel('True label')\n",
        "plt.xlabel('Predicted label')\n",
        "plt.show()"
      ],
      "execution_count": 17,
      "outputs": [
        {
          "output_type": "display_data",
          "data": {
            "image/png": "[encoded data removed]",
            "text/plain": [
              "<Figure size 360x360 with 2 Axes>"
            ]
          },
          "metadata": {
            "tags": []
          }
        }
      ]
    },
    {
      "cell_type": "code",
      "metadata": {
        "id": "ZMAJ9smqKdD3",
        "colab_type": "code",
        "colab": {}
      },
      "source": [
        "from sklearn.metrics import accuracy_score\n",
        "# configure image data augmentation\n",
        "datagen = ImageDataGenerator(horizontal_flip=True)\n",
        "\n",
        "# make a prediction using test-time augmentation\n",
        "def tta_prediction(datagen, model, image, n_examples):\n",
        "\t# convert image into dataset\n",
        "\tsamples = np.expand_dims(image, 0)\n",
        "\t# prepare iterator\n",
        "\tit = datagen.flow(samples, batch_size=n_examples)\n",
        "\t# make predictions for each augmented image\n",
        "\tyhats = model.predict_generator(it, steps=n_examples, verbose=0)\n",
        "\t# sum across predictions\n",
        "\tsummed = np.sum(yhats, axis=0)\n",
        "\t# argmax across classes\n",
        "\treturn np.argmax(summed)\n",
        " \n",
        " # evaluate a model on a dataset using test-time augmentation\n",
        "def tta_evaluate_model(model, testX, testY):\n",
        "\t# configure image data augmentation\n",
        "\tdatagen = ImageDataGenerator(horizontal_flip=True)\n",
        "\t# define the number of augmented images to generate per test set image\n",
        "\tn_examples_per_image = 7\n",
        "\tyhats = list()\n",
        "\tfor i in range(len(testX)):\n",
        "\t\t# make augmented prediction\n",
        "\t\tyhat = tta_prediction(datagen, model, testX[i], n_examples_per_image)\n",
        "\t\t# store for evaluation\n",
        "\t\tyhats.append(yhat)\n",
        "\t# calculate accuracy\n",
        "\ttestY_labels = np.argmax(testY, axis=1)\n",
        "\tacc = accuracy_score(testY_labels, yhats)\n",
        "\treturn acc"
      ],
      "execution_count": 0,
      "outputs": []
    },
    {
      "cell_type": "code",
      "metadata": {
        "id": "gfTihcArMdUk",
        "colab_type": "code",
        "colab": {
          "base_uri": "https://localhost:8080/",
          "height": 249
        },
        "outputId": "229c2402-7515-4302-aac5-8c76b546f1e1"
      },
      "source": [
        "print('\\n# Evaluate on test data')\n",
        "#TTA_results_test = tta_evaluate_model(model, X_test, Y_test)\n",
        "print('test loss, test acc:', results_test)\n",
        "print('TTA test acc:', TTA_results_test)"
      ],
      "execution_count": 19,
      "outputs": [
        {
          "output_type": "stream",
          "text": [
            "\n",
            "# Evaluate on test data\n",
            "test loss, test acc: [0.9916370157842282, 0.6331018518518519]\n"
          ],
          "name": "stdout"
        },
        {
          "output_type": "error",
          "ename": "NameError",
          "evalue": "ignored",
          "traceback": [
            "\u001b[0;31m---------------------------------------------------------------------------\u001b[0m",
            "\u001b[0;31mNameError\u001b[0m                                 Traceback (most recent call last)",
            "\u001b[0;32m<ipython-input-19-cc478919827a>\u001b[0m in \u001b[0;36m<module>\u001b[0;34m()\u001b[0m\n\u001b[1;32m      2\u001b[0m \u001b[0;31m#TTA_results_test = tta_evaluate_model(model, X_test, Y_test)\u001b[0m\u001b[0;34m\u001b[0m\u001b[0;34m\u001b[0m\u001b[0;34m\u001b[0m\u001b[0m\n\u001b[1;32m      3\u001b[0m \u001b[0mprint\u001b[0m\u001b[0;34m(\u001b[0m\u001b[0;34m'test loss, test acc:'\u001b[0m\u001b[0;34m,\u001b[0m \u001b[0mresults_test\u001b[0m\u001b[0;34m)\u001b[0m\u001b[0;34m\u001b[0m\u001b[0;34m\u001b[0m\u001b[0m\n\u001b[0;32m----> 4\u001b[0;31m \u001b[0mprint\u001b[0m\u001b[0;34m(\u001b[0m\u001b[0;34m'TTA test acc:'\u001b[0m\u001b[0;34m,\u001b[0m \u001b[0mTTA_results_test\u001b[0m\u001b[0;34m)\u001b[0m\u001b[0;34m\u001b[0m\u001b[0;34m\u001b[0m\u001b[0m\n\u001b[0m",
            "\u001b[0;31mNameError\u001b[0m: name 'TTA_results_test' is not defined"
          ]
        }
      ]
    },
    {
      "cell_type": "code",
      "metadata": {
        "id": "V57Y-EomzHtL",
        "colab_type": "code",
        "colab": {}
      },
      "source": [
        ""
      ],
      "execution_count": 0,
      "outputs": []
    }
  ]
}